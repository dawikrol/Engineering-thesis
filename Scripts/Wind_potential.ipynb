{
  "nbformat": 4,
  "nbformat_minor": 0,
  "metadata": {
    "colab": {
      "name": "Wind potential.ipynb",
      "provenance": [],
      "authorship_tag": "ABX9TyNXMF7HYSi3CzfpP2PsbZb2",
      "include_colab_link": true
    },
    "kernelspec": {
      "name": "python3",
      "display_name": "Python 3"
    }
  },
  "cells": [
    {
      "cell_type": "markdown",
      "metadata": {
        "id": "view-in-github",
        "colab_type": "text"
      },
      "source": [
        "<a href=\"https://colab.research.google.com/github/dawikrol/Engineering-thesis/blob/main/Scripts/Wind_potential.ipynb\" target=\"_parent\"><img src=\"https://colab.research.google.com/assets/colab-badge.svg\" alt=\"Open In Colab\"/></a>"
      ]
    },
    {
      "cell_type": "markdown",
      "metadata": {
        "id": "OWWRO4B8Yn97"
      },
      "source": [
        "### **Wind potential**\r\n",
        "\r\n",
        "\r\n",
        "\r\n"
      ]
    },
    {
      "cell_type": "markdown",
      "metadata": {
        "id": "wsDQRLX7aRYw"
      },
      "source": [
        "### Lib import"
      ]
    },
    {
      "cell_type": "code",
      "metadata": {
        "id": "fLGfy0W4aHsJ"
      },
      "source": [
        "import pandas as pd\r\n",
        "from google.colab import files\r\n",
        "import io\r\n",
        "import matplotlib.pyplot as plt\r\n",
        "import numpy as np\r\n",
        "import seaborn as sns"
      ],
      "execution_count": 2,
      "outputs": []
    },
    {
      "cell_type": "markdown",
      "metadata": {
        "id": "eNzZLU8ld6o-"
      },
      "source": [
        "### Uploading data\r\n",
        "\r\n",
        "You find data in project's GitHub repository in Data/Wind.\r\n",
        "\r\n",
        "Data regarding atmospheric conditions come from: https://ec.europa.eu/jrc/en/pvgis\r\n",
        "\r\n"
      ]
    },
    {
      "cell_type": "code",
      "metadata": {
        "colab": {
          "resources": {
            "http://localhost:8080/nbextensions/google.colab/files.js": {
              "data": "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",
              "ok": true,
              "headers": [
                [
                  "content-type",
                  "application/javascript"
                ]
              ],
              "status": 200,
              "status_text": ""
            }
          },
          "base_uri": "https://localhost:8080/",
          "height": 208
        },
        "id": "kQnUSvzTfnXy",
        "outputId": "9a5dfedb-9df9-4b29-e7b2-31edd188113d"
      },
      "source": [
        "uploaded = files.upload()"
      ],
      "execution_count": 3,
      "outputs": [
        {
          "output_type": "display_data",
          "data": {
            "text/html": [
              "\n",
              "     <input type=\"file\" id=\"files-2a9c855a-ba74-4cf2-8d3c-189eb75e8085\" name=\"files[]\" multiple disabled\n",
              "        style=\"border:none\" />\n",
              "     <output id=\"result-2a9c855a-ba74-4cf2-8d3c-189eb75e8085\">\n",
              "      Upload widget is only available when the cell has been executed in the\n",
              "      current browser session. Please rerun this cell to enable.\n",
              "      </output>\n",
              "      <script src=\"/nbextensions/google.colab/files.js\"></script> "
            ],
            "text/plain": [
              "<IPython.core.display.HTML object>"
            ]
          },
          "metadata": {
            "tags": []
          }
        },
        {
          "output_type": "stream",
          "text": [
            "Saving Limanowski_01_W.csv to Limanowski_01_W.csv\n",
            "Saving Nowosądecki_01_W.csv to Nowosądecki_01_W.csv\n",
            "Saving Nowotarski_01_W.csv to Nowotarski_01_W.csv\n",
            "Saving NowySącz_01_W.csv to NowySącz_01_W.csv\n",
            "Saving Tatrzański_01_W.csv to Tatrzański_01_W.csv\n"
          ],
          "name": "stdout"
        }
      ]
    },
    {
      "cell_type": "markdown",
      "metadata": {
        "id": "M1Dvxkold81U"
      },
      "source": [
        "### Creating raw dataframes"
      ]
    },
    {
      "cell_type": "code",
      "metadata": {
        "id": "CAEWJNNkYnfV"
      },
      "source": [
        "dataframes = {}\r\n",
        "\r\n",
        "for file in uploaded:\r\n",
        "    name, region, kind  = file.split('_')\r\n",
        "    dataframes[name] = pd.read_csv(io.BytesIO(uploaded[file]), error_bad_lines=False,\r\n",
        "                                   index_col=None, header=None, sep='\\n')"
      ],
      "execution_count": 4,
      "outputs": []
    },
    {
      "cell_type": "code",
      "metadata": {
        "colab": {
          "base_uri": "https://localhost:8080/"
        },
        "id": "PCqa_RtVhN8h",
        "outputId": "0b50a5bd-129a-4411-8a35-21dc7cbb97d4"
      },
      "source": [
        "dataframes[list(dataframes.keys())[0]].size"
      ],
      "execution_count": null,
      "outputs": [
        {
          "output_type": "execute_result",
          "data": {
            "text/plain": [
              "8787"
            ]
          },
          "metadata": {
            "tags": []
          },
          "execution_count": 16
        }
      ]
    },
    {
      "cell_type": "code",
      "metadata": {
        "colab": {
          "base_uri": "https://localhost:8080/",
          "height": 948
        },
        "id": "ByI3BYsXYlqc",
        "outputId": "5b983881-0257-46ea-b7c2-a3cd54443166"
      },
      "source": [
        "dataframes[list(dataframes.keys())[0]].head(30)"
      ],
      "execution_count": null,
      "outputs": [
        {
          "output_type": "execute_result",
          "data": {
            "text/html": [
              "<div>\n",
              "<style scoped>\n",
              "    .dataframe tbody tr th:only-of-type {\n",
              "        vertical-align: middle;\n",
              "    }\n",
              "\n",
              "    .dataframe tbody tr th {\n",
              "        vertical-align: top;\n",
              "    }\n",
              "\n",
              "    .dataframe thead th {\n",
              "        text-align: right;\n",
              "    }\n",
              "</style>\n",
              "<table border=\"1\" class=\"dataframe\">\n",
              "  <thead>\n",
              "    <tr style=\"text-align: right;\">\n",
              "      <th></th>\n",
              "      <th>0</th>\n",
              "    </tr>\n",
              "  </thead>\n",
              "  <tbody>\n",
              "    <tr>\n",
              "      <th>0</th>\n",
              "      <td>Latitude (decimal degrees): 49.723</td>\n",
              "    </tr>\n",
              "    <tr>\n",
              "      <th>1</th>\n",
              "      <td>Longitude (decimal degrees): 20.395</td>\n",
              "    </tr>\n",
              "    <tr>\n",
              "      <th>2</th>\n",
              "      <td>Elevation (m): 400.0</td>\n",
              "    </tr>\n",
              "    <tr>\n",
              "      <th>3</th>\n",
              "      <td>month,year</td>\n",
              "    </tr>\n",
              "    <tr>\n",
              "      <th>4</th>\n",
              "      <td>1,2006</td>\n",
              "    </tr>\n",
              "    <tr>\n",
              "      <th>5</th>\n",
              "      <td>2,2010</td>\n",
              "    </tr>\n",
              "    <tr>\n",
              "      <th>6</th>\n",
              "      <td>3,2006</td>\n",
              "    </tr>\n",
              "    <tr>\n",
              "      <th>7</th>\n",
              "      <td>4,2012</td>\n",
              "    </tr>\n",
              "    <tr>\n",
              "      <th>8</th>\n",
              "      <td>5,2012</td>\n",
              "    </tr>\n",
              "    <tr>\n",
              "      <th>9</th>\n",
              "      <td>6,2011</td>\n",
              "    </tr>\n",
              "    <tr>\n",
              "      <th>10</th>\n",
              "      <td>7,2011</td>\n",
              "    </tr>\n",
              "    <tr>\n",
              "      <th>11</th>\n",
              "      <td>8,2013</td>\n",
              "    </tr>\n",
              "    <tr>\n",
              "      <th>12</th>\n",
              "      <td>9,2012</td>\n",
              "    </tr>\n",
              "    <tr>\n",
              "      <th>13</th>\n",
              "      <td>10,2012</td>\n",
              "    </tr>\n",
              "    <tr>\n",
              "      <th>14</th>\n",
              "      <td>11,2009</td>\n",
              "    </tr>\n",
              "    <tr>\n",
              "      <th>15</th>\n",
              "      <td>12,2010</td>\n",
              "    </tr>\n",
              "    <tr>\n",
              "      <th>16</th>\n",
              "      <td>time(UTC),T2m,RH,G(h),Gb(n),Gd(h),IR(h),WS10m,...</td>\n",
              "    </tr>\n",
              "    <tr>\n",
              "      <th>17</th>\n",
              "      <td>20060101:0000,-2.96,89.35,0.0,-0.0,0.0,265.03,...</td>\n",
              "    </tr>\n",
              "    <tr>\n",
              "      <th>18</th>\n",
              "      <td>20060101:0100,-2.92,89.38,0.0,-0.0,0.0,264.43,...</td>\n",
              "    </tr>\n",
              "    <tr>\n",
              "      <th>19</th>\n",
              "      <td>20060101:0200,-2.88,89.41,0.0,-0.0,0.0,263.84,...</td>\n",
              "    </tr>\n",
              "    <tr>\n",
              "      <th>20</th>\n",
              "      <td>20060101:0300,-2.84,89.44,0.0,-0.0,0.0,263.25,...</td>\n",
              "    </tr>\n",
              "    <tr>\n",
              "      <th>21</th>\n",
              "      <td>20060101:0400,-2.8,89.48,0.0,-0.0,0.0,262.66,4...</td>\n",
              "    </tr>\n",
              "    <tr>\n",
              "      <th>22</th>\n",
              "      <td>20060101:0500,-2.76,89.51,0.0,-0.0,0.0,262.07,...</td>\n",
              "    </tr>\n",
              "    <tr>\n",
              "      <th>23</th>\n",
              "      <td>20060101:0600,-2.71,89.54,0.0,-0.0,0.0,261.48,...</td>\n",
              "    </tr>\n",
              "    <tr>\n",
              "      <th>24</th>\n",
              "      <td>20060101:0700,-2.67,89.57,20.0,0.0,20.0,260.89...</td>\n",
              "    </tr>\n",
              "    <tr>\n",
              "      <th>25</th>\n",
              "      <td>20060101:0800,-0.62,90.4,87.55,192.38,54.4,302...</td>\n",
              "    </tr>\n",
              "    <tr>\n",
              "      <th>26</th>\n",
              "      <td>20060101:0900,-0.27,89.39,92.0,7.98,90.0,307.1...</td>\n",
              "    </tr>\n",
              "    <tr>\n",
              "      <th>27</th>\n",
              "      <td>20060101:1000,0.08,88.38,252.0,504.44,105.0,31...</td>\n",
              "    </tr>\n",
              "    <tr>\n",
              "      <th>28</th>\n",
              "      <td>20060101:1100,0.43,87.37,34.0,0.0,34.0,315.65,...</td>\n",
              "    </tr>\n",
              "    <tr>\n",
              "      <th>29</th>\n",
              "      <td>20060101:1200,0.44,87.37,158.0,158.4,118.0,310...</td>\n",
              "    </tr>\n",
              "  </tbody>\n",
              "</table>\n",
              "</div>"
            ],
            "text/plain": [
              "                                                    0\n",
              "0                  Latitude (decimal degrees): 49.723\n",
              "1                 Longitude (decimal degrees): 20.395\n",
              "2                                Elevation (m): 400.0\n",
              "3                                          month,year\n",
              "4                                              1,2006\n",
              "5                                              2,2010\n",
              "6                                              3,2006\n",
              "7                                              4,2012\n",
              "8                                              5,2012\n",
              "9                                              6,2011\n",
              "10                                             7,2011\n",
              "11                                             8,2013\n",
              "12                                             9,2012\n",
              "13                                            10,2012\n",
              "14                                            11,2009\n",
              "15                                            12,2010\n",
              "16  time(UTC),T2m,RH,G(h),Gb(n),Gd(h),IR(h),WS10m,...\n",
              "17  20060101:0000,-2.96,89.35,0.0,-0.0,0.0,265.03,...\n",
              "18  20060101:0100,-2.92,89.38,0.0,-0.0,0.0,264.43,...\n",
              "19  20060101:0200,-2.88,89.41,0.0,-0.0,0.0,263.84,...\n",
              "20  20060101:0300,-2.84,89.44,0.0,-0.0,0.0,263.25,...\n",
              "21  20060101:0400,-2.8,89.48,0.0,-0.0,0.0,262.66,4...\n",
              "22  20060101:0500,-2.76,89.51,0.0,-0.0,0.0,262.07,...\n",
              "23  20060101:0600,-2.71,89.54,0.0,-0.0,0.0,261.48,...\n",
              "24  20060101:0700,-2.67,89.57,20.0,0.0,20.0,260.89...\n",
              "25  20060101:0800,-0.62,90.4,87.55,192.38,54.4,302...\n",
              "26  20060101:0900,-0.27,89.39,92.0,7.98,90.0,307.1...\n",
              "27  20060101:1000,0.08,88.38,252.0,504.44,105.0,31...\n",
              "28  20060101:1100,0.43,87.37,34.0,0.0,34.0,315.65,...\n",
              "29  20060101:1200,0.44,87.37,158.0,158.4,118.0,310..."
            ]
          },
          "metadata": {
            "tags": []
          },
          "execution_count": 18
        }
      ]
    },
    {
      "cell_type": "code",
      "metadata": {
        "colab": {
          "base_uri": "https://localhost:8080/",
          "height": 948
        },
        "id": "wPxYxJObpe88",
        "outputId": "9caa7397-7137-4256-f18c-227cd24ddd84"
      },
      "source": [
        "dataframes[list(dataframes.keys())[0]].tail(30)"
      ],
      "execution_count": null,
      "outputs": [
        {
          "output_type": "execute_result",
          "data": {
            "text/html": [
              "<div>\n",
              "<style scoped>\n",
              "    .dataframe tbody tr th:only-of-type {\n",
              "        vertical-align: middle;\n",
              "    }\n",
              "\n",
              "    .dataframe tbody tr th {\n",
              "        vertical-align: top;\n",
              "    }\n",
              "\n",
              "    .dataframe thead th {\n",
              "        text-align: right;\n",
              "    }\n",
              "</style>\n",
              "<table border=\"1\" class=\"dataframe\">\n",
              "  <thead>\n",
              "    <tr style=\"text-align: right;\">\n",
              "      <th></th>\n",
              "      <th>0</th>\n",
              "    </tr>\n",
              "  </thead>\n",
              "  <tbody>\n",
              "    <tr>\n",
              "      <th>8757</th>\n",
              "      <td>20101231:0400,-7.55,69.97,0.0,-0.0,0.0,220.02,...</td>\n",
              "    </tr>\n",
              "    <tr>\n",
              "      <th>8758</th>\n",
              "      <td>20101231:0500,-7.22,70.29,0.0,-0.0,0.0,223.4,3...</td>\n",
              "    </tr>\n",
              "    <tr>\n",
              "      <th>8759</th>\n",
              "      <td>20101231:0600,-6.39,70.01,0.0,-0.0,0.0,233.68,...</td>\n",
              "    </tr>\n",
              "    <tr>\n",
              "      <th>8760</th>\n",
              "      <td>20101231:0700,-5.57,69.74,3.0,0.0,3.0,243.97,3...</td>\n",
              "    </tr>\n",
              "    <tr>\n",
              "      <th>8761</th>\n",
              "      <td>20101231:0800,-4.75,69.46,67.0,23.3,63.0,254.2...</td>\n",
              "    </tr>\n",
              "    <tr>\n",
              "      <th>8762</th>\n",
              "      <td>20101231:0900,-4.11,70.33,109.0,28.05,102.0,26...</td>\n",
              "    </tr>\n",
              "    <tr>\n",
              "      <th>8763</th>\n",
              "      <td>20101231:1000,-3.46,71.2,140.0,44.83,127.0,266...</td>\n",
              "    </tr>\n",
              "    <tr>\n",
              "      <th>8764</th>\n",
              "      <td>20101231:1100,-2.82,72.07,136.0,34.45,126.0,27...</td>\n",
              "    </tr>\n",
              "    <tr>\n",
              "      <th>8765</th>\n",
              "      <td>20101231:1200,-3.06,76.09,147.0,119.81,117.0,2...</td>\n",
              "    </tr>\n",
              "    <tr>\n",
              "      <th>8766</th>\n",
              "      <td>20101231:1300,-3.31,80.12,74.0,0.0,74.0,275.47...</td>\n",
              "    </tr>\n",
              "    <tr>\n",
              "      <th>8767</th>\n",
              "      <td>20101231:1400,-3.55,84.14,19.0,0.0,19.0,276.6,...</td>\n",
              "    </tr>\n",
              "    <tr>\n",
              "      <th>8768</th>\n",
              "      <td>20101231:1500,-3.31,85.77,0.0,-0.0,0.0,276.12,...</td>\n",
              "    </tr>\n",
              "    <tr>\n",
              "      <th>8769</th>\n",
              "      <td>20101231:1600,-3.28,89.09,0.0,-0.0,0.0,269.75,...</td>\n",
              "    </tr>\n",
              "    <tr>\n",
              "      <th>8770</th>\n",
              "      <td>20101231:1700,-3.24,89.12,0.0,-0.0,0.0,269.16,...</td>\n",
              "    </tr>\n",
              "    <tr>\n",
              "      <th>8771</th>\n",
              "      <td>20101231:1800,-3.2,89.15,0.0,-0.0,0.0,268.57,3...</td>\n",
              "    </tr>\n",
              "    <tr>\n",
              "      <th>8772</th>\n",
              "      <td>20101231:1900,-3.16,89.18,0.0,-0.0,0.0,267.98,...</td>\n",
              "    </tr>\n",
              "    <tr>\n",
              "      <th>8773</th>\n",
              "      <td>20101231:2000,-3.12,89.22,0.0,-0.0,0.0,267.39,...</td>\n",
              "    </tr>\n",
              "    <tr>\n",
              "      <th>8774</th>\n",
              "      <td>20101231:2100,-3.08,89.25,0.0,-0.0,0.0,266.8,3...</td>\n",
              "    </tr>\n",
              "    <tr>\n",
              "      <th>8775</th>\n",
              "      <td>20101231:2200,-3.04,89.28,0.0,-0.0,0.0,266.21,...</td>\n",
              "    </tr>\n",
              "    <tr>\n",
              "      <th>8776</th>\n",
              "      <td>20101231:2300,-3.0,89.31,0.0,-0.0,0.0,265.62,3...</td>\n",
              "    </tr>\n",
              "    <tr>\n",
              "      <th>8777</th>\n",
              "      <td>T2m: 2-m air temperature (degree Celsius)</td>\n",
              "    </tr>\n",
              "    <tr>\n",
              "      <th>8778</th>\n",
              "      <td>RH: relative humidity (%)</td>\n",
              "    </tr>\n",
              "    <tr>\n",
              "      <th>8779</th>\n",
              "      <td>G(h): Global irradiance on the horizontal plan...</td>\n",
              "    </tr>\n",
              "    <tr>\n",
              "      <th>8780</th>\n",
              "      <td>Gb(n): Beam/direct irradiance on a plane alway...</td>\n",
              "    </tr>\n",
              "    <tr>\n",
              "      <th>8781</th>\n",
              "      <td>Gd(h): Diffuse irradiance on the horizontal pl...</td>\n",
              "    </tr>\n",
              "    <tr>\n",
              "      <th>8782</th>\n",
              "      <td>IR(h): Surface infrared (thermal) irradiance o...</td>\n",
              "    </tr>\n",
              "    <tr>\n",
              "      <th>8783</th>\n",
              "      <td>WS10m: 10-m total wind speed (m/s)</td>\n",
              "    </tr>\n",
              "    <tr>\n",
              "      <th>8784</th>\n",
              "      <td>WD10m: 10-m wind direction (0 = N, 90 = E) (de...</td>\n",
              "    </tr>\n",
              "    <tr>\n",
              "      <th>8785</th>\n",
              "      <td>SP: Surface (air) pressure (Pa)</td>\n",
              "    </tr>\n",
              "    <tr>\n",
              "      <th>8786</th>\n",
              "      <td>PVGIS (c) European Communities, 2001-2021</td>\n",
              "    </tr>\n",
              "  </tbody>\n",
              "</table>\n",
              "</div>"
            ],
            "text/plain": [
              "                                                      0\n",
              "8757  20101231:0400,-7.55,69.97,0.0,-0.0,0.0,220.02,...\n",
              "8758  20101231:0500,-7.22,70.29,0.0,-0.0,0.0,223.4,3...\n",
              "8759  20101231:0600,-6.39,70.01,0.0,-0.0,0.0,233.68,...\n",
              "8760  20101231:0700,-5.57,69.74,3.0,0.0,3.0,243.97,3...\n",
              "8761  20101231:0800,-4.75,69.46,67.0,23.3,63.0,254.2...\n",
              "8762  20101231:0900,-4.11,70.33,109.0,28.05,102.0,26...\n",
              "8763  20101231:1000,-3.46,71.2,140.0,44.83,127.0,266...\n",
              "8764  20101231:1100,-2.82,72.07,136.0,34.45,126.0,27...\n",
              "8765  20101231:1200,-3.06,76.09,147.0,119.81,117.0,2...\n",
              "8766  20101231:1300,-3.31,80.12,74.0,0.0,74.0,275.47...\n",
              "8767  20101231:1400,-3.55,84.14,19.0,0.0,19.0,276.6,...\n",
              "8768  20101231:1500,-3.31,85.77,0.0,-0.0,0.0,276.12,...\n",
              "8769  20101231:1600,-3.28,89.09,0.0,-0.0,0.0,269.75,...\n",
              "8770  20101231:1700,-3.24,89.12,0.0,-0.0,0.0,269.16,...\n",
              "8771  20101231:1800,-3.2,89.15,0.0,-0.0,0.0,268.57,3...\n",
              "8772  20101231:1900,-3.16,89.18,0.0,-0.0,0.0,267.98,...\n",
              "8773  20101231:2000,-3.12,89.22,0.0,-0.0,0.0,267.39,...\n",
              "8774  20101231:2100,-3.08,89.25,0.0,-0.0,0.0,266.8,3...\n",
              "8775  20101231:2200,-3.04,89.28,0.0,-0.0,0.0,266.21,...\n",
              "8776  20101231:2300,-3.0,89.31,0.0,-0.0,0.0,265.62,3...\n",
              "8777          T2m: 2-m air temperature (degree Celsius)\n",
              "8778                          RH: relative humidity (%)\n",
              "8779  G(h): Global irradiance on the horizontal plan...\n",
              "8780  Gb(n): Beam/direct irradiance on a plane alway...\n",
              "8781  Gd(h): Diffuse irradiance on the horizontal pl...\n",
              "8782  IR(h): Surface infrared (thermal) irradiance o...\n",
              "8783                 WS10m: 10-m total wind speed (m/s)\n",
              "8784  WD10m: 10-m wind direction (0 = N, 90 = E) (de...\n",
              "8785                    SP: Surface (air) pressure (Pa)\n",
              "8786          PVGIS (c) European Communities, 2001-2021"
            ]
          },
          "metadata": {
            "tags": []
          },
          "execution_count": 19
        }
      ]
    },
    {
      "cell_type": "markdown",
      "metadata": {
        "id": "HYkfOXtCtBcU"
      },
      "source": [
        "### Creating list of shortcuts"
      ]
    },
    {
      "cell_type": "code",
      "metadata": {
        "colab": {
          "base_uri": "https://localhost:8080/",
          "height": 359
        },
        "id": "WdItRELQq8NQ",
        "outputId": "6e3657fa-3009-4a88-d761-648f0896a18b"
      },
      "source": [
        "info_df = dataframes[list(dataframes.keys())[0]].iloc[8777:8786]\r\n",
        "info_df.columns = ['defu']\r\n",
        "info_df = info_df.defu.str.split(':', expand=True)\r\n",
        "info_df.columns = ['symbol', 'meaning']\r\n",
        "info_df.set_index('symbol', inplace=True)\r\n",
        "info_df\r\n"
      ],
      "execution_count": 5,
      "outputs": [
        {
          "output_type": "execute_result",
          "data": {
            "text/html": [
              "<div>\n",
              "<style scoped>\n",
              "    .dataframe tbody tr th:only-of-type {\n",
              "        vertical-align: middle;\n",
              "    }\n",
              "\n",
              "    .dataframe tbody tr th {\n",
              "        vertical-align: top;\n",
              "    }\n",
              "\n",
              "    .dataframe thead th {\n",
              "        text-align: right;\n",
              "    }\n",
              "</style>\n",
              "<table border=\"1\" class=\"dataframe\">\n",
              "  <thead>\n",
              "    <tr style=\"text-align: right;\">\n",
              "      <th></th>\n",
              "      <th>meaning</th>\n",
              "    </tr>\n",
              "    <tr>\n",
              "      <th>symbol</th>\n",
              "      <th></th>\n",
              "    </tr>\n",
              "  </thead>\n",
              "  <tbody>\n",
              "    <tr>\n",
              "      <th>T2m</th>\n",
              "      <td>2-m air temperature (degree Celsius)</td>\n",
              "    </tr>\n",
              "    <tr>\n",
              "      <th>RH</th>\n",
              "      <td>relative humidity (%)</td>\n",
              "    </tr>\n",
              "    <tr>\n",
              "      <th>G(h)</th>\n",
              "      <td>Global irradiance on the horizontal plane (W/m2)</td>\n",
              "    </tr>\n",
              "    <tr>\n",
              "      <th>Gb(n)</th>\n",
              "      <td>Beam/direct irradiance on a plane always norm...</td>\n",
              "    </tr>\n",
              "    <tr>\n",
              "      <th>Gd(h)</th>\n",
              "      <td>Diffuse irradiance on the horizontal plane (W...</td>\n",
              "    </tr>\n",
              "    <tr>\n",
              "      <th>IR(h)</th>\n",
              "      <td>Surface infrared (thermal) irradiance on a ho...</td>\n",
              "    </tr>\n",
              "    <tr>\n",
              "      <th>WS10m</th>\n",
              "      <td>10-m total wind speed (m/s)</td>\n",
              "    </tr>\n",
              "    <tr>\n",
              "      <th>WD10m</th>\n",
              "      <td>10-m wind direction (0 = N, 90 = E) (degree)</td>\n",
              "    </tr>\n",
              "    <tr>\n",
              "      <th>SP</th>\n",
              "      <td>Surface (air) pressure (Pa)</td>\n",
              "    </tr>\n",
              "  </tbody>\n",
              "</table>\n",
              "</div>"
            ],
            "text/plain": [
              "                                                  meaning\n",
              "symbol                                                   \n",
              "T2m                  2-m air temperature (degree Celsius)\n",
              "RH                                  relative humidity (%)\n",
              "G(h)     Global irradiance on the horizontal plane (W/m2)\n",
              "Gb(n)    Beam/direct irradiance on a plane always norm...\n",
              "Gd(h)    Diffuse irradiance on the horizontal plane (W...\n",
              "IR(h)    Surface infrared (thermal) irradiance on a ho...\n",
              "WS10m                         10-m total wind speed (m/s)\n",
              "WD10m        10-m wind direction (0 = N, 90 = E) (degree)\n",
              "SP                            Surface (air) pressure (Pa)"
            ]
          },
          "metadata": {
            "tags": []
          },
          "execution_count": 5
        }
      ]
    },
    {
      "cell_type": "markdown",
      "metadata": {
        "id": "J5Eyjr4Yg4Cq"
      },
      "source": [
        "### Data cleaning (1)"
      ]
    },
    {
      "cell_type": "code",
      "metadata": {
        "id": "xc56HDuBhLSh"
      },
      "source": [
        "cleared_df = {}\r\n",
        "\r\n",
        "for key in dataframes:\r\n",
        "    cl_data = dataframes[key].iloc[16:8777]\r\n",
        "    cl_data.columns = ['defu'] #the default column name is inconvenient\r\n",
        "    cl_data = cl_data.defu.str.split(',', expand=True)\r\n",
        "    cl_data.columns = cl_data.iloc[0]\r\n",
        "    cl_data = cl_data.reset_index(drop=True)\r\n",
        "    cl_data = cl_data.drop(cl_data.index[0])\r\n",
        "    cl_data.columns.name = None\r\n",
        "    cl_data = cl_data.reset_index(drop=True)\r\n",
        "    cl_data['Day'] = np.arange(1, len(cl_data)+1) #adding 'Day' maybe confused here because is similar to index but it will be really helpful latter\r\n",
        "\r\n",
        "    cleared_df[key] = cl_data\r\n",
        "\r\n"
      ],
      "execution_count": 110,
      "outputs": []
    },
    {
      "cell_type": "code",
      "metadata": {
        "colab": {
          "base_uri": "https://localhost:8080/",
          "height": 419
        },
        "id": "mW80tYuUKmXH",
        "outputId": "36ab9621-efa5-4cbd-dd59-45895fc8658a"
      },
      "source": [
        "cleared_df[list(dataframes.keys())[0]]"
      ],
      "execution_count": 111,
      "outputs": [
        {
          "output_type": "execute_result",
          "data": {
            "text/html": [
              "<div>\n",
              "<style scoped>\n",
              "    .dataframe tbody tr th:only-of-type {\n",
              "        vertical-align: middle;\n",
              "    }\n",
              "\n",
              "    .dataframe tbody tr th {\n",
              "        vertical-align: top;\n",
              "    }\n",
              "\n",
              "    .dataframe thead th {\n",
              "        text-align: right;\n",
              "    }\n",
              "</style>\n",
              "<table border=\"1\" class=\"dataframe\">\n",
              "  <thead>\n",
              "    <tr style=\"text-align: right;\">\n",
              "      <th></th>\n",
              "      <th>time(UTC)</th>\n",
              "      <th>T2m</th>\n",
              "      <th>RH</th>\n",
              "      <th>G(h)</th>\n",
              "      <th>Gb(n)</th>\n",
              "      <th>Gd(h)</th>\n",
              "      <th>IR(h)</th>\n",
              "      <th>WS10m</th>\n",
              "      <th>WD10m</th>\n",
              "      <th>SP</th>\n",
              "      <th>Day</th>\n",
              "    </tr>\n",
              "  </thead>\n",
              "  <tbody>\n",
              "    <tr>\n",
              "      <th>0</th>\n",
              "      <td>20060101:0000</td>\n",
              "      <td>-2.96</td>\n",
              "      <td>89.35</td>\n",
              "      <td>0.0</td>\n",
              "      <td>-0.0</td>\n",
              "      <td>0.0</td>\n",
              "      <td>265.03</td>\n",
              "      <td>4.07</td>\n",
              "      <td>190.0</td>\n",
              "      <td>96549.0</td>\n",
              "      <td>1</td>\n",
              "    </tr>\n",
              "    <tr>\n",
              "      <th>1</th>\n",
              "      <td>20060101:0100</td>\n",
              "      <td>-2.92</td>\n",
              "      <td>89.38</td>\n",
              "      <td>0.0</td>\n",
              "      <td>-0.0</td>\n",
              "      <td>0.0</td>\n",
              "      <td>264.43</td>\n",
              "      <td>4.19</td>\n",
              "      <td>184.0</td>\n",
              "      <td>96549.0</td>\n",
              "      <td>2</td>\n",
              "    </tr>\n",
              "    <tr>\n",
              "      <th>2</th>\n",
              "      <td>20060101:0200</td>\n",
              "      <td>-2.88</td>\n",
              "      <td>89.41</td>\n",
              "      <td>0.0</td>\n",
              "      <td>-0.0</td>\n",
              "      <td>0.0</td>\n",
              "      <td>263.84</td>\n",
              "      <td>4.31</td>\n",
              "      <td>178.0</td>\n",
              "      <td>96549.0</td>\n",
              "      <td>3</td>\n",
              "    </tr>\n",
              "    <tr>\n",
              "      <th>3</th>\n",
              "      <td>20060101:0300</td>\n",
              "      <td>-2.84</td>\n",
              "      <td>89.44</td>\n",
              "      <td>0.0</td>\n",
              "      <td>-0.0</td>\n",
              "      <td>0.0</td>\n",
              "      <td>263.25</td>\n",
              "      <td>4.44</td>\n",
              "      <td>176.0</td>\n",
              "      <td>96536.0</td>\n",
              "      <td>4</td>\n",
              "    </tr>\n",
              "    <tr>\n",
              "      <th>4</th>\n",
              "      <td>20060101:0400</td>\n",
              "      <td>-2.8</td>\n",
              "      <td>89.48</td>\n",
              "      <td>0.0</td>\n",
              "      <td>-0.0</td>\n",
              "      <td>0.0</td>\n",
              "      <td>262.66</td>\n",
              "      <td>4.56</td>\n",
              "      <td>175.0</td>\n",
              "      <td>96524.0</td>\n",
              "      <td>5</td>\n",
              "    </tr>\n",
              "    <tr>\n",
              "      <th>...</th>\n",
              "      <td>...</td>\n",
              "      <td>...</td>\n",
              "      <td>...</td>\n",
              "      <td>...</td>\n",
              "      <td>...</td>\n",
              "      <td>...</td>\n",
              "      <td>...</td>\n",
              "      <td>...</td>\n",
              "      <td>...</td>\n",
              "      <td>...</td>\n",
              "      <td>...</td>\n",
              "    </tr>\n",
              "    <tr>\n",
              "      <th>8755</th>\n",
              "      <td>20101231:1900</td>\n",
              "      <td>-3.16</td>\n",
              "      <td>89.18</td>\n",
              "      <td>0.0</td>\n",
              "      <td>-0.0</td>\n",
              "      <td>0.0</td>\n",
              "      <td>267.98</td>\n",
              "      <td>3.45</td>\n",
              "      <td>264.0</td>\n",
              "      <td>97325.0</td>\n",
              "      <td>8756</td>\n",
              "    </tr>\n",
              "    <tr>\n",
              "      <th>8756</th>\n",
              "      <td>20101231:2000</td>\n",
              "      <td>-3.12</td>\n",
              "      <td>89.22</td>\n",
              "      <td>0.0</td>\n",
              "      <td>-0.0</td>\n",
              "      <td>0.0</td>\n",
              "      <td>267.39</td>\n",
              "      <td>3.58</td>\n",
              "      <td>264.0</td>\n",
              "      <td>97321.0</td>\n",
              "      <td>8757</td>\n",
              "    </tr>\n",
              "    <tr>\n",
              "      <th>8757</th>\n",
              "      <td>20101231:2100</td>\n",
              "      <td>-3.08</td>\n",
              "      <td>89.25</td>\n",
              "      <td>0.0</td>\n",
              "      <td>-0.0</td>\n",
              "      <td>0.0</td>\n",
              "      <td>266.8</td>\n",
              "      <td>3.7</td>\n",
              "      <td>261.0</td>\n",
              "      <td>97293.0</td>\n",
              "      <td>8758</td>\n",
              "    </tr>\n",
              "    <tr>\n",
              "      <th>8758</th>\n",
              "      <td>20101231:2200</td>\n",
              "      <td>-3.04</td>\n",
              "      <td>89.28</td>\n",
              "      <td>0.0</td>\n",
              "      <td>-0.0</td>\n",
              "      <td>0.0</td>\n",
              "      <td>266.21</td>\n",
              "      <td>3.82</td>\n",
              "      <td>257.0</td>\n",
              "      <td>97264.0</td>\n",
              "      <td>8759</td>\n",
              "    </tr>\n",
              "    <tr>\n",
              "      <th>8759</th>\n",
              "      <td>20101231:2300</td>\n",
              "      <td>-3.0</td>\n",
              "      <td>89.31</td>\n",
              "      <td>0.0</td>\n",
              "      <td>-0.0</td>\n",
              "      <td>0.0</td>\n",
              "      <td>265.62</td>\n",
              "      <td>3.95</td>\n",
              "      <td>254.0</td>\n",
              "      <td>97236.0</td>\n",
              "      <td>8760</td>\n",
              "    </tr>\n",
              "  </tbody>\n",
              "</table>\n",
              "<p>8760 rows × 11 columns</p>\n",
              "</div>"
            ],
            "text/plain": [
              "          time(UTC)    T2m     RH G(h)  ... WS10m  WD10m       SP   Day\n",
              "0     20060101:0000  -2.96  89.35  0.0  ...  4.07  190.0  96549.0     1\n",
              "1     20060101:0100  -2.92  89.38  0.0  ...  4.19  184.0  96549.0     2\n",
              "2     20060101:0200  -2.88  89.41  0.0  ...  4.31  178.0  96549.0     3\n",
              "3     20060101:0300  -2.84  89.44  0.0  ...  4.44  176.0  96536.0     4\n",
              "4     20060101:0400   -2.8  89.48  0.0  ...  4.56  175.0  96524.0     5\n",
              "...             ...    ...    ...  ...  ...   ...    ...      ...   ...\n",
              "8755  20101231:1900  -3.16  89.18  0.0  ...  3.45  264.0  97325.0  8756\n",
              "8756  20101231:2000  -3.12  89.22  0.0  ...  3.58  264.0  97321.0  8757\n",
              "8757  20101231:2100  -3.08  89.25  0.0  ...   3.7  261.0  97293.0  8758\n",
              "8758  20101231:2200  -3.04  89.28  0.0  ...  3.82  257.0  97264.0  8759\n",
              "8759  20101231:2300   -3.0  89.31  0.0  ...  3.95  254.0  97236.0  8760\n",
              "\n",
              "[8760 rows x 11 columns]"
            ]
          },
          "metadata": {
            "tags": []
          },
          "execution_count": 111
        }
      ]
    },
    {
      "cell_type": "markdown",
      "metadata": {
        "id": "PFYj31jOeAEy"
      },
      "source": [
        "###Upload data regarding wind turbins"
      ]
    },
    {
      "cell_type": "code",
      "metadata": {
        "colab": {
          "resources": {
            "http://localhost:8080/nbextensions/google.colab/files.js": {
              "data": "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",
              "ok": true,
              "headers": [
                [
                  "content-type",
                  "application/javascript"
                ]
              ],
              "status": 200,
              "status_text": ""
            }
          },
          "base_uri": "https://localhost:8080/",
          "height": 72
        },
        "id": "xWZ20Fceea84",
        "outputId": "fe01ca75-87c2-45cb-be65-aa11e38d5a8c"
      },
      "source": [
        "uploaded_turbins = files.upload()"
      ],
      "execution_count": 136,
      "outputs": [
        {
          "output_type": "display_data",
          "data": {
            "text/html": [
              "\n",
              "     <input type=\"file\" id=\"files-db4634d2-4ef8-44b0-8fc0-3d0ce43def5b\" name=\"files[]\" multiple disabled\n",
              "        style=\"border:none\" />\n",
              "     <output id=\"result-db4634d2-4ef8-44b0-8fc0-3d0ce43def5b\">\n",
              "      Upload widget is only available when the cell has been executed in the\n",
              "      current browser session. Please rerun this cell to enable.\n",
              "      </output>\n",
              "      <script src=\"/nbextensions/google.colab/files.js\"></script> "
            ],
            "text/plain": [
              "<IPython.core.display.HTML object>"
            ]
          },
          "metadata": {
            "tags": []
          }
        },
        {
          "output_type": "stream",
          "text": [
            "Saving Charakterystyki turbin.xlsx to Charakterystyki turbin (1).xlsx\n"
          ],
          "name": "stdout"
        }
      ]
    },
    {
      "cell_type": "code",
      "metadata": {
        "id": "qWu13yXHgUVp"
      },
      "source": [
        "for file in uploaded_turbins:\r\n",
        "    turbine_2MW = pd.read_excel(io.BytesIO(uploaded_turbins[file]), sheet_name='2MW')\r\n",
        "    turbine_20kW = pd.read_excel(io.BytesIO(uploaded_turbins[file]), sheet_name='20kW')\r\n",
        "\r\n",
        "turbine_2MW.columns = ['WS80m', 'P80m']\r\n",
        "turbine_2MW.drop(turbine_2MW.index[0], inplace=True)\r\n",
        "turbine_2MW = turbine_2MW.astype(float)\r\n",
        "\r\n",
        "turbine_20kW.columns = ['WS30m', 'P30m']\r\n",
        "turbine_20kW.drop(turbine_20kW.index[0], inplace=True)\r\n",
        "turbine_20kW = turbine_20kW.astype(float)"
      ],
      "execution_count": 138,
      "outputs": []
    },
    {
      "cell_type": "code",
      "metadata": {
        "colab": {
          "base_uri": "https://localhost:8080/",
          "height": 359
        },
        "id": "tEcRgq6bhjii",
        "outputId": "3cd53058-099d-47fb-bf03-611a908f5b63"
      },
      "source": [
        "turbine_2MW.head(10)"
      ],
      "execution_count": 115,
      "outputs": [
        {
          "output_type": "execute_result",
          "data": {
            "text/html": [
              "<div>\n",
              "<style scoped>\n",
              "    .dataframe tbody tr th:only-of-type {\n",
              "        vertical-align: middle;\n",
              "    }\n",
              "\n",
              "    .dataframe tbody tr th {\n",
              "        vertical-align: top;\n",
              "    }\n",
              "\n",
              "    .dataframe thead th {\n",
              "        text-align: right;\n",
              "    }\n",
              "</style>\n",
              "<table border=\"1\" class=\"dataframe\">\n",
              "  <thead>\n",
              "    <tr style=\"text-align: right;\">\n",
              "      <th></th>\n",
              "      <th>WS80m</th>\n",
              "      <th>P80m</th>\n",
              "    </tr>\n",
              "  </thead>\n",
              "  <tbody>\n",
              "    <tr>\n",
              "      <th>1</th>\n",
              "      <td>0.0</td>\n",
              "      <td>0.0</td>\n",
              "    </tr>\n",
              "    <tr>\n",
              "      <th>2</th>\n",
              "      <td>0.5</td>\n",
              "      <td>0.0</td>\n",
              "    </tr>\n",
              "    <tr>\n",
              "      <th>3</th>\n",
              "      <td>1.0</td>\n",
              "      <td>0.0</td>\n",
              "    </tr>\n",
              "    <tr>\n",
              "      <th>4</th>\n",
              "      <td>1.5</td>\n",
              "      <td>0.0</td>\n",
              "    </tr>\n",
              "    <tr>\n",
              "      <th>5</th>\n",
              "      <td>2.0</td>\n",
              "      <td>0.0</td>\n",
              "    </tr>\n",
              "    <tr>\n",
              "      <th>6</th>\n",
              "      <td>2.5</td>\n",
              "      <td>0.0</td>\n",
              "    </tr>\n",
              "    <tr>\n",
              "      <th>7</th>\n",
              "      <td>3.0</td>\n",
              "      <td>0.0</td>\n",
              "    </tr>\n",
              "    <tr>\n",
              "      <th>8</th>\n",
              "      <td>3.5</td>\n",
              "      <td>42.2</td>\n",
              "    </tr>\n",
              "    <tr>\n",
              "      <th>9</th>\n",
              "      <td>4.0</td>\n",
              "      <td>93.3</td>\n",
              "    </tr>\n",
              "    <tr>\n",
              "      <th>10</th>\n",
              "      <td>4.5</td>\n",
              "      <td>145.2</td>\n",
              "    </tr>\n",
              "  </tbody>\n",
              "</table>\n",
              "</div>"
            ],
            "text/plain": [
              "    WS80m   P80m\n",
              "1     0.0    0.0\n",
              "2     0.5    0.0\n",
              "3     1.0    0.0\n",
              "4     1.5    0.0\n",
              "5     2.0    0.0\n",
              "6     2.5    0.0\n",
              "7     3.0    0.0\n",
              "8     3.5   42.2\n",
              "9     4.0   93.3\n",
              "10    4.5  145.2"
            ]
          },
          "metadata": {
            "tags": []
          },
          "execution_count": 115
        }
      ]
    },
    {
      "cell_type": "code",
      "metadata": {
        "colab": {
          "base_uri": "https://localhost:8080/",
          "height": 359
        },
        "id": "1RbWxrUqiBRU",
        "outputId": "539d56a0-94eb-4e7e-a5de-91289a8310cb"
      },
      "source": [
        "turbine_20kW.head(10)"
      ],
      "execution_count": 117,
      "outputs": [
        {
          "output_type": "execute_result",
          "data": {
            "text/html": [
              "<div>\n",
              "<style scoped>\n",
              "    .dataframe tbody tr th:only-of-type {\n",
              "        vertical-align: middle;\n",
              "    }\n",
              "\n",
              "    .dataframe tbody tr th {\n",
              "        vertical-align: top;\n",
              "    }\n",
              "\n",
              "    .dataframe thead th {\n",
              "        text-align: right;\n",
              "    }\n",
              "</style>\n",
              "<table border=\"1\" class=\"dataframe\">\n",
              "  <thead>\n",
              "    <tr style=\"text-align: right;\">\n",
              "      <th></th>\n",
              "      <th>WS30m</th>\n",
              "      <th>P30m</th>\n",
              "    </tr>\n",
              "  </thead>\n",
              "  <tbody>\n",
              "    <tr>\n",
              "      <th>1</th>\n",
              "      <td>0</td>\n",
              "      <td>0</td>\n",
              "    </tr>\n",
              "    <tr>\n",
              "      <th>2</th>\n",
              "      <td>1</td>\n",
              "      <td>0</td>\n",
              "    </tr>\n",
              "    <tr>\n",
              "      <th>3</th>\n",
              "      <td>2</td>\n",
              "      <td>0.08</td>\n",
              "    </tr>\n",
              "    <tr>\n",
              "      <th>4</th>\n",
              "      <td>3</td>\n",
              "      <td>0.5</td>\n",
              "    </tr>\n",
              "    <tr>\n",
              "      <th>5</th>\n",
              "      <td>4</td>\n",
              "      <td>1.35</td>\n",
              "    </tr>\n",
              "    <tr>\n",
              "      <th>6</th>\n",
              "      <td>5</td>\n",
              "      <td>2.8</td>\n",
              "    </tr>\n",
              "    <tr>\n",
              "      <th>7</th>\n",
              "      <td>6</td>\n",
              "      <td>4.7</td>\n",
              "    </tr>\n",
              "    <tr>\n",
              "      <th>8</th>\n",
              "      <td>7</td>\n",
              "      <td>7</td>\n",
              "    </tr>\n",
              "    <tr>\n",
              "      <th>9</th>\n",
              "      <td>8</td>\n",
              "      <td>9.6</td>\n",
              "    </tr>\n",
              "    <tr>\n",
              "      <th>10</th>\n",
              "      <td>9</td>\n",
              "      <td>12.3</td>\n",
              "    </tr>\n",
              "  </tbody>\n",
              "</table>\n",
              "</div>"
            ],
            "text/plain": [
              "   WS30m  P30m\n",
              "1      0     0\n",
              "2      1     0\n",
              "3      2  0.08\n",
              "4      3   0.5\n",
              "5      4  1.35\n",
              "6      5   2.8\n",
              "7      6   4.7\n",
              "8      7     7\n",
              "9      8   9.6\n",
              "10     9  12.3"
            ]
          },
          "metadata": {
            "tags": []
          },
          "execution_count": 117
        }
      ]
    },
    {
      "cell_type": "markdown",
      "metadata": {
        "id": "0xEMgvzUK6VD"
      },
      "source": [
        "###Calculations\r\n",
        "\r\n",
        "\r\n",
        "1. Assignment of variable values\r\n",
        "\r\n",
        "\r\n",
        "    aplpha - roughness coefficient (exponent)\r\n",
        "\r\n",
        "    h_orginal - wind measurement high [m]\r\n",
        "\r\n",
        "    h_t1 - height of the first wind turbin [m]\r\n",
        "\r\n",
        "    h_t2 - height of the second wind turbin [m]\r\n"
      ]
    },
    {
      "cell_type": "code",
      "metadata": {
        "id": "fd5tN-AuLGWM"
      },
      "source": [
        "\r\n",
        "alpha = 0.16\r\n",
        "h_orginal = 10\r\n",
        "h_t1 = 30\r\n",
        "h_t2 = 80\r\n",
        "\r\n"
      ],
      "execution_count": 139,
      "outputs": []
    },
    {
      "cell_type": "markdown",
      "metadata": {
        "id": "k0OdCDTtYQ7O"
      },
      "source": [
        "2. Calculation of wind speed at turbine heights"
      ]
    },
    {
      "cell_type": "code",
      "metadata": {
        "colab": {
          "base_uri": "https://localhost:8080/",
          "height": 419
        },
        "id": "WR0Cij7SWgPC",
        "outputId": "ea928dfc-39ce-416d-9b62-bafca3fd78ff"
      },
      "source": [
        "pd.options.mode.chained_assignment = None  # default='warn', pandas is warning that my operations are not apply on my orginal frame. It's true and it's what I want here\r\n",
        "\r\n",
        "final_results = {}\r\n",
        "\r\n",
        "for key in cleared_df:\r\n",
        "    cl_data = cleared_df[key][['Day','WS10m']]\r\n",
        "    cl_data['WS30m'] = cl_data['WS10m'].apply(lambda x: float(x)*(h_t1/h_orginal)**(alpha))\r\n",
        "    cl_data['WS80m'] = cl_data['WS10m'].apply(lambda x: float(x)*(h_t2/h_orginal)**(alpha))\r\n",
        "    final_results[key] = cl_data\r\n",
        "final_results[list(dataframes.keys())[0]]"
      ],
      "execution_count": 140,
      "outputs": [
        {
          "output_type": "execute_result",
          "data": {
            "text/html": [
              "<div>\n",
              "<style scoped>\n",
              "    .dataframe tbody tr th:only-of-type {\n",
              "        vertical-align: middle;\n",
              "    }\n",
              "\n",
              "    .dataframe tbody tr th {\n",
              "        vertical-align: top;\n",
              "    }\n",
              "\n",
              "    .dataframe thead th {\n",
              "        text-align: right;\n",
              "    }\n",
              "</style>\n",
              "<table border=\"1\" class=\"dataframe\">\n",
              "  <thead>\n",
              "    <tr style=\"text-align: right;\">\n",
              "      <th></th>\n",
              "      <th>Day</th>\n",
              "      <th>WS10m</th>\n",
              "      <th>WS30m</th>\n",
              "      <th>WS80m</th>\n",
              "    </tr>\n",
              "  </thead>\n",
              "  <tbody>\n",
              "    <tr>\n",
              "      <th>0</th>\n",
              "      <td>1</td>\n",
              "      <td>4.07</td>\n",
              "      <td>4.852145</td>\n",
              "      <td>5.676607</td>\n",
              "    </tr>\n",
              "    <tr>\n",
              "      <th>1</th>\n",
              "      <td>2</td>\n",
              "      <td>4.19</td>\n",
              "      <td>4.995206</td>\n",
              "      <td>5.843976</td>\n",
              "    </tr>\n",
              "    <tr>\n",
              "      <th>2</th>\n",
              "      <td>3</td>\n",
              "      <td>4.31</td>\n",
              "      <td>5.138267</td>\n",
              "      <td>6.011345</td>\n",
              "    </tr>\n",
              "    <tr>\n",
              "      <th>3</th>\n",
              "      <td>4</td>\n",
              "      <td>4.44</td>\n",
              "      <td>5.293250</td>\n",
              "      <td>6.192662</td>\n",
              "    </tr>\n",
              "    <tr>\n",
              "      <th>4</th>\n",
              "      <td>5</td>\n",
              "      <td>4.56</td>\n",
              "      <td>5.436310</td>\n",
              "      <td>6.360031</td>\n",
              "    </tr>\n",
              "    <tr>\n",
              "      <th>...</th>\n",
              "      <td>...</td>\n",
              "      <td>...</td>\n",
              "      <td>...</td>\n",
              "      <td>...</td>\n",
              "    </tr>\n",
              "    <tr>\n",
              "      <th>8755</th>\n",
              "      <td>8756</td>\n",
              "      <td>3.45</td>\n",
              "      <td>4.112998</td>\n",
              "      <td>4.811866</td>\n",
              "    </tr>\n",
              "    <tr>\n",
              "      <th>8756</th>\n",
              "      <td>8757</td>\n",
              "      <td>3.58</td>\n",
              "      <td>4.267981</td>\n",
              "      <td>4.993182</td>\n",
              "    </tr>\n",
              "    <tr>\n",
              "      <th>8757</th>\n",
              "      <td>8758</td>\n",
              "      <td>3.7</td>\n",
              "      <td>4.411041</td>\n",
              "      <td>5.160552</td>\n",
              "    </tr>\n",
              "    <tr>\n",
              "      <th>8758</th>\n",
              "      <td>8759</td>\n",
              "      <td>3.82</td>\n",
              "      <td>4.554102</td>\n",
              "      <td>5.327921</td>\n",
              "    </tr>\n",
              "    <tr>\n",
              "      <th>8759</th>\n",
              "      <td>8760</td>\n",
              "      <td>3.95</td>\n",
              "      <td>4.709085</td>\n",
              "      <td>5.509237</td>\n",
              "    </tr>\n",
              "  </tbody>\n",
              "</table>\n",
              "<p>8760 rows × 4 columns</p>\n",
              "</div>"
            ],
            "text/plain": [
              "       Day WS10m     WS30m     WS80m\n",
              "0        1  4.07  4.852145  5.676607\n",
              "1        2  4.19  4.995206  5.843976\n",
              "2        3  4.31  5.138267  6.011345\n",
              "3        4  4.44  5.293250  6.192662\n",
              "4        5  4.56  5.436310  6.360031\n",
              "...    ...   ...       ...       ...\n",
              "8755  8756  3.45  4.112998  4.811866\n",
              "8756  8757  3.58  4.267981  4.993182\n",
              "8757  8758   3.7  4.411041  5.160552\n",
              "8758  8759  3.82  4.554102  5.327921\n",
              "8759  8760  3.95  4.709085  5.509237\n",
              "\n",
              "[8760 rows x 4 columns]"
            ]
          },
          "metadata": {
            "tags": []
          },
          "execution_count": 140
        }
      ]
    },
    {
      "cell_type": "markdown",
      "metadata": {
        "id": "w_Qz5B7d0xHi"
      },
      "source": [
        "3. Matching the turbine power value depending on the wind speed"
      ]
    },
    {
      "cell_type": "code",
      "metadata": {
        "colab": {
          "base_uri": "https://localhost:8080/",
          "height": 419
        },
        "id": "v1BNCXvalkPh",
        "outputId": "445ff40b-7986-4fd1-a67a-7df55fcfe4ed"
      },
      "source": [
        "for key in final_results:\r\n",
        "\r\n",
        "    dataP30 = pd.merge_asof(final_results[key].sort_values('WS30m'), turbine_20kW, on='WS30m')\r\n",
        "    final_results[key] = dataP30\r\n",
        "    dataP80 = pd.merge_asof(final_results[key].sort_values('WS80m'), turbine_2MW, on='WS80m')\r\n",
        "    final_results[key] = dataP80.sort_values('Day') #now we see why was added 'Day' column,\r\n",
        "    #ofc we can care about index during every change but IMO in this case it is easier to manage it in this way.\r\n",
        "\r\n",
        "\r\n",
        "final_results[list(dataframes.keys())[0]]"
      ],
      "execution_count": 141,
      "outputs": [
        {
          "output_type": "execute_result",
          "data": {
            "text/html": [
              "<div>\n",
              "<style scoped>\n",
              "    .dataframe tbody tr th:only-of-type {\n",
              "        vertical-align: middle;\n",
              "    }\n",
              "\n",
              "    .dataframe tbody tr th {\n",
              "        vertical-align: top;\n",
              "    }\n",
              "\n",
              "    .dataframe thead th {\n",
              "        text-align: right;\n",
              "    }\n",
              "</style>\n",
              "<table border=\"1\" class=\"dataframe\">\n",
              "  <thead>\n",
              "    <tr style=\"text-align: right;\">\n",
              "      <th></th>\n",
              "      <th>Day</th>\n",
              "      <th>WS10m</th>\n",
              "      <th>WS30m</th>\n",
              "      <th>WS80m</th>\n",
              "      <th>P30m</th>\n",
              "      <th>P80m</th>\n",
              "    </tr>\n",
              "  </thead>\n",
              "  <tbody>\n",
              "    <tr>\n",
              "      <th>6922</th>\n",
              "      <td>1</td>\n",
              "      <td>4.07</td>\n",
              "      <td>4.852145</td>\n",
              "      <td>5.676607</td>\n",
              "      <td>1.35</td>\n",
              "      <td>284.2</td>\n",
              "    </tr>\n",
              "    <tr>\n",
              "      <th>7078</th>\n",
              "      <td>2</td>\n",
              "      <td>4.19</td>\n",
              "      <td>4.995206</td>\n",
              "      <td>5.843976</td>\n",
              "      <td>1.35</td>\n",
              "      <td>284.2</td>\n",
              "    </tr>\n",
              "    <tr>\n",
              "      <th>7215</th>\n",
              "      <td>3</td>\n",
              "      <td>4.31</td>\n",
              "      <td>5.138267</td>\n",
              "      <td>6.011345</td>\n",
              "      <td>2.80</td>\n",
              "      <td>390.9</td>\n",
              "    </tr>\n",
              "    <tr>\n",
              "      <th>7339</th>\n",
              "      <td>4</td>\n",
              "      <td>4.44</td>\n",
              "      <td>5.293250</td>\n",
              "      <td>6.192662</td>\n",
              "      <td>2.80</td>\n",
              "      <td>390.9</td>\n",
              "    </tr>\n",
              "    <tr>\n",
              "      <th>7452</th>\n",
              "      <td>5</td>\n",
              "      <td>4.56</td>\n",
              "      <td>5.436310</td>\n",
              "      <td>6.360031</td>\n",
              "      <td>2.80</td>\n",
              "      <td>390.9</td>\n",
              "    </tr>\n",
              "    <tr>\n",
              "      <th>...</th>\n",
              "      <td>...</td>\n",
              "      <td>...</td>\n",
              "      <td>...</td>\n",
              "      <td>...</td>\n",
              "      <td>...</td>\n",
              "      <td>...</td>\n",
              "    </tr>\n",
              "    <tr>\n",
              "      <th>6111</th>\n",
              "      <td>8756</td>\n",
              "      <td>3.45</td>\n",
              "      <td>4.112998</td>\n",
              "      <td>4.811866</td>\n",
              "      <td>1.35</td>\n",
              "      <td>145.2</td>\n",
              "    </tr>\n",
              "    <tr>\n",
              "      <th>6279</th>\n",
              "      <td>8757</td>\n",
              "      <td>3.58</td>\n",
              "      <td>4.267981</td>\n",
              "      <td>4.993182</td>\n",
              "      <td>1.35</td>\n",
              "      <td>145.2</td>\n",
              "    </tr>\n",
              "    <tr>\n",
              "      <th>6446</th>\n",
              "      <td>8758</td>\n",
              "      <td>3.7</td>\n",
              "      <td>4.411041</td>\n",
              "      <td>5.160552</td>\n",
              "      <td>1.35</td>\n",
              "      <td>211.3</td>\n",
              "    </tr>\n",
              "    <tr>\n",
              "      <th>6620</th>\n",
              "      <td>8759</td>\n",
              "      <td>3.82</td>\n",
              "      <td>4.554102</td>\n",
              "      <td>5.327921</td>\n",
              "      <td>1.35</td>\n",
              "      <td>211.3</td>\n",
              "    </tr>\n",
              "    <tr>\n",
              "      <th>6784</th>\n",
              "      <td>8760</td>\n",
              "      <td>3.95</td>\n",
              "      <td>4.709085</td>\n",
              "      <td>5.509237</td>\n",
              "      <td>1.35</td>\n",
              "      <td>284.2</td>\n",
              "    </tr>\n",
              "  </tbody>\n",
              "</table>\n",
              "<p>8760 rows × 6 columns</p>\n",
              "</div>"
            ],
            "text/plain": [
              "       Day WS10m     WS30m     WS80m  P30m   P80m\n",
              "6922     1  4.07  4.852145  5.676607  1.35  284.2\n",
              "7078     2  4.19  4.995206  5.843976  1.35  284.2\n",
              "7215     3  4.31  5.138267  6.011345  2.80  390.9\n",
              "7339     4  4.44  5.293250  6.192662  2.80  390.9\n",
              "7452     5  4.56  5.436310  6.360031  2.80  390.9\n",
              "...    ...   ...       ...       ...   ...    ...\n",
              "6111  8756  3.45  4.112998  4.811866  1.35  145.2\n",
              "6279  8757  3.58  4.267981  4.993182  1.35  145.2\n",
              "6446  8758   3.7  4.411041  5.160552  1.35  211.3\n",
              "6620  8759  3.82  4.554102  5.327921  1.35  211.3\n",
              "6784  8760  3.95  4.709085  5.509237  1.35  284.2\n",
              "\n",
              "[8760 rows x 6 columns]"
            ]
          },
          "metadata": {
            "tags": []
          },
          "execution_count": 141
        }
      ]
    },
    {
      "cell_type": "code",
      "metadata": {
        "id": "ixMct3J9voUp"
      },
      "source": [
        ""
      ],
      "execution_count": null,
      "outputs": []
    }
  ]
}