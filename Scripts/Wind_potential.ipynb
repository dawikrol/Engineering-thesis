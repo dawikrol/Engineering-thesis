{
  "nbformat": 4,
  "nbformat_minor": 0,
  "metadata": {
    "colab": {
      "name": "Wind potential.ipynb",
      "provenance": [],
      "toc_visible": true,
      "authorship_tag": "ABX9TyPrAjmzsE8yNd4tYszy6v+Z",
      "include_colab_link": true
    },
    "kernelspec": {
      "name": "python3",
      "display_name": "Python 3"
    }
  },
  "cells": [
    {
      "cell_type": "markdown",
      "metadata": {
        "id": "view-in-github",
        "colab_type": "text"
      },
      "source": [
        "<a href=\"https://colab.research.google.com/github/dawikrol/Engineering-thesis/blob/main/Scripts/Wind_potential.ipynb\" target=\"_parent\"><img src=\"https://colab.research.google.com/assets/colab-badge.svg\" alt=\"Open In Colab\"/></a>"
      ]
    },
    {
      "cell_type": "markdown",
      "metadata": {
        "id": "OWWRO4B8Yn97"
      },
      "source": [
        "### **Wind potential**\r\n",
        "\r\n",
        "\r\n",
        "\r\n"
      ]
    },
    {
      "cell_type": "markdown",
      "metadata": {
        "id": "wsDQRLX7aRYw"
      },
      "source": [
        "### Lib import"
      ]
    },
    {
      "cell_type": "code",
      "metadata": {
        "id": "fLGfy0W4aHsJ"
      },
      "source": [
        "import pandas as pd\r\n",
        "from google.colab import files\r\n",
        "import io\r\n",
        "import os\r\n",
        "import numpy as np"
      ],
      "execution_count": 25,
      "outputs": []
    },
    {
      "cell_type": "markdown",
      "metadata": {
        "id": "eNzZLU8ld6o-"
      },
      "source": [
        "### Uploading data\r\n",
        "\r\n",
        "You find data in project's GitHub repository in Data/Wind.\r\n",
        "\r\n",
        "Data regarding atmospheric conditions come from: https://ec.europa.eu/jrc/en/pvgis\r\n",
        "\r\n"
      ]
    },
    {
      "cell_type": "code",
      "metadata": {
        "colab": {
          "resources": {
            "http://localhost:8080/nbextensions/google.colab/files.js": {
              "data": "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",
              "ok": true,
              "headers": [
                [
                  "content-type",
                  "application/javascript"
                ]
              ],
              "status": 200,
              "status_text": ""
            }
          },
          "base_uri": "https://localhost:8080/",
          "height": 207
        },
        "id": "kQnUSvzTfnXy",
        "outputId": "d9290583-c02e-4bea-907b-e044e408d562"
      },
      "source": [
        "uploaded = files.upload()"
      ],
      "execution_count": 2,
      "outputs": [
        {
          "output_type": "display_data",
          "data": {
            "text/html": [
              "\n",
              "     <input type=\"file\" id=\"files-98911fc4-0e25-4bcc-aa3f-579946ec966c\" name=\"files[]\" multiple disabled\n",
              "        style=\"border:none\" />\n",
              "     <output id=\"result-98911fc4-0e25-4bcc-aa3f-579946ec966c\">\n",
              "      Upload widget is only available when the cell has been executed in the\n",
              "      current browser session. Please rerun this cell to enable.\n",
              "      </output>\n",
              "      <script src=\"/nbextensions/google.colab/files.js\"></script> "
            ],
            "text/plain": [
              "<IPython.core.display.HTML object>"
            ]
          },
          "metadata": {
            "tags": []
          }
        },
        {
          "output_type": "stream",
          "text": [
            "Saving Limanowski_01_W.csv to Limanowski_01_W.csv\n",
            "Saving Nowosądecki_01_W.csv to Nowosądecki_01_W.csv\n",
            "Saving Nowotarski_01_W.csv to Nowotarski_01_W.csv\n",
            "Saving NowySącz_01_W.csv to NowySącz_01_W.csv\n",
            "Saving Tatrzański_01_W.csv to Tatrzański_01_W.csv\n"
          ],
          "name": "stdout"
        }
      ]
    },
    {
      "cell_type": "markdown",
      "metadata": {
        "id": "M1Dvxkold81U"
      },
      "source": [
        "### Creating raw dataframes"
      ]
    },
    {
      "cell_type": "code",
      "metadata": {
        "id": "CAEWJNNkYnfV",
        "colab": {
          "base_uri": "https://localhost:8080/"
        },
        "outputId": "07875a7f-ad6f-46aa-da21-1dc3a07797e2"
      },
      "source": [
        "dataframes = {}\r\n",
        "\r\n",
        "for file in uploaded:\r\n",
        "    name, region, kind  = file.split('_')\r\n",
        "    dataframes[name] = pd.read_csv(io.BytesIO(uploaded[file]), error_bad_lines=False,\r\n",
        "                                   index_col=None, header=None, sep='\\n')\r\n",
        "\r\n",
        "dataframes[list(dataframes.keys())[0]].size"
      ],
      "execution_count": 3,
      "outputs": [
        {
          "output_type": "execute_result",
          "data": {
            "text/plain": [
              "8787"
            ]
          },
          "metadata": {
            "tags": []
          },
          "execution_count": 3
        }
      ]
    },
    {
      "cell_type": "code",
      "metadata": {
        "colab": {
          "base_uri": "https://localhost:8080/",
          "height": 639
        },
        "id": "ByI3BYsXYlqc",
        "outputId": "f2d2069c-dbda-4cce-efeb-d4245e013f48"
      },
      "source": [
        "dataframes[list(dataframes.keys())[0]].head(20)"
      ],
      "execution_count": 4,
      "outputs": [
        {
          "output_type": "execute_result",
          "data": {
            "text/html": [
              "<div>\n",
              "<style scoped>\n",
              "    .dataframe tbody tr th:only-of-type {\n",
              "        vertical-align: middle;\n",
              "    }\n",
              "\n",
              "    .dataframe tbody tr th {\n",
              "        vertical-align: top;\n",
              "    }\n",
              "\n",
              "    .dataframe thead th {\n",
              "        text-align: right;\n",
              "    }\n",
              "</style>\n",
              "<table border=\"1\" class=\"dataframe\">\n",
              "  <thead>\n",
              "    <tr style=\"text-align: right;\">\n",
              "      <th></th>\n",
              "      <th>0</th>\n",
              "    </tr>\n",
              "  </thead>\n",
              "  <tbody>\n",
              "    <tr>\n",
              "      <th>0</th>\n",
              "      <td>Latitude (decimal degrees): 49.723</td>\n",
              "    </tr>\n",
              "    <tr>\n",
              "      <th>1</th>\n",
              "      <td>Longitude (decimal degrees): 20.395</td>\n",
              "    </tr>\n",
              "    <tr>\n",
              "      <th>2</th>\n",
              "      <td>Elevation (m): 400.0</td>\n",
              "    </tr>\n",
              "    <tr>\n",
              "      <th>3</th>\n",
              "      <td>month,year</td>\n",
              "    </tr>\n",
              "    <tr>\n",
              "      <th>4</th>\n",
              "      <td>1,2006</td>\n",
              "    </tr>\n",
              "    <tr>\n",
              "      <th>5</th>\n",
              "      <td>2,2010</td>\n",
              "    </tr>\n",
              "    <tr>\n",
              "      <th>6</th>\n",
              "      <td>3,2006</td>\n",
              "    </tr>\n",
              "    <tr>\n",
              "      <th>7</th>\n",
              "      <td>4,2012</td>\n",
              "    </tr>\n",
              "    <tr>\n",
              "      <th>8</th>\n",
              "      <td>5,2012</td>\n",
              "    </tr>\n",
              "    <tr>\n",
              "      <th>9</th>\n",
              "      <td>6,2011</td>\n",
              "    </tr>\n",
              "    <tr>\n",
              "      <th>10</th>\n",
              "      <td>7,2011</td>\n",
              "    </tr>\n",
              "    <tr>\n",
              "      <th>11</th>\n",
              "      <td>8,2013</td>\n",
              "    </tr>\n",
              "    <tr>\n",
              "      <th>12</th>\n",
              "      <td>9,2012</td>\n",
              "    </tr>\n",
              "    <tr>\n",
              "      <th>13</th>\n",
              "      <td>10,2012</td>\n",
              "    </tr>\n",
              "    <tr>\n",
              "      <th>14</th>\n",
              "      <td>11,2009</td>\n",
              "    </tr>\n",
              "    <tr>\n",
              "      <th>15</th>\n",
              "      <td>12,2010</td>\n",
              "    </tr>\n",
              "    <tr>\n",
              "      <th>16</th>\n",
              "      <td>time(UTC),T2m,RH,G(h),Gb(n),Gd(h),IR(h),WS10m,...</td>\n",
              "    </tr>\n",
              "    <tr>\n",
              "      <th>17</th>\n",
              "      <td>20060101:0000,-2.96,89.35,0.0,-0.0,0.0,265.03,...</td>\n",
              "    </tr>\n",
              "    <tr>\n",
              "      <th>18</th>\n",
              "      <td>20060101:0100,-2.92,89.38,0.0,-0.0,0.0,264.43,...</td>\n",
              "    </tr>\n",
              "    <tr>\n",
              "      <th>19</th>\n",
              "      <td>20060101:0200,-2.88,89.41,0.0,-0.0,0.0,263.84,...</td>\n",
              "    </tr>\n",
              "  </tbody>\n",
              "</table>\n",
              "</div>"
            ],
            "text/plain": [
              "                                                    0\n",
              "0                  Latitude (decimal degrees): 49.723\n",
              "1                 Longitude (decimal degrees): 20.395\n",
              "2                                Elevation (m): 400.0\n",
              "3                                          month,year\n",
              "4                                              1,2006\n",
              "5                                              2,2010\n",
              "6                                              3,2006\n",
              "7                                              4,2012\n",
              "8                                              5,2012\n",
              "9                                              6,2011\n",
              "10                                             7,2011\n",
              "11                                             8,2013\n",
              "12                                             9,2012\n",
              "13                                            10,2012\n",
              "14                                            11,2009\n",
              "15                                            12,2010\n",
              "16  time(UTC),T2m,RH,G(h),Gb(n),Gd(h),IR(h),WS10m,...\n",
              "17  20060101:0000,-2.96,89.35,0.0,-0.0,0.0,265.03,...\n",
              "18  20060101:0100,-2.92,89.38,0.0,-0.0,0.0,264.43,...\n",
              "19  20060101:0200,-2.88,89.41,0.0,-0.0,0.0,263.84,..."
            ]
          },
          "metadata": {
            "tags": []
          },
          "execution_count": 4
        }
      ]
    },
    {
      "cell_type": "code",
      "metadata": {
        "colab": {
          "base_uri": "https://localhost:8080/",
          "height": 639
        },
        "id": "wPxYxJObpe88",
        "outputId": "5ddfc178-4803-45cc-c132-3a2c378b1e82"
      },
      "source": [
        "dataframes[list(dataframes.keys())[0]].tail(20)"
      ],
      "execution_count": 5,
      "outputs": [
        {
          "output_type": "execute_result",
          "data": {
            "text/html": [
              "<div>\n",
              "<style scoped>\n",
              "    .dataframe tbody tr th:only-of-type {\n",
              "        vertical-align: middle;\n",
              "    }\n",
              "\n",
              "    .dataframe tbody tr th {\n",
              "        vertical-align: top;\n",
              "    }\n",
              "\n",
              "    .dataframe thead th {\n",
              "        text-align: right;\n",
              "    }\n",
              "</style>\n",
              "<table border=\"1\" class=\"dataframe\">\n",
              "  <thead>\n",
              "    <tr style=\"text-align: right;\">\n",
              "      <th></th>\n",
              "      <th>0</th>\n",
              "    </tr>\n",
              "  </thead>\n",
              "  <tbody>\n",
              "    <tr>\n",
              "      <th>8767</th>\n",
              "      <td>20101231:1400,-3.55,84.14,19.0,0.0,19.0,276.6,...</td>\n",
              "    </tr>\n",
              "    <tr>\n",
              "      <th>8768</th>\n",
              "      <td>20101231:1500,-3.31,85.77,0.0,-0.0,0.0,276.12,...</td>\n",
              "    </tr>\n",
              "    <tr>\n",
              "      <th>8769</th>\n",
              "      <td>20101231:1600,-3.28,89.09,0.0,-0.0,0.0,269.75,...</td>\n",
              "    </tr>\n",
              "    <tr>\n",
              "      <th>8770</th>\n",
              "      <td>20101231:1700,-3.24,89.12,0.0,-0.0,0.0,269.16,...</td>\n",
              "    </tr>\n",
              "    <tr>\n",
              "      <th>8771</th>\n",
              "      <td>20101231:1800,-3.2,89.15,0.0,-0.0,0.0,268.57,3...</td>\n",
              "    </tr>\n",
              "    <tr>\n",
              "      <th>8772</th>\n",
              "      <td>20101231:1900,-3.16,89.18,0.0,-0.0,0.0,267.98,...</td>\n",
              "    </tr>\n",
              "    <tr>\n",
              "      <th>8773</th>\n",
              "      <td>20101231:2000,-3.12,89.22,0.0,-0.0,0.0,267.39,...</td>\n",
              "    </tr>\n",
              "    <tr>\n",
              "      <th>8774</th>\n",
              "      <td>20101231:2100,-3.08,89.25,0.0,-0.0,0.0,266.8,3...</td>\n",
              "    </tr>\n",
              "    <tr>\n",
              "      <th>8775</th>\n",
              "      <td>20101231:2200,-3.04,89.28,0.0,-0.0,0.0,266.21,...</td>\n",
              "    </tr>\n",
              "    <tr>\n",
              "      <th>8776</th>\n",
              "      <td>20101231:2300,-3.0,89.31,0.0,-0.0,0.0,265.62,3...</td>\n",
              "    </tr>\n",
              "    <tr>\n",
              "      <th>8777</th>\n",
              "      <td>T2m: 2-m air temperature (degree Celsius)</td>\n",
              "    </tr>\n",
              "    <tr>\n",
              "      <th>8778</th>\n",
              "      <td>RH: relative humidity (%)</td>\n",
              "    </tr>\n",
              "    <tr>\n",
              "      <th>8779</th>\n",
              "      <td>G(h): Global irradiance on the horizontal plan...</td>\n",
              "    </tr>\n",
              "    <tr>\n",
              "      <th>8780</th>\n",
              "      <td>Gb(n): Beam/direct irradiance on a plane alway...</td>\n",
              "    </tr>\n",
              "    <tr>\n",
              "      <th>8781</th>\n",
              "      <td>Gd(h): Diffuse irradiance on the horizontal pl...</td>\n",
              "    </tr>\n",
              "    <tr>\n",
              "      <th>8782</th>\n",
              "      <td>IR(h): Surface infrared (thermal) irradiance o...</td>\n",
              "    </tr>\n",
              "    <tr>\n",
              "      <th>8783</th>\n",
              "      <td>WS10m: 10-m total wind speed (m/s)</td>\n",
              "    </tr>\n",
              "    <tr>\n",
              "      <th>8784</th>\n",
              "      <td>WD10m: 10-m wind direction (0 = N, 90 = E) (de...</td>\n",
              "    </tr>\n",
              "    <tr>\n",
              "      <th>8785</th>\n",
              "      <td>SP: Surface (air) pressure (Pa)</td>\n",
              "    </tr>\n",
              "    <tr>\n",
              "      <th>8786</th>\n",
              "      <td>PVGIS (c) European Communities, 2001-2021</td>\n",
              "    </tr>\n",
              "  </tbody>\n",
              "</table>\n",
              "</div>"
            ],
            "text/plain": [
              "                                                      0\n",
              "8767  20101231:1400,-3.55,84.14,19.0,0.0,19.0,276.6,...\n",
              "8768  20101231:1500,-3.31,85.77,0.0,-0.0,0.0,276.12,...\n",
              "8769  20101231:1600,-3.28,89.09,0.0,-0.0,0.0,269.75,...\n",
              "8770  20101231:1700,-3.24,89.12,0.0,-0.0,0.0,269.16,...\n",
              "8771  20101231:1800,-3.2,89.15,0.0,-0.0,0.0,268.57,3...\n",
              "8772  20101231:1900,-3.16,89.18,0.0,-0.0,0.0,267.98,...\n",
              "8773  20101231:2000,-3.12,89.22,0.0,-0.0,0.0,267.39,...\n",
              "8774  20101231:2100,-3.08,89.25,0.0,-0.0,0.0,266.8,3...\n",
              "8775  20101231:2200,-3.04,89.28,0.0,-0.0,0.0,266.21,...\n",
              "8776  20101231:2300,-3.0,89.31,0.0,-0.0,0.0,265.62,3...\n",
              "8777          T2m: 2-m air temperature (degree Celsius)\n",
              "8778                          RH: relative humidity (%)\n",
              "8779  G(h): Global irradiance on the horizontal plan...\n",
              "8780  Gb(n): Beam/direct irradiance on a plane alway...\n",
              "8781  Gd(h): Diffuse irradiance on the horizontal pl...\n",
              "8782  IR(h): Surface infrared (thermal) irradiance o...\n",
              "8783                 WS10m: 10-m total wind speed (m/s)\n",
              "8784  WD10m: 10-m wind direction (0 = N, 90 = E) (de...\n",
              "8785                    SP: Surface (air) pressure (Pa)\n",
              "8786          PVGIS (c) European Communities, 2001-2021"
            ]
          },
          "metadata": {
            "tags": []
          },
          "execution_count": 5
        }
      ]
    },
    {
      "cell_type": "markdown",
      "metadata": {
        "id": "HYkfOXtCtBcU"
      },
      "source": [
        "### List of shortcuts"
      ]
    },
    {
      "cell_type": "code",
      "metadata": {
        "colab": {
          "base_uri": "https://localhost:8080/",
          "height": 343
        },
        "id": "WdItRELQq8NQ",
        "outputId": "e81327a7-2c2a-487d-b2e9-da709abe46ca"
      },
      "source": [
        "info_df = dataframes[list(dataframes.keys())[0]].iloc[8777:8786]\r\n",
        "info_df.columns = ['defu']\r\n",
        "info_df = info_df.defu.str.split(':', expand=True)\r\n",
        "info_df.columns = ['symbol', 'meaning']\r\n",
        "info_df.set_index('symbol', inplace=True)\r\n",
        "info_df\r\n"
      ],
      "execution_count": 6,
      "outputs": [
        {
          "output_type": "execute_result",
          "data": {
            "text/html": [
              "<div>\n",
              "<style scoped>\n",
              "    .dataframe tbody tr th:only-of-type {\n",
              "        vertical-align: middle;\n",
              "    }\n",
              "\n",
              "    .dataframe tbody tr th {\n",
              "        vertical-align: top;\n",
              "    }\n",
              "\n",
              "    .dataframe thead th {\n",
              "        text-align: right;\n",
              "    }\n",
              "</style>\n",
              "<table border=\"1\" class=\"dataframe\">\n",
              "  <thead>\n",
              "    <tr style=\"text-align: right;\">\n",
              "      <th></th>\n",
              "      <th>meaning</th>\n",
              "    </tr>\n",
              "    <tr>\n",
              "      <th>symbol</th>\n",
              "      <th></th>\n",
              "    </tr>\n",
              "  </thead>\n",
              "  <tbody>\n",
              "    <tr>\n",
              "      <th>T2m</th>\n",
              "      <td>2-m air temperature (degree Celsius)</td>\n",
              "    </tr>\n",
              "    <tr>\n",
              "      <th>RH</th>\n",
              "      <td>relative humidity (%)</td>\n",
              "    </tr>\n",
              "    <tr>\n",
              "      <th>G(h)</th>\n",
              "      <td>Global irradiance on the horizontal plane (W/m2)</td>\n",
              "    </tr>\n",
              "    <tr>\n",
              "      <th>Gb(n)</th>\n",
              "      <td>Beam/direct irradiance on a plane always norm...</td>\n",
              "    </tr>\n",
              "    <tr>\n",
              "      <th>Gd(h)</th>\n",
              "      <td>Diffuse irradiance on the horizontal plane (W...</td>\n",
              "    </tr>\n",
              "    <tr>\n",
              "      <th>IR(h)</th>\n",
              "      <td>Surface infrared (thermal) irradiance on a ho...</td>\n",
              "    </tr>\n",
              "    <tr>\n",
              "      <th>WS10m</th>\n",
              "      <td>10-m total wind speed (m/s)</td>\n",
              "    </tr>\n",
              "    <tr>\n",
              "      <th>WD10m</th>\n",
              "      <td>10-m wind direction (0 = N, 90 = E) (degree)</td>\n",
              "    </tr>\n",
              "    <tr>\n",
              "      <th>SP</th>\n",
              "      <td>Surface (air) pressure (Pa)</td>\n",
              "    </tr>\n",
              "  </tbody>\n",
              "</table>\n",
              "</div>"
            ],
            "text/plain": [
              "                                                  meaning\n",
              "symbol                                                   \n",
              "T2m                  2-m air temperature (degree Celsius)\n",
              "RH                                  relative humidity (%)\n",
              "G(h)     Global irradiance on the horizontal plane (W/m2)\n",
              "Gb(n)    Beam/direct irradiance on a plane always norm...\n",
              "Gd(h)    Diffuse irradiance on the horizontal plane (W...\n",
              "IR(h)    Surface infrared (thermal) irradiance on a ho...\n",
              "WS10m                         10-m total wind speed (m/s)\n",
              "WD10m        10-m wind direction (0 = N, 90 = E) (degree)\n",
              "SP                            Surface (air) pressure (Pa)"
            ]
          },
          "metadata": {
            "tags": []
          },
          "execution_count": 6
        }
      ]
    },
    {
      "cell_type": "markdown",
      "metadata": {
        "id": "J5Eyjr4Yg4Cq"
      },
      "source": [
        "### Data cleaning"
      ]
    },
    {
      "cell_type": "code",
      "metadata": {
        "id": "xc56HDuBhLSh",
        "colab": {
          "base_uri": "https://localhost:8080/",
          "height": 402
        },
        "outputId": "9d0808e5-72a9-4b2e-9857-8cc4125c6dd2"
      },
      "source": [
        "cleared_df = {}\r\n",
        "\r\n",
        "for key in dataframes:\r\n",
        "    cl_data = dataframes[key].iloc[16:8777]\r\n",
        "    cl_data.columns = ['defu'] #the default column name is inconvenient\r\n",
        "    cl_data = cl_data.defu.str.split(',', expand=True)\r\n",
        "    cl_data.columns = cl_data.iloc[0]\r\n",
        "    cl_data = cl_data.reset_index(drop=True)\r\n",
        "    cl_data = cl_data.drop(cl_data.index[0])\r\n",
        "    cl_data.columns.name = None\r\n",
        "    #cl_data = cl_data.reset_index(drop=True)\r\n",
        "    cl_data['Day'] = np.arange(1, len(cl_data)+1) #adding 'Day' maybe confused here because is similar to index but it will be really helpful latter\r\n",
        "    cl_data['time(UTC)'] = pd.to_datetime(cl_data['time(UTC)'], format='%Y%m%d:%H%M')\r\n",
        "\r\n",
        "    cleared_df[key] = cl_data\r\n",
        "\r\n",
        "cleared_df[list(dataframes.keys())[0]]"
      ],
      "execution_count": 9,
      "outputs": [
        {
          "output_type": "execute_result",
          "data": {
            "text/html": [
              "<div>\n",
              "<style scoped>\n",
              "    .dataframe tbody tr th:only-of-type {\n",
              "        vertical-align: middle;\n",
              "    }\n",
              "\n",
              "    .dataframe tbody tr th {\n",
              "        vertical-align: top;\n",
              "    }\n",
              "\n",
              "    .dataframe thead th {\n",
              "        text-align: right;\n",
              "    }\n",
              "</style>\n",
              "<table border=\"1\" class=\"dataframe\">\n",
              "  <thead>\n",
              "    <tr style=\"text-align: right;\">\n",
              "      <th></th>\n",
              "      <th>time(UTC)</th>\n",
              "      <th>T2m</th>\n",
              "      <th>RH</th>\n",
              "      <th>G(h)</th>\n",
              "      <th>Gb(n)</th>\n",
              "      <th>Gd(h)</th>\n",
              "      <th>IR(h)</th>\n",
              "      <th>WS10m</th>\n",
              "      <th>WD10m</th>\n",
              "      <th>SP</th>\n",
              "      <th>Day</th>\n",
              "    </tr>\n",
              "  </thead>\n",
              "  <tbody>\n",
              "    <tr>\n",
              "      <th>1</th>\n",
              "      <td>2006-01-01 00:00:00</td>\n",
              "      <td>-2.96</td>\n",
              "      <td>89.35</td>\n",
              "      <td>0.0</td>\n",
              "      <td>-0.0</td>\n",
              "      <td>0.0</td>\n",
              "      <td>265.03</td>\n",
              "      <td>4.07</td>\n",
              "      <td>190.0</td>\n",
              "      <td>96549.0</td>\n",
              "      <td>1</td>\n",
              "    </tr>\n",
              "    <tr>\n",
              "      <th>2</th>\n",
              "      <td>2006-01-01 01:00:00</td>\n",
              "      <td>-2.92</td>\n",
              "      <td>89.38</td>\n",
              "      <td>0.0</td>\n",
              "      <td>-0.0</td>\n",
              "      <td>0.0</td>\n",
              "      <td>264.43</td>\n",
              "      <td>4.19</td>\n",
              "      <td>184.0</td>\n",
              "      <td>96549.0</td>\n",
              "      <td>2</td>\n",
              "    </tr>\n",
              "    <tr>\n",
              "      <th>3</th>\n",
              "      <td>2006-01-01 02:00:00</td>\n",
              "      <td>-2.88</td>\n",
              "      <td>89.41</td>\n",
              "      <td>0.0</td>\n",
              "      <td>-0.0</td>\n",
              "      <td>0.0</td>\n",
              "      <td>263.84</td>\n",
              "      <td>4.31</td>\n",
              "      <td>178.0</td>\n",
              "      <td>96549.0</td>\n",
              "      <td>3</td>\n",
              "    </tr>\n",
              "    <tr>\n",
              "      <th>4</th>\n",
              "      <td>2006-01-01 03:00:00</td>\n",
              "      <td>-2.84</td>\n",
              "      <td>89.44</td>\n",
              "      <td>0.0</td>\n",
              "      <td>-0.0</td>\n",
              "      <td>0.0</td>\n",
              "      <td>263.25</td>\n",
              "      <td>4.44</td>\n",
              "      <td>176.0</td>\n",
              "      <td>96536.0</td>\n",
              "      <td>4</td>\n",
              "    </tr>\n",
              "    <tr>\n",
              "      <th>5</th>\n",
              "      <td>2006-01-01 04:00:00</td>\n",
              "      <td>-2.8</td>\n",
              "      <td>89.48</td>\n",
              "      <td>0.0</td>\n",
              "      <td>-0.0</td>\n",
              "      <td>0.0</td>\n",
              "      <td>262.66</td>\n",
              "      <td>4.56</td>\n",
              "      <td>175.0</td>\n",
              "      <td>96524.0</td>\n",
              "      <td>5</td>\n",
              "    </tr>\n",
              "    <tr>\n",
              "      <th>...</th>\n",
              "      <td>...</td>\n",
              "      <td>...</td>\n",
              "      <td>...</td>\n",
              "      <td>...</td>\n",
              "      <td>...</td>\n",
              "      <td>...</td>\n",
              "      <td>...</td>\n",
              "      <td>...</td>\n",
              "      <td>...</td>\n",
              "      <td>...</td>\n",
              "      <td>...</td>\n",
              "    </tr>\n",
              "    <tr>\n",
              "      <th>8756</th>\n",
              "      <td>2010-12-31 19:00:00</td>\n",
              "      <td>-3.16</td>\n",
              "      <td>89.18</td>\n",
              "      <td>0.0</td>\n",
              "      <td>-0.0</td>\n",
              "      <td>0.0</td>\n",
              "      <td>267.98</td>\n",
              "      <td>3.45</td>\n",
              "      <td>264.0</td>\n",
              "      <td>97325.0</td>\n",
              "      <td>8756</td>\n",
              "    </tr>\n",
              "    <tr>\n",
              "      <th>8757</th>\n",
              "      <td>2010-12-31 20:00:00</td>\n",
              "      <td>-3.12</td>\n",
              "      <td>89.22</td>\n",
              "      <td>0.0</td>\n",
              "      <td>-0.0</td>\n",
              "      <td>0.0</td>\n",
              "      <td>267.39</td>\n",
              "      <td>3.58</td>\n",
              "      <td>264.0</td>\n",
              "      <td>97321.0</td>\n",
              "      <td>8757</td>\n",
              "    </tr>\n",
              "    <tr>\n",
              "      <th>8758</th>\n",
              "      <td>2010-12-31 21:00:00</td>\n",
              "      <td>-3.08</td>\n",
              "      <td>89.25</td>\n",
              "      <td>0.0</td>\n",
              "      <td>-0.0</td>\n",
              "      <td>0.0</td>\n",
              "      <td>266.8</td>\n",
              "      <td>3.7</td>\n",
              "      <td>261.0</td>\n",
              "      <td>97293.0</td>\n",
              "      <td>8758</td>\n",
              "    </tr>\n",
              "    <tr>\n",
              "      <th>8759</th>\n",
              "      <td>2010-12-31 22:00:00</td>\n",
              "      <td>-3.04</td>\n",
              "      <td>89.28</td>\n",
              "      <td>0.0</td>\n",
              "      <td>-0.0</td>\n",
              "      <td>0.0</td>\n",
              "      <td>266.21</td>\n",
              "      <td>3.82</td>\n",
              "      <td>257.0</td>\n",
              "      <td>97264.0</td>\n",
              "      <td>8759</td>\n",
              "    </tr>\n",
              "    <tr>\n",
              "      <th>8760</th>\n",
              "      <td>2010-12-31 23:00:00</td>\n",
              "      <td>-3.0</td>\n",
              "      <td>89.31</td>\n",
              "      <td>0.0</td>\n",
              "      <td>-0.0</td>\n",
              "      <td>0.0</td>\n",
              "      <td>265.62</td>\n",
              "      <td>3.95</td>\n",
              "      <td>254.0</td>\n",
              "      <td>97236.0</td>\n",
              "      <td>8760</td>\n",
              "    </tr>\n",
              "  </tbody>\n",
              "</table>\n",
              "<p>8760 rows × 11 columns</p>\n",
              "</div>"
            ],
            "text/plain": [
              "               time(UTC)    T2m     RH G(h)  ... WS10m  WD10m       SP   Day\n",
              "1    2006-01-01 00:00:00  -2.96  89.35  0.0  ...  4.07  190.0  96549.0     1\n",
              "2    2006-01-01 01:00:00  -2.92  89.38  0.0  ...  4.19  184.0  96549.0     2\n",
              "3    2006-01-01 02:00:00  -2.88  89.41  0.0  ...  4.31  178.0  96549.0     3\n",
              "4    2006-01-01 03:00:00  -2.84  89.44  0.0  ...  4.44  176.0  96536.0     4\n",
              "5    2006-01-01 04:00:00   -2.8  89.48  0.0  ...  4.56  175.0  96524.0     5\n",
              "...                  ...    ...    ...  ...  ...   ...    ...      ...   ...\n",
              "8756 2010-12-31 19:00:00  -3.16  89.18  0.0  ...  3.45  264.0  97325.0  8756\n",
              "8757 2010-12-31 20:00:00  -3.12  89.22  0.0  ...  3.58  264.0  97321.0  8757\n",
              "8758 2010-12-31 21:00:00  -3.08  89.25  0.0  ...   3.7  261.0  97293.0  8758\n",
              "8759 2010-12-31 22:00:00  -3.04  89.28  0.0  ...  3.82  257.0  97264.0  8759\n",
              "8760 2010-12-31 23:00:00   -3.0  89.31  0.0  ...  3.95  254.0  97236.0  8760\n",
              "\n",
              "[8760 rows x 11 columns]"
            ]
          },
          "metadata": {
            "tags": []
          },
          "execution_count": 9
        }
      ]
    },
    {
      "cell_type": "markdown",
      "metadata": {
        "id": "PFYj31jOeAEy"
      },
      "source": [
        "###Upload data regarding wind turbins"
      ]
    },
    {
      "cell_type": "code",
      "metadata": {
        "colab": {
          "resources": {
            "http://localhost:8080/nbextensions/google.colab/files.js": {
              "data": "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",
              "ok": true,
              "headers": [
                [
                  "content-type",
                  "application/javascript"
                ]
              ],
              "status": 200,
              "status_text": ""
            }
          },
          "base_uri": "https://localhost:8080/",
          "height": 73
        },
        "id": "xWZ20Fceea84",
        "outputId": "94f6ec71-9db7-40b2-9997-0ca990a3c279"
      },
      "source": [
        "uploaded_turbins = files.upload()"
      ],
      "execution_count": 14,
      "outputs": [
        {
          "output_type": "display_data",
          "data": {
            "text/html": [
              "\n",
              "     <input type=\"file\" id=\"files-33dd2074-9fb3-478b-879a-fe73bc22ea1b\" name=\"files[]\" multiple disabled\n",
              "        style=\"border:none\" />\n",
              "     <output id=\"result-33dd2074-9fb3-478b-879a-fe73bc22ea1b\">\n",
              "      Upload widget is only available when the cell has been executed in the\n",
              "      current browser session. Please rerun this cell to enable.\n",
              "      </output>\n",
              "      <script src=\"/nbextensions/google.colab/files.js\"></script> "
            ],
            "text/plain": [
              "<IPython.core.display.HTML object>"
            ]
          },
          "metadata": {
            "tags": []
          }
        },
        {
          "output_type": "stream",
          "text": [
            "Saving Turbins.xlsx to Turbins (1).xlsx\n"
          ],
          "name": "stdout"
        }
      ]
    },
    {
      "cell_type": "code",
      "metadata": {
        "id": "qWu13yXHgUVp"
      },
      "source": [
        "for file in uploaded_turbins:\r\n",
        "    turbine_2MW = pd.read_excel(io.BytesIO(uploaded_turbins[file]), sheet_name='2MW')\r\n",
        "    turbine_20kW = pd.read_excel(io.BytesIO(uploaded_turbins[file]), sheet_name='20kW')\r\n",
        "\r\n",
        "turbine_2MW.columns = ['WS80m', 'P80m']\r\n",
        "turbine_2MW.drop(turbine_2MW.index[0], inplace=True)\r\n",
        "turbine_2MW = turbine_2MW.astype(float)\r\n",
        "\r\n",
        "turbine_20kW.columns = ['WS30m', 'P30m']\r\n",
        "turbine_20kW.drop(turbine_20kW.index[0], inplace=True)\r\n",
        "turbine_20kW = turbine_20kW.astype(float)"
      ],
      "execution_count": 15,
      "outputs": []
    },
    {
      "cell_type": "code",
      "metadata": {
        "colab": {
          "base_uri": "https://localhost:8080/",
          "height": 343
        },
        "id": "tEcRgq6bhjii",
        "outputId": "918b8d90-472f-4ffd-a94c-f4452d0e4dfd"
      },
      "source": [
        "turbine_2MW.head(10)"
      ],
      "execution_count": null,
      "outputs": [
        {
          "output_type": "execute_result",
          "data": {
            "text/html": [
              "<div>\n",
              "<style scoped>\n",
              "    .dataframe tbody tr th:only-of-type {\n",
              "        vertical-align: middle;\n",
              "    }\n",
              "\n",
              "    .dataframe tbody tr th {\n",
              "        vertical-align: top;\n",
              "    }\n",
              "\n",
              "    .dataframe thead th {\n",
              "        text-align: right;\n",
              "    }\n",
              "</style>\n",
              "<table border=\"1\" class=\"dataframe\">\n",
              "  <thead>\n",
              "    <tr style=\"text-align: right;\">\n",
              "      <th></th>\n",
              "      <th>WS80m</th>\n",
              "      <th>P80m</th>\n",
              "    </tr>\n",
              "  </thead>\n",
              "  <tbody>\n",
              "    <tr>\n",
              "      <th>1</th>\n",
              "      <td>0.0</td>\n",
              "      <td>0.0</td>\n",
              "    </tr>\n",
              "    <tr>\n",
              "      <th>2</th>\n",
              "      <td>0.5</td>\n",
              "      <td>0.0</td>\n",
              "    </tr>\n",
              "    <tr>\n",
              "      <th>3</th>\n",
              "      <td>1.0</td>\n",
              "      <td>0.0</td>\n",
              "    </tr>\n",
              "    <tr>\n",
              "      <th>4</th>\n",
              "      <td>1.5</td>\n",
              "      <td>0.0</td>\n",
              "    </tr>\n",
              "    <tr>\n",
              "      <th>5</th>\n",
              "      <td>2.0</td>\n",
              "      <td>0.0</td>\n",
              "    </tr>\n",
              "    <tr>\n",
              "      <th>6</th>\n",
              "      <td>2.5</td>\n",
              "      <td>0.0</td>\n",
              "    </tr>\n",
              "    <tr>\n",
              "      <th>7</th>\n",
              "      <td>3.0</td>\n",
              "      <td>0.0</td>\n",
              "    </tr>\n",
              "    <tr>\n",
              "      <th>8</th>\n",
              "      <td>3.5</td>\n",
              "      <td>42.2</td>\n",
              "    </tr>\n",
              "    <tr>\n",
              "      <th>9</th>\n",
              "      <td>4.0</td>\n",
              "      <td>93.3</td>\n",
              "    </tr>\n",
              "    <tr>\n",
              "      <th>10</th>\n",
              "      <td>4.5</td>\n",
              "      <td>145.2</td>\n",
              "    </tr>\n",
              "  </tbody>\n",
              "</table>\n",
              "</div>"
            ],
            "text/plain": [
              "    WS80m   P80m\n",
              "1     0.0    0.0\n",
              "2     0.5    0.0\n",
              "3     1.0    0.0\n",
              "4     1.5    0.0\n",
              "5     2.0    0.0\n",
              "6     2.5    0.0\n",
              "7     3.0    0.0\n",
              "8     3.5   42.2\n",
              "9     4.0   93.3\n",
              "10    4.5  145.2"
            ]
          },
          "metadata": {
            "tags": []
          },
          "execution_count": 25
        }
      ]
    },
    {
      "cell_type": "code",
      "metadata": {
        "colab": {
          "base_uri": "https://localhost:8080/",
          "height": 343
        },
        "id": "1RbWxrUqiBRU",
        "outputId": "70047156-f588-46c9-9477-a05ba1d97210"
      },
      "source": [
        "turbine_20kW.head(10)"
      ],
      "execution_count": null,
      "outputs": [
        {
          "output_type": "execute_result",
          "data": {
            "text/html": [
              "<div>\n",
              "<style scoped>\n",
              "    .dataframe tbody tr th:only-of-type {\n",
              "        vertical-align: middle;\n",
              "    }\n",
              "\n",
              "    .dataframe tbody tr th {\n",
              "        vertical-align: top;\n",
              "    }\n",
              "\n",
              "    .dataframe thead th {\n",
              "        text-align: right;\n",
              "    }\n",
              "</style>\n",
              "<table border=\"1\" class=\"dataframe\">\n",
              "  <thead>\n",
              "    <tr style=\"text-align: right;\">\n",
              "      <th></th>\n",
              "      <th>WS30m</th>\n",
              "      <th>P30m</th>\n",
              "    </tr>\n",
              "  </thead>\n",
              "  <tbody>\n",
              "    <tr>\n",
              "      <th>1</th>\n",
              "      <td>0.0</td>\n",
              "      <td>0.00</td>\n",
              "    </tr>\n",
              "    <tr>\n",
              "      <th>2</th>\n",
              "      <td>1.0</td>\n",
              "      <td>0.00</td>\n",
              "    </tr>\n",
              "    <tr>\n",
              "      <th>3</th>\n",
              "      <td>2.0</td>\n",
              "      <td>0.08</td>\n",
              "    </tr>\n",
              "    <tr>\n",
              "      <th>4</th>\n",
              "      <td>3.0</td>\n",
              "      <td>0.50</td>\n",
              "    </tr>\n",
              "    <tr>\n",
              "      <th>5</th>\n",
              "      <td>4.0</td>\n",
              "      <td>1.35</td>\n",
              "    </tr>\n",
              "    <tr>\n",
              "      <th>6</th>\n",
              "      <td>5.0</td>\n",
              "      <td>2.80</td>\n",
              "    </tr>\n",
              "    <tr>\n",
              "      <th>7</th>\n",
              "      <td>6.0</td>\n",
              "      <td>4.70</td>\n",
              "    </tr>\n",
              "    <tr>\n",
              "      <th>8</th>\n",
              "      <td>7.0</td>\n",
              "      <td>7.00</td>\n",
              "    </tr>\n",
              "    <tr>\n",
              "      <th>9</th>\n",
              "      <td>8.0</td>\n",
              "      <td>9.60</td>\n",
              "    </tr>\n",
              "    <tr>\n",
              "      <th>10</th>\n",
              "      <td>9.0</td>\n",
              "      <td>12.30</td>\n",
              "    </tr>\n",
              "  </tbody>\n",
              "</table>\n",
              "</div>"
            ],
            "text/plain": [
              "    WS30m   P30m\n",
              "1     0.0   0.00\n",
              "2     1.0   0.00\n",
              "3     2.0   0.08\n",
              "4     3.0   0.50\n",
              "5     4.0   1.35\n",
              "6     5.0   2.80\n",
              "7     6.0   4.70\n",
              "8     7.0   7.00\n",
              "9     8.0   9.60\n",
              "10    9.0  12.30"
            ]
          },
          "metadata": {
            "tags": []
          },
          "execution_count": 26
        }
      ]
    },
    {
      "cell_type": "markdown",
      "metadata": {
        "id": "0xEMgvzUK6VD"
      },
      "source": [
        "###Calculations\r\n",
        "\r\n",
        "\r\n",
        "1. Assignment of variable values\r\n",
        "\r\n",
        "\r\n",
        "    aplpha - roughness coefficient (exponent)\r\n",
        "\r\n",
        "    h_orginal - wind measurement high [m]\r\n",
        "\r\n",
        "    h_t1 - height of the first wind turbin [m]\r\n",
        "\r\n",
        "    h_t2 - height of the second wind turbin [m]\r\n"
      ]
    },
    {
      "cell_type": "code",
      "metadata": {
        "id": "fd5tN-AuLGWM"
      },
      "source": [
        "\r\n",
        "alpha = 0.16\r\n",
        "h_orginal = 10\r\n",
        "h_t1 = 30\r\n",
        "h_t2 = 80\r\n",
        "\r\n"
      ],
      "execution_count": 16,
      "outputs": []
    },
    {
      "cell_type": "markdown",
      "metadata": {
        "id": "k0OdCDTtYQ7O"
      },
      "source": [
        "2. Calculation of wind speed at turbine heights"
      ]
    },
    {
      "cell_type": "code",
      "metadata": {
        "colab": {
          "base_uri": "https://localhost:8080/",
          "height": 402
        },
        "id": "WR0Cij7SWgPC",
        "outputId": "1b191094-0049-45e3-b1e4-a60ae79d7378"
      },
      "source": [
        "pd.options.mode.chained_assignment = None  # default='warn', pandas is warning that my operations are not apply on my orginal frame. It's true and it's what I want here\r\n",
        "\r\n",
        "final_results = {}\r\n",
        "\r\n",
        "for key in cleared_df:\r\n",
        "    cl_data = cleared_df[key]\r\n",
        "    cl_data['WS10m'] = cl_data['WS10m'].astype(float)\r\n",
        "    cl_data['WS30m'] = cl_data['WS10m'].apply(lambda x: x*(h_t1/h_orginal)**(alpha))\r\n",
        "    cl_data['WS80m'] = cl_data['WS10m'].apply(lambda x: x*(h_t2/h_orginal)**(alpha))\r\n",
        "    final_results[key] = cl_data\r\n",
        "final_results[list(dataframes.keys())[0]]"
      ],
      "execution_count": 17,
      "outputs": [
        {
          "output_type": "execute_result",
          "data": {
            "text/html": [
              "<div>\n",
              "<style scoped>\n",
              "    .dataframe tbody tr th:only-of-type {\n",
              "        vertical-align: middle;\n",
              "    }\n",
              "\n",
              "    .dataframe tbody tr th {\n",
              "        vertical-align: top;\n",
              "    }\n",
              "\n",
              "    .dataframe thead th {\n",
              "        text-align: right;\n",
              "    }\n",
              "</style>\n",
              "<table border=\"1\" class=\"dataframe\">\n",
              "  <thead>\n",
              "    <tr style=\"text-align: right;\">\n",
              "      <th></th>\n",
              "      <th>time(UTC)</th>\n",
              "      <th>T2m</th>\n",
              "      <th>RH</th>\n",
              "      <th>G(h)</th>\n",
              "      <th>Gb(n)</th>\n",
              "      <th>Gd(h)</th>\n",
              "      <th>IR(h)</th>\n",
              "      <th>WS10m</th>\n",
              "      <th>WD10m</th>\n",
              "      <th>SP</th>\n",
              "      <th>Day</th>\n",
              "      <th>WS30m</th>\n",
              "      <th>WS80m</th>\n",
              "    </tr>\n",
              "  </thead>\n",
              "  <tbody>\n",
              "    <tr>\n",
              "      <th>1</th>\n",
              "      <td>2006-01-01 00:00:00</td>\n",
              "      <td>-2.96</td>\n",
              "      <td>89.35</td>\n",
              "      <td>0.0</td>\n",
              "      <td>-0.0</td>\n",
              "      <td>0.0</td>\n",
              "      <td>265.03</td>\n",
              "      <td>4.07</td>\n",
              "      <td>190.0</td>\n",
              "      <td>96549.0</td>\n",
              "      <td>1</td>\n",
              "      <td>4.852145</td>\n",
              "      <td>5.676607</td>\n",
              "    </tr>\n",
              "    <tr>\n",
              "      <th>2</th>\n",
              "      <td>2006-01-01 01:00:00</td>\n",
              "      <td>-2.92</td>\n",
              "      <td>89.38</td>\n",
              "      <td>0.0</td>\n",
              "      <td>-0.0</td>\n",
              "      <td>0.0</td>\n",
              "      <td>264.43</td>\n",
              "      <td>4.19</td>\n",
              "      <td>184.0</td>\n",
              "      <td>96549.0</td>\n",
              "      <td>2</td>\n",
              "      <td>4.995206</td>\n",
              "      <td>5.843976</td>\n",
              "    </tr>\n",
              "    <tr>\n",
              "      <th>3</th>\n",
              "      <td>2006-01-01 02:00:00</td>\n",
              "      <td>-2.88</td>\n",
              "      <td>89.41</td>\n",
              "      <td>0.0</td>\n",
              "      <td>-0.0</td>\n",
              "      <td>0.0</td>\n",
              "      <td>263.84</td>\n",
              "      <td>4.31</td>\n",
              "      <td>178.0</td>\n",
              "      <td>96549.0</td>\n",
              "      <td>3</td>\n",
              "      <td>5.138267</td>\n",
              "      <td>6.011345</td>\n",
              "    </tr>\n",
              "    <tr>\n",
              "      <th>4</th>\n",
              "      <td>2006-01-01 03:00:00</td>\n",
              "      <td>-2.84</td>\n",
              "      <td>89.44</td>\n",
              "      <td>0.0</td>\n",
              "      <td>-0.0</td>\n",
              "      <td>0.0</td>\n",
              "      <td>263.25</td>\n",
              "      <td>4.44</td>\n",
              "      <td>176.0</td>\n",
              "      <td>96536.0</td>\n",
              "      <td>4</td>\n",
              "      <td>5.293250</td>\n",
              "      <td>6.192662</td>\n",
              "    </tr>\n",
              "    <tr>\n",
              "      <th>5</th>\n",
              "      <td>2006-01-01 04:00:00</td>\n",
              "      <td>-2.8</td>\n",
              "      <td>89.48</td>\n",
              "      <td>0.0</td>\n",
              "      <td>-0.0</td>\n",
              "      <td>0.0</td>\n",
              "      <td>262.66</td>\n",
              "      <td>4.56</td>\n",
              "      <td>175.0</td>\n",
              "      <td>96524.0</td>\n",
              "      <td>5</td>\n",
              "      <td>5.436310</td>\n",
              "      <td>6.360031</td>\n",
              "    </tr>\n",
              "    <tr>\n",
              "      <th>...</th>\n",
              "      <td>...</td>\n",
              "      <td>...</td>\n",
              "      <td>...</td>\n",
              "      <td>...</td>\n",
              "      <td>...</td>\n",
              "      <td>...</td>\n",
              "      <td>...</td>\n",
              "      <td>...</td>\n",
              "      <td>...</td>\n",
              "      <td>...</td>\n",
              "      <td>...</td>\n",
              "      <td>...</td>\n",
              "      <td>...</td>\n",
              "    </tr>\n",
              "    <tr>\n",
              "      <th>8756</th>\n",
              "      <td>2010-12-31 19:00:00</td>\n",
              "      <td>-3.16</td>\n",
              "      <td>89.18</td>\n",
              "      <td>0.0</td>\n",
              "      <td>-0.0</td>\n",
              "      <td>0.0</td>\n",
              "      <td>267.98</td>\n",
              "      <td>3.45</td>\n",
              "      <td>264.0</td>\n",
              "      <td>97325.0</td>\n",
              "      <td>8756</td>\n",
              "      <td>4.112998</td>\n",
              "      <td>4.811866</td>\n",
              "    </tr>\n",
              "    <tr>\n",
              "      <th>8757</th>\n",
              "      <td>2010-12-31 20:00:00</td>\n",
              "      <td>-3.12</td>\n",
              "      <td>89.22</td>\n",
              "      <td>0.0</td>\n",
              "      <td>-0.0</td>\n",
              "      <td>0.0</td>\n",
              "      <td>267.39</td>\n",
              "      <td>3.58</td>\n",
              "      <td>264.0</td>\n",
              "      <td>97321.0</td>\n",
              "      <td>8757</td>\n",
              "      <td>4.267981</td>\n",
              "      <td>4.993182</td>\n",
              "    </tr>\n",
              "    <tr>\n",
              "      <th>8758</th>\n",
              "      <td>2010-12-31 21:00:00</td>\n",
              "      <td>-3.08</td>\n",
              "      <td>89.25</td>\n",
              "      <td>0.0</td>\n",
              "      <td>-0.0</td>\n",
              "      <td>0.0</td>\n",
              "      <td>266.8</td>\n",
              "      <td>3.70</td>\n",
              "      <td>261.0</td>\n",
              "      <td>97293.0</td>\n",
              "      <td>8758</td>\n",
              "      <td>4.411041</td>\n",
              "      <td>5.160552</td>\n",
              "    </tr>\n",
              "    <tr>\n",
              "      <th>8759</th>\n",
              "      <td>2010-12-31 22:00:00</td>\n",
              "      <td>-3.04</td>\n",
              "      <td>89.28</td>\n",
              "      <td>0.0</td>\n",
              "      <td>-0.0</td>\n",
              "      <td>0.0</td>\n",
              "      <td>266.21</td>\n",
              "      <td>3.82</td>\n",
              "      <td>257.0</td>\n",
              "      <td>97264.0</td>\n",
              "      <td>8759</td>\n",
              "      <td>4.554102</td>\n",
              "      <td>5.327921</td>\n",
              "    </tr>\n",
              "    <tr>\n",
              "      <th>8760</th>\n",
              "      <td>2010-12-31 23:00:00</td>\n",
              "      <td>-3.0</td>\n",
              "      <td>89.31</td>\n",
              "      <td>0.0</td>\n",
              "      <td>-0.0</td>\n",
              "      <td>0.0</td>\n",
              "      <td>265.62</td>\n",
              "      <td>3.95</td>\n",
              "      <td>254.0</td>\n",
              "      <td>97236.0</td>\n",
              "      <td>8760</td>\n",
              "      <td>4.709085</td>\n",
              "      <td>5.509237</td>\n",
              "    </tr>\n",
              "  </tbody>\n",
              "</table>\n",
              "<p>8760 rows × 13 columns</p>\n",
              "</div>"
            ],
            "text/plain": [
              "               time(UTC)    T2m     RH G(h)  ...       SP   Day     WS30m     WS80m\n",
              "1    2006-01-01 00:00:00  -2.96  89.35  0.0  ...  96549.0     1  4.852145  5.676607\n",
              "2    2006-01-01 01:00:00  -2.92  89.38  0.0  ...  96549.0     2  4.995206  5.843976\n",
              "3    2006-01-01 02:00:00  -2.88  89.41  0.0  ...  96549.0     3  5.138267  6.011345\n",
              "4    2006-01-01 03:00:00  -2.84  89.44  0.0  ...  96536.0     4  5.293250  6.192662\n",
              "5    2006-01-01 04:00:00   -2.8  89.48  0.0  ...  96524.0     5  5.436310  6.360031\n",
              "...                  ...    ...    ...  ...  ...      ...   ...       ...       ...\n",
              "8756 2010-12-31 19:00:00  -3.16  89.18  0.0  ...  97325.0  8756  4.112998  4.811866\n",
              "8757 2010-12-31 20:00:00  -3.12  89.22  0.0  ...  97321.0  8757  4.267981  4.993182\n",
              "8758 2010-12-31 21:00:00  -3.08  89.25  0.0  ...  97293.0  8758  4.411041  5.160552\n",
              "8759 2010-12-31 22:00:00  -3.04  89.28  0.0  ...  97264.0  8759  4.554102  5.327921\n",
              "8760 2010-12-31 23:00:00   -3.0  89.31  0.0  ...  97236.0  8760  4.709085  5.509237\n",
              "\n",
              "[8760 rows x 13 columns]"
            ]
          },
          "metadata": {
            "tags": []
          },
          "execution_count": 17
        }
      ]
    },
    {
      "cell_type": "markdown",
      "metadata": {
        "id": "w_Qz5B7d0xHi"
      },
      "source": [
        "3. Matching the turbine power value depending on the wind speed"
      ]
    },
    {
      "cell_type": "code",
      "metadata": {
        "colab": {
          "base_uri": "https://localhost:8080/",
          "height": 431
        },
        "id": "v1BNCXvalkPh",
        "outputId": "15870165-b2fe-488d-f69d-5983f5c607db"
      },
      "source": [
        "for key in final_results:\r\n",
        "\r\n",
        "    dataP30 = pd.merge_asof(final_results[key].sort_values('WS30m'), turbine_20kW, on='WS30m')\r\n",
        "    final_results[key] = dataP30\r\n",
        "    dataP80 = pd.merge_asof(final_results[key].sort_values('WS80m'), turbine_2MW, on='WS80m')\r\n",
        "    dataP80.sort_values('Day', inplace=True) \r\n",
        "    dataP80.set_index('Day', inplace=True)\r\n",
        "    final_results[key] = dataP80\r\n",
        "    \r\n",
        "final_results[list(dataframes.keys())[0]]"
      ],
      "execution_count": 18,
      "outputs": [
        {
          "output_type": "execute_result",
          "data": {
            "text/html": [
              "<div>\n",
              "<style scoped>\n",
              "    .dataframe tbody tr th:only-of-type {\n",
              "        vertical-align: middle;\n",
              "    }\n",
              "\n",
              "    .dataframe tbody tr th {\n",
              "        vertical-align: top;\n",
              "    }\n",
              "\n",
              "    .dataframe thead th {\n",
              "        text-align: right;\n",
              "    }\n",
              "</style>\n",
              "<table border=\"1\" class=\"dataframe\">\n",
              "  <thead>\n",
              "    <tr style=\"text-align: right;\">\n",
              "      <th></th>\n",
              "      <th>time(UTC)</th>\n",
              "      <th>T2m</th>\n",
              "      <th>RH</th>\n",
              "      <th>G(h)</th>\n",
              "      <th>Gb(n)</th>\n",
              "      <th>Gd(h)</th>\n",
              "      <th>IR(h)</th>\n",
              "      <th>WS10m</th>\n",
              "      <th>WD10m</th>\n",
              "      <th>SP</th>\n",
              "      <th>WS30m</th>\n",
              "      <th>WS80m</th>\n",
              "      <th>P30m</th>\n",
              "      <th>P80m</th>\n",
              "    </tr>\n",
              "    <tr>\n",
              "      <th>Day</th>\n",
              "      <th></th>\n",
              "      <th></th>\n",
              "      <th></th>\n",
              "      <th></th>\n",
              "      <th></th>\n",
              "      <th></th>\n",
              "      <th></th>\n",
              "      <th></th>\n",
              "      <th></th>\n",
              "      <th></th>\n",
              "      <th></th>\n",
              "      <th></th>\n",
              "      <th></th>\n",
              "      <th></th>\n",
              "    </tr>\n",
              "  </thead>\n",
              "  <tbody>\n",
              "    <tr>\n",
              "      <th>1</th>\n",
              "      <td>2006-01-01 00:00:00</td>\n",
              "      <td>-2.96</td>\n",
              "      <td>89.35</td>\n",
              "      <td>0.0</td>\n",
              "      <td>-0.0</td>\n",
              "      <td>0.0</td>\n",
              "      <td>265.03</td>\n",
              "      <td>4.07</td>\n",
              "      <td>190.0</td>\n",
              "      <td>96549.0</td>\n",
              "      <td>4.852145</td>\n",
              "      <td>5.676607</td>\n",
              "      <td>1.35</td>\n",
              "      <td>284.2</td>\n",
              "    </tr>\n",
              "    <tr>\n",
              "      <th>2</th>\n",
              "      <td>2006-01-01 01:00:00</td>\n",
              "      <td>-2.92</td>\n",
              "      <td>89.38</td>\n",
              "      <td>0.0</td>\n",
              "      <td>-0.0</td>\n",
              "      <td>0.0</td>\n",
              "      <td>264.43</td>\n",
              "      <td>4.19</td>\n",
              "      <td>184.0</td>\n",
              "      <td>96549.0</td>\n",
              "      <td>4.995206</td>\n",
              "      <td>5.843976</td>\n",
              "      <td>1.35</td>\n",
              "      <td>284.2</td>\n",
              "    </tr>\n",
              "    <tr>\n",
              "      <th>3</th>\n",
              "      <td>2006-01-01 02:00:00</td>\n",
              "      <td>-2.88</td>\n",
              "      <td>89.41</td>\n",
              "      <td>0.0</td>\n",
              "      <td>-0.0</td>\n",
              "      <td>0.0</td>\n",
              "      <td>263.84</td>\n",
              "      <td>4.31</td>\n",
              "      <td>178.0</td>\n",
              "      <td>96549.0</td>\n",
              "      <td>5.138267</td>\n",
              "      <td>6.011345</td>\n",
              "      <td>2.80</td>\n",
              "      <td>390.9</td>\n",
              "    </tr>\n",
              "    <tr>\n",
              "      <th>4</th>\n",
              "      <td>2006-01-01 03:00:00</td>\n",
              "      <td>-2.84</td>\n",
              "      <td>89.44</td>\n",
              "      <td>0.0</td>\n",
              "      <td>-0.0</td>\n",
              "      <td>0.0</td>\n",
              "      <td>263.25</td>\n",
              "      <td>4.44</td>\n",
              "      <td>176.0</td>\n",
              "      <td>96536.0</td>\n",
              "      <td>5.293250</td>\n",
              "      <td>6.192662</td>\n",
              "      <td>2.80</td>\n",
              "      <td>390.9</td>\n",
              "    </tr>\n",
              "    <tr>\n",
              "      <th>5</th>\n",
              "      <td>2006-01-01 04:00:00</td>\n",
              "      <td>-2.8</td>\n",
              "      <td>89.48</td>\n",
              "      <td>0.0</td>\n",
              "      <td>-0.0</td>\n",
              "      <td>0.0</td>\n",
              "      <td>262.66</td>\n",
              "      <td>4.56</td>\n",
              "      <td>175.0</td>\n",
              "      <td>96524.0</td>\n",
              "      <td>5.436310</td>\n",
              "      <td>6.360031</td>\n",
              "      <td>2.80</td>\n",
              "      <td>390.9</td>\n",
              "    </tr>\n",
              "    <tr>\n",
              "      <th>...</th>\n",
              "      <td>...</td>\n",
              "      <td>...</td>\n",
              "      <td>...</td>\n",
              "      <td>...</td>\n",
              "      <td>...</td>\n",
              "      <td>...</td>\n",
              "      <td>...</td>\n",
              "      <td>...</td>\n",
              "      <td>...</td>\n",
              "      <td>...</td>\n",
              "      <td>...</td>\n",
              "      <td>...</td>\n",
              "      <td>...</td>\n",
              "      <td>...</td>\n",
              "    </tr>\n",
              "    <tr>\n",
              "      <th>8756</th>\n",
              "      <td>2010-12-31 19:00:00</td>\n",
              "      <td>-3.16</td>\n",
              "      <td>89.18</td>\n",
              "      <td>0.0</td>\n",
              "      <td>-0.0</td>\n",
              "      <td>0.0</td>\n",
              "      <td>267.98</td>\n",
              "      <td>3.45</td>\n",
              "      <td>264.0</td>\n",
              "      <td>97325.0</td>\n",
              "      <td>4.112998</td>\n",
              "      <td>4.811866</td>\n",
              "      <td>1.35</td>\n",
              "      <td>145.2</td>\n",
              "    </tr>\n",
              "    <tr>\n",
              "      <th>8757</th>\n",
              "      <td>2010-12-31 20:00:00</td>\n",
              "      <td>-3.12</td>\n",
              "      <td>89.22</td>\n",
              "      <td>0.0</td>\n",
              "      <td>-0.0</td>\n",
              "      <td>0.0</td>\n",
              "      <td>267.39</td>\n",
              "      <td>3.58</td>\n",
              "      <td>264.0</td>\n",
              "      <td>97321.0</td>\n",
              "      <td>4.267981</td>\n",
              "      <td>4.993182</td>\n",
              "      <td>1.35</td>\n",
              "      <td>145.2</td>\n",
              "    </tr>\n",
              "    <tr>\n",
              "      <th>8758</th>\n",
              "      <td>2010-12-31 21:00:00</td>\n",
              "      <td>-3.08</td>\n",
              "      <td>89.25</td>\n",
              "      <td>0.0</td>\n",
              "      <td>-0.0</td>\n",
              "      <td>0.0</td>\n",
              "      <td>266.8</td>\n",
              "      <td>3.70</td>\n",
              "      <td>261.0</td>\n",
              "      <td>97293.0</td>\n",
              "      <td>4.411041</td>\n",
              "      <td>5.160552</td>\n",
              "      <td>1.35</td>\n",
              "      <td>211.3</td>\n",
              "    </tr>\n",
              "    <tr>\n",
              "      <th>8759</th>\n",
              "      <td>2010-12-31 22:00:00</td>\n",
              "      <td>-3.04</td>\n",
              "      <td>89.28</td>\n",
              "      <td>0.0</td>\n",
              "      <td>-0.0</td>\n",
              "      <td>0.0</td>\n",
              "      <td>266.21</td>\n",
              "      <td>3.82</td>\n",
              "      <td>257.0</td>\n",
              "      <td>97264.0</td>\n",
              "      <td>4.554102</td>\n",
              "      <td>5.327921</td>\n",
              "      <td>1.35</td>\n",
              "      <td>211.3</td>\n",
              "    </tr>\n",
              "    <tr>\n",
              "      <th>8760</th>\n",
              "      <td>2010-12-31 23:00:00</td>\n",
              "      <td>-3.0</td>\n",
              "      <td>89.31</td>\n",
              "      <td>0.0</td>\n",
              "      <td>-0.0</td>\n",
              "      <td>0.0</td>\n",
              "      <td>265.62</td>\n",
              "      <td>3.95</td>\n",
              "      <td>254.0</td>\n",
              "      <td>97236.0</td>\n",
              "      <td>4.709085</td>\n",
              "      <td>5.509237</td>\n",
              "      <td>1.35</td>\n",
              "      <td>284.2</td>\n",
              "    </tr>\n",
              "  </tbody>\n",
              "</table>\n",
              "<p>8760 rows × 14 columns</p>\n",
              "</div>"
            ],
            "text/plain": [
              "               time(UTC)    T2m     RH G(h)  ...     WS30m     WS80m  P30m   P80m\n",
              "Day                                          ...                                 \n",
              "1    2006-01-01 00:00:00  -2.96  89.35  0.0  ...  4.852145  5.676607  1.35  284.2\n",
              "2    2006-01-01 01:00:00  -2.92  89.38  0.0  ...  4.995206  5.843976  1.35  284.2\n",
              "3    2006-01-01 02:00:00  -2.88  89.41  0.0  ...  5.138267  6.011345  2.80  390.9\n",
              "4    2006-01-01 03:00:00  -2.84  89.44  0.0  ...  5.293250  6.192662  2.80  390.9\n",
              "5    2006-01-01 04:00:00   -2.8  89.48  0.0  ...  5.436310  6.360031  2.80  390.9\n",
              "...                  ...    ...    ...  ...  ...       ...       ...   ...    ...\n",
              "8756 2010-12-31 19:00:00  -3.16  89.18  0.0  ...  4.112998  4.811866  1.35  145.2\n",
              "8757 2010-12-31 20:00:00  -3.12  89.22  0.0  ...  4.267981  4.993182  1.35  145.2\n",
              "8758 2010-12-31 21:00:00  -3.08  89.25  0.0  ...  4.411041  5.160552  1.35  211.3\n",
              "8759 2010-12-31 22:00:00  -3.04  89.28  0.0  ...  4.554102  5.327921  1.35  211.3\n",
              "8760 2010-12-31 23:00:00   -3.0  89.31  0.0  ...  4.709085  5.509237  1.35  284.2\n",
              "\n",
              "[8760 rows x 14 columns]"
            ]
          },
          "metadata": {
            "tags": []
          },
          "execution_count": 18
        }
      ]
    },
    {
      "cell_type": "markdown",
      "metadata": {
        "id": "agehKArOX0Wk"
      },
      "source": [
        "### Calculating average of yearly electricity production for all region"
      ]
    },
    {
      "cell_type": "code",
      "metadata": {
        "id": "ixMct3J9voUp"
      },
      "source": [
        "num_regions = len(final_results)\r\n",
        "sum_energy_30=0\r\n",
        "sum_energy_80=0 \r\n",
        "\r\n",
        "for key in final_results:\r\n",
        "    sum_energy_30 += final_results[key]['P30m'].sum()\r\n",
        "    sum_energy_80 += final_results[key]['P80m'].sum()\r\n",
        "\r\n",
        "ave_30 = sum_energy_30/num_regions\r\n",
        "ave_80 = sum_energy_80/num_regions"
      ],
      "execution_count": 19,
      "outputs": []
    },
    {
      "cell_type": "markdown",
      "metadata": {
        "id": "A-_RKgzJbK41"
      },
      "source": [
        "Average amount of energy produced annually by a 20kW turbine for the region [GWh]: "
      ]
    },
    {
      "cell_type": "code",
      "metadata": {
        "colab": {
          "base_uri": "https://localhost:8080/"
        },
        "id": "hz1pD-7aZGjE",
        "outputId": "8d98a1df-e1f4-4c6f-b5a1-c0a9ccfbb2a9"
      },
      "source": [
        "ave_30_GWh = np.round(ave_30/1000000, 4)\r\n",
        "ave_30_GWh"
      ],
      "execution_count": 50,
      "outputs": [
        {
          "output_type": "execute_result",
          "data": {
            "text/plain": [
              "0.0102"
            ]
          },
          "metadata": {
            "tags": []
          },
          "execution_count": 50
        }
      ]
    },
    {
      "cell_type": "markdown",
      "metadata": {
        "id": "GSARsahwfSTR"
      },
      "source": [
        "Average amount of energy produced annually by a 2MW turbine for the region [GWh]:"
      ]
    },
    {
      "cell_type": "code",
      "metadata": {
        "colab": {
          "base_uri": "https://localhost:8080/"
        },
        "id": "SgENVBcRfSAU",
        "outputId": "2589951f-0cb0-48d7-c545-cb640a38851b"
      },
      "source": [
        "ave_80_GWh = np.round(ave_80/1000000, 4)\r\n",
        "ave_80_GWh"
      ],
      "execution_count": 52,
      "outputs": [
        {
          "output_type": "execute_result",
          "data": {
            "text/plain": [
              "1.4717"
            ]
          },
          "metadata": {
            "tags": []
          },
          "execution_count": 52
        }
      ]
    },
    {
      "cell_type": "markdown",
      "metadata": {
        "id": "Yzh6ESCP6Beo"
      },
      "source": [
        "### Saving to files\r\n"
      ]
    },
    {
      "cell_type": "code",
      "metadata": {
        "id": "H5XlonD3-ib-"
      },
      "source": [
        "from google.colab import files"
      ],
      "execution_count": null,
      "outputs": []
    },
    {
      "cell_type": "code",
      "metadata": {
        "colab": {
          "base_uri": "https://localhost:8080/",
          "height": 17
        },
        "id": "YIRHMNp36HNo",
        "outputId": "e2f09218-086b-45ee-a620-04502210d129"
      },
      "source": [
        "for key in final_results:\r\n",
        "    final_results[key].to_excel(f'{key}_w_results.xlsx')\r\n",
        "    files.download(f'{key}_w_results.xlsx')"
      ],
      "execution_count": null,
      "outputs": [
        {
          "output_type": "display_data",
          "data": {
            "application/javascript": [
              "\n",
              "    async function download(id, filename, size) {\n",
              "      if (!google.colab.kernel.accessAllowed) {\n",
              "        return;\n",
              "      }\n",
              "      const div = document.createElement('div');\n",
              "      const label = document.createElement('label');\n",
              "      label.textContent = `Downloading \"${filename}\": `;\n",
              "      div.appendChild(label);\n",
              "      const progress = document.createElement('progress');\n",
              "      progress.max = size;\n",
              "      div.appendChild(progress);\n",
              "      document.body.appendChild(div);\n",
              "\n",
              "      const buffers = [];\n",
              "      let downloaded = 0;\n",
              "\n",
              "      const channel = await google.colab.kernel.comms.open(id);\n",
              "      // Send a message to notify the kernel that we're ready.\n",
              "      channel.send({})\n",
              "\n",
              "      for await (const message of channel.messages) {\n",
              "        // Send a message to notify the kernel that we're ready.\n",
              "        channel.send({})\n",
              "        if (message.buffers) {\n",
              "          for (const buffer of message.buffers) {\n",
              "            buffers.push(buffer);\n",
              "            downloaded += buffer.byteLength;\n",
              "            progress.value = downloaded;\n",
              "          }\n",
              "        }\n",
              "      }\n",
              "      const blob = new Blob(buffers, {type: 'application/binary'});\n",
              "      const a = document.createElement('a');\n",
              "      a.href = window.URL.createObjectURL(blob);\n",
              "      a.download = filename;\n",
              "      div.appendChild(a);\n",
              "      a.click();\n",
              "      div.remove();\n",
              "    }\n",
              "  "
            ],
            "text/plain": [
              "<IPython.core.display.Javascript object>"
            ]
          },
          "metadata": {
            "tags": []
          }
        },
        {
          "output_type": "display_data",
          "data": {
            "application/javascript": [
              "download(\"download_049a6c7d-4442-4d4d-9446-c1b6a4f2733c\", \"Limanowski_w_results.xlsx\", 462713)"
            ],
            "text/plain": [
              "<IPython.core.display.Javascript object>"
            ]
          },
          "metadata": {
            "tags": []
          }
        },
        {
          "output_type": "display_data",
          "data": {
            "application/javascript": [
              "\n",
              "    async function download(id, filename, size) {\n",
              "      if (!google.colab.kernel.accessAllowed) {\n",
              "        return;\n",
              "      }\n",
              "      const div = document.createElement('div');\n",
              "      const label = document.createElement('label');\n",
              "      label.textContent = `Downloading \"${filename}\": `;\n",
              "      div.appendChild(label);\n",
              "      const progress = document.createElement('progress');\n",
              "      progress.max = size;\n",
              "      div.appendChild(progress);\n",
              "      document.body.appendChild(div);\n",
              "\n",
              "      const buffers = [];\n",
              "      let downloaded = 0;\n",
              "\n",
              "      const channel = await google.colab.kernel.comms.open(id);\n",
              "      // Send a message to notify the kernel that we're ready.\n",
              "      channel.send({})\n",
              "\n",
              "      for await (const message of channel.messages) {\n",
              "        // Send a message to notify the kernel that we're ready.\n",
              "        channel.send({})\n",
              "        if (message.buffers) {\n",
              "          for (const buffer of message.buffers) {\n",
              "            buffers.push(buffer);\n",
              "            downloaded += buffer.byteLength;\n",
              "            progress.value = downloaded;\n",
              "          }\n",
              "        }\n",
              "      }\n",
              "      const blob = new Blob(buffers, {type: 'application/binary'});\n",
              "      const a = document.createElement('a');\n",
              "      a.href = window.URL.createObjectURL(blob);\n",
              "      a.download = filename;\n",
              "      div.appendChild(a);\n",
              "      a.click();\n",
              "      div.remove();\n",
              "    }\n",
              "  "
            ],
            "text/plain": [
              "<IPython.core.display.Javascript object>"
            ]
          },
          "metadata": {
            "tags": []
          }
        },
        {
          "output_type": "display_data",
          "data": {
            "application/javascript": [
              "download(\"download_a053e227-5324-4d19-af71-c76dafd1ca32\", \"Nowos\\u0105decki_w_results.xlsx\", 462640)"
            ],
            "text/plain": [
              "<IPython.core.display.Javascript object>"
            ]
          },
          "metadata": {
            "tags": []
          }
        },
        {
          "output_type": "display_data",
          "data": {
            "application/javascript": [
              "\n",
              "    async function download(id, filename, size) {\n",
              "      if (!google.colab.kernel.accessAllowed) {\n",
              "        return;\n",
              "      }\n",
              "      const div = document.createElement('div');\n",
              "      const label = document.createElement('label');\n",
              "      label.textContent = `Downloading \"${filename}\": `;\n",
              "      div.appendChild(label);\n",
              "      const progress = document.createElement('progress');\n",
              "      progress.max = size;\n",
              "      div.appendChild(progress);\n",
              "      document.body.appendChild(div);\n",
              "\n",
              "      const buffers = [];\n",
              "      let downloaded = 0;\n",
              "\n",
              "      const channel = await google.colab.kernel.comms.open(id);\n",
              "      // Send a message to notify the kernel that we're ready.\n",
              "      channel.send({})\n",
              "\n",
              "      for await (const message of channel.messages) {\n",
              "        // Send a message to notify the kernel that we're ready.\n",
              "        channel.send({})\n",
              "        if (message.buffers) {\n",
              "          for (const buffer of message.buffers) {\n",
              "            buffers.push(buffer);\n",
              "            downloaded += buffer.byteLength;\n",
              "            progress.value = downloaded;\n",
              "          }\n",
              "        }\n",
              "      }\n",
              "      const blob = new Blob(buffers, {type: 'application/binary'});\n",
              "      const a = document.createElement('a');\n",
              "      a.href = window.URL.createObjectURL(blob);\n",
              "      a.download = filename;\n",
              "      div.appendChild(a);\n",
              "      a.click();\n",
              "      div.remove();\n",
              "    }\n",
              "  "
            ],
            "text/plain": [
              "<IPython.core.display.Javascript object>"
            ]
          },
          "metadata": {
            "tags": []
          }
        },
        {
          "output_type": "display_data",
          "data": {
            "application/javascript": [
              "download(\"download_6ae1e2d4-b5d2-4e74-83fb-20560bcb56e9\", \"Nowotarski_w_results.xlsx\", 457723)"
            ],
            "text/plain": [
              "<IPython.core.display.Javascript object>"
            ]
          },
          "metadata": {
            "tags": []
          }
        },
        {
          "output_type": "display_data",
          "data": {
            "application/javascript": [
              "\n",
              "    async function download(id, filename, size) {\n",
              "      if (!google.colab.kernel.accessAllowed) {\n",
              "        return;\n",
              "      }\n",
              "      const div = document.createElement('div');\n",
              "      const label = document.createElement('label');\n",
              "      label.textContent = `Downloading \"${filename}\": `;\n",
              "      div.appendChild(label);\n",
              "      const progress = document.createElement('progress');\n",
              "      progress.max = size;\n",
              "      div.appendChild(progress);\n",
              "      document.body.appendChild(div);\n",
              "\n",
              "      const buffers = [];\n",
              "      let downloaded = 0;\n",
              "\n",
              "      const channel = await google.colab.kernel.comms.open(id);\n",
              "      // Send a message to notify the kernel that we're ready.\n",
              "      channel.send({})\n",
              "\n",
              "      for await (const message of channel.messages) {\n",
              "        // Send a message to notify the kernel that we're ready.\n",
              "        channel.send({})\n",
              "        if (message.buffers) {\n",
              "          for (const buffer of message.buffers) {\n",
              "            buffers.push(buffer);\n",
              "            downloaded += buffer.byteLength;\n",
              "            progress.value = downloaded;\n",
              "          }\n",
              "        }\n",
              "      }\n",
              "      const blob = new Blob(buffers, {type: 'application/binary'});\n",
              "      const a = document.createElement('a');\n",
              "      a.href = window.URL.createObjectURL(blob);\n",
              "      a.download = filename;\n",
              "      div.appendChild(a);\n",
              "      a.click();\n",
              "      div.remove();\n",
              "    }\n",
              "  "
            ],
            "text/plain": [
              "<IPython.core.display.Javascript object>"
            ]
          },
          "metadata": {
            "tags": []
          }
        },
        {
          "output_type": "display_data",
          "data": {
            "application/javascript": [
              "download(\"download_62b6e9ab-089c-4482-bd78-903ab360fa17\", \"NowyS\\u0105cz_w_results.xlsx\", 460997)"
            ],
            "text/plain": [
              "<IPython.core.display.Javascript object>"
            ]
          },
          "metadata": {
            "tags": []
          }
        },
        {
          "output_type": "display_data",
          "data": {
            "application/javascript": [
              "\n",
              "    async function download(id, filename, size) {\n",
              "      if (!google.colab.kernel.accessAllowed) {\n",
              "        return;\n",
              "      }\n",
              "      const div = document.createElement('div');\n",
              "      const label = document.createElement('label');\n",
              "      label.textContent = `Downloading \"${filename}\": `;\n",
              "      div.appendChild(label);\n",
              "      const progress = document.createElement('progress');\n",
              "      progress.max = size;\n",
              "      div.appendChild(progress);\n",
              "      document.body.appendChild(div);\n",
              "\n",
              "      const buffers = [];\n",
              "      let downloaded = 0;\n",
              "\n",
              "      const channel = await google.colab.kernel.comms.open(id);\n",
              "      // Send a message to notify the kernel that we're ready.\n",
              "      channel.send({})\n",
              "\n",
              "      for await (const message of channel.messages) {\n",
              "        // Send a message to notify the kernel that we're ready.\n",
              "        channel.send({})\n",
              "        if (message.buffers) {\n",
              "          for (const buffer of message.buffers) {\n",
              "            buffers.push(buffer);\n",
              "            downloaded += buffer.byteLength;\n",
              "            progress.value = downloaded;\n",
              "          }\n",
              "        }\n",
              "      }\n",
              "      const blob = new Blob(buffers, {type: 'application/binary'});\n",
              "      const a = document.createElement('a');\n",
              "      a.href = window.URL.createObjectURL(blob);\n",
              "      a.download = filename;\n",
              "      div.appendChild(a);\n",
              "      a.click();\n",
              "      div.remove();\n",
              "    }\n",
              "  "
            ],
            "text/plain": [
              "<IPython.core.display.Javascript object>"
            ]
          },
          "metadata": {
            "tags": []
          }
        },
        {
          "output_type": "display_data",
          "data": {
            "application/javascript": [
              "download(\"download_9c446418-d3f9-4c58-8c99-bd7abdcba718\", \"Tatrza\\u0144ski_w_results.xlsx\", 450891)"
            ],
            "text/plain": [
              "<IPython.core.display.Javascript object>"
            ]
          },
          "metadata": {
            "tags": []
          }
        }
      ]
    },
    {
      "cell_type": "markdown",
      "metadata": {
        "id": "d7aI_6CSopn4"
      },
      "source": [
        "### Saving to database"
      ]
    },
    {
      "cell_type": "code",
      "metadata": {
        "colab": {
          "base_uri": "https://localhost:8080/"
        },
        "id": "ihaAp_uAhwbv",
        "outputId": "e5223259-8ae1-4f47-cbb9-dc3c773ed06d"
      },
      "source": [
        "!sudo apt-get install python3-dev default-libmysqlclient-dev\r\n",
        "!pip install pymysql\r\n",
        "!pip install SQLAlchemy"
      ],
      "execution_count": 87,
      "outputs": [
        {
          "output_type": "stream",
          "text": [
            "Reading package lists... Done\n",
            "Building dependency tree       \n",
            "Reading state information... Done\n",
            "default-libmysqlclient-dev is already the newest version (1.0.4).\n",
            "python3-dev is already the newest version (3.6.7-1~18.04).\n",
            "0 upgraded, 0 newly installed, 0 to remove and 29 not upgraded.\n",
            "Requirement already satisfied: pymysql in /usr/local/lib/python3.7/dist-packages (1.0.2)\n",
            "Requirement already satisfied: SQLAlchemy in /usr/local/lib/python3.7/dist-packages (1.3.23)\n"
          ],
          "name": "stdout"
        }
      ]
    },
    {
      "cell_type": "code",
      "metadata": {
        "id": "aq0GNRvEhHMw"
      },
      "source": [
        "import os\r\n",
        "from sqlalchemy import create_engine\r\n",
        "\r\n",
        "MYSQL_HOSTNAME = 'localhost'\r\n",
        "MYSQL_USER = os.environ.get('DB_USER')\r\n",
        "MYSQL_PASSWORD = os.environ.get('DB_PASS')\r\n",
        "MYSQL_DATABASE = 'engineering_data'\r\n",
        "\r\n",
        "connection_string = f'mysql+pymysql://{MYSQL_USER}:{MYSQL_PASSWORD}@{MYSQL_HOSTNAME}/{MYSQL_DATABASE}'\r\n",
        "engine = create_engine(connection_string)\r\n"
      ],
      "execution_count": 99,
      "outputs": []
    },
    {
      "cell_type": "code",
      "metadata": {
        "id": "KQCnjUWBrAcF"
      },
      "source": [
        "for key in final_results:\r\n",
        "    final_results[key].to_sql(f'{key}', engine)"
      ],
      "execution_count": 102,
      "outputs": []
    }
  ]
}