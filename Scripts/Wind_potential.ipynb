{
  "nbformat": 4,
  "nbformat_minor": 0,
  "metadata": {
    "colab": {
      "name": "Wind potential.ipynb",
      "provenance": [],
      "include_colab_link": true
    },
    "kernelspec": {
      "name": "python3",
      "display_name": "Python 3"
    }
  },
  "cells": [
    {
      "cell_type": "markdown",
      "metadata": {
        "id": "view-in-github",
        "colab_type": "text"
      },
      "source": [
        "<a href=\"https://colab.research.google.com/github/dawikrol/Engineering-thesis/blob/main/Scripts/Wind_potential.ipynb\" target=\"_parent\"><img src=\"https://colab.research.google.com/assets/colab-badge.svg\" alt=\"Open In Colab\"/></a>"
      ]
    },
    {
      "cell_type": "markdown",
      "metadata": {
        "id": "OWWRO4B8Yn97"
      },
      "source": [
        "### **Wind potential**\n",
        "\n",
        "\n",
        "\n"
      ]
    },
    {
      "cell_type": "markdown",
      "metadata": {
        "id": "wsDQRLX7aRYw"
      },
      "source": [
        "### Lib import"
      ]
    },
    {
      "cell_type": "code",
      "metadata": {
        "id": "fLGfy0W4aHsJ",
        "colab": {
          "base_uri": "https://localhost:8080/"
        },
        "outputId": "c45620c4-8cfd-49f9-ed01-7edc0dcb80be"
      },
      "source": [
        "import pandas as pd\n",
        "from google.colab import files\n",
        "import io\n",
        "import os\n",
        "import numpy as np\n",
        "\n",
        "!pip install plotly --upgrade"
      ],
      "execution_count": null,
      "outputs": [
        {
          "output_type": "stream",
          "text": [
            "Collecting plotly\n",
            "\u001b[?25l  Downloading https://files.pythonhosted.org/packages/1f/f6/bd3c17c8003b6641df1228e80e1acac97ed8402635e46c2571f8e1ef63af/plotly-4.14.3-py2.py3-none-any.whl (13.2MB)\n",
            "\u001b[K     |████████████████████████████████| 13.2MB 309kB/s \n",
            "\u001b[?25hRequirement already satisfied, skipping upgrade: retrying>=1.3.3 in /usr/local/lib/python3.7/dist-packages (from plotly) (1.3.3)\n",
            "Requirement already satisfied, skipping upgrade: six in /usr/local/lib/python3.7/dist-packages (from plotly) (1.15.0)\n",
            "Installing collected packages: plotly\n",
            "  Found existing installation: plotly 4.4.1\n",
            "    Uninstalling plotly-4.4.1:\n",
            "      Successfully uninstalled plotly-4.4.1\n",
            "Successfully installed plotly-4.14.3\n"
          ],
          "name": "stdout"
        }
      ]
    },
    {
      "cell_type": "markdown",
      "metadata": {
        "id": "eNzZLU8ld6o-"
      },
      "source": [
        "### Uploading data\n",
        "\n",
        "You find data in project's GitHub repository in Data/Wind.\n",
        "\n",
        "Data regarding atmospheric conditions come from: https://ec.europa.eu/jrc/en/pvgis\n",
        "\n"
      ]
    },
    {
      "cell_type": "code",
      "metadata": {
        "colab": {
          "resources": {
            "http://localhost:8080/nbextensions/google.colab/files.js": {
              "data": "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",
              "ok": true,
              "headers": [
                [
                  "content-type",
                  "application/javascript"
                ]
              ],
              "status": 200,
              "status_text": ""
            }
          },
          "base_uri": "https://localhost:8080/",
          "height": 208
        },
        "id": "kQnUSvzTfnXy",
        "outputId": "129c95e3-373f-4076-b6ba-0f26fa305898"
      },
      "source": [
        "uploaded = files.upload()"
      ],
      "execution_count": null,
      "outputs": [
        {
          "output_type": "display_data",
          "data": {
            "text/html": [
              "\n",
              "     <input type=\"file\" id=\"files-390b77ac-33fa-4b20-a92b-bc66eda0d223\" name=\"files[]\" multiple disabled\n",
              "        style=\"border:none\" />\n",
              "     <output id=\"result-390b77ac-33fa-4b20-a92b-bc66eda0d223\">\n",
              "      Upload widget is only available when the cell has been executed in the\n",
              "      current browser session. Please rerun this cell to enable.\n",
              "      </output>\n",
              "      <script src=\"/nbextensions/google.colab/files.js\"></script> "
            ],
            "text/plain": [
              "<IPython.core.display.HTML object>"
            ]
          },
          "metadata": {
            "tags": []
          }
        },
        {
          "output_type": "stream",
          "text": [
            "Saving Limanowski_01_W.csv to Limanowski_01_W.csv\n",
            "Saving Nowosądecki_01_W.csv to Nowosądecki_01_W.csv\n",
            "Saving Nowotarski_01_W.csv to Nowotarski_01_W.csv\n",
            "Saving NowySącz_01_W.csv to NowySącz_01_W.csv\n",
            "Saving Tatrzański_01_W.csv to Tatrzański_01_W.csv\n"
          ],
          "name": "stdout"
        }
      ]
    },
    {
      "cell_type": "markdown",
      "metadata": {
        "id": "M1Dvxkold81U"
      },
      "source": [
        "### Creating raw dataframes"
      ]
    },
    {
      "cell_type": "code",
      "metadata": {
        "id": "CAEWJNNkYnfV",
        "colab": {
          "base_uri": "https://localhost:8080/"
        },
        "outputId": "9417148d-fb10-445a-a493-b598aa7020fb"
      },
      "source": [
        "dataframes = {}\n",
        "\n",
        "for file in uploaded:\n",
        "    name, region, kind  = file.split('_')\n",
        "    dataframes[name] = pd.read_csv(io.BytesIO(uploaded[file]), error_bad_lines=False,\n",
        "                                   index_col=None, header=None, sep='\\n')\n",
        "\n",
        "dataframes[list(dataframes.keys())[0]].size"
      ],
      "execution_count": null,
      "outputs": [
        {
          "output_type": "execute_result",
          "data": {
            "text/plain": [
              "8787"
            ]
          },
          "metadata": {
            "tags": []
          },
          "execution_count": 4
        }
      ]
    },
    {
      "cell_type": "code",
      "metadata": {
        "colab": {
          "base_uri": "https://localhost:8080/",
          "height": 669
        },
        "id": "ByI3BYsXYlqc",
        "outputId": "df556856-17cc-4388-9c27-ed05994f9db8"
      },
      "source": [
        "dataframes[list(dataframes.keys())[0]].head(20)"
      ],
      "execution_count": null,
      "outputs": [
        {
          "output_type": "execute_result",
          "data": {
            "text/html": [
              "<div>\n",
              "<style scoped>\n",
              "    .dataframe tbody tr th:only-of-type {\n",
              "        vertical-align: middle;\n",
              "    }\n",
              "\n",
              "    .dataframe tbody tr th {\n",
              "        vertical-align: top;\n",
              "    }\n",
              "\n",
              "    .dataframe thead th {\n",
              "        text-align: right;\n",
              "    }\n",
              "</style>\n",
              "<table border=\"1\" class=\"dataframe\">\n",
              "  <thead>\n",
              "    <tr style=\"text-align: right;\">\n",
              "      <th></th>\n",
              "      <th>0</th>\n",
              "    </tr>\n",
              "  </thead>\n",
              "  <tbody>\n",
              "    <tr>\n",
              "      <th>0</th>\n",
              "      <td>Latitude (decimal degrees): 49.723</td>\n",
              "    </tr>\n",
              "    <tr>\n",
              "      <th>1</th>\n",
              "      <td>Longitude (decimal degrees): 20.395</td>\n",
              "    </tr>\n",
              "    <tr>\n",
              "      <th>2</th>\n",
              "      <td>Elevation (m): 400.0</td>\n",
              "    </tr>\n",
              "    <tr>\n",
              "      <th>3</th>\n",
              "      <td>month,year</td>\n",
              "    </tr>\n",
              "    <tr>\n",
              "      <th>4</th>\n",
              "      <td>1,2006</td>\n",
              "    </tr>\n",
              "    <tr>\n",
              "      <th>5</th>\n",
              "      <td>2,2010</td>\n",
              "    </tr>\n",
              "    <tr>\n",
              "      <th>6</th>\n",
              "      <td>3,2006</td>\n",
              "    </tr>\n",
              "    <tr>\n",
              "      <th>7</th>\n",
              "      <td>4,2012</td>\n",
              "    </tr>\n",
              "    <tr>\n",
              "      <th>8</th>\n",
              "      <td>5,2012</td>\n",
              "    </tr>\n",
              "    <tr>\n",
              "      <th>9</th>\n",
              "      <td>6,2011</td>\n",
              "    </tr>\n",
              "    <tr>\n",
              "      <th>10</th>\n",
              "      <td>7,2011</td>\n",
              "    </tr>\n",
              "    <tr>\n",
              "      <th>11</th>\n",
              "      <td>8,2013</td>\n",
              "    </tr>\n",
              "    <tr>\n",
              "      <th>12</th>\n",
              "      <td>9,2012</td>\n",
              "    </tr>\n",
              "    <tr>\n",
              "      <th>13</th>\n",
              "      <td>10,2012</td>\n",
              "    </tr>\n",
              "    <tr>\n",
              "      <th>14</th>\n",
              "      <td>11,2009</td>\n",
              "    </tr>\n",
              "    <tr>\n",
              "      <th>15</th>\n",
              "      <td>12,2010</td>\n",
              "    </tr>\n",
              "    <tr>\n",
              "      <th>16</th>\n",
              "      <td>time(UTC),T2m,RH,G(h),Gb(n),Gd(h),IR(h),WS10m,...</td>\n",
              "    </tr>\n",
              "    <tr>\n",
              "      <th>17</th>\n",
              "      <td>20060101:0000,-2.96,89.35,0.0,-0.0,0.0,265.03,...</td>\n",
              "    </tr>\n",
              "    <tr>\n",
              "      <th>18</th>\n",
              "      <td>20060101:0100,-2.92,89.38,0.0,-0.0,0.0,264.43,...</td>\n",
              "    </tr>\n",
              "    <tr>\n",
              "      <th>19</th>\n",
              "      <td>20060101:0200,-2.88,89.41,0.0,-0.0,0.0,263.84,...</td>\n",
              "    </tr>\n",
              "  </tbody>\n",
              "</table>\n",
              "</div>"
            ],
            "text/plain": [
              "                                                    0\n",
              "0                  Latitude (decimal degrees): 49.723\n",
              "1                 Longitude (decimal degrees): 20.395\n",
              "2                                Elevation (m): 400.0\n",
              "3                                          month,year\n",
              "4                                              1,2006\n",
              "5                                              2,2010\n",
              "6                                              3,2006\n",
              "7                                              4,2012\n",
              "8                                              5,2012\n",
              "9                                              6,2011\n",
              "10                                             7,2011\n",
              "11                                             8,2013\n",
              "12                                             9,2012\n",
              "13                                            10,2012\n",
              "14                                            11,2009\n",
              "15                                            12,2010\n",
              "16  time(UTC),T2m,RH,G(h),Gb(n),Gd(h),IR(h),WS10m,...\n",
              "17  20060101:0000,-2.96,89.35,0.0,-0.0,0.0,265.03,...\n",
              "18  20060101:0100,-2.92,89.38,0.0,-0.0,0.0,264.43,...\n",
              "19  20060101:0200,-2.88,89.41,0.0,-0.0,0.0,263.84,..."
            ]
          },
          "metadata": {
            "tags": []
          },
          "execution_count": 5
        }
      ]
    },
    {
      "cell_type": "code",
      "metadata": {
        "colab": {
          "base_uri": "https://localhost:8080/",
          "height": 669
        },
        "id": "wPxYxJObpe88",
        "outputId": "52bb2301-64db-48ed-cac6-590d84171dc3"
      },
      "source": [
        "dataframes[list(dataframes.keys())[0]].tail(20)"
      ],
      "execution_count": null,
      "outputs": [
        {
          "output_type": "execute_result",
          "data": {
            "text/html": [
              "<div>\n",
              "<style scoped>\n",
              "    .dataframe tbody tr th:only-of-type {\n",
              "        vertical-align: middle;\n",
              "    }\n",
              "\n",
              "    .dataframe tbody tr th {\n",
              "        vertical-align: top;\n",
              "    }\n",
              "\n",
              "    .dataframe thead th {\n",
              "        text-align: right;\n",
              "    }\n",
              "</style>\n",
              "<table border=\"1\" class=\"dataframe\">\n",
              "  <thead>\n",
              "    <tr style=\"text-align: right;\">\n",
              "      <th></th>\n",
              "      <th>0</th>\n",
              "    </tr>\n",
              "  </thead>\n",
              "  <tbody>\n",
              "    <tr>\n",
              "      <th>8767</th>\n",
              "      <td>20101231:1400,-3.55,84.14,19.0,0.0,19.0,276.6,...</td>\n",
              "    </tr>\n",
              "    <tr>\n",
              "      <th>8768</th>\n",
              "      <td>20101231:1500,-3.31,85.77,0.0,-0.0,0.0,276.12,...</td>\n",
              "    </tr>\n",
              "    <tr>\n",
              "      <th>8769</th>\n",
              "      <td>20101231:1600,-3.28,89.09,0.0,-0.0,0.0,269.75,...</td>\n",
              "    </tr>\n",
              "    <tr>\n",
              "      <th>8770</th>\n",
              "      <td>20101231:1700,-3.24,89.12,0.0,-0.0,0.0,269.16,...</td>\n",
              "    </tr>\n",
              "    <tr>\n",
              "      <th>8771</th>\n",
              "      <td>20101231:1800,-3.2,89.15,0.0,-0.0,0.0,268.57,3...</td>\n",
              "    </tr>\n",
              "    <tr>\n",
              "      <th>8772</th>\n",
              "      <td>20101231:1900,-3.16,89.18,0.0,-0.0,0.0,267.98,...</td>\n",
              "    </tr>\n",
              "    <tr>\n",
              "      <th>8773</th>\n",
              "      <td>20101231:2000,-3.12,89.22,0.0,-0.0,0.0,267.39,...</td>\n",
              "    </tr>\n",
              "    <tr>\n",
              "      <th>8774</th>\n",
              "      <td>20101231:2100,-3.08,89.25,0.0,-0.0,0.0,266.8,3...</td>\n",
              "    </tr>\n",
              "    <tr>\n",
              "      <th>8775</th>\n",
              "      <td>20101231:2200,-3.04,89.28,0.0,-0.0,0.0,266.21,...</td>\n",
              "    </tr>\n",
              "    <tr>\n",
              "      <th>8776</th>\n",
              "      <td>20101231:2300,-3.0,89.31,0.0,-0.0,0.0,265.62,3...</td>\n",
              "    </tr>\n",
              "    <tr>\n",
              "      <th>8777</th>\n",
              "      <td>T2m: 2-m air temperature (degree Celsius)</td>\n",
              "    </tr>\n",
              "    <tr>\n",
              "      <th>8778</th>\n",
              "      <td>RH: relative humidity (%)</td>\n",
              "    </tr>\n",
              "    <tr>\n",
              "      <th>8779</th>\n",
              "      <td>G(h): Global irradiance on the horizontal plan...</td>\n",
              "    </tr>\n",
              "    <tr>\n",
              "      <th>8780</th>\n",
              "      <td>Gb(n): Beam/direct irradiance on a plane alway...</td>\n",
              "    </tr>\n",
              "    <tr>\n",
              "      <th>8781</th>\n",
              "      <td>Gd(h): Diffuse irradiance on the horizontal pl...</td>\n",
              "    </tr>\n",
              "    <tr>\n",
              "      <th>8782</th>\n",
              "      <td>IR(h): Surface infrared (thermal) irradiance o...</td>\n",
              "    </tr>\n",
              "    <tr>\n",
              "      <th>8783</th>\n",
              "      <td>WS10m: 10-m total wind speed (m/s)</td>\n",
              "    </tr>\n",
              "    <tr>\n",
              "      <th>8784</th>\n",
              "      <td>WD10m: 10-m wind direction (0 = N, 90 = E) (de...</td>\n",
              "    </tr>\n",
              "    <tr>\n",
              "      <th>8785</th>\n",
              "      <td>SP: Surface (air) pressure (Pa)</td>\n",
              "    </tr>\n",
              "    <tr>\n",
              "      <th>8786</th>\n",
              "      <td>PVGIS (c) European Communities, 2001-2021</td>\n",
              "    </tr>\n",
              "  </tbody>\n",
              "</table>\n",
              "</div>"
            ],
            "text/plain": [
              "                                                      0\n",
              "8767  20101231:1400,-3.55,84.14,19.0,0.0,19.0,276.6,...\n",
              "8768  20101231:1500,-3.31,85.77,0.0,-0.0,0.0,276.12,...\n",
              "8769  20101231:1600,-3.28,89.09,0.0,-0.0,0.0,269.75,...\n",
              "8770  20101231:1700,-3.24,89.12,0.0,-0.0,0.0,269.16,...\n",
              "8771  20101231:1800,-3.2,89.15,0.0,-0.0,0.0,268.57,3...\n",
              "8772  20101231:1900,-3.16,89.18,0.0,-0.0,0.0,267.98,...\n",
              "8773  20101231:2000,-3.12,89.22,0.0,-0.0,0.0,267.39,...\n",
              "8774  20101231:2100,-3.08,89.25,0.0,-0.0,0.0,266.8,3...\n",
              "8775  20101231:2200,-3.04,89.28,0.0,-0.0,0.0,266.21,...\n",
              "8776  20101231:2300,-3.0,89.31,0.0,-0.0,0.0,265.62,3...\n",
              "8777          T2m: 2-m air temperature (degree Celsius)\n",
              "8778                          RH: relative humidity (%)\n",
              "8779  G(h): Global irradiance on the horizontal plan...\n",
              "8780  Gb(n): Beam/direct irradiance on a plane alway...\n",
              "8781  Gd(h): Diffuse irradiance on the horizontal pl...\n",
              "8782  IR(h): Surface infrared (thermal) irradiance o...\n",
              "8783                 WS10m: 10-m total wind speed (m/s)\n",
              "8784  WD10m: 10-m wind direction (0 = N, 90 = E) (de...\n",
              "8785                    SP: Surface (air) pressure (Pa)\n",
              "8786          PVGIS (c) European Communities, 2001-2021"
            ]
          },
          "metadata": {
            "tags": []
          },
          "execution_count": 6
        }
      ]
    },
    {
      "cell_type": "markdown",
      "metadata": {
        "id": "HYkfOXtCtBcU"
      },
      "source": [
        "### List of shortcuts"
      ]
    },
    {
      "cell_type": "code",
      "metadata": {
        "colab": {
          "base_uri": "https://localhost:8080/",
          "height": 359
        },
        "id": "WdItRELQq8NQ",
        "outputId": "ca897105-fc9b-44a1-f8c0-8a4d1a8ce36e"
      },
      "source": [
        "info_df = dataframes[list(dataframes.keys())[0]].iloc[8777:8786]\n",
        "info_df.columns = ['defu']\n",
        "info_df = info_df.defu.str.split(':', expand=True)\n",
        "info_df.columns = ['symbol', 'meaning']\n",
        "info_df.set_index('symbol', inplace=True)\n",
        "info_df\n"
      ],
      "execution_count": null,
      "outputs": [
        {
          "output_type": "execute_result",
          "data": {
            "text/html": [
              "<div>\n",
              "<style scoped>\n",
              "    .dataframe tbody tr th:only-of-type {\n",
              "        vertical-align: middle;\n",
              "    }\n",
              "\n",
              "    .dataframe tbody tr th {\n",
              "        vertical-align: top;\n",
              "    }\n",
              "\n",
              "    .dataframe thead th {\n",
              "        text-align: right;\n",
              "    }\n",
              "</style>\n",
              "<table border=\"1\" class=\"dataframe\">\n",
              "  <thead>\n",
              "    <tr style=\"text-align: right;\">\n",
              "      <th></th>\n",
              "      <th>meaning</th>\n",
              "    </tr>\n",
              "    <tr>\n",
              "      <th>symbol</th>\n",
              "      <th></th>\n",
              "    </tr>\n",
              "  </thead>\n",
              "  <tbody>\n",
              "    <tr>\n",
              "      <th>T2m</th>\n",
              "      <td>2-m air temperature (degree Celsius)</td>\n",
              "    </tr>\n",
              "    <tr>\n",
              "      <th>RH</th>\n",
              "      <td>relative humidity (%)</td>\n",
              "    </tr>\n",
              "    <tr>\n",
              "      <th>G(h)</th>\n",
              "      <td>Global irradiance on the horizontal plane (W/m2)</td>\n",
              "    </tr>\n",
              "    <tr>\n",
              "      <th>Gb(n)</th>\n",
              "      <td>Beam/direct irradiance on a plane always norm...</td>\n",
              "    </tr>\n",
              "    <tr>\n",
              "      <th>Gd(h)</th>\n",
              "      <td>Diffuse irradiance on the horizontal plane (W...</td>\n",
              "    </tr>\n",
              "    <tr>\n",
              "      <th>IR(h)</th>\n",
              "      <td>Surface infrared (thermal) irradiance on a ho...</td>\n",
              "    </tr>\n",
              "    <tr>\n",
              "      <th>WS10m</th>\n",
              "      <td>10-m total wind speed (m/s)</td>\n",
              "    </tr>\n",
              "    <tr>\n",
              "      <th>WD10m</th>\n",
              "      <td>10-m wind direction (0 = N, 90 = E) (degree)</td>\n",
              "    </tr>\n",
              "    <tr>\n",
              "      <th>SP</th>\n",
              "      <td>Surface (air) pressure (Pa)</td>\n",
              "    </tr>\n",
              "  </tbody>\n",
              "</table>\n",
              "</div>"
            ],
            "text/plain": [
              "                                                  meaning\n",
              "symbol                                                   \n",
              "T2m                  2-m air temperature (degree Celsius)\n",
              "RH                                  relative humidity (%)\n",
              "G(h)     Global irradiance on the horizontal plane (W/m2)\n",
              "Gb(n)    Beam/direct irradiance on a plane always norm...\n",
              "Gd(h)    Diffuse irradiance on the horizontal plane (W...\n",
              "IR(h)    Surface infrared (thermal) irradiance on a ho...\n",
              "WS10m                         10-m total wind speed (m/s)\n",
              "WD10m        10-m wind direction (0 = N, 90 = E) (degree)\n",
              "SP                            Surface (air) pressure (Pa)"
            ]
          },
          "metadata": {
            "tags": []
          },
          "execution_count": 7
        }
      ]
    },
    {
      "cell_type": "markdown",
      "metadata": {
        "id": "J5Eyjr4Yg4Cq"
      },
      "source": [
        "### Data cleaning\n",
        "\n",
        "<#1> Basic operations to add the appropriate dataframe shape\n",
        "\n",
        "<#2> Data downloaded with website is typical meteorological year. Thats means that every month comes from random year and it can be leap year. For our analysis it doesn't matter so if the February has 29 days we just remove the last one day.\n",
        "\n",
        "<#3> The months comes from different years. For our analysis it doesn't matter because we focused on TMY. In the future steps it will be helpful if the year will be the same for each one row (visualisation). "
      ]
    },
    {
      "cell_type": "code",
      "metadata": {
        "id": "WZ8F22fbzxrm"
      },
      "source": [
        "def set_year(row: datatime) -> datatime:\n",
        "\n",
        "    \"\"\"Swap the year with the default value\"\"\"\n",
        "\n",
        "    year, month, day_hour = str(row).split('-')\n",
        "    year = str(2018)\n",
        "    return pd.to_datetime((year+month+day_hour), format='%Y%m%d %H:%M:%S')"
      ],
      "execution_count": null,
      "outputs": []
    },
    {
      "cell_type": "code",
      "metadata": {
        "id": "xc56HDuBhLSh",
        "colab": {
          "base_uri": "https://localhost:8080/",
          "height": 419
        },
        "outputId": "e29a8055-8010-4a21-f2fa-bdf37c7a68cb"
      },
      "source": [
        "cleared_df = {}\n",
        "\n",
        "for key in dataframes:\n",
        "\n",
        "    #1\n",
        "    cl_data = dataframes[key].iloc[16:8777]\n",
        "    cl_data.columns = ['defu'] #the default column name is inconvenient\n",
        "    cl_data = cl_data.defu.str.split(',', expand=True)\n",
        "    cl_data.columns = cl_data.iloc[0]\n",
        "    cl_data = cl_data.drop(cl_data.index[0])\n",
        "    cl_data.columns.name = None\n",
        "    cl_data['Hour'] = np.arange(1, len(cl_data)+1) #adding 'Hour' maybe confused here because is similar to index but it will be really helpful latter\n",
        "    cl_data['time(UTC)'] = pd.to_datetime(cl_data['time(UTC)'], format='%Y%m%d:%H%M')\n",
        "    cl_data = cl_data.reset_index(drop=True)\n",
        "\n",
        "    #2\n",
        "    if len(cl_data) != 8760:\n",
        "        cl_data = cl_data.drop(cl_data.index[1416:1440])\n",
        "\n",
        "    #3\n",
        "    cl_data['time(UTC)'] = cl_data['time(UTC)'].apply(set_year)\n",
        "    \n",
        "\n",
        "    cleared_df[key] = cl_data\n",
        "\n",
        "cleared_df[list(dataframes.keys())[0]]"
      ],
      "execution_count": null,
      "outputs": [
        {
          "output_type": "execute_result",
          "data": {
            "text/html": [
              "<div>\n",
              "<style scoped>\n",
              "    .dataframe tbody tr th:only-of-type {\n",
              "        vertical-align: middle;\n",
              "    }\n",
              "\n",
              "    .dataframe tbody tr th {\n",
              "        vertical-align: top;\n",
              "    }\n",
              "\n",
              "    .dataframe thead th {\n",
              "        text-align: right;\n",
              "    }\n",
              "</style>\n",
              "<table border=\"1\" class=\"dataframe\">\n",
              "  <thead>\n",
              "    <tr style=\"text-align: right;\">\n",
              "      <th></th>\n",
              "      <th>time(UTC)</th>\n",
              "      <th>T2m</th>\n",
              "      <th>RH</th>\n",
              "      <th>G(h)</th>\n",
              "      <th>Gb(n)</th>\n",
              "      <th>Gd(h)</th>\n",
              "      <th>IR(h)</th>\n",
              "      <th>WS10m</th>\n",
              "      <th>WD10m</th>\n",
              "      <th>SP</th>\n",
              "      <th>Hour</th>\n",
              "    </tr>\n",
              "  </thead>\n",
              "  <tbody>\n",
              "    <tr>\n",
              "      <th>0</th>\n",
              "      <td>2018-01-01 00:00:00</td>\n",
              "      <td>-2.96</td>\n",
              "      <td>89.35</td>\n",
              "      <td>0.0</td>\n",
              "      <td>-0.0</td>\n",
              "      <td>0.0</td>\n",
              "      <td>265.03</td>\n",
              "      <td>4.07</td>\n",
              "      <td>190.0</td>\n",
              "      <td>96549.0</td>\n",
              "      <td>1</td>\n",
              "    </tr>\n",
              "    <tr>\n",
              "      <th>1</th>\n",
              "      <td>2018-01-01 01:00:00</td>\n",
              "      <td>-2.92</td>\n",
              "      <td>89.38</td>\n",
              "      <td>0.0</td>\n",
              "      <td>-0.0</td>\n",
              "      <td>0.0</td>\n",
              "      <td>264.43</td>\n",
              "      <td>4.19</td>\n",
              "      <td>184.0</td>\n",
              "      <td>96549.0</td>\n",
              "      <td>2</td>\n",
              "    </tr>\n",
              "    <tr>\n",
              "      <th>2</th>\n",
              "      <td>2018-01-01 02:00:00</td>\n",
              "      <td>-2.88</td>\n",
              "      <td>89.41</td>\n",
              "      <td>0.0</td>\n",
              "      <td>-0.0</td>\n",
              "      <td>0.0</td>\n",
              "      <td>263.84</td>\n",
              "      <td>4.31</td>\n",
              "      <td>178.0</td>\n",
              "      <td>96549.0</td>\n",
              "      <td>3</td>\n",
              "    </tr>\n",
              "    <tr>\n",
              "      <th>3</th>\n",
              "      <td>2018-01-01 03:00:00</td>\n",
              "      <td>-2.84</td>\n",
              "      <td>89.44</td>\n",
              "      <td>0.0</td>\n",
              "      <td>-0.0</td>\n",
              "      <td>0.0</td>\n",
              "      <td>263.25</td>\n",
              "      <td>4.44</td>\n",
              "      <td>176.0</td>\n",
              "      <td>96536.0</td>\n",
              "      <td>4</td>\n",
              "    </tr>\n",
              "    <tr>\n",
              "      <th>4</th>\n",
              "      <td>2018-01-01 04:00:00</td>\n",
              "      <td>-2.8</td>\n",
              "      <td>89.48</td>\n",
              "      <td>0.0</td>\n",
              "      <td>-0.0</td>\n",
              "      <td>0.0</td>\n",
              "      <td>262.66</td>\n",
              "      <td>4.56</td>\n",
              "      <td>175.0</td>\n",
              "      <td>96524.0</td>\n",
              "      <td>5</td>\n",
              "    </tr>\n",
              "    <tr>\n",
              "      <th>...</th>\n",
              "      <td>...</td>\n",
              "      <td>...</td>\n",
              "      <td>...</td>\n",
              "      <td>...</td>\n",
              "      <td>...</td>\n",
              "      <td>...</td>\n",
              "      <td>...</td>\n",
              "      <td>...</td>\n",
              "      <td>...</td>\n",
              "      <td>...</td>\n",
              "      <td>...</td>\n",
              "    </tr>\n",
              "    <tr>\n",
              "      <th>8755</th>\n",
              "      <td>2018-12-31 19:00:00</td>\n",
              "      <td>-3.16</td>\n",
              "      <td>89.18</td>\n",
              "      <td>0.0</td>\n",
              "      <td>-0.0</td>\n",
              "      <td>0.0</td>\n",
              "      <td>267.98</td>\n",
              "      <td>3.45</td>\n",
              "      <td>264.0</td>\n",
              "      <td>97325.0</td>\n",
              "      <td>8756</td>\n",
              "    </tr>\n",
              "    <tr>\n",
              "      <th>8756</th>\n",
              "      <td>2018-12-31 20:00:00</td>\n",
              "      <td>-3.12</td>\n",
              "      <td>89.22</td>\n",
              "      <td>0.0</td>\n",
              "      <td>-0.0</td>\n",
              "      <td>0.0</td>\n",
              "      <td>267.39</td>\n",
              "      <td>3.58</td>\n",
              "      <td>264.0</td>\n",
              "      <td>97321.0</td>\n",
              "      <td>8757</td>\n",
              "    </tr>\n",
              "    <tr>\n",
              "      <th>8757</th>\n",
              "      <td>2018-12-31 21:00:00</td>\n",
              "      <td>-3.08</td>\n",
              "      <td>89.25</td>\n",
              "      <td>0.0</td>\n",
              "      <td>-0.0</td>\n",
              "      <td>0.0</td>\n",
              "      <td>266.8</td>\n",
              "      <td>3.7</td>\n",
              "      <td>261.0</td>\n",
              "      <td>97293.0</td>\n",
              "      <td>8758</td>\n",
              "    </tr>\n",
              "    <tr>\n",
              "      <th>8758</th>\n",
              "      <td>2018-12-31 22:00:00</td>\n",
              "      <td>-3.04</td>\n",
              "      <td>89.28</td>\n",
              "      <td>0.0</td>\n",
              "      <td>-0.0</td>\n",
              "      <td>0.0</td>\n",
              "      <td>266.21</td>\n",
              "      <td>3.82</td>\n",
              "      <td>257.0</td>\n",
              "      <td>97264.0</td>\n",
              "      <td>8759</td>\n",
              "    </tr>\n",
              "    <tr>\n",
              "      <th>8759</th>\n",
              "      <td>2018-12-31 23:00:00</td>\n",
              "      <td>-3.0</td>\n",
              "      <td>89.31</td>\n",
              "      <td>0.0</td>\n",
              "      <td>-0.0</td>\n",
              "      <td>0.0</td>\n",
              "      <td>265.62</td>\n",
              "      <td>3.95</td>\n",
              "      <td>254.0</td>\n",
              "      <td>97236.0</td>\n",
              "      <td>8760</td>\n",
              "    </tr>\n",
              "  </tbody>\n",
              "</table>\n",
              "<p>8760 rows × 11 columns</p>\n",
              "</div>"
            ],
            "text/plain": [
              "               time(UTC)    T2m     RH G(h)  ... WS10m  WD10m       SP  Hour\n",
              "0    2018-01-01 00:00:00  -2.96  89.35  0.0  ...  4.07  190.0  96549.0     1\n",
              "1    2018-01-01 01:00:00  -2.92  89.38  0.0  ...  4.19  184.0  96549.0     2\n",
              "2    2018-01-01 02:00:00  -2.88  89.41  0.0  ...  4.31  178.0  96549.0     3\n",
              "3    2018-01-01 03:00:00  -2.84  89.44  0.0  ...  4.44  176.0  96536.0     4\n",
              "4    2018-01-01 04:00:00   -2.8  89.48  0.0  ...  4.56  175.0  96524.0     5\n",
              "...                  ...    ...    ...  ...  ...   ...    ...      ...   ...\n",
              "8755 2018-12-31 19:00:00  -3.16  89.18  0.0  ...  3.45  264.0  97325.0  8756\n",
              "8756 2018-12-31 20:00:00  -3.12  89.22  0.0  ...  3.58  264.0  97321.0  8757\n",
              "8757 2018-12-31 21:00:00  -3.08  89.25  0.0  ...   3.7  261.0  97293.0  8758\n",
              "8758 2018-12-31 22:00:00  -3.04  89.28  0.0  ...  3.82  257.0  97264.0  8759\n",
              "8759 2018-12-31 23:00:00   -3.0  89.31  0.0  ...  3.95  254.0  97236.0  8760\n",
              "\n",
              "[8760 rows x 11 columns]"
            ]
          },
          "metadata": {
            "tags": []
          },
          "execution_count": 57
        }
      ]
    },
    {
      "cell_type": "markdown",
      "metadata": {
        "id": "PFYj31jOeAEy"
      },
      "source": [
        "###Upload data regarding wind turbins"
      ]
    },
    {
      "cell_type": "code",
      "metadata": {
        "colab": {
          "resources": {
            "http://localhost:8080/nbextensions/google.colab/files.js": {
              "data": "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",
              "ok": true,
              "headers": [
                [
                  "content-type",
                  "application/javascript"
                ]
              ],
              "status": 200,
              "status_text": ""
            }
          },
          "base_uri": "https://localhost:8080/",
          "height": 72
        },
        "id": "xWZ20Fceea84",
        "outputId": "1174d320-e376-4f32-a5d5-6017fade450b"
      },
      "source": [
        "uploaded_turbins = files.upload()"
      ],
      "execution_count": null,
      "outputs": [
        {
          "output_type": "display_data",
          "data": {
            "text/html": [
              "\n",
              "     <input type=\"file\" id=\"files-6689797b-a801-43f1-bd47-218324d0abfc\" name=\"files[]\" multiple disabled\n",
              "        style=\"border:none\" />\n",
              "     <output id=\"result-6689797b-a801-43f1-bd47-218324d0abfc\">\n",
              "      Upload widget is only available when the cell has been executed in the\n",
              "      current browser session. Please rerun this cell to enable.\n",
              "      </output>\n",
              "      <script src=\"/nbextensions/google.colab/files.js\"></script> "
            ],
            "text/plain": [
              "<IPython.core.display.HTML object>"
            ]
          },
          "metadata": {
            "tags": []
          }
        },
        {
          "output_type": "stream",
          "text": [
            "Saving Turbins.xlsx to Turbins.xlsx\n"
          ],
          "name": "stdout"
        }
      ]
    },
    {
      "cell_type": "code",
      "metadata": {
        "id": "qWu13yXHgUVp"
      },
      "source": [
        "for file in uploaded_turbins:\n",
        "    turbine_2MW = pd.read_excel(io.BytesIO(uploaded_turbins[file]), sheet_name='2MW')\n",
        "    turbine_20kW = pd.read_excel(io.BytesIO(uploaded_turbins[file]), sheet_name='20kW')\n",
        "\n",
        "turbine_2MW.columns = ['WS80m', 'P80m']\n",
        "turbine_2MW.drop(turbine_2MW.index[0], inplace=True)\n",
        "turbine_2MW = turbine_2MW.astype(float)\n",
        "\n",
        "turbine_20kW.columns = ['WS30m', 'P30m']\n",
        "turbine_20kW.drop(turbine_20kW.index[0], inplace=True)\n",
        "turbine_20kW = turbine_20kW.astype(float)"
      ],
      "execution_count": null,
      "outputs": []
    },
    {
      "cell_type": "code",
      "metadata": {
        "colab": {
          "base_uri": "https://localhost:8080/",
          "height": 359
        },
        "id": "tEcRgq6bhjii",
        "outputId": "a865a5b9-111e-458e-8a23-60cfc13a26a0"
      },
      "source": [
        "turbine_2MW.head(10)"
      ],
      "execution_count": null,
      "outputs": [
        {
          "output_type": "execute_result",
          "data": {
            "text/html": [
              "<div>\n",
              "<style scoped>\n",
              "    .dataframe tbody tr th:only-of-type {\n",
              "        vertical-align: middle;\n",
              "    }\n",
              "\n",
              "    .dataframe tbody tr th {\n",
              "        vertical-align: top;\n",
              "    }\n",
              "\n",
              "    .dataframe thead th {\n",
              "        text-align: right;\n",
              "    }\n",
              "</style>\n",
              "<table border=\"1\" class=\"dataframe\">\n",
              "  <thead>\n",
              "    <tr style=\"text-align: right;\">\n",
              "      <th></th>\n",
              "      <th>WS80m</th>\n",
              "      <th>P80m</th>\n",
              "    </tr>\n",
              "  </thead>\n",
              "  <tbody>\n",
              "    <tr>\n",
              "      <th>1</th>\n",
              "      <td>0.0</td>\n",
              "      <td>0.0</td>\n",
              "    </tr>\n",
              "    <tr>\n",
              "      <th>2</th>\n",
              "      <td>0.5</td>\n",
              "      <td>0.0</td>\n",
              "    </tr>\n",
              "    <tr>\n",
              "      <th>3</th>\n",
              "      <td>1.0</td>\n",
              "      <td>0.0</td>\n",
              "    </tr>\n",
              "    <tr>\n",
              "      <th>4</th>\n",
              "      <td>1.5</td>\n",
              "      <td>0.0</td>\n",
              "    </tr>\n",
              "    <tr>\n",
              "      <th>5</th>\n",
              "      <td>2.0</td>\n",
              "      <td>0.0</td>\n",
              "    </tr>\n",
              "    <tr>\n",
              "      <th>6</th>\n",
              "      <td>2.5</td>\n",
              "      <td>0.0</td>\n",
              "    </tr>\n",
              "    <tr>\n",
              "      <th>7</th>\n",
              "      <td>3.0</td>\n",
              "      <td>0.0</td>\n",
              "    </tr>\n",
              "    <tr>\n",
              "      <th>8</th>\n",
              "      <td>3.5</td>\n",
              "      <td>42.2</td>\n",
              "    </tr>\n",
              "    <tr>\n",
              "      <th>9</th>\n",
              "      <td>4.0</td>\n",
              "      <td>93.3</td>\n",
              "    </tr>\n",
              "    <tr>\n",
              "      <th>10</th>\n",
              "      <td>4.5</td>\n",
              "      <td>145.2</td>\n",
              "    </tr>\n",
              "  </tbody>\n",
              "</table>\n",
              "</div>"
            ],
            "text/plain": [
              "    WS80m   P80m\n",
              "1     0.0    0.0\n",
              "2     0.5    0.0\n",
              "3     1.0    0.0\n",
              "4     1.5    0.0\n",
              "5     2.0    0.0\n",
              "6     2.5    0.0\n",
              "7     3.0    0.0\n",
              "8     3.5   42.2\n",
              "9     4.0   93.3\n",
              "10    4.5  145.2"
            ]
          },
          "metadata": {
            "tags": []
          },
          "execution_count": 60
        }
      ]
    },
    {
      "cell_type": "code",
      "metadata": {
        "colab": {
          "base_uri": "https://localhost:8080/",
          "height": 343
        },
        "id": "1RbWxrUqiBRU",
        "outputId": "70047156-f588-46c9-9477-a05ba1d97210"
      },
      "source": [
        "turbine_20kW.head(10)"
      ],
      "execution_count": null,
      "outputs": [
        {
          "output_type": "execute_result",
          "data": {
            "text/html": [
              "<div>\n",
              "<style scoped>\n",
              "    .dataframe tbody tr th:only-of-type {\n",
              "        vertical-align: middle;\n",
              "    }\n",
              "\n",
              "    .dataframe tbody tr th {\n",
              "        vertical-align: top;\n",
              "    }\n",
              "\n",
              "    .dataframe thead th {\n",
              "        text-align: right;\n",
              "    }\n",
              "</style>\n",
              "<table border=\"1\" class=\"dataframe\">\n",
              "  <thead>\n",
              "    <tr style=\"text-align: right;\">\n",
              "      <th></th>\n",
              "      <th>WS30m</th>\n",
              "      <th>P30m</th>\n",
              "    </tr>\n",
              "  </thead>\n",
              "  <tbody>\n",
              "    <tr>\n",
              "      <th>1</th>\n",
              "      <td>0.0</td>\n",
              "      <td>0.00</td>\n",
              "    </tr>\n",
              "    <tr>\n",
              "      <th>2</th>\n",
              "      <td>1.0</td>\n",
              "      <td>0.00</td>\n",
              "    </tr>\n",
              "    <tr>\n",
              "      <th>3</th>\n",
              "      <td>2.0</td>\n",
              "      <td>0.08</td>\n",
              "    </tr>\n",
              "    <tr>\n",
              "      <th>4</th>\n",
              "      <td>3.0</td>\n",
              "      <td>0.50</td>\n",
              "    </tr>\n",
              "    <tr>\n",
              "      <th>5</th>\n",
              "      <td>4.0</td>\n",
              "      <td>1.35</td>\n",
              "    </tr>\n",
              "    <tr>\n",
              "      <th>6</th>\n",
              "      <td>5.0</td>\n",
              "      <td>2.80</td>\n",
              "    </tr>\n",
              "    <tr>\n",
              "      <th>7</th>\n",
              "      <td>6.0</td>\n",
              "      <td>4.70</td>\n",
              "    </tr>\n",
              "    <tr>\n",
              "      <th>8</th>\n",
              "      <td>7.0</td>\n",
              "      <td>7.00</td>\n",
              "    </tr>\n",
              "    <tr>\n",
              "      <th>9</th>\n",
              "      <td>8.0</td>\n",
              "      <td>9.60</td>\n",
              "    </tr>\n",
              "    <tr>\n",
              "      <th>10</th>\n",
              "      <td>9.0</td>\n",
              "      <td>12.30</td>\n",
              "    </tr>\n",
              "  </tbody>\n",
              "</table>\n",
              "</div>"
            ],
            "text/plain": [
              "    WS30m   P30m\n",
              "1     0.0   0.00\n",
              "2     1.0   0.00\n",
              "3     2.0   0.08\n",
              "4     3.0   0.50\n",
              "5     4.0   1.35\n",
              "6     5.0   2.80\n",
              "7     6.0   4.70\n",
              "8     7.0   7.00\n",
              "9     8.0   9.60\n",
              "10    9.0  12.30"
            ]
          },
          "metadata": {
            "tags": []
          },
          "execution_count": 26
        }
      ]
    },
    {
      "cell_type": "markdown",
      "metadata": {
        "id": "0xEMgvzUK6VD"
      },
      "source": [
        "###Calculations\n",
        "\n",
        "\n",
        "1. Assignment of variable values\n",
        "\n",
        "\n",
        "    aplpha - roughness coefficient (exponent)\n",
        "\n",
        "    h_orginal - wind measurement high [m]\n",
        "\n",
        "    h_t1 - height of the first wind turbin [m]\n",
        "\n",
        "    h_t2 - height of the second wind turbin [m]\n"
      ]
    },
    {
      "cell_type": "code",
      "metadata": {
        "id": "fd5tN-AuLGWM"
      },
      "source": [
        "\n",
        "alpha = 0.16\n",
        "h_orginal = 10\n",
        "h_t1 = 30\n",
        "h_t2 = 80"
      ],
      "execution_count": null,
      "outputs": []
    },
    {
      "cell_type": "markdown",
      "metadata": {
        "id": "k0OdCDTtYQ7O"
      },
      "source": [
        "2. Calculation of wind speed at turbine heights"
      ]
    },
    {
      "cell_type": "code",
      "metadata": {
        "id": "WR0Cij7SWgPC",
        "colab": {
          "base_uri": "https://localhost:8080/",
          "height": 419
        },
        "outputId": "464241c3-e123-4da2-9326-14e24a47ae90"
      },
      "source": [
        "pd.options.mode.chained_assignment = None  # default='warn', pandas is warning that operations are not apply on orginal frame\n",
        "final_results = {}\n",
        "\n",
        "for key in cleared_df:\n",
        "    cl_data = cleared_df[key]\n",
        "    cl_data['WS10m'] = cl_data['WS10m'].astype(float)\n",
        "    cl_data['WS30m'] = cl_data['WS10m'].apply(lambda x: x*(h_t1/h_orginal)**(alpha))\n",
        "    cl_data['WS80m'] = cl_data['WS10m'].apply(lambda x: x*(h_t2/h_orginal)**(alpha))\n",
        "    final_results[key] = cl_data\n",
        "final_results[list(dataframes.keys())[0]]"
      ],
      "execution_count": null,
      "outputs": [
        {
          "output_type": "execute_result",
          "data": {
            "text/html": [
              "<div>\n",
              "<style scoped>\n",
              "    .dataframe tbody tr th:only-of-type {\n",
              "        vertical-align: middle;\n",
              "    }\n",
              "\n",
              "    .dataframe tbody tr th {\n",
              "        vertical-align: top;\n",
              "    }\n",
              "\n",
              "    .dataframe thead th {\n",
              "        text-align: right;\n",
              "    }\n",
              "</style>\n",
              "<table border=\"1\" class=\"dataframe\">\n",
              "  <thead>\n",
              "    <tr style=\"text-align: right;\">\n",
              "      <th></th>\n",
              "      <th>time(UTC)</th>\n",
              "      <th>T2m</th>\n",
              "      <th>RH</th>\n",
              "      <th>G(h)</th>\n",
              "      <th>Gb(n)</th>\n",
              "      <th>Gd(h)</th>\n",
              "      <th>IR(h)</th>\n",
              "      <th>WS10m</th>\n",
              "      <th>WD10m</th>\n",
              "      <th>SP</th>\n",
              "      <th>Hour</th>\n",
              "      <th>WS30m</th>\n",
              "      <th>WS80m</th>\n",
              "    </tr>\n",
              "  </thead>\n",
              "  <tbody>\n",
              "    <tr>\n",
              "      <th>0</th>\n",
              "      <td>2018-01-01 00:00:00</td>\n",
              "      <td>-2.96</td>\n",
              "      <td>89.35</td>\n",
              "      <td>0.0</td>\n",
              "      <td>-0.0</td>\n",
              "      <td>0.0</td>\n",
              "      <td>265.03</td>\n",
              "      <td>4.07</td>\n",
              "      <td>190.0</td>\n",
              "      <td>96549.0</td>\n",
              "      <td>1</td>\n",
              "      <td>4.852145</td>\n",
              "      <td>5.676607</td>\n",
              "    </tr>\n",
              "    <tr>\n",
              "      <th>1</th>\n",
              "      <td>2018-01-01 01:00:00</td>\n",
              "      <td>-2.92</td>\n",
              "      <td>89.38</td>\n",
              "      <td>0.0</td>\n",
              "      <td>-0.0</td>\n",
              "      <td>0.0</td>\n",
              "      <td>264.43</td>\n",
              "      <td>4.19</td>\n",
              "      <td>184.0</td>\n",
              "      <td>96549.0</td>\n",
              "      <td>2</td>\n",
              "      <td>4.995206</td>\n",
              "      <td>5.843976</td>\n",
              "    </tr>\n",
              "    <tr>\n",
              "      <th>2</th>\n",
              "      <td>2018-01-01 02:00:00</td>\n",
              "      <td>-2.88</td>\n",
              "      <td>89.41</td>\n",
              "      <td>0.0</td>\n",
              "      <td>-0.0</td>\n",
              "      <td>0.0</td>\n",
              "      <td>263.84</td>\n",
              "      <td>4.31</td>\n",
              "      <td>178.0</td>\n",
              "      <td>96549.0</td>\n",
              "      <td>3</td>\n",
              "      <td>5.138267</td>\n",
              "      <td>6.011345</td>\n",
              "    </tr>\n",
              "    <tr>\n",
              "      <th>3</th>\n",
              "      <td>2018-01-01 03:00:00</td>\n",
              "      <td>-2.84</td>\n",
              "      <td>89.44</td>\n",
              "      <td>0.0</td>\n",
              "      <td>-0.0</td>\n",
              "      <td>0.0</td>\n",
              "      <td>263.25</td>\n",
              "      <td>4.44</td>\n",
              "      <td>176.0</td>\n",
              "      <td>96536.0</td>\n",
              "      <td>4</td>\n",
              "      <td>5.293250</td>\n",
              "      <td>6.192662</td>\n",
              "    </tr>\n",
              "    <tr>\n",
              "      <th>4</th>\n",
              "      <td>2018-01-01 04:00:00</td>\n",
              "      <td>-2.8</td>\n",
              "      <td>89.48</td>\n",
              "      <td>0.0</td>\n",
              "      <td>-0.0</td>\n",
              "      <td>0.0</td>\n",
              "      <td>262.66</td>\n",
              "      <td>4.56</td>\n",
              "      <td>175.0</td>\n",
              "      <td>96524.0</td>\n",
              "      <td>5</td>\n",
              "      <td>5.436310</td>\n",
              "      <td>6.360031</td>\n",
              "    </tr>\n",
              "    <tr>\n",
              "      <th>...</th>\n",
              "      <td>...</td>\n",
              "      <td>...</td>\n",
              "      <td>...</td>\n",
              "      <td>...</td>\n",
              "      <td>...</td>\n",
              "      <td>...</td>\n",
              "      <td>...</td>\n",
              "      <td>...</td>\n",
              "      <td>...</td>\n",
              "      <td>...</td>\n",
              "      <td>...</td>\n",
              "      <td>...</td>\n",
              "      <td>...</td>\n",
              "    </tr>\n",
              "    <tr>\n",
              "      <th>8755</th>\n",
              "      <td>2018-12-31 19:00:00</td>\n",
              "      <td>-3.16</td>\n",
              "      <td>89.18</td>\n",
              "      <td>0.0</td>\n",
              "      <td>-0.0</td>\n",
              "      <td>0.0</td>\n",
              "      <td>267.98</td>\n",
              "      <td>3.45</td>\n",
              "      <td>264.0</td>\n",
              "      <td>97325.0</td>\n",
              "      <td>8756</td>\n",
              "      <td>4.112998</td>\n",
              "      <td>4.811866</td>\n",
              "    </tr>\n",
              "    <tr>\n",
              "      <th>8756</th>\n",
              "      <td>2018-12-31 20:00:00</td>\n",
              "      <td>-3.12</td>\n",
              "      <td>89.22</td>\n",
              "      <td>0.0</td>\n",
              "      <td>-0.0</td>\n",
              "      <td>0.0</td>\n",
              "      <td>267.39</td>\n",
              "      <td>3.58</td>\n",
              "      <td>264.0</td>\n",
              "      <td>97321.0</td>\n",
              "      <td>8757</td>\n",
              "      <td>4.267981</td>\n",
              "      <td>4.993182</td>\n",
              "    </tr>\n",
              "    <tr>\n",
              "      <th>8757</th>\n",
              "      <td>2018-12-31 21:00:00</td>\n",
              "      <td>-3.08</td>\n",
              "      <td>89.25</td>\n",
              "      <td>0.0</td>\n",
              "      <td>-0.0</td>\n",
              "      <td>0.0</td>\n",
              "      <td>266.8</td>\n",
              "      <td>3.70</td>\n",
              "      <td>261.0</td>\n",
              "      <td>97293.0</td>\n",
              "      <td>8758</td>\n",
              "      <td>4.411041</td>\n",
              "      <td>5.160552</td>\n",
              "    </tr>\n",
              "    <tr>\n",
              "      <th>8758</th>\n",
              "      <td>2018-12-31 22:00:00</td>\n",
              "      <td>-3.04</td>\n",
              "      <td>89.28</td>\n",
              "      <td>0.0</td>\n",
              "      <td>-0.0</td>\n",
              "      <td>0.0</td>\n",
              "      <td>266.21</td>\n",
              "      <td>3.82</td>\n",
              "      <td>257.0</td>\n",
              "      <td>97264.0</td>\n",
              "      <td>8759</td>\n",
              "      <td>4.554102</td>\n",
              "      <td>5.327921</td>\n",
              "    </tr>\n",
              "    <tr>\n",
              "      <th>8759</th>\n",
              "      <td>2018-12-31 23:00:00</td>\n",
              "      <td>-3.0</td>\n",
              "      <td>89.31</td>\n",
              "      <td>0.0</td>\n",
              "      <td>-0.0</td>\n",
              "      <td>0.0</td>\n",
              "      <td>265.62</td>\n",
              "      <td>3.95</td>\n",
              "      <td>254.0</td>\n",
              "      <td>97236.0</td>\n",
              "      <td>8760</td>\n",
              "      <td>4.709085</td>\n",
              "      <td>5.509237</td>\n",
              "    </tr>\n",
              "  </tbody>\n",
              "</table>\n",
              "<p>8760 rows × 13 columns</p>\n",
              "</div>"
            ],
            "text/plain": [
              "               time(UTC)    T2m     RH G(h)  ...       SP  Hour     WS30m     WS80m\n",
              "0    2018-01-01 00:00:00  -2.96  89.35  0.0  ...  96549.0     1  4.852145  5.676607\n",
              "1    2018-01-01 01:00:00  -2.92  89.38  0.0  ...  96549.0     2  4.995206  5.843976\n",
              "2    2018-01-01 02:00:00  -2.88  89.41  0.0  ...  96549.0     3  5.138267  6.011345\n",
              "3    2018-01-01 03:00:00  -2.84  89.44  0.0  ...  96536.0     4  5.293250  6.192662\n",
              "4    2018-01-01 04:00:00   -2.8  89.48  0.0  ...  96524.0     5  5.436310  6.360031\n",
              "...                  ...    ...    ...  ...  ...      ...   ...       ...       ...\n",
              "8755 2018-12-31 19:00:00  -3.16  89.18  0.0  ...  97325.0  8756  4.112998  4.811866\n",
              "8756 2018-12-31 20:00:00  -3.12  89.22  0.0  ...  97321.0  8757  4.267981  4.993182\n",
              "8757 2018-12-31 21:00:00  -3.08  89.25  0.0  ...  97293.0  8758  4.411041  5.160552\n",
              "8758 2018-12-31 22:00:00  -3.04  89.28  0.0  ...  97264.0  8759  4.554102  5.327921\n",
              "8759 2018-12-31 23:00:00   -3.0  89.31  0.0  ...  97236.0  8760  4.709085  5.509237\n",
              "\n",
              "[8760 rows x 13 columns]"
            ]
          },
          "metadata": {
            "tags": []
          },
          "execution_count": 62
        }
      ]
    },
    {
      "cell_type": "markdown",
      "metadata": {
        "id": "w_Qz5B7d0xHi"
      },
      "source": [
        "3. Matching the turbine power value depending on the wind speed"
      ]
    },
    {
      "cell_type": "code",
      "metadata": {
        "colab": {
          "base_uri": "https://localhost:8080/",
          "height": 419
        },
        "id": "v1BNCXvalkPh",
        "outputId": "d405b3aa-6e5f-4a4a-8098-30f4a4090152"
      },
      "source": [
        "for key in final_results:\n",
        "\n",
        "    dataP30 = pd.merge_asof(final_results[key].sort_values('WS30m'), turbine_20kW, on='WS30m')\n",
        "    final_results[key] = dataP30\n",
        "    dataP80 = pd.merge_asof(final_results[key].sort_values('WS80m'), turbine_2MW, on='WS80m')\n",
        "    dataP80.sort_values('Hour', inplace=True)\n",
        "    dataP80.reset_index(drop=True, inplace=True) \n",
        "    final_results[key] = dataP80\n",
        "    \n",
        "final_results[list(dataframes.keys())[0]]"
      ],
      "execution_count": null,
      "outputs": [
        {
          "output_type": "execute_result",
          "data": {
            "text/html": [
              "<div>\n",
              "<style scoped>\n",
              "    .dataframe tbody tr th:only-of-type {\n",
              "        vertical-align: middle;\n",
              "    }\n",
              "\n",
              "    .dataframe tbody tr th {\n",
              "        vertical-align: top;\n",
              "    }\n",
              "\n",
              "    .dataframe thead th {\n",
              "        text-align: right;\n",
              "    }\n",
              "</style>\n",
              "<table border=\"1\" class=\"dataframe\">\n",
              "  <thead>\n",
              "    <tr style=\"text-align: right;\">\n",
              "      <th></th>\n",
              "      <th>time(UTC)</th>\n",
              "      <th>T2m</th>\n",
              "      <th>RH</th>\n",
              "      <th>G(h)</th>\n",
              "      <th>Gb(n)</th>\n",
              "      <th>Gd(h)</th>\n",
              "      <th>IR(h)</th>\n",
              "      <th>WS10m</th>\n",
              "      <th>WD10m</th>\n",
              "      <th>SP</th>\n",
              "      <th>Hour</th>\n",
              "      <th>WS30m</th>\n",
              "      <th>WS80m</th>\n",
              "      <th>P30m</th>\n",
              "      <th>P80m</th>\n",
              "    </tr>\n",
              "  </thead>\n",
              "  <tbody>\n",
              "    <tr>\n",
              "      <th>0</th>\n",
              "      <td>2018-01-01 00:00:00</td>\n",
              "      <td>-2.96</td>\n",
              "      <td>89.35</td>\n",
              "      <td>0.0</td>\n",
              "      <td>-0.0</td>\n",
              "      <td>0.0</td>\n",
              "      <td>265.03</td>\n",
              "      <td>4.07</td>\n",
              "      <td>190.0</td>\n",
              "      <td>96549.0</td>\n",
              "      <td>1</td>\n",
              "      <td>4.852145</td>\n",
              "      <td>5.676607</td>\n",
              "      <td>1.35</td>\n",
              "      <td>284.2</td>\n",
              "    </tr>\n",
              "    <tr>\n",
              "      <th>1</th>\n",
              "      <td>2018-01-01 01:00:00</td>\n",
              "      <td>-2.92</td>\n",
              "      <td>89.38</td>\n",
              "      <td>0.0</td>\n",
              "      <td>-0.0</td>\n",
              "      <td>0.0</td>\n",
              "      <td>264.43</td>\n",
              "      <td>4.19</td>\n",
              "      <td>184.0</td>\n",
              "      <td>96549.0</td>\n",
              "      <td>2</td>\n",
              "      <td>4.995206</td>\n",
              "      <td>5.843976</td>\n",
              "      <td>1.35</td>\n",
              "      <td>284.2</td>\n",
              "    </tr>\n",
              "    <tr>\n",
              "      <th>2</th>\n",
              "      <td>2018-01-01 02:00:00</td>\n",
              "      <td>-2.88</td>\n",
              "      <td>89.41</td>\n",
              "      <td>0.0</td>\n",
              "      <td>-0.0</td>\n",
              "      <td>0.0</td>\n",
              "      <td>263.84</td>\n",
              "      <td>4.31</td>\n",
              "      <td>178.0</td>\n",
              "      <td>96549.0</td>\n",
              "      <td>3</td>\n",
              "      <td>5.138267</td>\n",
              "      <td>6.011345</td>\n",
              "      <td>2.80</td>\n",
              "      <td>390.9</td>\n",
              "    </tr>\n",
              "    <tr>\n",
              "      <th>3</th>\n",
              "      <td>2018-01-01 03:00:00</td>\n",
              "      <td>-2.84</td>\n",
              "      <td>89.44</td>\n",
              "      <td>0.0</td>\n",
              "      <td>-0.0</td>\n",
              "      <td>0.0</td>\n",
              "      <td>263.25</td>\n",
              "      <td>4.44</td>\n",
              "      <td>176.0</td>\n",
              "      <td>96536.0</td>\n",
              "      <td>4</td>\n",
              "      <td>5.293250</td>\n",
              "      <td>6.192662</td>\n",
              "      <td>2.80</td>\n",
              "      <td>390.9</td>\n",
              "    </tr>\n",
              "    <tr>\n",
              "      <th>4</th>\n",
              "      <td>2018-01-01 04:00:00</td>\n",
              "      <td>-2.8</td>\n",
              "      <td>89.48</td>\n",
              "      <td>0.0</td>\n",
              "      <td>-0.0</td>\n",
              "      <td>0.0</td>\n",
              "      <td>262.66</td>\n",
              "      <td>4.56</td>\n",
              "      <td>175.0</td>\n",
              "      <td>96524.0</td>\n",
              "      <td>5</td>\n",
              "      <td>5.436310</td>\n",
              "      <td>6.360031</td>\n",
              "      <td>2.80</td>\n",
              "      <td>390.9</td>\n",
              "    </tr>\n",
              "    <tr>\n",
              "      <th>...</th>\n",
              "      <td>...</td>\n",
              "      <td>...</td>\n",
              "      <td>...</td>\n",
              "      <td>...</td>\n",
              "      <td>...</td>\n",
              "      <td>...</td>\n",
              "      <td>...</td>\n",
              "      <td>...</td>\n",
              "      <td>...</td>\n",
              "      <td>...</td>\n",
              "      <td>...</td>\n",
              "      <td>...</td>\n",
              "      <td>...</td>\n",
              "      <td>...</td>\n",
              "      <td>...</td>\n",
              "    </tr>\n",
              "    <tr>\n",
              "      <th>8755</th>\n",
              "      <td>2018-12-31 19:00:00</td>\n",
              "      <td>-3.16</td>\n",
              "      <td>89.18</td>\n",
              "      <td>0.0</td>\n",
              "      <td>-0.0</td>\n",
              "      <td>0.0</td>\n",
              "      <td>267.98</td>\n",
              "      <td>3.45</td>\n",
              "      <td>264.0</td>\n",
              "      <td>97325.0</td>\n",
              "      <td>8756</td>\n",
              "      <td>4.112998</td>\n",
              "      <td>4.811866</td>\n",
              "      <td>1.35</td>\n",
              "      <td>145.2</td>\n",
              "    </tr>\n",
              "    <tr>\n",
              "      <th>8756</th>\n",
              "      <td>2018-12-31 20:00:00</td>\n",
              "      <td>-3.12</td>\n",
              "      <td>89.22</td>\n",
              "      <td>0.0</td>\n",
              "      <td>-0.0</td>\n",
              "      <td>0.0</td>\n",
              "      <td>267.39</td>\n",
              "      <td>3.58</td>\n",
              "      <td>264.0</td>\n",
              "      <td>97321.0</td>\n",
              "      <td>8757</td>\n",
              "      <td>4.267981</td>\n",
              "      <td>4.993182</td>\n",
              "      <td>1.35</td>\n",
              "      <td>145.2</td>\n",
              "    </tr>\n",
              "    <tr>\n",
              "      <th>8757</th>\n",
              "      <td>2018-12-31 21:00:00</td>\n",
              "      <td>-3.08</td>\n",
              "      <td>89.25</td>\n",
              "      <td>0.0</td>\n",
              "      <td>-0.0</td>\n",
              "      <td>0.0</td>\n",
              "      <td>266.8</td>\n",
              "      <td>3.70</td>\n",
              "      <td>261.0</td>\n",
              "      <td>97293.0</td>\n",
              "      <td>8758</td>\n",
              "      <td>4.411041</td>\n",
              "      <td>5.160552</td>\n",
              "      <td>1.35</td>\n",
              "      <td>211.3</td>\n",
              "    </tr>\n",
              "    <tr>\n",
              "      <th>8758</th>\n",
              "      <td>2018-12-31 22:00:00</td>\n",
              "      <td>-3.04</td>\n",
              "      <td>89.28</td>\n",
              "      <td>0.0</td>\n",
              "      <td>-0.0</td>\n",
              "      <td>0.0</td>\n",
              "      <td>266.21</td>\n",
              "      <td>3.82</td>\n",
              "      <td>257.0</td>\n",
              "      <td>97264.0</td>\n",
              "      <td>8759</td>\n",
              "      <td>4.554102</td>\n",
              "      <td>5.327921</td>\n",
              "      <td>1.35</td>\n",
              "      <td>211.3</td>\n",
              "    </tr>\n",
              "    <tr>\n",
              "      <th>8759</th>\n",
              "      <td>2018-12-31 23:00:00</td>\n",
              "      <td>-3.0</td>\n",
              "      <td>89.31</td>\n",
              "      <td>0.0</td>\n",
              "      <td>-0.0</td>\n",
              "      <td>0.0</td>\n",
              "      <td>265.62</td>\n",
              "      <td>3.95</td>\n",
              "      <td>254.0</td>\n",
              "      <td>97236.0</td>\n",
              "      <td>8760</td>\n",
              "      <td>4.709085</td>\n",
              "      <td>5.509237</td>\n",
              "      <td>1.35</td>\n",
              "      <td>284.2</td>\n",
              "    </tr>\n",
              "  </tbody>\n",
              "</table>\n",
              "<p>8760 rows × 15 columns</p>\n",
              "</div>"
            ],
            "text/plain": [
              "               time(UTC)    T2m     RH G(h)  ...     WS30m     WS80m  P30m   P80m\n",
              "0    2018-01-01 00:00:00  -2.96  89.35  0.0  ...  4.852145  5.676607  1.35  284.2\n",
              "1    2018-01-01 01:00:00  -2.92  89.38  0.0  ...  4.995206  5.843976  1.35  284.2\n",
              "2    2018-01-01 02:00:00  -2.88  89.41  0.0  ...  5.138267  6.011345  2.80  390.9\n",
              "3    2018-01-01 03:00:00  -2.84  89.44  0.0  ...  5.293250  6.192662  2.80  390.9\n",
              "4    2018-01-01 04:00:00   -2.8  89.48  0.0  ...  5.436310  6.360031  2.80  390.9\n",
              "...                  ...    ...    ...  ...  ...       ...       ...   ...    ...\n",
              "8755 2018-12-31 19:00:00  -3.16  89.18  0.0  ...  4.112998  4.811866  1.35  145.2\n",
              "8756 2018-12-31 20:00:00  -3.12  89.22  0.0  ...  4.267981  4.993182  1.35  145.2\n",
              "8757 2018-12-31 21:00:00  -3.08  89.25  0.0  ...  4.411041  5.160552  1.35  211.3\n",
              "8758 2018-12-31 22:00:00  -3.04  89.28  0.0  ...  4.554102  5.327921  1.35  211.3\n",
              "8759 2018-12-31 23:00:00   -3.0  89.31  0.0  ...  4.709085  5.509237  1.35  284.2\n",
              "\n",
              "[8760 rows x 15 columns]"
            ]
          },
          "metadata": {
            "tags": []
          },
          "execution_count": 63
        }
      ]
    },
    {
      "cell_type": "markdown",
      "metadata": {
        "id": "agehKArOX0Wk"
      },
      "source": [
        "### Calculating average of yearly electricity production for all region"
      ]
    },
    {
      "cell_type": "code",
      "metadata": {
        "id": "ixMct3J9voUp"
      },
      "source": [
        "num_regions = len(final_results)\n",
        "sum_energy_30=0\n",
        "sum_energy_80=0 \n",
        "\n",
        "for key in final_results:\n",
        "    sum_energy_30 += final_results[key]['P30m'].sum()\n",
        "    sum_energy_80 += final_results[key]['P80m'].sum()\n",
        "\n",
        "ave_30 = sum_energy_30/num_regions\n",
        "ave_80 = sum_energy_80/num_regions"
      ],
      "execution_count": null,
      "outputs": []
    },
    {
      "cell_type": "markdown",
      "metadata": {
        "id": "A-_RKgzJbK41"
      },
      "source": [
        "Average amount of energy produced annually by a 20kW turbine for the region [GWh]: "
      ]
    },
    {
      "cell_type": "code",
      "metadata": {
        "colab": {
          "base_uri": "https://localhost:8080/"
        },
        "id": "hz1pD-7aZGjE",
        "outputId": "1d2c979a-df4e-4ec5-ecc7-beaa7779a9ff"
      },
      "source": [
        "ave_30_GWh = np.round(ave_30/1000000, 4)\n",
        "ave_30_GWh"
      ],
      "execution_count": null,
      "outputs": [
        {
          "output_type": "execute_result",
          "data": {
            "text/plain": [
              "0.011"
            ]
          },
          "metadata": {
            "tags": []
          },
          "execution_count": 26
        }
      ]
    },
    {
      "cell_type": "markdown",
      "metadata": {
        "id": "GSARsahwfSTR"
      },
      "source": [
        "Average amount of energy produced annually by a 2MW turbine for the region [GWh]:"
      ]
    },
    {
      "cell_type": "code",
      "metadata": {
        "colab": {
          "base_uri": "https://localhost:8080/"
        },
        "id": "SgENVBcRfSAU",
        "outputId": "44b7feae-c142-4b4f-dabf-16944ef6ac00"
      },
      "source": [
        "ave_80_GWh = np.round(ave_80/1000000, 4)\n",
        "ave_80_GWh"
      ],
      "execution_count": null,
      "outputs": [
        {
          "output_type": "execute_result",
          "data": {
            "text/plain": [
              "1.5926"
            ]
          },
          "metadata": {
            "tags": []
          },
          "execution_count": 27
        }
      ]
    },
    {
      "cell_type": "markdown",
      "metadata": {
        "id": "OiMzz4jguFHl"
      },
      "source": [
        "### Plots"
      ]
    },
    {
      "cell_type": "code",
      "metadata": {
        "colab": {
          "base_uri": "https://localhost:8080/",
          "height": 17
        },
        "id": "8_ueJnhxuJHX",
        "outputId": "bef2788d-119c-4485-f158-9bd951d20554"
      },
      "source": [
        "import plotly.offline as offline\n",
        "import plotly.graph_objs as go\n",
        "\n",
        "offline.init_notebook_mode(connected=True)"
      ],
      "execution_count": null,
      "outputs": [
        {
          "output_type": "display_data",
          "data": {
            "text/html": [
              "        <script type=\"text/javascript\">\n",
              "        window.PlotlyConfig = {MathJaxConfig: 'local'};\n",
              "        if (window.MathJax) {MathJax.Hub.Config({SVG: {font: \"STIX-Web\"}});}\n",
              "        if (typeof require !== 'undefined') {\n",
              "        require.undef(\"plotly\");\n",
              "        requirejs.config({\n",
              "            paths: {\n",
              "                'plotly': ['https://cdn.plot.ly/plotly-latest.min']\n",
              "            }\n",
              "        });\n",
              "        require(['plotly'], function(Plotly) {\n",
              "            window._Plotly = Plotly;\n",
              "        });\n",
              "        }\n",
              "        </script>\n",
              "        "
            ]
          },
          "metadata": {
            "tags": []
          }
        }
      ]
    },
    {
      "cell_type": "code",
      "metadata": {
        "colab": {
          "base_uri": "https://localhost:8080/",
          "height": 542
        },
        "id": "3Xm0mk52wIGX",
        "outputId": "e07d3b70-b497-4c9a-ae4c-a753bec65e78"
      },
      "source": [
        "#set dataframe for which you want to plot\n",
        "df ='Limanowski' \n",
        "\n",
        "trace = go.Bar(x=final_results[df]['time(UTC)'],\n",
        "               y=final_results[df]['P80m'],\n",
        "               marker_color='rgb(55, 83, 109)')\n",
        "\n",
        "layout_ = go.Layout(title=dict(text = 'Hourly energy production for a 2 MW turbine',\n",
        "                               xanchor = 'auto'), \n",
        "                  titlefont = dict(family='Arial', size=15),\n",
        "                  yaxis = dict(title = 'Produced energy [MW]'),\n",
        "                  xaxis = dict(rangeselector = dict(buttons = list([dict(count = 8760,\n",
        "                                                           label = 'Q1',\n",
        "                                                           step = 'hour',\n",
        "                                                           stepmode = 'backward'),\n",
        "\n",
        "                                                           dict(count = 6570,\n",
        "                                                           label = 'Q2',\n",
        "                                                           step = 'hour',\n",
        "                                                           stepmode = 'backward'),\n",
        "\n",
        "                                                           dict(count = 4380,\n",
        "                                                           label = 'Q3',\n",
        "                                                           step = 'hour',\n",
        "                                                           stepmode = 'backward'),\n",
        "\n",
        "                                                           dict(count = 2190,\n",
        "                                                           label = 'Q4',\n",
        "                                                           step = 'hour',\n",
        "                                                           stepmode = 'backward'),\n",
        "                                                  \n",
        "                                                     \n",
        "                                                           \n",
        "                                                      dict(step = 'all')])\n",
        "                                     ),\n",
        "                               rangeslider=dict(visible=True),\n",
        "                        type ='date',\n",
        "                        title ='Hours of the year'),\n",
        "                    \n",
        "                     plot_bgcolor='skyblue',\n",
        "                                      \n",
        ")\n",
        "\n",
        "\n",
        "\n",
        "data_ = [trace]\n",
        "fig = go.Figure(data=data_, layout=layout_)\n",
        "\n",
        "\n",
        "fig.show(renderer=\"colab\")"
      ],
      "execution_count": null,
      "outputs": [
        {
          "output_type": "display_data",
          "data": {
            "text/html": [
              "<html>\n",
              "<head><meta charset=\"utf-8\" /></head>\n",
              "<body>\n",
              "    <div>            <script src=\"https://cdnjs.cloudflare.com/ajax/libs/mathjax/2.7.5/MathJax.js?config=TeX-AMS-MML_SVG\"></script><script type=\"text/javascript\">if (window.MathJax) {MathJax.Hub.Config({SVG: {font: \"STIX-Web\"}});}</script>                <script type=\"text/javascript\">window.PlotlyConfig = {MathJaxConfig: 'local'};</script>\n",
              "        <script src=\"https://cdn.plot.ly/plotly-latest.min.js\"></script>                <div id=\"22a653a8-4edf-422f-9d4d-a0269c4e3850\" class=\"plotly-graph-div\" style=\"height:525px; width:100%;\"></div>            <script type=\"text/javascript\">                                    window.PLOTLYENV=window.PLOTLYENV || {};                                    if (document.getElementById(\"22a653a8-4edf-422f-9d4d-a0269c4e3850\")) {                    Plotly.newPlot(                        \"22a653a8-4edf-422f-9d4d-a0269c4e3850\",                        [{\"marker\": {\"color\": \"rgb(55, 83, 109)\"}, \"type\": \"bar\", \"x\": [\"2018-01-01T00:00:00\", \"2018-01-01T01:00:00\", \"2018-01-01T02:00:00\", \"2018-01-01T03:00:00\", \"2018-01-01T04:00:00\", \"2018-01-01T05:00:00\", \"2018-01-01T06:00:00\", \"2018-01-01T07:00:00\", \"2018-01-01T08:00:00\", \"2018-01-01T09:00:00\", \"2018-01-01T10:00:00\", \"2018-01-01T11:00:00\", \"2018-01-01T12:00:00\", \"2018-01-01T13:00:00\", \"2018-01-01T14:00:00\", \"2018-01-01T15:00:00\", \"2018-01-01T16:00:00\", \"2018-01-01T17:00:00\", \"2018-01-01T18:00:00\", \"2018-01-01T19:00:00\", \"2018-01-01T20:00:00\", \"2018-01-01T21:00:00\", \"2018-01-01T22:00:00\", \"2018-01-01T23:00:00\", \"2018-01-02T00:00:00\", \"2018-01-02T01:00:00\", \"2018-01-02T02:00:00\", \"2018-01-02T03:00:00\", \"2018-01-02T04:00:00\", \"2018-01-02T05:00:00\", \"2018-01-02T06:00:00\", \"2018-01-02T07:00:00\", \"2018-01-02T08:00:00\", \"2018-01-02T09:00:00\", \"2018-01-02T10:00:00\", \"2018-01-02T11:00:00\", \"2018-01-02T12:00:00\", \"2018-01-02T13:00:00\", \"2018-01-02T14:00:00\", \"2018-01-02T15:00:00\", \"2018-01-02T16:00:00\", \"2018-01-02T17:00:00\", \"2018-01-02T18:00:00\", \"2018-01-02T19:00:00\", \"2018-01-02T20:00:00\", \"2018-01-02T21:00:00\", \"2018-01-02T22:00:00\", \"2018-01-02T23:00:00\", \"2018-01-03T00:00:00\", \"2018-01-03T01:00:00\", \"2018-01-03T02:00:00\", \"2018-01-03T03:00:00\", \"2018-01-03T04:00:00\", \"2018-01-03T05:00:00\", \"2018-01-03T06:00:00\", \"2018-01-03T07:00:00\", \"2018-01-03T08:00:00\", \"2018-01-03T09:00:00\", \"2018-01-03T10:00:00\", \"2018-01-03T11:00:00\", \"2018-01-03T12:00:00\", \"2018-01-03T13:00:00\", \"2018-01-03T14:00:00\", \"2018-01-03T15:00:00\", \"2018-01-03T16:00:00\", \"2018-01-03T17:00:00\", \"2018-01-03T18:00:00\", \"2018-01-03T19:00:00\", \"2018-01-03T20:00:00\", \"2018-01-03T21:00:00\", \"2018-01-03T22:00:00\", \"2018-01-03T23:00:00\", \"2018-01-04T00:00:00\", \"2018-01-04T01:00:00\", \"2018-01-04T02:00:00\", \"2018-01-04T03:00:00\", \"2018-01-04T04:00:00\", \"2018-01-04T05:00:00\", \"2018-01-04T06:00:00\", \"2018-01-04T07:00:00\", \"2018-01-04T08:00:00\", \"2018-01-04T09:00:00\", \"2018-01-04T10:00:00\", \"2018-01-04T11:00:00\", \"2018-01-04T12:00:00\", \"2018-01-04T13:00:00\", \"2018-01-04T14:00:00\", \"2018-01-04T15:00:00\", \"2018-01-04T16:00:00\", \"2018-01-04T17:00:00\", \"2018-01-04T18:00:00\", \"2018-01-04T19:00:00\", \"2018-01-04T20:00:00\", \"2018-01-04T21:00:00\", \"2018-01-04T22:00:00\", \"2018-01-04T23:00:00\", \"2018-01-05T00:00:00\", \"2018-01-05T01:00:00\", \"2018-01-05T02:00:00\", \"2018-01-05T03:00:00\", \"2018-01-05T04:00:00\", \"2018-01-05T05:00:00\", \"2018-01-05T06:00:00\", \"2018-01-05T07:00:00\", \"2018-01-05T08:00:00\", \"2018-01-05T09:00:00\", \"2018-01-05T10:00:00\", \"2018-01-05T11:00:00\", \"2018-01-05T12:00:00\", \"2018-01-05T13:00:00\", \"2018-01-05T14:00:00\", \"2018-01-05T15:00:00\", \"2018-01-05T16:00:00\", \"2018-01-05T17:00:00\", \"2018-01-05T18:00:00\", \"2018-01-05T19:00:00\", \"2018-01-05T20:00:00\", \"2018-01-05T21:00:00\", \"2018-01-05T22:00:00\", \"2018-01-05T23:00:00\", \"2018-01-06T00:00:00\", \"2018-01-06T01:00:00\", \"2018-01-06T02:00:00\", \"2018-01-06T03:00:00\", \"2018-01-06T04:00:00\", \"2018-01-06T05:00:00\", \"2018-01-06T06:00:00\", \"2018-01-06T07:00:00\", \"2018-01-06T08:00:00\", \"2018-01-06T09:00:00\", \"2018-01-06T10:00:00\", \"2018-01-06T11:00:00\", \"2018-01-06T12:00:00\", \"2018-01-06T13:00:00\", \"2018-01-06T14:00:00\", \"2018-01-06T15:00:00\", \"2018-01-06T16:00:00\", \"2018-01-06T17:00:00\", \"2018-01-06T18:00:00\", \"2018-01-06T19:00:00\", \"2018-01-06T20:00:00\", \"2018-01-06T21:00:00\", \"2018-01-06T22:00:00\", \"2018-01-06T23:00:00\", \"2018-01-07T00:00:00\", \"2018-01-07T01:00:00\", \"2018-01-07T02:00:00\", \"2018-01-07T03:00:00\", \"2018-01-07T04:00:00\", \"2018-01-07T05:00:00\", \"2018-01-07T06:00:00\", \"2018-01-07T07:00:00\", \"2018-01-07T08:00:00\", \"2018-01-07T09:00:00\", \"2018-01-07T10:00:00\", \"2018-01-07T11:00:00\", \"2018-01-07T12:00:00\", \"2018-01-07T13:00:00\", \"2018-01-07T14:00:00\", \"2018-01-07T15:00:00\", \"2018-01-07T16:00:00\", \"2018-01-07T17:00:00\", \"2018-01-07T18:00:00\", \"2018-01-07T19:00:00\", \"2018-01-07T20:00:00\", \"2018-01-07T21:00:00\", \"2018-01-07T22:00:00\", \"2018-01-07T23:00:00\", \"2018-01-08T00:00:00\", \"2018-01-08T01:00:00\", \"2018-01-08T02:00:00\", \"2018-01-08T03:00:00\", \"2018-01-08T04:00:00\", \"2018-01-08T05:00:00\", \"2018-01-08T06:00:00\", \"2018-01-08T07:00:00\", \"2018-01-08T08:00:00\", \"2018-01-08T09:00:00\", \"2018-01-08T10:00:00\", \"2018-01-08T11:00:00\", \"2018-01-08T12:00:00\", \"2018-01-08T13:00:00\", \"2018-01-08T14:00:00\", \"2018-01-08T15:00:00\", \"2018-01-08T16:00:00\", \"2018-01-08T17:00:00\", \"2018-01-08T18:00:00\", \"2018-01-08T19:00:00\", \"2018-01-08T20:00:00\", \"2018-01-08T21:00:00\", \"2018-01-08T22:00:00\", \"2018-01-08T23:00:00\", \"2018-01-09T00:00:00\", \"2018-01-09T01:00:00\", \"2018-01-09T02:00:00\", \"2018-01-09T03:00:00\", \"2018-01-09T04:00:00\", \"2018-01-09T05:00:00\", \"2018-01-09T06:00:00\", \"2018-01-09T07:00:00\", \"2018-01-09T08:00:00\", \"2018-01-09T09:00:00\", \"2018-01-09T10:00:00\", \"2018-01-09T11:00:00\", \"2018-01-09T12:00:00\", \"2018-01-09T13:00:00\", \"2018-01-09T14:00:00\", \"2018-01-09T15:00:00\", \"2018-01-09T16:00:00\", \"2018-01-09T17:00:00\", \"2018-01-09T18:00:00\", \"2018-01-09T19:00:00\", \"2018-01-09T20:00:00\", \"2018-01-09T21:00:00\", \"2018-01-09T22:00:00\", \"2018-01-09T23:00:00\", \"2018-01-10T00:00:00\", \"2018-01-10T01:00:00\", \"2018-01-10T02:00:00\", \"2018-01-10T03:00:00\", \"2018-01-10T04:00:00\", \"2018-01-10T05:00:00\", \"2018-01-10T06:00:00\", \"2018-01-10T07:00:00\", \"2018-01-10T08:00:00\", \"2018-01-10T09:00:00\", \"2018-01-10T10:00:00\", \"2018-01-10T11:00:00\", \"2018-01-10T12:00:00\", \"2018-01-10T13:00:00\", \"2018-01-10T14:00:00\", \"2018-01-10T15:00:00\", \"2018-01-10T16:00:00\", \"2018-01-10T17:00:00\", \"2018-01-10T18:00:00\", \"2018-01-10T19:00:00\", \"2018-01-10T20:00:00\", \"2018-01-10T21:00:00\", \"2018-01-10T22:00:00\", \"2018-01-10T23:00:00\", \"2018-01-11T00:00:00\", \"2018-01-11T01:00:00\", \"2018-01-11T02:00:00\", \"2018-01-11T03:00:00\", \"2018-01-11T04:00:00\", \"2018-01-11T05:00:00\", \"2018-01-11T06:00:00\", \"2018-01-11T07:00:00\", \"2018-01-11T08:00:00\", \"2018-01-11T09:00:00\", \"2018-01-11T10:00:00\", \"2018-01-11T11:00:00\", \"2018-01-11T12:00:00\", \"2018-01-11T13:00:00\", \"2018-01-11T14:00:00\", \"2018-01-11T15:00:00\", \"2018-01-11T16:00:00\", \"2018-01-11T17:00:00\", \"2018-01-11T18:00:00\", \"2018-01-11T19:00:00\", \"2018-01-11T20:00:00\", \"2018-01-11T21:00:00\", \"2018-01-11T22:00:00\", \"2018-01-11T23:00:00\", \"2018-01-12T00:00:00\", \"2018-01-12T01:00:00\", \"2018-01-12T02:00:00\", \"2018-01-12T03:00:00\", \"2018-01-12T04:00:00\", \"2018-01-12T05:00:00\", \"2018-01-12T06:00:00\", \"2018-01-12T07:00:00\", \"2018-01-12T08:00:00\", \"2018-01-12T09:00:00\", \"2018-01-12T10:00:00\", \"2018-01-12T11:00:00\", \"2018-01-12T12:00:00\", \"2018-01-12T13:00:00\", \"2018-01-12T14:00:00\", \"2018-01-12T15:00:00\", \"2018-01-12T16:00:00\", \"2018-01-12T17:00:00\", \"2018-01-12T18:00:00\", \"2018-01-12T19:00:00\", \"2018-01-12T20:00:00\", \"2018-01-12T21:00:00\", \"2018-01-12T22:00:00\", \"2018-01-12T23:00:00\", \"2018-01-13T00:00:00\", \"2018-01-13T01:00:00\", \"2018-01-13T02:00:00\", \"2018-01-13T03:00:00\", \"2018-01-13T04:00:00\", \"2018-01-13T05:00:00\", \"2018-01-13T06:00:00\", \"2018-01-13T07:00:00\", \"2018-01-13T08:00:00\", \"2018-01-13T09:00:00\", \"2018-01-13T10:00:00\", \"2018-01-13T11:00:00\", \"2018-01-13T12:00:00\", \"2018-01-13T13:00:00\", \"2018-01-13T14:00:00\", \"2018-01-13T15:00:00\", \"2018-01-13T16:00:00\", \"2018-01-13T17:00:00\", \"2018-01-13T18:00:00\", \"2018-01-13T19:00:00\", \"2018-01-13T20:00:00\", \"2018-01-13T21:00:00\", \"2018-01-13T22:00:00\", \"2018-01-13T23:00:00\", \"2018-01-14T00:00:00\", \"2018-01-14T01:00:00\", \"2018-01-14T02:00:00\", \"2018-01-14T03:00:00\", \"2018-01-14T04:00:00\", \"2018-01-14T05:00:00\", \"2018-01-14T06:00:00\", \"2018-01-14T07:00:00\", \"2018-01-14T08:00:00\", \"2018-01-14T09:00:00\", \"2018-01-14T10:00:00\", \"2018-01-14T11:00:00\", \"2018-01-14T12:00:00\", \"2018-01-14T13:00:00\", \"2018-01-14T14:00:00\", \"2018-01-14T15:00:00\", \"2018-01-14T16:00:00\", \"2018-01-14T17:00:00\", \"2018-01-14T18:00:00\", \"2018-01-14T19:00:00\", \"2018-01-14T20:00:00\", \"2018-01-14T21:00:00\", \"2018-01-14T22:00:00\", \"2018-01-14T23:00:00\", \"2018-01-15T00:00:00\", \"2018-01-15T01:00:00\", \"2018-01-15T02:00:00\", \"2018-01-15T03:00:00\", \"2018-01-15T04:00:00\", \"2018-01-15T05:00:00\", \"2018-01-15T06:00:00\", \"2018-01-15T07:00:00\", \"2018-01-15T08:00:00\", \"2018-01-15T09:00:00\", \"2018-01-15T10:00:00\", \"2018-01-15T11:00:00\", \"2018-01-15T12:00:00\", \"2018-01-15T13:00:00\", \"2018-01-15T14:00:00\", \"2018-01-15T15:00:00\", \"2018-01-15T16:00:00\", \"2018-01-15T17:00:00\", \"2018-01-15T18:00:00\", \"2018-01-15T19:00:00\", \"2018-01-15T20:00:00\", \"2018-01-15T21:00:00\", \"2018-01-15T22:00:00\", \"2018-01-15T23:00:00\", \"2018-01-16T00:00:00\", \"2018-01-16T01:00:00\", \"2018-01-16T02:00:00\", \"2018-01-16T03:00:00\", \"2018-01-16T04:00:00\", \"2018-01-16T05:00:00\", \"2018-01-16T06:00:00\", \"2018-01-16T07:00:00\", \"2018-01-16T08:00:00\", \"2018-01-16T09:00:00\", \"2018-01-16T10:00:00\", \"2018-01-16T11:00:00\", \"2018-01-16T12:00:00\", \"2018-01-16T13:00:00\", \"2018-01-16T14:00:00\", \"2018-01-16T15:00:00\", \"2018-01-16T16:00:00\", \"2018-01-16T17:00:00\", \"2018-01-16T18:00:00\", \"2018-01-16T19:00:00\", \"2018-01-16T20:00:00\", \"2018-01-16T21:00:00\", \"2018-01-16T22:00:00\", \"2018-01-16T23:00:00\", \"2018-01-17T00:00:00\", \"2018-01-17T01:00:00\", \"2018-01-17T02:00:00\", \"2018-01-17T03:00:00\", \"2018-01-17T04:00:00\", \"2018-01-17T05:00:00\", \"2018-01-17T06:00:00\", \"2018-01-17T07:00:00\", \"2018-01-17T08:00:00\", \"2018-01-17T09:00:00\", \"2018-01-17T10:00:00\", \"2018-01-17T11:00:00\", \"2018-01-17T12:00:00\", \"2018-01-17T13:00:00\", \"2018-01-17T14:00:00\", \"2018-01-17T15:00:00\", \"2018-01-17T16:00:00\", \"2018-01-17T17:00:00\", \"2018-01-17T18:00:00\", \"2018-01-17T19:00:00\", \"2018-01-17T20:00:00\", \"2018-01-17T21:00:00\", \"2018-01-17T22:00:00\", \"2018-01-17T23:00:00\", \"2018-01-18T00:00:00\", \"2018-01-18T01:00:00\", \"2018-01-18T02:00:00\", \"2018-01-18T03:00:00\", \"2018-01-18T04:00:00\", \"2018-01-18T05:00:00\", \"2018-01-18T06:00:00\", \"2018-01-18T07:00:00\", \"2018-01-18T08:00:00\", \"2018-01-18T09:00:00\", \"2018-01-18T10:00:00\", \"2018-01-18T11:00:00\", \"2018-01-18T12:00:00\", \"2018-01-18T13:00:00\", \"2018-01-18T14:00:00\", \"2018-01-18T15:00:00\", \"2018-01-18T16:00:00\", \"2018-01-18T17:00:00\", \"2018-01-18T18:00:00\", \"2018-01-18T19:00:00\", \"2018-01-18T20:00:00\", \"2018-01-18T21:00:00\", \"2018-01-18T22:00:00\", \"2018-01-18T23:00:00\", \"2018-01-19T00:00:00\", \"2018-01-19T01:00:00\", \"2018-01-19T02:00:00\", \"2018-01-19T03:00:00\", \"2018-01-19T04:00:00\", \"2018-01-19T05:00:00\", \"2018-01-19T06:00:00\", \"2018-01-19T07:00:00\", \"2018-01-19T08:00:00\", \"2018-01-19T09:00:00\", \"2018-01-19T10:00:00\", \"2018-01-19T11:00:00\", \"2018-01-19T12:00:00\", \"2018-01-19T13:00:00\", \"2018-01-19T14:00:00\", \"2018-01-19T15:00:00\", \"2018-01-19T16:00:00\", \"2018-01-19T17:00:00\", \"2018-01-19T18:00:00\", \"2018-01-19T19:00:00\", \"2018-01-19T20:00:00\", \"2018-01-19T21:00:00\", \"2018-01-19T22:00:00\", \"2018-01-19T23:00:00\", \"2018-01-20T00:00:00\", \"2018-01-20T01:00:00\", \"2018-01-20T02:00:00\", \"2018-01-20T03:00:00\", \"2018-01-20T04:00:00\", \"2018-01-20T05:00:00\", \"2018-01-20T06:00:00\", \"2018-01-20T07:00:00\", \"2018-01-20T08:00:00\", \"2018-01-20T09:00:00\", \"2018-01-20T10:00:00\", \"2018-01-20T11:00:00\", \"2018-01-20T12:00:00\", \"2018-01-20T13:00:00\", \"2018-01-20T14:00:00\", \"2018-01-20T15:00:00\", \"2018-01-20T16:00:00\", \"2018-01-20T17:00:00\", \"2018-01-20T18:00:00\", \"2018-01-20T19:00:00\", \"2018-01-20T20:00:00\", \"2018-01-20T21:00:00\", \"2018-01-20T22:00:00\", \"2018-01-20T23:00:00\", \"2018-01-21T00:00:00\", \"2018-01-21T01:00:00\", \"2018-01-21T02:00:00\", \"2018-01-21T03:00:00\", \"2018-01-21T04:00:00\", \"2018-01-21T05:00:00\", \"2018-01-21T06:00:00\", \"2018-01-21T07:00:00\", \"2018-01-21T08:00:00\", \"2018-01-21T09:00:00\", \"2018-01-21T10:00:00\", \"2018-01-21T11:00:00\", \"2018-01-21T12:00:00\", \"2018-01-21T13:00:00\", \"2018-01-21T14:00:00\", \"2018-01-21T15:00:00\", \"2018-01-21T16:00:00\", \"2018-01-21T17:00:00\", \"2018-01-21T18:00:00\", \"2018-01-21T19:00:00\", \"2018-01-21T20:00:00\", \"2018-01-21T21:00:00\", \"2018-01-21T22:00:00\", \"2018-01-21T23:00:00\", \"2018-01-22T00:00:00\", \"2018-01-22T01:00:00\", \"2018-01-22T02:00:00\", \"2018-01-22T03:00:00\", \"2018-01-22T04:00:00\", \"2018-01-22T05:00:00\", \"2018-01-22T06:00:00\", \"2018-01-22T07:00:00\", \"2018-01-22T08:00:00\", \"2018-01-22T09:00:00\", \"2018-01-22T10:00:00\", \"2018-01-22T11:00:00\", \"2018-01-22T12:00:00\", \"2018-01-22T13:00:00\", \"2018-01-22T14:00:00\", \"2018-01-22T15:00:00\", \"2018-01-22T16:00:00\", \"2018-01-22T17:00:00\", \"2018-01-22T18:00:00\", \"2018-01-22T19:00:00\", \"2018-01-22T20:00:00\", \"2018-01-22T21:00:00\", \"2018-01-22T22:00:00\", \"2018-01-22T23:00:00\", \"2018-01-23T00:00:00\", \"2018-01-23T01:00:00\", \"2018-01-23T02:00:00\", \"2018-01-23T03:00:00\", \"2018-01-23T04:00:00\", \"2018-01-23T05:00:00\", \"2018-01-23T06:00:00\", \"2018-01-23T07:00:00\", \"2018-01-23T08:00:00\", \"2018-01-23T09:00:00\", \"2018-01-23T10:00:00\", \"2018-01-23T11:00:00\", \"2018-01-23T12:00:00\", \"2018-01-23T13:00:00\", \"2018-01-23T14:00:00\", \"2018-01-23T15:00:00\", \"2018-01-23T16:00:00\", \"2018-01-23T17:00:00\", \"2018-01-23T18:00:00\", \"2018-01-23T19:00:00\", \"2018-01-23T20:00:00\", \"2018-01-23T21:00:00\", \"2018-01-23T22:00:00\", \"2018-01-23T23:00:00\", \"2018-01-24T00:00:00\", \"2018-01-24T01:00:00\", \"2018-01-24T02:00:00\", \"2018-01-24T03:00:00\", \"2018-01-24T04:00:00\", \"2018-01-24T05:00:00\", \"2018-01-24T06:00:00\", \"2018-01-24T07:00:00\", \"2018-01-24T08:00:00\", \"2018-01-24T09:00:00\", \"2018-01-24T10:00:00\", \"2018-01-24T11:00:00\", \"2018-01-24T12:00:00\", \"2018-01-24T13:00:00\", \"2018-01-24T14:00:00\", \"2018-01-24T15:00:00\", \"2018-01-24T16:00:00\", \"2018-01-24T17:00:00\", \"2018-01-24T18:00:00\", \"2018-01-24T19:00:00\", \"2018-01-24T20:00:00\", \"2018-01-24T21:00:00\", \"2018-01-24T22:00:00\", \"2018-01-24T23:00:00\", \"2018-01-25T00:00:00\", \"2018-01-25T01:00:00\", \"2018-01-25T02:00:00\", \"2018-01-25T03:00:00\", \"2018-01-25T04:00:00\", \"2018-01-25T05:00:00\", \"2018-01-25T06:00:00\", \"2018-01-25T07:00:00\", \"2018-01-25T08:00:00\", \"2018-01-25T09:00:00\", \"2018-01-25T10:00:00\", \"2018-01-25T11:00:00\", \"2018-01-25T12:00:00\", \"2018-01-25T13:00:00\", \"2018-01-25T14:00:00\", \"2018-01-25T15:00:00\", \"2018-01-25T16:00:00\", \"2018-01-25T17:00:00\", \"2018-01-25T18:00:00\", \"2018-01-25T19:00:00\", \"2018-01-25T20:00:00\", \"2018-01-25T21:00:00\", \"2018-01-25T22:00:00\", \"2018-01-25T23:00:00\", \"2018-01-26T00:00:00\", \"2018-01-26T01:00:00\", \"2018-01-26T02:00:00\", \"2018-01-26T03:00:00\", \"2018-01-26T04:00:00\", \"2018-01-26T05:00:00\", \"2018-01-26T06:00:00\", \"2018-01-26T07:00:00\", \"2018-01-26T08:00:00\", \"2018-01-26T09:00:00\", \"2018-01-26T10:00:00\", \"2018-01-26T11:00:00\", \"2018-01-26T12:00:00\", \"2018-01-26T13:00:00\", \"2018-01-26T14:00:00\", \"2018-01-26T15:00:00\", \"2018-01-26T16:00:00\", \"2018-01-26T17:00:00\", \"2018-01-26T18:00:00\", \"2018-01-26T19:00:00\", \"2018-01-26T20:00:00\", \"2018-01-26T21:00:00\", \"2018-01-26T22:00:00\", \"2018-01-26T23:00:00\", \"2018-01-27T00:00:00\", \"2018-01-27T01:00:00\", \"2018-01-27T02:00:00\", \"2018-01-27T03:00:00\", \"2018-01-27T04:00:00\", \"2018-01-27T05:00:00\", \"2018-01-27T06:00:00\", \"2018-01-27T07:00:00\", \"2018-01-27T08:00:00\", \"2018-01-27T09:00:00\", \"2018-01-27T10:00:00\", \"2018-01-27T11:00:00\", \"2018-01-27T12:00:00\", \"2018-01-27T13:00:00\", \"2018-01-27T14:00:00\", \"2018-01-27T15:00:00\", \"2018-01-27T16:00:00\", \"2018-01-27T17:00:00\", \"2018-01-27T18:00:00\", \"2018-01-27T19:00:00\", \"2018-01-27T20:00:00\", \"2018-01-27T21:00:00\", \"2018-01-27T22:00:00\", \"2018-01-27T23:00:00\", \"2018-01-28T00:00:00\", \"2018-01-28T01:00:00\", \"2018-01-28T02:00:00\", \"2018-01-28T03:00:00\", \"2018-01-28T04:00:00\", \"2018-01-28T05:00:00\", \"2018-01-28T06:00:00\", \"2018-01-28T07:00:00\", \"2018-01-28T08:00:00\", \"2018-01-28T09:00:00\", \"2018-01-28T10:00:00\", \"2018-01-28T11:00:00\", \"2018-01-28T12:00:00\", \"2018-01-28T13:00:00\", \"2018-01-28T14:00:00\", \"2018-01-28T15:00:00\", \"2018-01-28T16:00:00\", \"2018-01-28T17:00:00\", \"2018-01-28T18:00:00\", \"2018-01-28T19:00:00\", \"2018-01-28T20:00:00\", \"2018-01-28T21:00:00\", \"2018-01-28T22:00:00\", \"2018-01-28T23:00:00\", \"2018-01-29T00:00:00\", \"2018-01-29T01:00:00\", \"2018-01-29T02:00:00\", \"2018-01-29T03:00:00\", \"2018-01-29T04:00:00\", \"2018-01-29T05:00:00\", \"2018-01-29T06:00:00\", \"2018-01-29T07:00:00\", \"2018-01-29T08:00:00\", \"2018-01-29T09:00:00\", \"2018-01-29T10:00:00\", \"2018-01-29T11:00:00\", \"2018-01-29T12:00:00\", \"2018-01-29T13:00:00\", \"2018-01-29T14:00:00\", \"2018-01-29T15:00:00\", \"2018-01-29T16:00:00\", \"2018-01-29T17:00:00\", \"2018-01-29T18:00:00\", \"2018-01-29T19:00:00\", \"2018-01-29T20:00:00\", \"2018-01-29T21:00:00\", \"2018-01-29T22:00:00\", \"2018-01-29T23:00:00\", \"2018-01-30T00:00:00\", \"2018-01-30T01:00:00\", \"2018-01-30T02:00:00\", \"2018-01-30T03:00:00\", \"2018-01-30T04:00:00\", \"2018-01-30T05:00:00\", \"2018-01-30T06:00:00\", \"2018-01-30T07:00:00\", \"2018-01-30T08:00:00\", \"2018-01-30T09:00:00\", \"2018-01-30T10:00:00\", \"2018-01-30T11:00:00\", \"2018-01-30T12:00:00\", \"2018-01-30T13:00:00\", \"2018-01-30T14:00:00\", \"2018-01-30T15:00:00\", \"2018-01-30T16:00:00\", \"2018-01-30T17:00:00\", \"2018-01-30T18:00:00\", \"2018-01-30T19:00:00\", \"2018-01-30T20:00:00\", \"2018-01-30T21:00:00\", \"2018-01-30T22:00:00\", \"2018-01-30T23:00:00\", \"2018-01-31T00:00:00\", \"2018-01-31T01:00:00\", \"2018-01-31T02:00:00\", \"2018-01-31T03:00:00\", \"2018-01-31T04:00:00\", \"2018-01-31T05:00:00\", \"2018-01-31T06:00:00\", \"2018-01-31T07:00:00\", \"2018-01-31T08:00:00\", \"2018-01-31T09:00:00\", \"2018-01-31T10:00:00\", \"2018-01-31T11:00:00\", \"2018-01-31T12:00:00\", \"2018-01-31T13:00:00\", \"2018-01-31T14:00:00\", \"2018-01-31T15:00:00\", \"2018-01-31T16:00:00\", \"2018-01-31T17:00:00\", \"2018-01-31T18:00:00\", \"2018-01-31T19:00:00\", \"2018-01-31T20:00:00\", \"2018-01-31T21:00:00\", \"2018-01-31T22:00:00\", \"2018-01-31T23:00:00\", \"2018-02-01T00:00:00\", \"2018-02-01T01:00:00\", \"2018-02-01T02:00:00\", \"2018-02-01T03:00:00\", \"2018-02-01T04:00:00\", \"2018-02-01T05:00:00\", \"2018-02-01T06:00:00\", \"2018-02-01T07:00:00\", \"2018-02-01T08:00:00\", \"2018-02-01T09:00:00\", \"2018-02-01T10:00:00\", \"2018-02-01T11:00:00\", \"2018-02-01T12:00:00\", \"2018-02-01T13:00:00\", \"2018-02-01T14:00:00\", \"2018-02-01T15:00:00\", \"2018-02-01T16:00:00\", \"2018-02-01T17:00:00\", \"2018-02-01T18:00:00\", \"2018-02-01T19:00:00\", \"2018-02-01T20:00:00\", \"2018-02-01T21:00:00\", \"2018-02-01T22:00:00\", \"2018-02-01T23:00:00\", \"2018-02-02T00:00:00\", \"2018-02-02T01:00:00\", \"2018-02-02T02:00:00\", \"2018-02-02T03:00:00\", \"2018-02-02T04:00:00\", \"2018-02-02T05:00:00\", \"2018-02-02T06:00:00\", \"2018-02-02T07:00:00\", \"2018-02-02T08:00:00\", \"2018-02-02T09:00:00\", \"2018-02-02T10:00:00\", \"2018-02-02T11:00:00\", \"2018-02-02T12:00:00\", \"2018-02-02T13:00:00\", \"2018-02-02T14:00:00\", \"2018-02-02T15:00:00\", \"2018-02-02T16:00:00\", \"2018-02-02T17:00:00\", \"2018-02-02T18:00:00\", \"2018-02-02T19:00:00\", \"2018-02-02T20:00:00\", \"2018-02-02T21:00:00\", \"2018-02-02T22:00:00\", \"2018-02-02T23:00:00\", \"2018-02-03T00:00:00\", \"2018-02-03T01:00:00\", \"2018-02-03T02:00:00\", \"2018-02-03T03:00:00\", \"2018-02-03T04:00:00\", \"2018-02-03T05:00:00\", \"2018-02-03T06:00:00\", \"2018-02-03T07:00:00\", \"2018-02-03T08:00:00\", \"2018-02-03T09:00:00\", \"2018-02-03T10:00:00\", \"2018-02-03T11:00:00\", \"2018-02-03T12:00:00\", \"2018-02-03T13:00:00\", \"2018-02-03T14:00:00\", \"2018-02-03T15:00:00\", \"2018-02-03T16:00:00\", \"2018-02-03T17:00:00\", \"2018-02-03T18:00:00\", \"2018-02-03T19:00:00\", \"2018-02-03T20:00:00\", \"2018-02-03T21:00:00\", \"2018-02-03T22:00:00\", \"2018-02-03T23:00:00\", \"2018-02-04T00:00:00\", \"2018-02-04T01:00:00\", \"2018-02-04T02:00:00\", \"2018-02-04T03:00:00\", \"2018-02-04T04:00:00\", \"2018-02-04T05:00:00\", \"2018-02-04T06:00:00\", \"2018-02-04T07:00:00\", \"2018-02-04T08:00:00\", \"2018-02-04T09:00:00\", \"2018-02-04T10:00:00\", \"2018-02-04T11:00:00\", \"2018-02-04T12:00:00\", \"2018-02-04T13:00:00\", \"2018-02-04T14:00:00\", \"2018-02-04T15:00:00\", \"2018-02-04T16:00:00\", \"2018-02-04T17:00:00\", \"2018-02-04T18:00:00\", \"2018-02-04T19:00:00\", \"2018-02-04T20:00:00\", \"2018-02-04T21:00:00\", \"2018-02-04T22:00:00\", \"2018-02-04T23:00:00\", \"2018-02-05T00:00:00\", \"2018-02-05T01:00:00\", \"2018-02-05T02:00:00\", \"2018-02-05T03:00:00\", \"2018-02-05T04:00:00\", \"2018-02-05T05:00:00\", \"2018-02-05T06:00:00\", \"2018-02-05T07:00:00\", \"2018-02-05T08:00:00\", \"2018-02-05T09:00:00\", \"2018-02-05T10:00:00\", \"2018-02-05T11:00:00\", \"2018-02-05T12:00:00\", \"2018-02-05T13:00:00\", \"2018-02-05T14:00:00\", \"2018-02-05T15:00:00\", \"2018-02-05T16:00:00\", \"2018-02-05T17:00:00\", \"2018-02-05T18:00:00\", \"2018-02-05T19:00:00\", \"2018-02-05T20:00:00\", \"2018-02-05T21:00:00\", \"2018-02-05T22:00:00\", \"2018-02-05T23:00:00\", \"2018-02-06T00:00:00\", \"2018-02-06T01:00:00\", \"2018-02-06T02:00:00\", \"2018-02-06T03:00:00\", \"2018-02-06T04:00:00\", \"2018-02-06T05:00:00\", \"2018-02-06T06:00:00\", \"2018-02-06T07:00:00\", \"2018-02-06T08:00:00\", \"2018-02-06T09:00:00\", \"2018-02-06T10:00:00\", \"2018-02-06T11:00:00\", \"2018-02-06T12:00:00\", \"2018-02-06T13:00:00\", \"2018-02-06T14:00:00\", \"2018-02-06T15:00:00\", \"2018-02-06T16:00:00\", \"2018-02-06T17:00:00\", \"2018-02-06T18:00:00\", \"2018-02-06T19:00:00\", \"2018-02-06T20:00:00\", \"2018-02-06T21:00:00\", \"2018-02-06T22:00:00\", \"2018-02-06T23:00:00\", \"2018-02-07T00:00:00\", \"2018-02-07T01:00:00\", \"2018-02-07T02:00:00\", \"2018-02-07T03:00:00\", \"2018-02-07T04:00:00\", \"2018-02-07T05:00:00\", \"2018-02-07T06:00:00\", \"2018-02-07T07:00:00\", \"2018-02-07T08:00:00\", \"2018-02-07T09:00:00\", \"2018-02-07T10:00:00\", \"2018-02-07T11:00:00\", \"2018-02-07T12:00:00\", \"2018-02-07T13:00:00\", \"2018-02-07T14:00:00\", \"2018-02-07T15:00:00\", \"2018-02-07T16:00:00\", \"2018-02-07T17:00:00\", \"2018-02-07T18:00:00\", \"2018-02-07T19:00:00\", \"2018-02-07T20:00:00\", \"2018-02-07T21:00:00\", \"2018-02-07T22:00:00\", \"2018-02-07T23:00:00\", \"2018-02-08T00:00:00\", \"2018-02-08T01:00:00\", \"2018-02-08T02:00:00\", \"2018-02-08T03:00:00\", \"2018-02-08T04:00:00\", \"2018-02-08T05:00:00\", \"2018-02-08T06:00:00\", \"2018-02-08T07:00:00\", \"2018-02-08T08:00:00\", \"2018-02-08T09:00:00\", \"2018-02-08T10:00:00\", \"2018-02-08T11:00:00\", \"2018-02-08T12:00:00\", \"2018-02-08T13:00:00\", \"2018-02-08T14:00:00\", \"2018-02-08T15:00:00\", \"2018-02-08T16:00:00\", \"2018-02-08T17:00:00\", \"2018-02-08T18:00:00\", \"2018-02-08T19:00:00\", \"2018-02-08T20:00:00\", \"2018-02-08T21:00:00\", \"2018-02-08T22:00:00\", \"2018-02-08T23:00:00\", \"2018-02-09T00:00:00\", \"2018-02-09T01:00:00\", \"2018-02-09T02:00:00\", \"2018-02-09T03:00:00\", \"2018-02-09T04:00:00\", \"2018-02-09T05:00:00\", \"2018-02-09T06:00:00\", \"2018-02-09T07:00:00\", \"2018-02-09T08:00:00\", \"2018-02-09T09:00:00\", \"2018-02-09T10:00:00\", \"2018-02-09T11:00:00\", \"2018-02-09T12:00:00\", \"2018-02-09T13:00:00\", \"2018-02-09T14:00:00\", \"2018-02-09T15:00:00\", \"2018-02-09T16:00:00\", \"2018-02-09T17:00:00\", \"2018-02-09T18:00:00\", \"2018-02-09T19:00:00\", \"2018-02-09T20:00:00\", \"2018-02-09T21:00:00\", \"2018-02-09T22:00:00\", \"2018-02-09T23:00:00\", \"2018-02-10T00:00:00\", \"2018-02-10T01:00:00\", \"2018-02-10T02:00:00\", \"2018-02-10T03:00:00\", \"2018-02-10T04:00:00\", \"2018-02-10T05:00:00\", \"2018-02-10T06:00:00\", \"2018-02-10T07:00:00\", \"2018-02-10T08:00:00\", \"2018-02-10T09:00:00\", \"2018-02-10T10:00:00\", \"2018-02-10T11:00:00\", \"2018-02-10T12:00:00\", \"2018-02-10T13:00:00\", \"2018-02-10T14:00:00\", \"2018-02-10T15:00:00\", \"2018-02-10T16:00:00\", \"2018-02-10T17:00:00\", \"2018-02-10T18:00:00\", \"2018-02-10T19:00:00\", \"2018-02-10T20:00:00\", \"2018-02-10T21:00:00\", \"2018-02-10T22:00:00\", \"2018-02-10T23:00:00\", \"2018-02-11T00:00:00\", \"2018-02-11T01:00:00\", \"2018-02-11T02:00:00\", \"2018-02-11T03:00:00\", \"2018-02-11T04:00:00\", \"2018-02-11T05:00:00\", \"2018-02-11T06:00:00\", \"2018-02-11T07:00:00\", \"2018-02-11T08:00:00\", \"2018-02-11T09:00:00\", \"2018-02-11T10:00:00\", \"2018-02-11T11:00:00\", \"2018-02-11T12:00:00\", \"2018-02-11T13:00:00\", \"2018-02-11T14:00:00\", \"2018-02-11T15:00:00\", \"2018-02-11T16:00:00\", \"2018-02-11T17:00:00\", \"2018-02-11T18:00:00\", \"2018-02-11T19:00:00\", \"2018-02-11T20:00:00\", \"2018-02-11T21:00:00\", \"2018-02-11T22:00:00\", \"2018-02-11T23:00:00\", \"2018-02-12T00:00:00\", \"2018-02-12T01:00:00\", \"2018-02-12T02:00:00\", \"2018-02-12T03:00:00\", \"2018-02-12T04:00:00\", \"2018-02-12T05:00:00\", \"2018-02-12T06:00:00\", \"2018-02-12T07:00:00\", \"2018-02-12T08:00:00\", \"2018-02-12T09:00:00\", \"2018-02-12T10:00:00\", \"2018-02-12T11:00:00\", \"2018-02-12T12:00:00\", \"2018-02-12T13:00:00\", \"2018-02-12T14:00:00\", \"2018-02-12T15:00:00\", \"2018-02-12T16:00:00\", \"2018-02-12T17:00:00\", \"2018-02-12T18:00:00\", \"2018-02-12T19:00:00\", \"2018-02-12T20:00:00\", \"2018-02-12T21:00:00\", \"2018-02-12T22:00:00\", \"2018-02-12T23:00:00\", \"2018-02-13T00:00:00\", \"2018-02-13T01:00:00\", \"2018-02-13T02:00:00\", \"2018-02-13T03:00:00\", \"2018-02-13T04:00:00\", \"2018-02-13T05:00:00\", \"2018-02-13T06:00:00\", \"2018-02-13T07:00:00\", \"2018-02-13T08:00:00\", \"2018-02-13T09:00:00\", \"2018-02-13T10:00:00\", \"2018-02-13T11:00:00\", \"2018-02-13T12:00:00\", \"2018-02-13T13:00:00\", \"2018-02-13T14:00:00\", \"2018-02-13T15:00:00\", \"2018-02-13T16:00:00\", \"2018-02-13T17:00:00\", \"2018-02-13T18:00:00\", \"2018-02-13T19:00:00\", \"2018-02-13T20:00:00\", \"2018-02-13T21:00:00\", \"2018-02-13T22:00:00\", \"2018-02-13T23:00:00\", \"2018-02-14T00:00:00\", \"2018-02-14T01:00:00\", \"2018-02-14T02:00:00\", \"2018-02-14T03:00:00\", \"2018-02-14T04:00:00\", \"2018-02-14T05:00:00\", \"2018-02-14T06:00:00\", \"2018-02-14T07:00:00\", \"2018-02-14T08:00:00\", \"2018-02-14T09:00:00\", \"2018-02-14T10:00:00\", \"2018-02-14T11:00:00\", \"2018-02-14T12:00:00\", \"2018-02-14T13:00:00\", \"2018-02-14T14:00:00\", \"2018-02-14T15:00:00\", \"2018-02-14T16:00:00\", \"2018-02-14T17:00:00\", \"2018-02-14T18:00:00\", \"2018-02-14T19:00:00\", \"2018-02-14T20:00:00\", \"2018-02-14T21:00:00\", \"2018-02-14T22:00:00\", \"2018-02-14T23:00:00\", \"2018-02-15T00:00:00\", \"2018-02-15T01:00:00\", \"2018-02-15T02:00:00\", \"2018-02-15T03:00:00\", \"2018-02-15T04:00:00\", \"2018-02-15T05:00:00\", \"2018-02-15T06:00:00\", \"2018-02-15T07:00:00\", \"2018-02-15T08:00:00\", \"2018-02-15T09:00:00\", \"2018-02-15T10:00:00\", \"2018-02-15T11:00:00\", \"2018-02-15T12:00:00\", \"2018-02-15T13:00:00\", \"2018-02-15T14:00:00\", \"2018-02-15T15:00:00\", \"2018-02-15T16:00:00\", \"2018-02-15T17:00:00\", \"2018-02-15T18:00:00\", \"2018-02-15T19:00:00\", \"2018-02-15T20:00:00\", \"2018-02-15T21:00:00\", \"2018-02-15T22:00:00\", \"2018-02-15T23:00:00\", \"2018-02-16T00:00:00\", \"2018-02-16T01:00:00\", \"2018-02-16T02:00:00\", \"2018-02-16T03:00:00\", \"2018-02-16T04:00:00\", \"2018-02-16T05:00:00\", \"2018-02-16T06:00:00\", \"2018-02-16T07:00:00\", \"2018-02-16T08:00:00\", \"2018-02-16T09:00:00\", \"2018-02-16T10:00:00\", \"2018-02-16T11:00:00\", \"2018-02-16T12:00:00\", \"2018-02-16T13:00:00\", \"2018-02-16T14:00:00\", \"2018-02-16T15:00:00\", \"2018-02-16T16:00:00\", \"2018-02-16T17:00:00\", \"2018-02-16T18:00:00\", \"2018-02-16T19:00:00\", \"2018-02-16T20:00:00\", \"2018-02-16T21:00:00\", \"2018-02-16T22:00:00\", \"2018-02-16T23:00:00\", \"2018-02-17T00:00:00\", \"2018-02-17T01:00:00\", \"2018-02-17T02:00:00\", \"2018-02-17T03:00:00\", \"2018-02-17T04:00:00\", \"2018-02-17T05:00:00\", \"2018-02-17T06:00:00\", \"2018-02-17T07:00:00\", \"2018-02-17T08:00:00\", \"2018-02-17T09:00:00\", \"2018-02-17T10:00:00\", \"2018-02-17T11:00:00\", \"2018-02-17T12:00:00\", \"2018-02-17T13:00:00\", \"2018-02-17T14:00:00\", \"2018-02-17T15:00:00\", \"2018-02-17T16:00:00\", \"2018-02-17T17:00:00\", \"2018-02-17T18:00:00\", \"2018-02-17T19:00:00\", \"2018-02-17T20:00:00\", \"2018-02-17T21:00:00\", \"2018-02-17T22:00:00\", \"2018-02-17T23:00:00\", \"2018-02-18T00:00:00\", \"2018-02-18T01:00:00\", \"2018-02-18T02:00:00\", \"2018-02-18T03:00:00\", \"2018-02-18T04:00:00\", \"2018-02-18T05:00:00\", \"2018-02-18T06:00:00\", \"2018-02-18T07:00:00\", \"2018-02-18T08:00:00\", \"2018-02-18T09:00:00\", \"2018-02-18T10:00:00\", \"2018-02-18T11:00:00\", \"2018-02-18T12:00:00\", \"2018-02-18T13:00:00\", \"2018-02-18T14:00:00\", \"2018-02-18T15:00:00\", \"2018-02-18T16:00:00\", \"2018-02-18T17:00:00\", \"2018-02-18T18:00:00\", \"2018-02-18T19:00:00\", \"2018-02-18T20:00:00\", \"2018-02-18T21:00:00\", \"2018-02-18T22:00:00\", \"2018-02-18T23:00:00\", \"2018-02-19T00:00:00\", \"2018-02-19T01:00:00\", \"2018-02-19T02:00:00\", \"2018-02-19T03:00:00\", \"2018-02-19T04:00:00\", \"2018-02-19T05:00:00\", \"2018-02-19T06:00:00\", \"2018-02-19T07:00:00\", \"2018-02-19T08:00:00\", \"2018-02-19T09:00:00\", \"2018-02-19T10:00:00\", \"2018-02-19T11:00:00\", \"2018-02-19T12:00:00\", \"2018-02-19T13:00:00\", \"2018-02-19T14:00:00\", \"2018-02-19T15:00:00\", \"2018-02-19T16:00:00\", \"2018-02-19T17:00:00\", \"2018-02-19T18:00:00\", \"2018-02-19T19:00:00\", \"2018-02-19T20:00:00\", \"2018-02-19T21:00:00\", \"2018-02-19T22:00:00\", \"2018-02-19T23:00:00\", \"2018-02-20T00:00:00\", \"2018-02-20T01:00:00\", \"2018-02-20T02:00:00\", \"2018-02-20T03:00:00\", \"2018-02-20T04:00:00\", \"2018-02-20T05:00:00\", \"2018-02-20T06:00:00\", \"2018-02-20T07:00:00\", \"2018-02-20T08:00:00\", \"2018-02-20T09:00:00\", \"2018-02-20T10:00:00\", \"2018-02-20T11:00:00\", \"2018-02-20T12:00:00\", \"2018-02-20T13:00:00\", \"2018-02-20T14:00:00\", \"2018-02-20T15:00:00\", \"2018-02-20T16:00:00\", \"2018-02-20T17:00:00\", \"2018-02-20T18:00:00\", \"2018-02-20T19:00:00\", \"2018-02-20T20:00:00\", \"2018-02-20T21:00:00\", \"2018-02-20T22:00:00\", \"2018-02-20T23:00:00\", \"2018-02-21T00:00:00\", \"2018-02-21T01:00:00\", \"2018-02-21T02:00:00\", \"2018-02-21T03:00:00\", \"2018-02-21T04:00:00\", \"2018-02-21T05:00:00\", \"2018-02-21T06:00:00\", \"2018-02-21T07:00:00\", \"2018-02-21T08:00:00\", \"2018-02-21T09:00:00\", \"2018-02-21T10:00:00\", \"2018-02-21T11:00:00\", \"2018-02-21T12:00:00\", \"2018-02-21T13:00:00\", \"2018-02-21T14:00:00\", \"2018-02-21T15:00:00\", \"2018-02-21T16:00:00\", \"2018-02-21T17:00:00\", \"2018-02-21T18:00:00\", \"2018-02-21T19:00:00\", \"2018-02-21T20:00:00\", \"2018-02-21T21:00:00\", \"2018-02-21T22:00:00\", \"2018-02-21T23:00:00\", \"2018-02-22T00:00:00\", \"2018-02-22T01:00:00\", \"2018-02-22T02:00:00\", \"2018-02-22T03:00:00\", \"2018-02-22T04:00:00\", \"2018-02-22T05:00:00\", \"2018-02-22T06:00:00\", \"2018-02-22T07:00:00\", \"2018-02-22T08:00:00\", \"2018-02-22T09:00:00\", \"2018-02-22T10:00:00\", \"2018-02-22T11:00:00\", \"2018-02-22T12:00:00\", \"2018-02-22T13:00:00\", \"2018-02-22T14:00:00\", \"2018-02-22T15:00:00\", \"2018-02-22T16:00:00\", \"2018-02-22T17:00:00\", \"2018-02-22T18:00:00\", \"2018-02-22T19:00:00\", \"2018-02-22T20:00:00\", \"2018-02-22T21:00:00\", \"2018-02-22T22:00:00\", \"2018-02-22T23:00:00\", \"2018-02-23T00:00:00\", \"2018-02-23T01:00:00\", \"2018-02-23T02:00:00\", \"2018-02-23T03:00:00\", \"2018-02-23T04:00:00\", \"2018-02-23T05:00:00\", \"2018-02-23T06:00:00\", \"2018-02-23T07:00:00\", \"2018-02-23T08:00:00\", \"2018-02-23T09:00:00\", \"2018-02-23T10:00:00\", \"2018-02-23T11:00:00\", \"2018-02-23T12:00:00\", \"2018-02-23T13:00:00\", \"2018-02-23T14:00:00\", \"2018-02-23T15:00:00\", \"2018-02-23T16:00:00\", \"2018-02-23T17:00:00\", \"2018-02-23T18:00:00\", \"2018-02-23T19:00:00\", \"2018-02-23T20:00:00\", \"2018-02-23T21:00:00\", \"2018-02-23T22:00:00\", \"2018-02-23T23:00:00\", \"2018-02-24T00:00:00\", \"2018-02-24T01:00:00\", \"2018-02-24T02:00:00\", \"2018-02-24T03:00:00\", \"2018-02-24T04:00:00\", \"2018-02-24T05:00:00\", \"2018-02-24T06:00:00\", \"2018-02-24T07:00:00\", \"2018-02-24T08:00:00\", \"2018-02-24T09:00:00\", \"2018-02-24T10:00:00\", \"2018-02-24T11:00:00\", \"2018-02-24T12:00:00\", \"2018-02-24T13:00:00\", \"2018-02-24T14:00:00\", \"2018-02-24T15:00:00\", \"2018-02-24T16:00:00\", \"2018-02-24T17:00:00\", \"2018-02-24T18:00:00\", \"2018-02-24T19:00:00\", \"2018-02-24T20:00:00\", \"2018-02-24T21:00:00\", \"2018-02-24T22:00:00\", \"2018-02-24T23:00:00\", \"2018-02-25T00:00:00\", \"2018-02-25T01:00:00\", \"2018-02-25T02:00:00\", \"2018-02-25T03:00:00\", \"2018-02-25T04:00:00\", \"2018-02-25T05:00:00\", \"2018-02-25T06:00:00\", \"2018-02-25T07:00:00\", \"2018-02-25T08:00:00\", \"2018-02-25T09:00:00\", \"2018-02-25T10:00:00\", \"2018-02-25T11:00:00\", \"2018-02-25T12:00:00\", \"2018-02-25T13:00:00\", \"2018-02-25T14:00:00\", \"2018-02-25T15:00:00\", \"2018-02-25T16:00:00\", \"2018-02-25T17:00:00\", \"2018-02-25T18:00:00\", \"2018-02-25T19:00:00\", \"2018-02-25T20:00:00\", \"2018-02-25T21:00:00\", \"2018-02-25T22:00:00\", \"2018-02-25T23:00:00\", \"2018-02-26T00:00:00\", \"2018-02-26T01:00:00\", \"2018-02-26T02:00:00\", \"2018-02-26T03:00:00\", \"2018-02-26T04:00:00\", \"2018-02-26T05:00:00\", \"2018-02-26T06:00:00\", \"2018-02-26T07:00:00\", \"2018-02-26T08:00:00\", \"2018-02-26T09:00:00\", \"2018-02-26T10:00:00\", \"2018-02-26T11:00:00\", \"2018-02-26T12:00:00\", \"2018-02-26T13:00:00\", \"2018-02-26T14:00:00\", \"2018-02-26T15:00:00\", \"2018-02-26T16:00:00\", \"2018-02-26T17:00:00\", \"2018-02-26T18:00:00\", \"2018-02-26T19:00:00\", \"2018-02-26T20:00:00\", \"2018-02-26T21:00:00\", \"2018-02-26T22:00:00\", \"2018-02-26T23:00:00\", \"2018-02-27T00:00:00\", \"2018-02-27T01:00:00\", \"2018-02-27T02:00:00\", \"2018-02-27T03:00:00\", \"2018-02-27T04:00:00\", \"2018-02-27T05:00:00\", \"2018-02-27T06:00:00\", \"2018-02-27T07:00:00\", \"2018-02-27T08:00:00\", \"2018-02-27T09:00:00\", \"2018-02-27T10:00:00\", \"2018-02-27T11:00:00\", \"2018-02-27T12:00:00\", \"2018-02-27T13:00:00\", \"2018-02-27T14:00:00\", \"2018-02-27T15:00:00\", \"2018-02-27T16:00:00\", \"2018-02-27T17:00:00\", \"2018-02-27T18:00:00\", \"2018-02-27T19:00:00\", \"2018-02-27T20:00:00\", \"2018-02-27T21:00:00\", \"2018-02-27T22:00:00\", \"2018-02-27T23:00:00\", \"2018-02-28T00:00:00\", \"2018-02-28T01:00:00\", \"2018-02-28T02:00:00\", \"2018-02-28T03:00:00\", \"2018-02-28T04:00:00\", \"2018-02-28T05:00:00\", \"2018-02-28T06:00:00\", \"2018-02-28T07:00:00\", \"2018-02-28T08:00:00\", \"2018-02-28T09:00:00\", \"2018-02-28T10:00:00\", \"2018-02-28T11:00:00\", \"2018-02-28T12:00:00\", \"2018-02-28T13:00:00\", \"2018-02-28T14:00:00\", \"2018-02-28T15:00:00\", \"2018-02-28T16:00:00\", \"2018-02-28T17:00:00\", \"2018-02-28T18:00:00\", \"2018-02-28T19:00:00\", \"2018-02-28T20:00:00\", \"2018-02-28T21:00:00\", \"2018-02-28T22:00:00\", \"2018-02-28T23:00:00\", \"2018-03-01T00:00:00\", \"2018-03-01T01:00:00\", \"2018-03-01T02:00:00\", \"2018-03-01T03:00:00\", \"2018-03-01T04:00:00\", \"2018-03-01T05:00:00\", \"2018-03-01T06:00:00\", \"2018-03-01T07:00:00\", \"2018-03-01T08:00:00\", \"2018-03-01T09:00:00\", \"2018-03-01T10:00:00\", \"2018-03-01T11:00:00\", \"2018-03-01T12:00:00\", \"2018-03-01T13:00:00\", \"2018-03-01T14:00:00\", \"2018-03-01T15:00:00\", \"2018-03-01T16:00:00\", \"2018-03-01T17:00:00\", \"2018-03-01T18:00:00\", \"2018-03-01T19:00:00\", \"2018-03-01T20:00:00\", \"2018-03-01T21:00:00\", \"2018-03-01T22:00:00\", \"2018-03-01T23:00:00\", \"2018-03-02T00:00:00\", \"2018-03-02T01:00:00\", \"2018-03-02T02:00:00\", \"2018-03-02T03:00:00\", \"2018-03-02T04:00:00\", \"2018-03-02T05:00:00\", \"2018-03-02T06:00:00\", \"2018-03-02T07:00:00\", \"2018-03-02T08:00:00\", \"2018-03-02T09:00:00\", \"2018-03-02T10:00:00\", \"2018-03-02T11:00:00\", \"2018-03-02T12:00:00\", \"2018-03-02T13:00:00\", \"2018-03-02T14:00:00\", \"2018-03-02T15:00:00\", \"2018-03-02T16:00:00\", \"2018-03-02T17:00:00\", \"2018-03-02T18:00:00\", \"2018-03-02T19:00:00\", \"2018-03-02T20:00:00\", \"2018-03-02T21:00:00\", \"2018-03-02T22:00:00\", \"2018-03-02T23:00:00\", \"2018-03-03T00:00:00\", \"2018-03-03T01:00:00\", \"2018-03-03T02:00:00\", \"2018-03-03T03:00:00\", \"2018-03-03T04:00:00\", \"2018-03-03T05:00:00\", \"2018-03-03T06:00:00\", \"2018-03-03T07:00:00\", \"2018-03-03T08:00:00\", \"2018-03-03T09:00:00\", \"2018-03-03T10:00:00\", \"2018-03-03T11:00:00\", \"2018-03-03T12:00:00\", \"2018-03-03T13:00:00\", \"2018-03-03T14:00:00\", \"2018-03-03T15:00:00\", \"2018-03-03T16:00:00\", \"2018-03-03T17:00:00\", \"2018-03-03T18:00:00\", \"2018-03-03T19:00:00\", \"2018-03-03T20:00:00\", \"2018-03-03T21:00:00\", \"2018-03-03T22:00:00\", \"2018-03-03T23:00:00\", \"2018-03-04T00:00:00\", \"2018-03-04T01:00:00\", \"2018-03-04T02:00:00\", \"2018-03-04T03:00:00\", \"2018-03-04T04:00:00\", \"2018-03-04T05:00:00\", \"2018-03-04T06:00:00\", \"2018-03-04T07:00:00\", \"2018-03-04T08:00:00\", \"2018-03-04T09:00:00\", \"2018-03-04T10:00:00\", \"2018-03-04T11:00:00\", \"2018-03-04T12:00:00\", \"2018-03-04T13:00:00\", \"2018-03-04T14:00:00\", \"2018-03-04T15:00:00\", \"2018-03-04T16:00:00\", \"2018-03-04T17:00:00\", \"2018-03-04T18:00:00\", \"2018-03-04T19:00:00\", \"2018-03-04T20:00:00\", \"2018-03-04T21:00:00\", \"2018-03-04T22:00:00\", \"2018-03-04T23:00:00\", \"2018-03-05T00:00:00\", \"2018-03-05T01:00:00\", \"2018-03-05T02:00:00\", \"2018-03-05T03:00:00\", \"2018-03-05T04:00:00\", \"2018-03-05T05:00:00\", \"2018-03-05T06:00:00\", \"2018-03-05T07:00:00\", \"2018-03-05T08:00:00\", \"2018-03-05T09:00:00\", \"2018-03-05T10:00:00\", \"2018-03-05T11:00:00\", \"2018-03-05T12:00:00\", \"2018-03-05T13:00:00\", \"2018-03-05T14:00:00\", \"2018-03-05T15:00:00\", \"2018-03-05T16:00:00\", \"2018-03-05T17:00:00\", \"2018-03-05T18:00:00\", \"2018-03-05T19:00:00\", \"2018-03-05T20:00:00\", \"2018-03-05T21:00:00\", \"2018-03-05T22:00:00\", \"2018-03-05T23:00:00\", \"2018-03-06T00:00:00\", \"2018-03-06T01:00:00\", \"2018-03-06T02:00:00\", \"2018-03-06T03:00:00\", \"2018-03-06T04:00:00\", \"2018-03-06T05:00:00\", \"2018-03-06T06:00:00\", \"2018-03-06T07:00:00\", \"2018-03-06T08:00:00\", \"2018-03-06T09:00:00\", \"2018-03-06T10:00:00\", \"2018-03-06T11:00:00\", \"2018-03-06T12:00:00\", \"2018-03-06T13:00:00\", \"2018-03-06T14:00:00\", \"2018-03-06T15:00:00\", \"2018-03-06T16:00:00\", \"2018-03-06T17:00:00\", \"2018-03-06T18:00:00\", \"2018-03-06T19:00:00\", \"2018-03-06T20:00:00\", \"2018-03-06T21:00:00\", \"2018-03-06T22:00:00\", \"2018-03-06T23:00:00\", \"2018-03-07T00:00:00\", \"2018-03-07T01:00:00\", \"2018-03-07T02:00:00\", \"2018-03-07T03:00:00\", \"2018-03-07T04:00:00\", \"2018-03-07T05:00:00\", \"2018-03-07T06:00:00\", \"2018-03-07T07:00:00\", \"2018-03-07T08:00:00\", \"2018-03-07T09:00:00\", \"2018-03-07T10:00:00\", \"2018-03-07T11:00:00\", \"2018-03-07T12:00:00\", \"2018-03-07T13:00:00\", \"2018-03-07T14:00:00\", \"2018-03-07T15:00:00\", \"2018-03-07T16:00:00\", \"2018-03-07T17:00:00\", \"2018-03-07T18:00:00\", \"2018-03-07T19:00:00\", \"2018-03-07T20:00:00\", \"2018-03-07T21:00:00\", \"2018-03-07T22:00:00\", \"2018-03-07T23:00:00\", \"2018-03-08T00:00:00\", \"2018-03-08T01:00:00\", \"2018-03-08T02:00:00\", \"2018-03-08T03:00:00\", \"2018-03-08T04:00:00\", \"2018-03-08T05:00:00\", \"2018-03-08T06:00:00\", \"2018-03-08T07:00:00\", \"2018-03-08T08:00:00\", \"2018-03-08T09:00:00\", \"2018-03-08T10:00:00\", \"2018-03-08T11:00:00\", \"2018-03-08T12:00:00\", \"2018-03-08T13:00:00\", \"2018-03-08T14:00:00\", \"2018-03-08T15:00:00\", \"2018-03-08T16:00:00\", \"2018-03-08T17:00:00\", \"2018-03-08T18:00:00\", \"2018-03-08T19:00:00\", \"2018-03-08T20:00:00\", \"2018-03-08T21:00:00\", \"2018-03-08T22:00:00\", \"2018-03-08T23:00:00\", \"2018-03-09T00:00:00\", \"2018-03-09T01:00:00\", \"2018-03-09T02:00:00\", \"2018-03-09T03:00:00\", \"2018-03-09T04:00:00\", \"2018-03-09T05:00:00\", \"2018-03-09T06:00:00\", \"2018-03-09T07:00:00\", \"2018-03-09T08:00:00\", \"2018-03-09T09:00:00\", \"2018-03-09T10:00:00\", \"2018-03-09T11:00:00\", \"2018-03-09T12:00:00\", \"2018-03-09T13:00:00\", \"2018-03-09T14:00:00\", \"2018-03-09T15:00:00\", \"2018-03-09T16:00:00\", \"2018-03-09T17:00:00\", \"2018-03-09T18:00:00\", \"2018-03-09T19:00:00\", \"2018-03-09T20:00:00\", \"2018-03-09T21:00:00\", \"2018-03-09T22:00:00\", \"2018-03-09T23:00:00\", \"2018-03-10T00:00:00\", \"2018-03-10T01:00:00\", \"2018-03-10T02:00:00\", \"2018-03-10T03:00:00\", \"2018-03-10T04:00:00\", \"2018-03-10T05:00:00\", \"2018-03-10T06:00:00\", \"2018-03-10T07:00:00\", \"2018-03-10T08:00:00\", \"2018-03-10T09:00:00\", \"2018-03-10T10:00:00\", \"2018-03-10T11:00:00\", \"2018-03-10T12:00:00\", \"2018-03-10T13:00:00\", \"2018-03-10T14:00:00\", \"2018-03-10T15:00:00\", \"2018-03-10T16:00:00\", \"2018-03-10T17:00:00\", \"2018-03-10T18:00:00\", \"2018-03-10T19:00:00\", \"2018-03-10T20:00:00\", \"2018-03-10T21:00:00\", \"2018-03-10T22:00:00\", \"2018-03-10T23:00:00\", \"2018-03-11T00:00:00\", \"2018-03-11T01:00:00\", \"2018-03-11T02:00:00\", \"2018-03-11T03:00:00\", \"2018-03-11T04:00:00\", \"2018-03-11T05:00:00\", \"2018-03-11T06:00:00\", \"2018-03-11T07:00:00\", \"2018-03-11T08:00:00\", \"2018-03-11T09:00:00\", \"2018-03-11T10:00:00\", \"2018-03-11T11:00:00\", \"2018-03-11T12:00:00\", \"2018-03-11T13:00:00\", \"2018-03-11T14:00:00\", \"2018-03-11T15:00:00\", \"2018-03-11T16:00:00\", \"2018-03-11T17:00:00\", \"2018-03-11T18:00:00\", \"2018-03-11T19:00:00\", \"2018-03-11T20:00:00\", \"2018-03-11T21:00:00\", \"2018-03-11T22:00:00\", \"2018-03-11T23:00:00\", \"2018-03-12T00:00:00\", \"2018-03-12T01:00:00\", \"2018-03-12T02:00:00\", \"2018-03-12T03:00:00\", \"2018-03-12T04:00:00\", \"2018-03-12T05:00:00\", \"2018-03-12T06:00:00\", \"2018-03-12T07:00:00\", \"2018-03-12T08:00:00\", \"2018-03-12T09:00:00\", \"2018-03-12T10:00:00\", \"2018-03-12T11:00:00\", \"2018-03-12T12:00:00\", \"2018-03-12T13:00:00\", \"2018-03-12T14:00:00\", \"2018-03-12T15:00:00\", \"2018-03-12T16:00:00\", \"2018-03-12T17:00:00\", \"2018-03-12T18:00:00\", \"2018-03-12T19:00:00\", \"2018-03-12T20:00:00\", \"2018-03-12T21:00:00\", \"2018-03-12T22:00:00\", \"2018-03-12T23:00:00\", \"2018-03-13T00:00:00\", \"2018-03-13T01:00:00\", \"2018-03-13T02:00:00\", \"2018-03-13T03:00:00\", \"2018-03-13T04:00:00\", \"2018-03-13T05:00:00\", \"2018-03-13T06:00:00\", \"2018-03-13T07:00:00\", \"2018-03-13T08:00:00\", \"2018-03-13T09:00:00\", \"2018-03-13T10:00:00\", \"2018-03-13T11:00:00\", \"2018-03-13T12:00:00\", \"2018-03-13T13:00:00\", \"2018-03-13T14:00:00\", \"2018-03-13T15:00:00\", \"2018-03-13T16:00:00\", \"2018-03-13T17:00:00\", \"2018-03-13T18:00:00\", \"2018-03-13T19:00:00\", \"2018-03-13T20:00:00\", \"2018-03-13T21:00:00\", \"2018-03-13T22:00:00\", \"2018-03-13T23:00:00\", \"2018-03-14T00:00:00\", \"2018-03-14T01:00:00\", \"2018-03-14T02:00:00\", \"2018-03-14T03:00:00\", \"2018-03-14T04:00:00\", \"2018-03-14T05:00:00\", \"2018-03-14T06:00:00\", \"2018-03-14T07:00:00\", \"2018-03-14T08:00:00\", \"2018-03-14T09:00:00\", \"2018-03-14T10:00:00\", \"2018-03-14T11:00:00\", \"2018-03-14T12:00:00\", \"2018-03-14T13:00:00\", \"2018-03-14T14:00:00\", \"2018-03-14T15:00:00\", \"2018-03-14T16:00:00\", \"2018-03-14T17:00:00\", \"2018-03-14T18:00:00\", \"2018-03-14T19:00:00\", \"2018-03-14T20:00:00\", \"2018-03-14T21:00:00\", \"2018-03-14T22:00:00\", \"2018-03-14T23:00:00\", \"2018-03-15T00:00:00\", \"2018-03-15T01:00:00\", \"2018-03-15T02:00:00\", \"2018-03-15T03:00:00\", \"2018-03-15T04:00:00\", \"2018-03-15T05:00:00\", \"2018-03-15T06:00:00\", \"2018-03-15T07:00:00\", \"2018-03-15T08:00:00\", \"2018-03-15T09:00:00\", \"2018-03-15T10:00:00\", \"2018-03-15T11:00:00\", \"2018-03-15T12:00:00\", \"2018-03-15T13:00:00\", \"2018-03-15T14:00:00\", \"2018-03-15T15:00:00\", \"2018-03-15T16:00:00\", \"2018-03-15T17:00:00\", \"2018-03-15T18:00:00\", \"2018-03-15T19:00:00\", \"2018-03-15T20:00:00\", \"2018-03-15T21:00:00\", \"2018-03-15T22:00:00\", \"2018-03-15T23:00:00\", \"2018-03-16T00:00:00\", \"2018-03-16T01:00:00\", \"2018-03-16T02:00:00\", \"2018-03-16T03:00:00\", \"2018-03-16T04:00:00\", \"2018-03-16T05:00:00\", \"2018-03-16T06:00:00\", \"2018-03-16T07:00:00\", \"2018-03-16T08:00:00\", \"2018-03-16T09:00:00\", \"2018-03-16T10:00:00\", \"2018-03-16T11:00:00\", \"2018-03-16T12:00:00\", \"2018-03-16T13:00:00\", \"2018-03-16T14:00:00\", \"2018-03-16T15:00:00\", \"2018-03-16T16:00:00\", \"2018-03-16T17:00:00\", \"2018-03-16T18:00:00\", \"2018-03-16T19:00:00\", \"2018-03-16T20:00:00\", \"2018-03-16T21:00:00\", \"2018-03-16T22:00:00\", \"2018-03-16T23:00:00\", \"2018-03-17T00:00:00\", \"2018-03-17T01:00:00\", \"2018-03-17T02:00:00\", \"2018-03-17T03:00:00\", \"2018-03-17T04:00:00\", \"2018-03-17T05:00:00\", \"2018-03-17T06:00:00\", \"2018-03-17T07:00:00\", \"2018-03-17T08:00:00\", \"2018-03-17T09:00:00\", \"2018-03-17T10:00:00\", \"2018-03-17T11:00:00\", \"2018-03-17T12:00:00\", \"2018-03-17T13:00:00\", \"2018-03-17T14:00:00\", \"2018-03-17T15:00:00\", \"2018-03-17T16:00:00\", \"2018-03-17T17:00:00\", \"2018-03-17T18:00:00\", \"2018-03-17T19:00:00\", \"2018-03-17T20:00:00\", \"2018-03-17T21:00:00\", \"2018-03-17T22:00:00\", \"2018-03-17T23:00:00\", \"2018-03-18T00:00:00\", \"2018-03-18T01:00:00\", \"2018-03-18T02:00:00\", \"2018-03-18T03:00:00\", \"2018-03-18T04:00:00\", \"2018-03-18T05:00:00\", \"2018-03-18T06:00:00\", \"2018-03-18T07:00:00\", \"2018-03-18T08:00:00\", \"2018-03-18T09:00:00\", \"2018-03-18T10:00:00\", \"2018-03-18T11:00:00\", \"2018-03-18T12:00:00\", \"2018-03-18T13:00:00\", \"2018-03-18T14:00:00\", \"2018-03-18T15:00:00\", \"2018-03-18T16:00:00\", \"2018-03-18T17:00:00\", \"2018-03-18T18:00:00\", \"2018-03-18T19:00:00\", \"2018-03-18T20:00:00\", \"2018-03-18T21:00:00\", \"2018-03-18T22:00:00\", \"2018-03-18T23:00:00\", \"2018-03-19T00:00:00\", \"2018-03-19T01:00:00\", \"2018-03-19T02:00:00\", \"2018-03-19T03:00:00\", \"2018-03-19T04:00:00\", \"2018-03-19T05:00:00\", \"2018-03-19T06:00:00\", \"2018-03-19T07:00:00\", \"2018-03-19T08:00:00\", \"2018-03-19T09:00:00\", \"2018-03-19T10:00:00\", \"2018-03-19T11:00:00\", \"2018-03-19T12:00:00\", \"2018-03-19T13:00:00\", \"2018-03-19T14:00:00\", \"2018-03-19T15:00:00\", \"2018-03-19T16:00:00\", \"2018-03-19T17:00:00\", \"2018-03-19T18:00:00\", \"2018-03-19T19:00:00\", \"2018-03-19T20:00:00\", \"2018-03-19T21:00:00\", \"2018-03-19T22:00:00\", \"2018-03-19T23:00:00\", \"2018-03-20T00:00:00\", \"2018-03-20T01:00:00\", \"2018-03-20T02:00:00\", \"2018-03-20T03:00:00\", \"2018-03-20T04:00:00\", \"2018-03-20T05:00:00\", \"2018-03-20T06:00:00\", \"2018-03-20T07:00:00\", \"2018-03-20T08:00:00\", \"2018-03-20T09:00:00\", \"2018-03-20T10:00:00\", \"2018-03-20T11:00:00\", \"2018-03-20T12:00:00\", \"2018-03-20T13:00:00\", \"2018-03-20T14:00:00\", \"2018-03-20T15:00:00\", \"2018-03-20T16:00:00\", \"2018-03-20T17:00:00\", \"2018-03-20T18:00:00\", \"2018-03-20T19:00:00\", \"2018-03-20T20:00:00\", \"2018-03-20T21:00:00\", \"2018-03-20T22:00:00\", \"2018-03-20T23:00:00\", \"2018-03-21T00:00:00\", \"2018-03-21T01:00:00\", \"2018-03-21T02:00:00\", \"2018-03-21T03:00:00\", \"2018-03-21T04:00:00\", \"2018-03-21T05:00:00\", \"2018-03-21T06:00:00\", \"2018-03-21T07:00:00\", \"2018-03-21T08:00:00\", \"2018-03-21T09:00:00\", \"2018-03-21T10:00:00\", \"2018-03-21T11:00:00\", \"2018-03-21T12:00:00\", \"2018-03-21T13:00:00\", \"2018-03-21T14:00:00\", \"2018-03-21T15:00:00\", \"2018-03-21T16:00:00\", \"2018-03-21T17:00:00\", \"2018-03-21T18:00:00\", \"2018-03-21T19:00:00\", \"2018-03-21T20:00:00\", \"2018-03-21T21:00:00\", \"2018-03-21T22:00:00\", \"2018-03-21T23:00:00\", \"2018-03-22T00:00:00\", \"2018-03-22T01:00:00\", \"2018-03-22T02:00:00\", \"2018-03-22T03:00:00\", \"2018-03-22T04:00:00\", \"2018-03-22T05:00:00\", \"2018-03-22T06:00:00\", \"2018-03-22T07:00:00\", \"2018-03-22T08:00:00\", \"2018-03-22T09:00:00\", \"2018-03-22T10:00:00\", \"2018-03-22T11:00:00\", \"2018-03-22T12:00:00\", \"2018-03-22T13:00:00\", \"2018-03-22T14:00:00\", \"2018-03-22T15:00:00\", \"2018-03-22T16:00:00\", \"2018-03-22T17:00:00\", \"2018-03-22T18:00:00\", \"2018-03-22T19:00:00\", \"2018-03-22T20:00:00\", \"2018-03-22T21:00:00\", \"2018-03-22T22:00:00\", \"2018-03-22T23:00:00\", \"2018-03-23T00:00:00\", \"2018-03-23T01:00:00\", \"2018-03-23T02:00:00\", \"2018-03-23T03:00:00\", \"2018-03-23T04:00:00\", \"2018-03-23T05:00:00\", \"2018-03-23T06:00:00\", \"2018-03-23T07:00:00\", \"2018-03-23T08:00:00\", \"2018-03-23T09:00:00\", \"2018-03-23T10:00:00\", \"2018-03-23T11:00:00\", \"2018-03-23T12:00:00\", \"2018-03-23T13:00:00\", \"2018-03-23T14:00:00\", \"2018-03-23T15:00:00\", \"2018-03-23T16:00:00\", \"2018-03-23T17:00:00\", \"2018-03-23T18:00:00\", \"2018-03-23T19:00:00\", \"2018-03-23T20:00:00\", \"2018-03-23T21:00:00\", \"2018-03-23T22:00:00\", \"2018-03-23T23:00:00\", \"2018-03-24T00:00:00\", \"2018-03-24T01:00:00\", \"2018-03-24T02:00:00\", \"2018-03-24T03:00:00\", \"2018-03-24T04:00:00\", \"2018-03-24T05:00:00\", \"2018-03-24T06:00:00\", \"2018-03-24T07:00:00\", \"2018-03-24T08:00:00\", \"2018-03-24T09:00:00\", \"2018-03-24T10:00:00\", \"2018-03-24T11:00:00\", \"2018-03-24T12:00:00\", \"2018-03-24T13:00:00\", \"2018-03-24T14:00:00\", \"2018-03-24T15:00:00\", \"2018-03-24T16:00:00\", \"2018-03-24T17:00:00\", \"2018-03-24T18:00:00\", \"2018-03-24T19:00:00\", \"2018-03-24T20:00:00\", \"2018-03-24T21:00:00\", \"2018-03-24T22:00:00\", \"2018-03-24T23:00:00\", \"2018-03-25T00:00:00\", \"2018-03-25T01:00:00\", \"2018-03-25T02:00:00\", \"2018-03-25T03:00:00\", \"2018-03-25T04:00:00\", \"2018-03-25T05:00:00\", \"2018-03-25T06:00:00\", \"2018-03-25T07:00:00\", \"2018-03-25T08:00:00\", \"2018-03-25T09:00:00\", \"2018-03-25T10:00:00\", \"2018-03-25T11:00:00\", \"2018-03-25T12:00:00\", \"2018-03-25T13:00:00\", \"2018-03-25T14:00:00\", \"2018-03-25T15:00:00\", \"2018-03-25T16:00:00\", \"2018-03-25T17:00:00\", \"2018-03-25T18:00:00\", \"2018-03-25T19:00:00\", \"2018-03-25T20:00:00\", \"2018-03-25T21:00:00\", \"2018-03-25T22:00:00\", \"2018-03-25T23:00:00\", \"2018-03-26T00:00:00\", \"2018-03-26T01:00:00\", \"2018-03-26T02:00:00\", \"2018-03-26T03:00:00\", \"2018-03-26T04:00:00\", \"2018-03-26T05:00:00\", \"2018-03-26T06:00:00\", \"2018-03-26T07:00:00\", \"2018-03-26T08:00:00\", \"2018-03-26T09:00:00\", \"2018-03-26T10:00:00\", \"2018-03-26T11:00:00\", \"2018-03-26T12:00:00\", \"2018-03-26T13:00:00\", \"2018-03-26T14:00:00\", \"2018-03-26T15:00:00\", \"2018-03-26T16:00:00\", \"2018-03-26T17:00:00\", \"2018-03-26T18:00:00\", \"2018-03-26T19:00:00\", \"2018-03-26T20:00:00\", \"2018-03-26T21:00:00\", \"2018-03-26T22:00:00\", \"2018-03-26T23:00:00\", \"2018-03-27T00:00:00\", \"2018-03-27T01:00:00\", \"2018-03-27T02:00:00\", \"2018-03-27T03:00:00\", \"2018-03-27T04:00:00\", \"2018-03-27T05:00:00\", \"2018-03-27T06:00:00\", \"2018-03-27T07:00:00\", \"2018-03-27T08:00:00\", \"2018-03-27T09:00:00\", \"2018-03-27T10:00:00\", \"2018-03-27T11:00:00\", \"2018-03-27T12:00:00\", \"2018-03-27T13:00:00\", \"2018-03-27T14:00:00\", \"2018-03-27T15:00:00\", \"2018-03-27T16:00:00\", \"2018-03-27T17:00:00\", \"2018-03-27T18:00:00\", \"2018-03-27T19:00:00\", \"2018-03-27T20:00:00\", \"2018-03-27T21:00:00\", \"2018-03-27T22:00:00\", \"2018-03-27T23:00:00\", \"2018-03-28T00:00:00\", \"2018-03-28T01:00:00\", \"2018-03-28T02:00:00\", \"2018-03-28T03:00:00\", \"2018-03-28T04:00:00\", \"2018-03-28T05:00:00\", \"2018-03-28T06:00:00\", \"2018-03-28T07:00:00\", \"2018-03-28T08:00:00\", \"2018-03-28T09:00:00\", \"2018-03-28T10:00:00\", \"2018-03-28T11:00:00\", \"2018-03-28T12:00:00\", \"2018-03-28T13:00:00\", \"2018-03-28T14:00:00\", \"2018-03-28T15:00:00\", \"2018-03-28T16:00:00\", \"2018-03-28T17:00:00\", \"2018-03-28T18:00:00\", \"2018-03-28T19:00:00\", \"2018-03-28T20:00:00\", \"2018-03-28T21:00:00\", \"2018-03-28T22:00:00\", \"2018-03-28T23:00:00\", \"2018-03-29T00:00:00\", \"2018-03-29T01:00:00\", \"2018-03-29T02:00:00\", \"2018-03-29T03:00:00\", \"2018-03-29T04:00:00\", \"2018-03-29T05:00:00\", \"2018-03-29T06:00:00\", \"2018-03-29T07:00:00\", \"2018-03-29T08:00:00\", \"2018-03-29T09:00:00\", \"2018-03-29T10:00:00\", \"2018-03-29T11:00:00\", \"2018-03-29T12:00:00\", \"2018-03-29T13:00:00\", \"2018-03-29T14:00:00\", \"2018-03-29T15:00:00\", \"2018-03-29T16:00:00\", \"2018-03-29T17:00:00\", \"2018-03-29T18:00:00\", \"2018-03-29T19:00:00\", \"2018-03-29T20:00:00\", \"2018-03-29T21:00:00\", \"2018-03-29T22:00:00\", \"2018-03-29T23:00:00\", \"2018-03-30T00:00:00\", \"2018-03-30T01:00:00\", \"2018-03-30T02:00:00\", \"2018-03-30T03:00:00\", \"2018-03-30T04:00:00\", \"2018-03-30T05:00:00\", \"2018-03-30T06:00:00\", \"2018-03-30T07:00:00\", \"2018-03-30T08:00:00\", \"2018-03-30T09:00:00\", \"2018-03-30T10:00:00\", \"2018-03-30T11:00:00\", \"2018-03-30T12:00:00\", \"2018-03-30T13:00:00\", \"2018-03-30T14:00:00\", \"2018-03-30T15:00:00\", \"2018-03-30T16:00:00\", \"2018-03-30T17:00:00\", \"2018-03-30T18:00:00\", \"2018-03-30T19:00:00\", \"2018-03-30T20:00:00\", \"2018-03-30T21:00:00\", \"2018-03-30T22:00:00\", \"2018-03-30T23:00:00\", \"2018-03-31T00:00:00\", \"2018-03-31T01:00:00\", \"2018-03-31T02:00:00\", \"2018-03-31T03:00:00\", \"2018-03-31T04:00:00\", \"2018-03-31T05:00:00\", \"2018-03-31T06:00:00\", \"2018-03-31T07:00:00\", \"2018-03-31T08:00:00\", \"2018-03-31T09:00:00\", \"2018-03-31T10:00:00\", \"2018-03-31T11:00:00\", \"2018-03-31T12:00:00\", \"2018-03-31T13:00:00\", \"2018-03-31T14:00:00\", \"2018-03-31T15:00:00\", \"2018-03-31T16:00:00\", \"2018-03-31T17:00:00\", \"2018-03-31T18:00:00\", \"2018-03-31T19:00:00\", \"2018-03-31T20:00:00\", \"2018-03-31T21:00:00\", \"2018-03-31T22:00:00\", \"2018-03-31T23:00:00\", \"2018-04-01T00:00:00\", \"2018-04-01T01:00:00\", \"2018-04-01T02:00:00\", \"2018-04-01T03:00:00\", \"2018-04-01T04:00:00\", \"2018-04-01T05:00:00\", \"2018-04-01T06:00:00\", \"2018-04-01T07:00:00\", \"2018-04-01T08:00:00\", \"2018-04-01T09:00:00\", \"2018-04-01T10:00:00\", \"2018-04-01T11:00:00\", \"2018-04-01T12:00:00\", \"2018-04-01T13:00:00\", \"2018-04-01T14:00:00\", \"2018-04-01T15:00:00\", \"2018-04-01T16:00:00\", \"2018-04-01T17:00:00\", \"2018-04-01T18:00:00\", \"2018-04-01T19:00:00\", \"2018-04-01T20:00:00\", \"2018-04-01T21:00:00\", \"2018-04-01T22:00:00\", \"2018-04-01T23:00:00\", \"2018-04-02T00:00:00\", \"2018-04-02T01:00:00\", \"2018-04-02T02:00:00\", \"2018-04-02T03:00:00\", \"2018-04-02T04:00:00\", \"2018-04-02T05:00:00\", \"2018-04-02T06:00:00\", \"2018-04-02T07:00:00\", \"2018-04-02T08:00:00\", \"2018-04-02T09:00:00\", \"2018-04-02T10:00:00\", \"2018-04-02T11:00:00\", \"2018-04-02T12:00:00\", \"2018-04-02T13:00:00\", \"2018-04-02T14:00:00\", \"2018-04-02T15:00:00\", \"2018-04-02T16:00:00\", \"2018-04-02T17:00:00\", \"2018-04-02T18:00:00\", \"2018-04-02T19:00:00\", \"2018-04-02T20:00:00\", \"2018-04-02T21:00:00\", \"2018-04-02T22:00:00\", \"2018-04-02T23:00:00\", \"2018-04-03T00:00:00\", \"2018-04-03T01:00:00\", \"2018-04-03T02:00:00\", \"2018-04-03T03:00:00\", \"2018-04-03T04:00:00\", \"2018-04-03T05:00:00\", \"2018-04-03T06:00:00\", \"2018-04-03T07:00:00\", \"2018-04-03T08:00:00\", \"2018-04-03T09:00:00\", \"2018-04-03T10:00:00\", \"2018-04-03T11:00:00\", \"2018-04-03T12:00:00\", \"2018-04-03T13:00:00\", \"2018-04-03T14:00:00\", \"2018-04-03T15:00:00\", \"2018-04-03T16:00:00\", \"2018-04-03T17:00:00\", \"2018-04-03T18:00:00\", \"2018-04-03T19:00:00\", \"2018-04-03T20:00:00\", \"2018-04-03T21:00:00\", \"2018-04-03T22:00:00\", \"2018-04-03T23:00:00\", \"2018-04-04T00:00:00\", \"2018-04-04T01:00:00\", \"2018-04-04T02:00:00\", \"2018-04-04T03:00:00\", \"2018-04-04T04:00:00\", \"2018-04-04T05:00:00\", \"2018-04-04T06:00:00\", \"2018-04-04T07:00:00\", \"2018-04-04T08:00:00\", \"2018-04-04T09:00:00\", \"2018-04-04T10:00:00\", \"2018-04-04T11:00:00\", \"2018-04-04T12:00:00\", \"2018-04-04T13:00:00\", \"2018-04-04T14:00:00\", \"2018-04-04T15:00:00\", \"2018-04-04T16:00:00\", \"2018-04-04T17:00:00\", \"2018-04-04T18:00:00\", \"2018-04-04T19:00:00\", \"2018-04-04T20:00:00\", \"2018-04-04T21:00:00\", \"2018-04-04T22:00:00\", \"2018-04-04T23:00:00\", \"2018-04-05T00:00:00\", \"2018-04-05T01:00:00\", \"2018-04-05T02:00:00\", \"2018-04-05T03:00:00\", \"2018-04-05T04:00:00\", \"2018-04-05T05:00:00\", \"2018-04-05T06:00:00\", \"2018-04-05T07:00:00\", \"2018-04-05T08:00:00\", \"2018-04-05T09:00:00\", \"2018-04-05T10:00:00\", \"2018-04-05T11:00:00\", \"2018-04-05T12:00:00\", \"2018-04-05T13:00:00\", \"2018-04-05T14:00:00\", \"2018-04-05T15:00:00\", \"2018-04-05T16:00:00\", \"2018-04-05T17:00:00\", \"2018-04-05T18:00:00\", \"2018-04-05T19:00:00\", \"2018-04-05T20:00:00\", \"2018-04-05T21:00:00\", \"2018-04-05T22:00:00\", \"2018-04-05T23:00:00\", \"2018-04-06T00:00:00\", \"2018-04-06T01:00:00\", \"2018-04-06T02:00:00\", \"2018-04-06T03:00:00\", \"2018-04-06T04:00:00\", \"2018-04-06T05:00:00\", \"2018-04-06T06:00:00\", \"2018-04-06T07:00:00\", \"2018-04-06T08:00:00\", \"2018-04-06T09:00:00\", \"2018-04-06T10:00:00\", \"2018-04-06T11:00:00\", \"2018-04-06T12:00:00\", \"2018-04-06T13:00:00\", \"2018-04-06T14:00:00\", \"2018-04-06T15:00:00\", \"2018-04-06T16:00:00\", \"2018-04-06T17:00:00\", \"2018-04-06T18:00:00\", \"2018-04-06T19:00:00\", \"2018-04-06T20:00:00\", \"2018-04-06T21:00:00\", \"2018-04-06T22:00:00\", \"2018-04-06T23:00:00\", \"2018-04-07T00:00:00\", \"2018-04-07T01:00:00\", \"2018-04-07T02:00:00\", \"2018-04-07T03:00:00\", \"2018-04-07T04:00:00\", \"2018-04-07T05:00:00\", \"2018-04-07T06:00:00\", \"2018-04-07T07:00:00\", \"2018-04-07T08:00:00\", \"2018-04-07T09:00:00\", \"2018-04-07T10:00:00\", \"2018-04-07T11:00:00\", \"2018-04-07T12:00:00\", \"2018-04-07T13:00:00\", \"2018-04-07T14:00:00\", \"2018-04-07T15:00:00\", \"2018-04-07T16:00:00\", \"2018-04-07T17:00:00\", \"2018-04-07T18:00:00\", \"2018-04-07T19:00:00\", \"2018-04-07T20:00:00\", \"2018-04-07T21:00:00\", \"2018-04-07T22:00:00\", \"2018-04-07T23:00:00\", \"2018-04-08T00:00:00\", \"2018-04-08T01:00:00\", \"2018-04-08T02:00:00\", \"2018-04-08T03:00:00\", \"2018-04-08T04:00:00\", \"2018-04-08T05:00:00\", \"2018-04-08T06:00:00\", \"2018-04-08T07:00:00\", \"2018-04-08T08:00:00\", \"2018-04-08T09:00:00\", \"2018-04-08T10:00:00\", \"2018-04-08T11:00:00\", \"2018-04-08T12:00:00\", \"2018-04-08T13:00:00\", \"2018-04-08T14:00:00\", \"2018-04-08T15:00:00\", \"2018-04-08T16:00:00\", \"2018-04-08T17:00:00\", \"2018-04-08T18:00:00\", \"2018-04-08T19:00:00\", \"2018-04-08T20:00:00\", \"2018-04-08T21:00:00\", \"2018-04-08T22:00:00\", \"2018-04-08T23:00:00\", \"2018-04-09T00:00:00\", \"2018-04-09T01:00:00\", \"2018-04-09T02:00:00\", \"2018-04-09T03:00:00\", \"2018-04-09T04:00:00\", \"2018-04-09T05:00:00\", \"2018-04-09T06:00:00\", \"2018-04-09T07:00:00\", \"2018-04-09T08:00:00\", \"2018-04-09T09:00:00\", \"2018-04-09T10:00:00\", \"2018-04-09T11:00:00\", \"2018-04-09T12:00:00\", \"2018-04-09T13:00:00\", \"2018-04-09T14:00:00\", \"2018-04-09T15:00:00\", \"2018-04-09T16:00:00\", \"2018-04-09T17:00:00\", \"2018-04-09T18:00:00\", \"2018-04-09T19:00:00\", \"2018-04-09T20:00:00\", \"2018-04-09T21:00:00\", \"2018-04-09T22:00:00\", \"2018-04-09T23:00:00\", \"2018-04-10T00:00:00\", \"2018-04-10T01:00:00\", \"2018-04-10T02:00:00\", \"2018-04-10T03:00:00\", \"2018-04-10T04:00:00\", \"2018-04-10T05:00:00\", \"2018-04-10T06:00:00\", \"2018-04-10T07:00:00\", \"2018-04-10T08:00:00\", \"2018-04-10T09:00:00\", \"2018-04-10T10:00:00\", \"2018-04-10T11:00:00\", \"2018-04-10T12:00:00\", \"2018-04-10T13:00:00\", \"2018-04-10T14:00:00\", \"2018-04-10T15:00:00\", \"2018-04-10T16:00:00\", \"2018-04-10T17:00:00\", \"2018-04-10T18:00:00\", \"2018-04-10T19:00:00\", \"2018-04-10T20:00:00\", \"2018-04-10T21:00:00\", \"2018-04-10T22:00:00\", \"2018-04-10T23:00:00\", \"2018-04-11T00:00:00\", \"2018-04-11T01:00:00\", \"2018-04-11T02:00:00\", \"2018-04-11T03:00:00\", \"2018-04-11T04:00:00\", \"2018-04-11T05:00:00\", \"2018-04-11T06:00:00\", \"2018-04-11T07:00:00\", \"2018-04-11T08:00:00\", \"2018-04-11T09:00:00\", \"2018-04-11T10:00:00\", \"2018-04-11T11:00:00\", \"2018-04-11T12:00:00\", \"2018-04-11T13:00:00\", \"2018-04-11T14:00:00\", \"2018-04-11T15:00:00\", \"2018-04-11T16:00:00\", \"2018-04-11T17:00:00\", \"2018-04-11T18:00:00\", \"2018-04-11T19:00:00\", \"2018-04-11T20:00:00\", \"2018-04-11T21:00:00\", \"2018-04-11T22:00:00\", \"2018-04-11T23:00:00\", \"2018-04-12T00:00:00\", \"2018-04-12T01:00:00\", \"2018-04-12T02:00:00\", \"2018-04-12T03:00:00\", \"2018-04-12T04:00:00\", \"2018-04-12T05:00:00\", \"2018-04-12T06:00:00\", \"2018-04-12T07:00:00\", \"2018-04-12T08:00:00\", \"2018-04-12T09:00:00\", \"2018-04-12T10:00:00\", \"2018-04-12T11:00:00\", \"2018-04-12T12:00:00\", \"2018-04-12T13:00:00\", \"2018-04-12T14:00:00\", \"2018-04-12T15:00:00\", \"2018-04-12T16:00:00\", \"2018-04-12T17:00:00\", \"2018-04-12T18:00:00\", \"2018-04-12T19:00:00\", \"2018-04-12T20:00:00\", \"2018-04-12T21:00:00\", \"2018-04-12T22:00:00\", \"2018-04-12T23:00:00\", \"2018-04-13T00:00:00\", \"2018-04-13T01:00:00\", \"2018-04-13T02:00:00\", \"2018-04-13T03:00:00\", \"2018-04-13T04:00:00\", \"2018-04-13T05:00:00\", \"2018-04-13T06:00:00\", \"2018-04-13T07:00:00\", \"2018-04-13T08:00:00\", \"2018-04-13T09:00:00\", \"2018-04-13T10:00:00\", \"2018-04-13T11:00:00\", \"2018-04-13T12:00:00\", \"2018-04-13T13:00:00\", \"2018-04-13T14:00:00\", \"2018-04-13T15:00:00\", \"2018-04-13T16:00:00\", \"2018-04-13T17:00:00\", \"2018-04-13T18:00:00\", \"2018-04-13T19:00:00\", \"2018-04-13T20:00:00\", \"2018-04-13T21:00:00\", \"2018-04-13T22:00:00\", \"2018-04-13T23:00:00\", \"2018-04-14T00:00:00\", \"2018-04-14T01:00:00\", \"2018-04-14T02:00:00\", \"2018-04-14T03:00:00\", \"2018-04-14T04:00:00\", \"2018-04-14T05:00:00\", \"2018-04-14T06:00:00\", \"2018-04-14T07:00:00\", \"2018-04-14T08:00:00\", \"2018-04-14T09:00:00\", \"2018-04-14T10:00:00\", \"2018-04-14T11:00:00\", \"2018-04-14T12:00:00\", \"2018-04-14T13:00:00\", \"2018-04-14T14:00:00\", \"2018-04-14T15:00:00\", \"2018-04-14T16:00:00\", \"2018-04-14T17:00:00\", \"2018-04-14T18:00:00\", \"2018-04-14T19:00:00\", \"2018-04-14T20:00:00\", \"2018-04-14T21:00:00\", \"2018-04-14T22:00:00\", \"2018-04-14T23:00:00\", \"2018-04-15T00:00:00\", \"2018-04-15T01:00:00\", \"2018-04-15T02:00:00\", \"2018-04-15T03:00:00\", \"2018-04-15T04:00:00\", \"2018-04-15T05:00:00\", \"2018-04-15T06:00:00\", \"2018-04-15T07:00:00\", \"2018-04-15T08:00:00\", \"2018-04-15T09:00:00\", \"2018-04-15T10:00:00\", \"2018-04-15T11:00:00\", \"2018-04-15T12:00:00\", \"2018-04-15T13:00:00\", \"2018-04-15T14:00:00\", \"2018-04-15T15:00:00\", \"2018-04-15T16:00:00\", \"2018-04-15T17:00:00\", \"2018-04-15T18:00:00\", \"2018-04-15T19:00:00\", \"2018-04-15T20:00:00\", \"2018-04-15T21:00:00\", \"2018-04-15T22:00:00\", \"2018-04-15T23:00:00\", \"2018-04-16T00:00:00\", \"2018-04-16T01:00:00\", \"2018-04-16T02:00:00\", \"2018-04-16T03:00:00\", \"2018-04-16T04:00:00\", \"2018-04-16T05:00:00\", \"2018-04-16T06:00:00\", \"2018-04-16T07:00:00\", \"2018-04-16T08:00:00\", \"2018-04-16T09:00:00\", \"2018-04-16T10:00:00\", \"2018-04-16T11:00:00\", \"2018-04-16T12:00:00\", \"2018-04-16T13:00:00\", \"2018-04-16T14:00:00\", \"2018-04-16T15:00:00\", \"2018-04-16T16:00:00\", \"2018-04-16T17:00:00\", \"2018-04-16T18:00:00\", \"2018-04-16T19:00:00\", \"2018-04-16T20:00:00\", \"2018-04-16T21:00:00\", \"2018-04-16T22:00:00\", \"2018-04-16T23:00:00\", \"2018-04-17T00:00:00\", \"2018-04-17T01:00:00\", \"2018-04-17T02:00:00\", \"2018-04-17T03:00:00\", \"2018-04-17T04:00:00\", \"2018-04-17T05:00:00\", \"2018-04-17T06:00:00\", \"2018-04-17T07:00:00\", \"2018-04-17T08:00:00\", \"2018-04-17T09:00:00\", \"2018-04-17T10:00:00\", \"2018-04-17T11:00:00\", \"2018-04-17T12:00:00\", \"2018-04-17T13:00:00\", \"2018-04-17T14:00:00\", \"2018-04-17T15:00:00\", \"2018-04-17T16:00:00\", \"2018-04-17T17:00:00\", \"2018-04-17T18:00:00\", \"2018-04-17T19:00:00\", \"2018-04-17T20:00:00\", \"2018-04-17T21:00:00\", \"2018-04-17T22:00:00\", \"2018-04-17T23:00:00\", \"2018-04-18T00:00:00\", \"2018-04-18T01:00:00\", \"2018-04-18T02:00:00\", \"2018-04-18T03:00:00\", \"2018-04-18T04:00:00\", \"2018-04-18T05:00:00\", \"2018-04-18T06:00:00\", \"2018-04-18T07:00:00\", \"2018-04-18T08:00:00\", \"2018-04-18T09:00:00\", \"2018-04-18T10:00:00\", \"2018-04-18T11:00:00\", \"2018-04-18T12:00:00\", \"2018-04-18T13:00:00\", \"2018-04-18T14:00:00\", \"2018-04-18T15:00:00\", \"2018-04-18T16:00:00\", \"2018-04-18T17:00:00\", \"2018-04-18T18:00:00\", \"2018-04-18T19:00:00\", \"2018-04-18T20:00:00\", \"2018-04-18T21:00:00\", \"2018-04-18T22:00:00\", \"2018-04-18T23:00:00\", \"2018-04-19T00:00:00\", \"2018-04-19T01:00:00\", \"2018-04-19T02:00:00\", \"2018-04-19T03:00:00\", \"2018-04-19T04:00:00\", \"2018-04-19T05:00:00\", \"2018-04-19T06:00:00\", \"2018-04-19T07:00:00\", \"2018-04-19T08:00:00\", \"2018-04-19T09:00:00\", \"2018-04-19T10:00:00\", \"2018-04-19T11:00:00\", \"2018-04-19T12:00:00\", \"2018-04-19T13:00:00\", \"2018-04-19T14:00:00\", \"2018-04-19T15:00:00\", \"2018-04-19T16:00:00\", \"2018-04-19T17:00:00\", \"2018-04-19T18:00:00\", \"2018-04-19T19:00:00\", \"2018-04-19T20:00:00\", \"2018-04-19T21:00:00\", \"2018-04-19T22:00:00\", \"2018-04-19T23:00:00\", \"2018-04-20T00:00:00\", \"2018-04-20T01:00:00\", \"2018-04-20T02:00:00\", \"2018-04-20T03:00:00\", \"2018-04-20T04:00:00\", \"2018-04-20T05:00:00\", \"2018-04-20T06:00:00\", \"2018-04-20T07:00:00\", \"2018-04-20T08:00:00\", \"2018-04-20T09:00:00\", \"2018-04-20T10:00:00\", \"2018-04-20T11:00:00\", \"2018-04-20T12:00:00\", \"2018-04-20T13:00:00\", \"2018-04-20T14:00:00\", \"2018-04-20T15:00:00\", \"2018-04-20T16:00:00\", \"2018-04-20T17:00:00\", \"2018-04-20T18:00:00\", \"2018-04-20T19:00:00\", \"2018-04-20T20:00:00\", \"2018-04-20T21:00:00\", \"2018-04-20T22:00:00\", \"2018-04-20T23:00:00\", \"2018-04-21T00:00:00\", \"2018-04-21T01:00:00\", \"2018-04-21T02:00:00\", \"2018-04-21T03:00:00\", \"2018-04-21T04:00:00\", \"2018-04-21T05:00:00\", \"2018-04-21T06:00:00\", \"2018-04-21T07:00:00\", \"2018-04-21T08:00:00\", \"2018-04-21T09:00:00\", \"2018-04-21T10:00:00\", \"2018-04-21T11:00:00\", \"2018-04-21T12:00:00\", \"2018-04-21T13:00:00\", \"2018-04-21T14:00:00\", \"2018-04-21T15:00:00\", \"2018-04-21T16:00:00\", \"2018-04-21T17:00:00\", \"2018-04-21T18:00:00\", \"2018-04-21T19:00:00\", \"2018-04-21T20:00:00\", \"2018-04-21T21:00:00\", \"2018-04-21T22:00:00\", \"2018-04-21T23:00:00\", \"2018-04-22T00:00:00\", \"2018-04-22T01:00:00\", \"2018-04-22T02:00:00\", \"2018-04-22T03:00:00\", \"2018-04-22T04:00:00\", \"2018-04-22T05:00:00\", \"2018-04-22T06:00:00\", \"2018-04-22T07:00:00\", \"2018-04-22T08:00:00\", \"2018-04-22T09:00:00\", \"2018-04-22T10:00:00\", \"2018-04-22T11:00:00\", \"2018-04-22T12:00:00\", \"2018-04-22T13:00:00\", \"2018-04-22T14:00:00\", \"2018-04-22T15:00:00\", \"2018-04-22T16:00:00\", \"2018-04-22T17:00:00\", \"2018-04-22T18:00:00\", \"2018-04-22T19:00:00\", \"2018-04-22T20:00:00\", \"2018-04-22T21:00:00\", \"2018-04-22T22:00:00\", \"2018-04-22T23:00:00\", \"2018-04-23T00:00:00\", \"2018-04-23T01:00:00\", \"2018-04-23T02:00:00\", \"2018-04-23T03:00:00\", \"2018-04-23T04:00:00\", \"2018-04-23T05:00:00\", \"2018-04-23T06:00:00\", \"2018-04-23T07:00:00\", \"2018-04-23T08:00:00\", \"2018-04-23T09:00:00\", \"2018-04-23T10:00:00\", \"2018-04-23T11:00:00\", \"2018-04-23T12:00:00\", \"2018-04-23T13:00:00\", \"2018-04-23T14:00:00\", \"2018-04-23T15:00:00\", \"2018-04-23T16:00:00\", \"2018-04-23T17:00:00\", \"2018-04-23T18:00:00\", \"2018-04-23T19:00:00\", \"2018-04-23T20:00:00\", \"2018-04-23T21:00:00\", \"2018-04-23T22:00:00\", \"2018-04-23T23:00:00\", \"2018-04-24T00:00:00\", \"2018-04-24T01:00:00\", \"2018-04-24T02:00:00\", \"2018-04-24T03:00:00\", \"2018-04-24T04:00:00\", \"2018-04-24T05:00:00\", \"2018-04-24T06:00:00\", \"2018-04-24T07:00:00\", \"2018-04-24T08:00:00\", \"2018-04-24T09:00:00\", \"2018-04-24T10:00:00\", \"2018-04-24T11:00:00\", \"2018-04-24T12:00:00\", \"2018-04-24T13:00:00\", \"2018-04-24T14:00:00\", \"2018-04-24T15:00:00\", \"2018-04-24T16:00:00\", \"2018-04-24T17:00:00\", \"2018-04-24T18:00:00\", \"2018-04-24T19:00:00\", \"2018-04-24T20:00:00\", \"2018-04-24T21:00:00\", \"2018-04-24T22:00:00\", \"2018-04-24T23:00:00\", \"2018-04-25T00:00:00\", \"2018-04-25T01:00:00\", \"2018-04-25T02:00:00\", \"2018-04-25T03:00:00\", \"2018-04-25T04:00:00\", \"2018-04-25T05:00:00\", \"2018-04-25T06:00:00\", \"2018-04-25T07:00:00\", \"2018-04-25T08:00:00\", \"2018-04-25T09:00:00\", \"2018-04-25T10:00:00\", \"2018-04-25T11:00:00\", \"2018-04-25T12:00:00\", \"2018-04-25T13:00:00\", \"2018-04-25T14:00:00\", \"2018-04-25T15:00:00\", \"2018-04-25T16:00:00\", \"2018-04-25T17:00:00\", \"2018-04-25T18:00:00\", \"2018-04-25T19:00:00\", \"2018-04-25T20:00:00\", \"2018-04-25T21:00:00\", \"2018-04-25T22:00:00\", \"2018-04-25T23:00:00\", \"2018-04-26T00:00:00\", \"2018-04-26T01:00:00\", \"2018-04-26T02:00:00\", \"2018-04-26T03:00:00\", \"2018-04-26T04:00:00\", \"2018-04-26T05:00:00\", \"2018-04-26T06:00:00\", \"2018-04-26T07:00:00\", \"2018-04-26T08:00:00\", \"2018-04-26T09:00:00\", \"2018-04-26T10:00:00\", \"2018-04-26T11:00:00\", \"2018-04-26T12:00:00\", \"2018-04-26T13:00:00\", \"2018-04-26T14:00:00\", \"2018-04-26T15:00:00\", \"2018-04-26T16:00:00\", \"2018-04-26T17:00:00\", \"2018-04-26T18:00:00\", \"2018-04-26T19:00:00\", \"2018-04-26T20:00:00\", \"2018-04-26T21:00:00\", \"2018-04-26T22:00:00\", \"2018-04-26T23:00:00\", \"2018-04-27T00:00:00\", \"2018-04-27T01:00:00\", \"2018-04-27T02:00:00\", \"2018-04-27T03:00:00\", \"2018-04-27T04:00:00\", \"2018-04-27T05:00:00\", \"2018-04-27T06:00:00\", \"2018-04-27T07:00:00\", \"2018-04-27T08:00:00\", \"2018-04-27T09:00:00\", \"2018-04-27T10:00:00\", \"2018-04-27T11:00:00\", \"2018-04-27T12:00:00\", \"2018-04-27T13:00:00\", \"2018-04-27T14:00:00\", \"2018-04-27T15:00:00\", \"2018-04-27T16:00:00\", \"2018-04-27T17:00:00\", \"2018-04-27T18:00:00\", \"2018-04-27T19:00:00\", \"2018-04-27T20:00:00\", \"2018-04-27T21:00:00\", \"2018-04-27T22:00:00\", \"2018-04-27T23:00:00\", \"2018-04-28T00:00:00\", \"2018-04-28T01:00:00\", \"2018-04-28T02:00:00\", \"2018-04-28T03:00:00\", \"2018-04-28T04:00:00\", \"2018-04-28T05:00:00\", \"2018-04-28T06:00:00\", \"2018-04-28T07:00:00\", \"2018-04-28T08:00:00\", \"2018-04-28T09:00:00\", \"2018-04-28T10:00:00\", \"2018-04-28T11:00:00\", \"2018-04-28T12:00:00\", \"2018-04-28T13:00:00\", \"2018-04-28T14:00:00\", \"2018-04-28T15:00:00\", \"2018-04-28T16:00:00\", \"2018-04-28T17:00:00\", \"2018-04-28T18:00:00\", \"2018-04-28T19:00:00\", \"2018-04-28T20:00:00\", \"2018-04-28T21:00:00\", \"2018-04-28T22:00:00\", \"2018-04-28T23:00:00\", \"2018-04-29T00:00:00\", \"2018-04-29T01:00:00\", \"2018-04-29T02:00:00\", \"2018-04-29T03:00:00\", \"2018-04-29T04:00:00\", \"2018-04-29T05:00:00\", \"2018-04-29T06:00:00\", \"2018-04-29T07:00:00\", \"2018-04-29T08:00:00\", \"2018-04-29T09:00:00\", \"2018-04-29T10:00:00\", \"2018-04-29T11:00:00\", \"2018-04-29T12:00:00\", \"2018-04-29T13:00:00\", \"2018-04-29T14:00:00\", \"2018-04-29T15:00:00\", \"2018-04-29T16:00:00\", \"2018-04-29T17:00:00\", \"2018-04-29T18:00:00\", \"2018-04-29T19:00:00\", \"2018-04-29T20:00:00\", \"2018-04-29T21:00:00\", \"2018-04-29T22:00:00\", \"2018-04-29T23:00:00\", \"2018-04-30T00:00:00\", \"2018-04-30T01:00:00\", \"2018-04-30T02:00:00\", \"2018-04-30T03:00:00\", \"2018-04-30T04:00:00\", \"2018-04-30T05:00:00\", \"2018-04-30T06:00:00\", \"2018-04-30T07:00:00\", \"2018-04-30T08:00:00\", \"2018-04-30T09:00:00\", \"2018-04-30T10:00:00\", \"2018-04-30T11:00:00\", \"2018-04-30T12:00:00\", \"2018-04-30T13:00:00\", \"2018-04-30T14:00:00\", \"2018-04-30T15:00:00\", \"2018-04-30T16:00:00\", \"2018-04-30T17:00:00\", \"2018-04-30T18:00:00\", \"2018-04-30T19:00:00\", \"2018-04-30T20:00:00\", \"2018-04-30T21:00:00\", \"2018-04-30T22:00:00\", \"2018-04-30T23:00:00\", \"2018-05-01T00:00:00\", \"2018-05-01T01:00:00\", \"2018-05-01T02:00:00\", \"2018-05-01T03:00:00\", \"2018-05-01T04:00:00\", \"2018-05-01T05:00:00\", \"2018-05-01T06:00:00\", \"2018-05-01T07:00:00\", \"2018-05-01T08:00:00\", \"2018-05-01T09:00:00\", \"2018-05-01T10:00:00\", \"2018-05-01T11:00:00\", \"2018-05-01T12:00:00\", \"2018-05-01T13:00:00\", \"2018-05-01T14:00:00\", \"2018-05-01T15:00:00\", \"2018-05-01T16:00:00\", \"2018-05-01T17:00:00\", \"2018-05-01T18:00:00\", \"2018-05-01T19:00:00\", \"2018-05-01T20:00:00\", \"2018-05-01T21:00:00\", \"2018-05-01T22:00:00\", \"2018-05-01T23:00:00\", \"2018-05-02T00:00:00\", \"2018-05-02T01:00:00\", \"2018-05-02T02:00:00\", \"2018-05-02T03:00:00\", \"2018-05-02T04:00:00\", \"2018-05-02T05:00:00\", \"2018-05-02T06:00:00\", \"2018-05-02T07:00:00\", \"2018-05-02T08:00:00\", \"2018-05-02T09:00:00\", \"2018-05-02T10:00:00\", \"2018-05-02T11:00:00\", \"2018-05-02T12:00:00\", \"2018-05-02T13:00:00\", \"2018-05-02T14:00:00\", \"2018-05-02T15:00:00\", \"2018-05-02T16:00:00\", \"2018-05-02T17:00:00\", \"2018-05-02T18:00:00\", \"2018-05-02T19:00:00\", \"2018-05-02T20:00:00\", \"2018-05-02T21:00:00\", \"2018-05-02T22:00:00\", \"2018-05-02T23:00:00\", \"2018-05-03T00:00:00\", \"2018-05-03T01:00:00\", \"2018-05-03T02:00:00\", \"2018-05-03T03:00:00\", \"2018-05-03T04:00:00\", \"2018-05-03T05:00:00\", \"2018-05-03T06:00:00\", \"2018-05-03T07:00:00\", \"2018-05-03T08:00:00\", \"2018-05-03T09:00:00\", \"2018-05-03T10:00:00\", \"2018-05-03T11:00:00\", \"2018-05-03T12:00:00\", \"2018-05-03T13:00:00\", \"2018-05-03T14:00:00\", \"2018-05-03T15:00:00\", \"2018-05-03T16:00:00\", \"2018-05-03T17:00:00\", \"2018-05-03T18:00:00\", \"2018-05-03T19:00:00\", \"2018-05-03T20:00:00\", \"2018-05-03T21:00:00\", \"2018-05-03T22:00:00\", \"2018-05-03T23:00:00\", \"2018-05-04T00:00:00\", \"2018-05-04T01:00:00\", \"2018-05-04T02:00:00\", \"2018-05-04T03:00:00\", \"2018-05-04T04:00:00\", \"2018-05-04T05:00:00\", \"2018-05-04T06:00:00\", \"2018-05-04T07:00:00\", \"2018-05-04T08:00:00\", \"2018-05-04T09:00:00\", \"2018-05-04T10:00:00\", \"2018-05-04T11:00:00\", \"2018-05-04T12:00:00\", \"2018-05-04T13:00:00\", \"2018-05-04T14:00:00\", \"2018-05-04T15:00:00\", \"2018-05-04T16:00:00\", \"2018-05-04T17:00:00\", \"2018-05-04T18:00:00\", \"2018-05-04T19:00:00\", \"2018-05-04T20:00:00\", \"2018-05-04T21:00:00\", \"2018-05-04T22:00:00\", \"2018-05-04T23:00:00\", \"2018-05-05T00:00:00\", \"2018-05-05T01:00:00\", \"2018-05-05T02:00:00\", \"2018-05-05T03:00:00\", \"2018-05-05T04:00:00\", \"2018-05-05T05:00:00\", \"2018-05-05T06:00:00\", \"2018-05-05T07:00:00\", \"2018-05-05T08:00:00\", \"2018-05-05T09:00:00\", \"2018-05-05T10:00:00\", \"2018-05-05T11:00:00\", \"2018-05-05T12:00:00\", \"2018-05-05T13:00:00\", \"2018-05-05T14:00:00\", \"2018-05-05T15:00:00\", \"2018-05-05T16:00:00\", \"2018-05-05T17:00:00\", \"2018-05-05T18:00:00\", \"2018-05-05T19:00:00\", \"2018-05-05T20:00:00\", \"2018-05-05T21:00:00\", \"2018-05-05T22:00:00\", \"2018-05-05T23:00:00\", \"2018-05-06T00:00:00\", \"2018-05-06T01:00:00\", \"2018-05-06T02:00:00\", \"2018-05-06T03:00:00\", \"2018-05-06T04:00:00\", \"2018-05-06T05:00:00\", \"2018-05-06T06:00:00\", \"2018-05-06T07:00:00\", \"2018-05-06T08:00:00\", \"2018-05-06T09:00:00\", \"2018-05-06T10:00:00\", \"2018-05-06T11:00:00\", \"2018-05-06T12:00:00\", \"2018-05-06T13:00:00\", \"2018-05-06T14:00:00\", \"2018-05-06T15:00:00\", \"2018-05-06T16:00:00\", \"2018-05-06T17:00:00\", \"2018-05-06T18:00:00\", \"2018-05-06T19:00:00\", \"2018-05-06T20:00:00\", \"2018-05-06T21:00:00\", \"2018-05-06T22:00:00\", \"2018-05-06T23:00:00\", \"2018-05-07T00:00:00\", \"2018-05-07T01:00:00\", \"2018-05-07T02:00:00\", \"2018-05-07T03:00:00\", \"2018-05-07T04:00:00\", \"2018-05-07T05:00:00\", \"2018-05-07T06:00:00\", \"2018-05-07T07:00:00\", \"2018-05-07T08:00:00\", \"2018-05-07T09:00:00\", \"2018-05-07T10:00:00\", \"2018-05-07T11:00:00\", \"2018-05-07T12:00:00\", \"2018-05-07T13:00:00\", \"2018-05-07T14:00:00\", \"2018-05-07T15:00:00\", \"2018-05-07T16:00:00\", \"2018-05-07T17:00:00\", \"2018-05-07T18:00:00\", \"2018-05-07T19:00:00\", \"2018-05-07T20:00:00\", \"2018-05-07T21:00:00\", \"2018-05-07T22:00:00\", \"2018-05-07T23:00:00\", \"2018-05-08T00:00:00\", \"2018-05-08T01:00:00\", \"2018-05-08T02:00:00\", \"2018-05-08T03:00:00\", \"2018-05-08T04:00:00\", \"2018-05-08T05:00:00\", \"2018-05-08T06:00:00\", \"2018-05-08T07:00:00\", \"2018-05-08T08:00:00\", \"2018-05-08T09:00:00\", \"2018-05-08T10:00:00\", \"2018-05-08T11:00:00\", \"2018-05-08T12:00:00\", \"2018-05-08T13:00:00\", \"2018-05-08T14:00:00\", \"2018-05-08T15:00:00\", \"2018-05-08T16:00:00\", \"2018-05-08T17:00:00\", \"2018-05-08T18:00:00\", \"2018-05-08T19:00:00\", \"2018-05-08T20:00:00\", \"2018-05-08T21:00:00\", \"2018-05-08T22:00:00\", \"2018-05-08T23:00:00\", \"2018-05-09T00:00:00\", \"2018-05-09T01:00:00\", \"2018-05-09T02:00:00\", \"2018-05-09T03:00:00\", \"2018-05-09T04:00:00\", \"2018-05-09T05:00:00\", \"2018-05-09T06:00:00\", \"2018-05-09T07:00:00\", \"2018-05-09T08:00:00\", \"2018-05-09T09:00:00\", \"2018-05-09T10:00:00\", \"2018-05-09T11:00:00\", \"2018-05-09T12:00:00\", \"2018-05-09T13:00:00\", \"2018-05-09T14:00:00\", \"2018-05-09T15:00:00\", \"2018-05-09T16:00:00\", \"2018-05-09T17:00:00\", \"2018-05-09T18:00:00\", \"2018-05-09T19:00:00\", \"2018-05-09T20:00:00\", \"2018-05-09T21:00:00\", \"2018-05-09T22:00:00\", \"2018-05-09T23:00:00\", \"2018-05-10T00:00:00\", \"2018-05-10T01:00:00\", \"2018-05-10T02:00:00\", \"2018-05-10T03:00:00\", \"2018-05-10T04:00:00\", \"2018-05-10T05:00:00\", \"2018-05-10T06:00:00\", \"2018-05-10T07:00:00\", \"2018-05-10T08:00:00\", \"2018-05-10T09:00:00\", \"2018-05-10T10:00:00\", \"2018-05-10T11:00:00\", \"2018-05-10T12:00:00\", \"2018-05-10T13:00:00\", \"2018-05-10T14:00:00\", \"2018-05-10T15:00:00\", \"2018-05-10T16:00:00\", \"2018-05-10T17:00:00\", \"2018-05-10T18:00:00\", \"2018-05-10T19:00:00\", \"2018-05-10T20:00:00\", \"2018-05-10T21:00:00\", \"2018-05-10T22:00:00\", \"2018-05-10T23:00:00\", \"2018-05-11T00:00:00\", \"2018-05-11T01:00:00\", \"2018-05-11T02:00:00\", \"2018-05-11T03:00:00\", \"2018-05-11T04:00:00\", \"2018-05-11T05:00:00\", \"2018-05-11T06:00:00\", \"2018-05-11T07:00:00\", \"2018-05-11T08:00:00\", \"2018-05-11T09:00:00\", \"2018-05-11T10:00:00\", \"2018-05-11T11:00:00\", \"2018-05-11T12:00:00\", \"2018-05-11T13:00:00\", \"2018-05-11T14:00:00\", \"2018-05-11T15:00:00\", \"2018-05-11T16:00:00\", \"2018-05-11T17:00:00\", \"2018-05-11T18:00:00\", \"2018-05-11T19:00:00\", \"2018-05-11T20:00:00\", \"2018-05-11T21:00:00\", \"2018-05-11T22:00:00\", \"2018-05-11T23:00:00\", \"2018-05-12T00:00:00\", \"2018-05-12T01:00:00\", \"2018-05-12T02:00:00\", \"2018-05-12T03:00:00\", \"2018-05-12T04:00:00\", \"2018-05-12T05:00:00\", \"2018-05-12T06:00:00\", \"2018-05-12T07:00:00\", \"2018-05-12T08:00:00\", \"2018-05-12T09:00:00\", \"2018-05-12T10:00:00\", \"2018-05-12T11:00:00\", \"2018-05-12T12:00:00\", \"2018-05-12T13:00:00\", \"2018-05-12T14:00:00\", \"2018-05-12T15:00:00\", \"2018-05-12T16:00:00\", \"2018-05-12T17:00:00\", \"2018-05-12T18:00:00\", \"2018-05-12T19:00:00\", \"2018-05-12T20:00:00\", \"2018-05-12T21:00:00\", \"2018-05-12T22:00:00\", \"2018-05-12T23:00:00\", \"2018-05-13T00:00:00\", \"2018-05-13T01:00:00\", \"2018-05-13T02:00:00\", \"2018-05-13T03:00:00\", \"2018-05-13T04:00:00\", \"2018-05-13T05:00:00\", \"2018-05-13T06:00:00\", \"2018-05-13T07:00:00\", \"2018-05-13T08:00:00\", \"2018-05-13T09:00:00\", \"2018-05-13T10:00:00\", \"2018-05-13T11:00:00\", \"2018-05-13T12:00:00\", \"2018-05-13T13:00:00\", \"2018-05-13T14:00:00\", \"2018-05-13T15:00:00\", \"2018-05-13T16:00:00\", \"2018-05-13T17:00:00\", \"2018-05-13T18:00:00\", \"2018-05-13T19:00:00\", \"2018-05-13T20:00:00\", \"2018-05-13T21:00:00\", \"2018-05-13T22:00:00\", \"2018-05-13T23:00:00\", \"2018-05-14T00:00:00\", \"2018-05-14T01:00:00\", \"2018-05-14T02:00:00\", \"2018-05-14T03:00:00\", \"2018-05-14T04:00:00\", \"2018-05-14T05:00:00\", \"2018-05-14T06:00:00\", \"2018-05-14T07:00:00\", \"2018-05-14T08:00:00\", \"2018-05-14T09:00:00\", \"2018-05-14T10:00:00\", \"2018-05-14T11:00:00\", \"2018-05-14T12:00:00\", \"2018-05-14T13:00:00\", \"2018-05-14T14:00:00\", \"2018-05-14T15:00:00\", \"2018-05-14T16:00:00\", \"2018-05-14T17:00:00\", \"2018-05-14T18:00:00\", \"2018-05-14T19:00:00\", \"2018-05-14T20:00:00\", \"2018-05-14T21:00:00\", \"2018-05-14T22:00:00\", \"2018-05-14T23:00:00\", \"2018-05-15T00:00:00\", \"2018-05-15T01:00:00\", \"2018-05-15T02:00:00\", \"2018-05-15T03:00:00\", \"2018-05-15T04:00:00\", \"2018-05-15T05:00:00\", \"2018-05-15T06:00:00\", \"2018-05-15T07:00:00\", \"2018-05-15T08:00:00\", \"2018-05-15T09:00:00\", \"2018-05-15T10:00:00\", \"2018-05-15T11:00:00\", \"2018-05-15T12:00:00\", \"2018-05-15T13:00:00\", \"2018-05-15T14:00:00\", \"2018-05-15T15:00:00\", \"2018-05-15T16:00:00\", \"2018-05-15T17:00:00\", \"2018-05-15T18:00:00\", \"2018-05-15T19:00:00\", \"2018-05-15T20:00:00\", \"2018-05-15T21:00:00\", \"2018-05-15T22:00:00\", \"2018-05-15T23:00:00\", \"2018-05-16T00:00:00\", \"2018-05-16T01:00:00\", \"2018-05-16T02:00:00\", \"2018-05-16T03:00:00\", \"2018-05-16T04:00:00\", \"2018-05-16T05:00:00\", \"2018-05-16T06:00:00\", \"2018-05-16T07:00:00\", \"2018-05-16T08:00:00\", \"2018-05-16T09:00:00\", \"2018-05-16T10:00:00\", \"2018-05-16T11:00:00\", \"2018-05-16T12:00:00\", \"2018-05-16T13:00:00\", \"2018-05-16T14:00:00\", \"2018-05-16T15:00:00\", \"2018-05-16T16:00:00\", \"2018-05-16T17:00:00\", \"2018-05-16T18:00:00\", \"2018-05-16T19:00:00\", \"2018-05-16T20:00:00\", \"2018-05-16T21:00:00\", \"2018-05-16T22:00:00\", \"2018-05-16T23:00:00\", \"2018-05-17T00:00:00\", \"2018-05-17T01:00:00\", \"2018-05-17T02:00:00\", \"2018-05-17T03:00:00\", \"2018-05-17T04:00:00\", \"2018-05-17T05:00:00\", \"2018-05-17T06:00:00\", \"2018-05-17T07:00:00\", \"2018-05-17T08:00:00\", \"2018-05-17T09:00:00\", \"2018-05-17T10:00:00\", \"2018-05-17T11:00:00\", \"2018-05-17T12:00:00\", \"2018-05-17T13:00:00\", \"2018-05-17T14:00:00\", \"2018-05-17T15:00:00\", \"2018-05-17T16:00:00\", \"2018-05-17T17:00:00\", \"2018-05-17T18:00:00\", \"2018-05-17T19:00:00\", \"2018-05-17T20:00:00\", \"2018-05-17T21:00:00\", \"2018-05-17T22:00:00\", \"2018-05-17T23:00:00\", \"2018-05-18T00:00:00\", \"2018-05-18T01:00:00\", \"2018-05-18T02:00:00\", \"2018-05-18T03:00:00\", \"2018-05-18T04:00:00\", \"2018-05-18T05:00:00\", \"2018-05-18T06:00:00\", \"2018-05-18T07:00:00\", \"2018-05-18T08:00:00\", \"2018-05-18T09:00:00\", \"2018-05-18T10:00:00\", \"2018-05-18T11:00:00\", \"2018-05-18T12:00:00\", \"2018-05-18T13:00:00\", \"2018-05-18T14:00:00\", \"2018-05-18T15:00:00\", \"2018-05-18T16:00:00\", \"2018-05-18T17:00:00\", \"2018-05-18T18:00:00\", \"2018-05-18T19:00:00\", \"2018-05-18T20:00:00\", \"2018-05-18T21:00:00\", \"2018-05-18T22:00:00\", \"2018-05-18T23:00:00\", \"2018-05-19T00:00:00\", \"2018-05-19T01:00:00\", \"2018-05-19T02:00:00\", \"2018-05-19T03:00:00\", \"2018-05-19T04:00:00\", \"2018-05-19T05:00:00\", \"2018-05-19T06:00:00\", \"2018-05-19T07:00:00\", \"2018-05-19T08:00:00\", \"2018-05-19T09:00:00\", \"2018-05-19T10:00:00\", \"2018-05-19T11:00:00\", \"2018-05-19T12:00:00\", \"2018-05-19T13:00:00\", \"2018-05-19T14:00:00\", \"2018-05-19T15:00:00\", \"2018-05-19T16:00:00\", \"2018-05-19T17:00:00\", \"2018-05-19T18:00:00\", \"2018-05-19T19:00:00\", \"2018-05-19T20:00:00\", \"2018-05-19T21:00:00\", \"2018-05-19T22:00:00\", \"2018-05-19T23:00:00\", \"2018-05-20T00:00:00\", \"2018-05-20T01:00:00\", \"2018-05-20T02:00:00\", \"2018-05-20T03:00:00\", \"2018-05-20T04:00:00\", \"2018-05-20T05:00:00\", \"2018-05-20T06:00:00\", \"2018-05-20T07:00:00\", \"2018-05-20T08:00:00\", \"2018-05-20T09:00:00\", \"2018-05-20T10:00:00\", \"2018-05-20T11:00:00\", \"2018-05-20T12:00:00\", \"2018-05-20T13:00:00\", \"2018-05-20T14:00:00\", \"2018-05-20T15:00:00\", \"2018-05-20T16:00:00\", \"2018-05-20T17:00:00\", \"2018-05-20T18:00:00\", \"2018-05-20T19:00:00\", \"2018-05-20T20:00:00\", \"2018-05-20T21:00:00\", \"2018-05-20T22:00:00\", \"2018-05-20T23:00:00\", \"2018-05-21T00:00:00\", \"2018-05-21T01:00:00\", \"2018-05-21T02:00:00\", \"2018-05-21T03:00:00\", \"2018-05-21T04:00:00\", \"2018-05-21T05:00:00\", \"2018-05-21T06:00:00\", \"2018-05-21T07:00:00\", \"2018-05-21T08:00:00\", \"2018-05-21T09:00:00\", \"2018-05-21T10:00:00\", \"2018-05-21T11:00:00\", \"2018-05-21T12:00:00\", \"2018-05-21T13:00:00\", \"2018-05-21T14:00:00\", \"2018-05-21T15:00:00\", \"2018-05-21T16:00:00\", \"2018-05-21T17:00:00\", \"2018-05-21T18:00:00\", \"2018-05-21T19:00:00\", \"2018-05-21T20:00:00\", \"2018-05-21T21:00:00\", \"2018-05-21T22:00:00\", \"2018-05-21T23:00:00\", \"2018-05-22T00:00:00\", \"2018-05-22T01:00:00\", \"2018-05-22T02:00:00\", \"2018-05-22T03:00:00\", \"2018-05-22T04:00:00\", \"2018-05-22T05:00:00\", \"2018-05-22T06:00:00\", \"2018-05-22T07:00:00\", \"2018-05-22T08:00:00\", \"2018-05-22T09:00:00\", \"2018-05-22T10:00:00\", \"2018-05-22T11:00:00\", \"2018-05-22T12:00:00\", \"2018-05-22T13:00:00\", \"2018-05-22T14:00:00\", \"2018-05-22T15:00:00\", \"2018-05-22T16:00:00\", \"2018-05-22T17:00:00\", \"2018-05-22T18:00:00\", \"2018-05-22T19:00:00\", \"2018-05-22T20:00:00\", \"2018-05-22T21:00:00\", \"2018-05-22T22:00:00\", \"2018-05-22T23:00:00\", \"2018-05-23T00:00:00\", \"2018-05-23T01:00:00\", \"2018-05-23T02:00:00\", \"2018-05-23T03:00:00\", \"2018-05-23T04:00:00\", \"2018-05-23T05:00:00\", \"2018-05-23T06:00:00\", \"2018-05-23T07:00:00\", \"2018-05-23T08:00:00\", \"2018-05-23T09:00:00\", \"2018-05-23T10:00:00\", \"2018-05-23T11:00:00\", \"2018-05-23T12:00:00\", \"2018-05-23T13:00:00\", \"2018-05-23T14:00:00\", \"2018-05-23T15:00:00\", \"2018-05-23T16:00:00\", \"2018-05-23T17:00:00\", \"2018-05-23T18:00:00\", \"2018-05-23T19:00:00\", \"2018-05-23T20:00:00\", \"2018-05-23T21:00:00\", \"2018-05-23T22:00:00\", \"2018-05-23T23:00:00\", \"2018-05-24T00:00:00\", \"2018-05-24T01:00:00\", \"2018-05-24T02:00:00\", \"2018-05-24T03:00:00\", \"2018-05-24T04:00:00\", \"2018-05-24T05:00:00\", \"2018-05-24T06:00:00\", \"2018-05-24T07:00:00\", \"2018-05-24T08:00:00\", \"2018-05-24T09:00:00\", \"2018-05-24T10:00:00\", \"2018-05-24T11:00:00\", \"2018-05-24T12:00:00\", \"2018-05-24T13:00:00\", \"2018-05-24T14:00:00\", \"2018-05-24T15:00:00\", \"2018-05-24T16:00:00\", \"2018-05-24T17:00:00\", \"2018-05-24T18:00:00\", \"2018-05-24T19:00:00\", \"2018-05-24T20:00:00\", \"2018-05-24T21:00:00\", \"2018-05-24T22:00:00\", \"2018-05-24T23:00:00\", \"2018-05-25T00:00:00\", \"2018-05-25T01:00:00\", \"2018-05-25T02:00:00\", \"2018-05-25T03:00:00\", \"2018-05-25T04:00:00\", \"2018-05-25T05:00:00\", \"2018-05-25T06:00:00\", \"2018-05-25T07:00:00\", \"2018-05-25T08:00:00\", \"2018-05-25T09:00:00\", \"2018-05-25T10:00:00\", \"2018-05-25T11:00:00\", \"2018-05-25T12:00:00\", \"2018-05-25T13:00:00\", \"2018-05-25T14:00:00\", \"2018-05-25T15:00:00\", \"2018-05-25T16:00:00\", \"2018-05-25T17:00:00\", \"2018-05-25T18:00:00\", \"2018-05-25T19:00:00\", \"2018-05-25T20:00:00\", \"2018-05-25T21:00:00\", \"2018-05-25T22:00:00\", \"2018-05-25T23:00:00\", \"2018-05-26T00:00:00\", \"2018-05-26T01:00:00\", \"2018-05-26T02:00:00\", \"2018-05-26T03:00:00\", \"2018-05-26T04:00:00\", \"2018-05-26T05:00:00\", \"2018-05-26T06:00:00\", \"2018-05-26T07:00:00\", \"2018-05-26T08:00:00\", \"2018-05-26T09:00:00\", \"2018-05-26T10:00:00\", \"2018-05-26T11:00:00\", \"2018-05-26T12:00:00\", \"2018-05-26T13:00:00\", \"2018-05-26T14:00:00\", \"2018-05-26T15:00:00\", \"2018-05-26T16:00:00\", \"2018-05-26T17:00:00\", \"2018-05-26T18:00:00\", \"2018-05-26T19:00:00\", \"2018-05-26T20:00:00\", \"2018-05-26T21:00:00\", \"2018-05-26T22:00:00\", \"2018-05-26T23:00:00\", \"2018-05-27T00:00:00\", \"2018-05-27T01:00:00\", \"2018-05-27T02:00:00\", \"2018-05-27T03:00:00\", \"2018-05-27T04:00:00\", \"2018-05-27T05:00:00\", \"2018-05-27T06:00:00\", \"2018-05-27T07:00:00\", \"2018-05-27T08:00:00\", \"2018-05-27T09:00:00\", \"2018-05-27T10:00:00\", \"2018-05-27T11:00:00\", \"2018-05-27T12:00:00\", \"2018-05-27T13:00:00\", \"2018-05-27T14:00:00\", \"2018-05-27T15:00:00\", \"2018-05-27T16:00:00\", \"2018-05-27T17:00:00\", \"2018-05-27T18:00:00\", \"2018-05-27T19:00:00\", \"2018-05-27T20:00:00\", \"2018-05-27T21:00:00\", \"2018-05-27T22:00:00\", \"2018-05-27T23:00:00\", \"2018-05-28T00:00:00\", \"2018-05-28T01:00:00\", \"2018-05-28T02:00:00\", \"2018-05-28T03:00:00\", \"2018-05-28T04:00:00\", \"2018-05-28T05:00:00\", \"2018-05-28T06:00:00\", \"2018-05-28T07:00:00\", \"2018-05-28T08:00:00\", \"2018-05-28T09:00:00\", \"2018-05-28T10:00:00\", \"2018-05-28T11:00:00\", \"2018-05-28T12:00:00\", \"2018-05-28T13:00:00\", \"2018-05-28T14:00:00\", \"2018-05-28T15:00:00\", \"2018-05-28T16:00:00\", \"2018-05-28T17:00:00\", \"2018-05-28T18:00:00\", \"2018-05-28T19:00:00\", \"2018-05-28T20:00:00\", \"2018-05-28T21:00:00\", \"2018-05-28T22:00:00\", \"2018-05-28T23:00:00\", \"2018-05-29T00:00:00\", \"2018-05-29T01:00:00\", \"2018-05-29T02:00:00\", \"2018-05-29T03:00:00\", \"2018-05-29T04:00:00\", \"2018-05-29T05:00:00\", \"2018-05-29T06:00:00\", \"2018-05-29T07:00:00\", \"2018-05-29T08:00:00\", \"2018-05-29T09:00:00\", \"2018-05-29T10:00:00\", \"2018-05-29T11:00:00\", \"2018-05-29T12:00:00\", \"2018-05-29T13:00:00\", \"2018-05-29T14:00:00\", \"2018-05-29T15:00:00\", \"2018-05-29T16:00:00\", \"2018-05-29T17:00:00\", \"2018-05-29T18:00:00\", \"2018-05-29T19:00:00\", \"2018-05-29T20:00:00\", \"2018-05-29T21:00:00\", \"2018-05-29T22:00:00\", \"2018-05-29T23:00:00\", \"2018-05-30T00:00:00\", \"2018-05-30T01:00:00\", \"2018-05-30T02:00:00\", \"2018-05-30T03:00:00\", \"2018-05-30T04:00:00\", \"2018-05-30T05:00:00\", \"2018-05-30T06:00:00\", \"2018-05-30T07:00:00\", \"2018-05-30T08:00:00\", \"2018-05-30T09:00:00\", \"2018-05-30T10:00:00\", \"2018-05-30T11:00:00\", \"2018-05-30T12:00:00\", \"2018-05-30T13:00:00\", \"2018-05-30T14:00:00\", \"2018-05-30T15:00:00\", \"2018-05-30T16:00:00\", \"2018-05-30T17:00:00\", \"2018-05-30T18:00:00\", \"2018-05-30T19:00:00\", \"2018-05-30T20:00:00\", \"2018-05-30T21:00:00\", \"2018-05-30T22:00:00\", \"2018-05-30T23:00:00\", \"2018-05-31T00:00:00\", \"2018-05-31T01:00:00\", \"2018-05-31T02:00:00\", \"2018-05-31T03:00:00\", \"2018-05-31T04:00:00\", \"2018-05-31T05:00:00\", \"2018-05-31T06:00:00\", \"2018-05-31T07:00:00\", \"2018-05-31T08:00:00\", \"2018-05-31T09:00:00\", \"2018-05-31T10:00:00\", \"2018-05-31T11:00:00\", \"2018-05-31T12:00:00\", \"2018-05-31T13:00:00\", \"2018-05-31T14:00:00\", \"2018-05-31T15:00:00\", \"2018-05-31T16:00:00\", \"2018-05-31T17:00:00\", \"2018-05-31T18:00:00\", \"2018-05-31T19:00:00\", \"2018-05-31T20:00:00\", \"2018-05-31T21:00:00\", \"2018-05-31T22:00:00\", \"2018-05-31T23:00:00\", \"2018-06-01T00:00:00\", \"2018-06-01T01:00:00\", \"2018-06-01T02:00:00\", \"2018-06-01T03:00:00\", \"2018-06-01T04:00:00\", \"2018-06-01T05:00:00\", \"2018-06-01T06:00:00\", \"2018-06-01T07:00:00\", \"2018-06-01T08:00:00\", \"2018-06-01T09:00:00\", \"2018-06-01T10:00:00\", \"2018-06-01T11:00:00\", \"2018-06-01T12:00:00\", \"2018-06-01T13:00:00\", \"2018-06-01T14:00:00\", \"2018-06-01T15:00:00\", \"2018-06-01T16:00:00\", \"2018-06-01T17:00:00\", \"2018-06-01T18:00:00\", \"2018-06-01T19:00:00\", \"2018-06-01T20:00:00\", \"2018-06-01T21:00:00\", \"2018-06-01T22:00:00\", \"2018-06-01T23:00:00\", \"2018-06-02T00:00:00\", \"2018-06-02T01:00:00\", \"2018-06-02T02:00:00\", \"2018-06-02T03:00:00\", \"2018-06-02T04:00:00\", \"2018-06-02T05:00:00\", \"2018-06-02T06:00:00\", \"2018-06-02T07:00:00\", \"2018-06-02T08:00:00\", \"2018-06-02T09:00:00\", \"2018-06-02T10:00:00\", \"2018-06-02T11:00:00\", \"2018-06-02T12:00:00\", \"2018-06-02T13:00:00\", \"2018-06-02T14:00:00\", \"2018-06-02T15:00:00\", \"2018-06-02T16:00:00\", \"2018-06-02T17:00:00\", \"2018-06-02T18:00:00\", \"2018-06-02T19:00:00\", \"2018-06-02T20:00:00\", \"2018-06-02T21:00:00\", \"2018-06-02T22:00:00\", \"2018-06-02T23:00:00\", \"2018-06-03T00:00:00\", \"2018-06-03T01:00:00\", \"2018-06-03T02:00:00\", \"2018-06-03T03:00:00\", \"2018-06-03T04:00:00\", \"2018-06-03T05:00:00\", \"2018-06-03T06:00:00\", \"2018-06-03T07:00:00\", \"2018-06-03T08:00:00\", \"2018-06-03T09:00:00\", \"2018-06-03T10:00:00\", \"2018-06-03T11:00:00\", \"2018-06-03T12:00:00\", \"2018-06-03T13:00:00\", \"2018-06-03T14:00:00\", \"2018-06-03T15:00:00\", \"2018-06-03T16:00:00\", \"2018-06-03T17:00:00\", \"2018-06-03T18:00:00\", \"2018-06-03T19:00:00\", \"2018-06-03T20:00:00\", \"2018-06-03T21:00:00\", \"2018-06-03T22:00:00\", \"2018-06-03T23:00:00\", \"2018-06-04T00:00:00\", \"2018-06-04T01:00:00\", \"2018-06-04T02:00:00\", \"2018-06-04T03:00:00\", \"2018-06-04T04:00:00\", \"2018-06-04T05:00:00\", \"2018-06-04T06:00:00\", \"2018-06-04T07:00:00\", \"2018-06-04T08:00:00\", \"2018-06-04T09:00:00\", \"2018-06-04T10:00:00\", \"2018-06-04T11:00:00\", \"2018-06-04T12:00:00\", \"2018-06-04T13:00:00\", \"2018-06-04T14:00:00\", \"2018-06-04T15:00:00\", \"2018-06-04T16:00:00\", \"2018-06-04T17:00:00\", \"2018-06-04T18:00:00\", \"2018-06-04T19:00:00\", \"2018-06-04T20:00:00\", \"2018-06-04T21:00:00\", \"2018-06-04T22:00:00\", \"2018-06-04T23:00:00\", \"2018-06-05T00:00:00\", \"2018-06-05T01:00:00\", \"2018-06-05T02:00:00\", \"2018-06-05T03:00:00\", \"2018-06-05T04:00:00\", \"2018-06-05T05:00:00\", \"2018-06-05T06:00:00\", \"2018-06-05T07:00:00\", \"2018-06-05T08:00:00\", \"2018-06-05T09:00:00\", \"2018-06-05T10:00:00\", \"2018-06-05T11:00:00\", \"2018-06-05T12:00:00\", \"2018-06-05T13:00:00\", \"2018-06-05T14:00:00\", \"2018-06-05T15:00:00\", \"2018-06-05T16:00:00\", \"2018-06-05T17:00:00\", \"2018-06-05T18:00:00\", \"2018-06-05T19:00:00\", \"2018-06-05T20:00:00\", \"2018-06-05T21:00:00\", \"2018-06-05T22:00:00\", \"2018-06-05T23:00:00\", \"2018-06-06T00:00:00\", \"2018-06-06T01:00:00\", \"2018-06-06T02:00:00\", \"2018-06-06T03:00:00\", \"2018-06-06T04:00:00\", \"2018-06-06T05:00:00\", \"2018-06-06T06:00:00\", \"2018-06-06T07:00:00\", \"2018-06-06T08:00:00\", \"2018-06-06T09:00:00\", \"2018-06-06T10:00:00\", \"2018-06-06T11:00:00\", \"2018-06-06T12:00:00\", \"2018-06-06T13:00:00\", \"2018-06-06T14:00:00\", \"2018-06-06T15:00:00\", \"2018-06-06T16:00:00\", \"2018-06-06T17:00:00\", \"2018-06-06T18:00:00\", \"2018-06-06T19:00:00\", \"2018-06-06T20:00:00\", \"2018-06-06T21:00:00\", \"2018-06-06T22:00:00\", \"2018-06-06T23:00:00\", \"2018-06-07T00:00:00\", \"2018-06-07T01:00:00\", \"2018-06-07T02:00:00\", \"2018-06-07T03:00:00\", \"2018-06-07T04:00:00\", \"2018-06-07T05:00:00\", \"2018-06-07T06:00:00\", \"2018-06-07T07:00:00\", \"2018-06-07T08:00:00\", \"2018-06-07T09:00:00\", \"2018-06-07T10:00:00\", \"2018-06-07T11:00:00\", \"2018-06-07T12:00:00\", \"2018-06-07T13:00:00\", \"2018-06-07T14:00:00\", \"2018-06-07T15:00:00\", \"2018-06-07T16:00:00\", \"2018-06-07T17:00:00\", \"2018-06-07T18:00:00\", \"2018-06-07T19:00:00\", \"2018-06-07T20:00:00\", \"2018-06-07T21:00:00\", \"2018-06-07T22:00:00\", \"2018-06-07T23:00:00\", \"2018-06-08T00:00:00\", \"2018-06-08T01:00:00\", \"2018-06-08T02:00:00\", \"2018-06-08T03:00:00\", \"2018-06-08T04:00:00\", \"2018-06-08T05:00:00\", \"2018-06-08T06:00:00\", \"2018-06-08T07:00:00\", \"2018-06-08T08:00:00\", \"2018-06-08T09:00:00\", \"2018-06-08T10:00:00\", \"2018-06-08T11:00:00\", \"2018-06-08T12:00:00\", \"2018-06-08T13:00:00\", \"2018-06-08T14:00:00\", \"2018-06-08T15:00:00\", \"2018-06-08T16:00:00\", \"2018-06-08T17:00:00\", \"2018-06-08T18:00:00\", \"2018-06-08T19:00:00\", \"2018-06-08T20:00:00\", \"2018-06-08T21:00:00\", \"2018-06-08T22:00:00\", \"2018-06-08T23:00:00\", \"2018-06-09T00:00:00\", \"2018-06-09T01:00:00\", \"2018-06-09T02:00:00\", \"2018-06-09T03:00:00\", \"2018-06-09T04:00:00\", \"2018-06-09T05:00:00\", \"2018-06-09T06:00:00\", \"2018-06-09T07:00:00\", \"2018-06-09T08:00:00\", \"2018-06-09T09:00:00\", \"2018-06-09T10:00:00\", \"2018-06-09T11:00:00\", \"2018-06-09T12:00:00\", \"2018-06-09T13:00:00\", \"2018-06-09T14:00:00\", \"2018-06-09T15:00:00\", \"2018-06-09T16:00:00\", \"2018-06-09T17:00:00\", \"2018-06-09T18:00:00\", \"2018-06-09T19:00:00\", \"2018-06-09T20:00:00\", \"2018-06-09T21:00:00\", \"2018-06-09T22:00:00\", \"2018-06-09T23:00:00\", \"2018-06-10T00:00:00\", \"2018-06-10T01:00:00\", \"2018-06-10T02:00:00\", \"2018-06-10T03:00:00\", \"2018-06-10T04:00:00\", \"2018-06-10T05:00:00\", \"2018-06-10T06:00:00\", \"2018-06-10T07:00:00\", \"2018-06-10T08:00:00\", \"2018-06-10T09:00:00\", \"2018-06-10T10:00:00\", \"2018-06-10T11:00:00\", \"2018-06-10T12:00:00\", \"2018-06-10T13:00:00\", \"2018-06-10T14:00:00\", \"2018-06-10T15:00:00\", \"2018-06-10T16:00:00\", \"2018-06-10T17:00:00\", \"2018-06-10T18:00:00\", \"2018-06-10T19:00:00\", \"2018-06-10T20:00:00\", \"2018-06-10T21:00:00\", \"2018-06-10T22:00:00\", \"2018-06-10T23:00:00\", \"2018-06-11T00:00:00\", \"2018-06-11T01:00:00\", \"2018-06-11T02:00:00\", \"2018-06-11T03:00:00\", \"2018-06-11T04:00:00\", \"2018-06-11T05:00:00\", \"2018-06-11T06:00:00\", \"2018-06-11T07:00:00\", \"2018-06-11T08:00:00\", \"2018-06-11T09:00:00\", \"2018-06-11T10:00:00\", \"2018-06-11T11:00:00\", \"2018-06-11T12:00:00\", \"2018-06-11T13:00:00\", \"2018-06-11T14:00:00\", \"2018-06-11T15:00:00\", \"2018-06-11T16:00:00\", \"2018-06-11T17:00:00\", \"2018-06-11T18:00:00\", \"2018-06-11T19:00:00\", \"2018-06-11T20:00:00\", \"2018-06-11T21:00:00\", \"2018-06-11T22:00:00\", \"2018-06-11T23:00:00\", \"2018-06-12T00:00:00\", \"2018-06-12T01:00:00\", \"2018-06-12T02:00:00\", \"2018-06-12T03:00:00\", \"2018-06-12T04:00:00\", \"2018-06-12T05:00:00\", \"2018-06-12T06:00:00\", \"2018-06-12T07:00:00\", \"2018-06-12T08:00:00\", \"2018-06-12T09:00:00\", \"2018-06-12T10:00:00\", \"2018-06-12T11:00:00\", \"2018-06-12T12:00:00\", \"2018-06-12T13:00:00\", \"2018-06-12T14:00:00\", \"2018-06-12T15:00:00\", \"2018-06-12T16:00:00\", \"2018-06-12T17:00:00\", \"2018-06-12T18:00:00\", \"2018-06-12T19:00:00\", \"2018-06-12T20:00:00\", \"2018-06-12T21:00:00\", \"2018-06-12T22:00:00\", \"2018-06-12T23:00:00\", \"2018-06-13T00:00:00\", \"2018-06-13T01:00:00\", \"2018-06-13T02:00:00\", \"2018-06-13T03:00:00\", \"2018-06-13T04:00:00\", \"2018-06-13T05:00:00\", \"2018-06-13T06:00:00\", \"2018-06-13T07:00:00\", \"2018-06-13T08:00:00\", \"2018-06-13T09:00:00\", \"2018-06-13T10:00:00\", \"2018-06-13T11:00:00\", \"2018-06-13T12:00:00\", \"2018-06-13T13:00:00\", \"2018-06-13T14:00:00\", \"2018-06-13T15:00:00\", \"2018-06-13T16:00:00\", \"2018-06-13T17:00:00\", \"2018-06-13T18:00:00\", \"2018-06-13T19:00:00\", \"2018-06-13T20:00:00\", \"2018-06-13T21:00:00\", \"2018-06-13T22:00:00\", \"2018-06-13T23:00:00\", \"2018-06-14T00:00:00\", \"2018-06-14T01:00:00\", \"2018-06-14T02:00:00\", \"2018-06-14T03:00:00\", \"2018-06-14T04:00:00\", \"2018-06-14T05:00:00\", \"2018-06-14T06:00:00\", \"2018-06-14T07:00:00\", \"2018-06-14T08:00:00\", \"2018-06-14T09:00:00\", \"2018-06-14T10:00:00\", \"2018-06-14T11:00:00\", \"2018-06-14T12:00:00\", \"2018-06-14T13:00:00\", \"2018-06-14T14:00:00\", \"2018-06-14T15:00:00\", \"2018-06-14T16:00:00\", \"2018-06-14T17:00:00\", \"2018-06-14T18:00:00\", \"2018-06-14T19:00:00\", \"2018-06-14T20:00:00\", \"2018-06-14T21:00:00\", \"2018-06-14T22:00:00\", \"2018-06-14T23:00:00\", \"2018-06-15T00:00:00\", \"2018-06-15T01:00:00\", \"2018-06-15T02:00:00\", \"2018-06-15T03:00:00\", \"2018-06-15T04:00:00\", \"2018-06-15T05:00:00\", \"2018-06-15T06:00:00\", \"2018-06-15T07:00:00\", \"2018-06-15T08:00:00\", \"2018-06-15T09:00:00\", \"2018-06-15T10:00:00\", \"2018-06-15T11:00:00\", \"2018-06-15T12:00:00\", \"2018-06-15T13:00:00\", \"2018-06-15T14:00:00\", \"2018-06-15T15:00:00\", \"2018-06-15T16:00:00\", \"2018-06-15T17:00:00\", \"2018-06-15T18:00:00\", \"2018-06-15T19:00:00\", \"2018-06-15T20:00:00\", \"2018-06-15T21:00:00\", \"2018-06-15T22:00:00\", \"2018-06-15T23:00:00\", \"2018-06-16T00:00:00\", \"2018-06-16T01:00:00\", \"2018-06-16T02:00:00\", \"2018-06-16T03:00:00\", \"2018-06-16T04:00:00\", \"2018-06-16T05:00:00\", \"2018-06-16T06:00:00\", \"2018-06-16T07:00:00\", \"2018-06-16T08:00:00\", \"2018-06-16T09:00:00\", \"2018-06-16T10:00:00\", \"2018-06-16T11:00:00\", \"2018-06-16T12:00:00\", \"2018-06-16T13:00:00\", \"2018-06-16T14:00:00\", \"2018-06-16T15:00:00\", \"2018-06-16T16:00:00\", \"2018-06-16T17:00:00\", \"2018-06-16T18:00:00\", \"2018-06-16T19:00:00\", \"2018-06-16T20:00:00\", \"2018-06-16T21:00:00\", \"2018-06-16T22:00:00\", \"2018-06-16T23:00:00\", \"2018-06-17T00:00:00\", \"2018-06-17T01:00:00\", \"2018-06-17T02:00:00\", \"2018-06-17T03:00:00\", \"2018-06-17T04:00:00\", \"2018-06-17T05:00:00\", \"2018-06-17T06:00:00\", \"2018-06-17T07:00:00\", \"2018-06-17T08:00:00\", \"2018-06-17T09:00:00\", \"2018-06-17T10:00:00\", \"2018-06-17T11:00:00\", \"2018-06-17T12:00:00\", \"2018-06-17T13:00:00\", \"2018-06-17T14:00:00\", \"2018-06-17T15:00:00\", \"2018-06-17T16:00:00\", \"2018-06-17T17:00:00\", \"2018-06-17T18:00:00\", \"2018-06-17T19:00:00\", \"2018-06-17T20:00:00\", \"2018-06-17T21:00:00\", \"2018-06-17T22:00:00\", \"2018-06-17T23:00:00\", \"2018-06-18T00:00:00\", \"2018-06-18T01:00:00\", \"2018-06-18T02:00:00\", \"2018-06-18T03:00:00\", \"2018-06-18T04:00:00\", \"2018-06-18T05:00:00\", \"2018-06-18T06:00:00\", \"2018-06-18T07:00:00\", \"2018-06-18T08:00:00\", \"2018-06-18T09:00:00\", \"2018-06-18T10:00:00\", \"2018-06-18T11:00:00\", \"2018-06-18T12:00:00\", \"2018-06-18T13:00:00\", \"2018-06-18T14:00:00\", \"2018-06-18T15:00:00\", \"2018-06-18T16:00:00\", \"2018-06-18T17:00:00\", \"2018-06-18T18:00:00\", \"2018-06-18T19:00:00\", \"2018-06-18T20:00:00\", \"2018-06-18T21:00:00\", \"2018-06-18T22:00:00\", \"2018-06-18T23:00:00\", \"2018-06-19T00:00:00\", \"2018-06-19T01:00:00\", \"2018-06-19T02:00:00\", \"2018-06-19T03:00:00\", \"2018-06-19T04:00:00\", \"2018-06-19T05:00:00\", \"2018-06-19T06:00:00\", \"2018-06-19T07:00:00\", \"2018-06-19T08:00:00\", \"2018-06-19T09:00:00\", \"2018-06-19T10:00:00\", \"2018-06-19T11:00:00\", \"2018-06-19T12:00:00\", \"2018-06-19T13:00:00\", \"2018-06-19T14:00:00\", \"2018-06-19T15:00:00\", \"2018-06-19T16:00:00\", \"2018-06-19T17:00:00\", \"2018-06-19T18:00:00\", \"2018-06-19T19:00:00\", \"2018-06-19T20:00:00\", \"2018-06-19T21:00:00\", \"2018-06-19T22:00:00\", \"2018-06-19T23:00:00\", \"2018-06-20T00:00:00\", \"2018-06-20T01:00:00\", \"2018-06-20T02:00:00\", \"2018-06-20T03:00:00\", \"2018-06-20T04:00:00\", \"2018-06-20T05:00:00\", \"2018-06-20T06:00:00\", \"2018-06-20T07:00:00\", \"2018-06-20T08:00:00\", \"2018-06-20T09:00:00\", \"2018-06-20T10:00:00\", \"2018-06-20T11:00:00\", \"2018-06-20T12:00:00\", \"2018-06-20T13:00:00\", \"2018-06-20T14:00:00\", \"2018-06-20T15:00:00\", \"2018-06-20T16:00:00\", \"2018-06-20T17:00:00\", \"2018-06-20T18:00:00\", \"2018-06-20T19:00:00\", \"2018-06-20T20:00:00\", \"2018-06-20T21:00:00\", \"2018-06-20T22:00:00\", \"2018-06-20T23:00:00\", \"2018-06-21T00:00:00\", \"2018-06-21T01:00:00\", \"2018-06-21T02:00:00\", \"2018-06-21T03:00:00\", \"2018-06-21T04:00:00\", \"2018-06-21T05:00:00\", \"2018-06-21T06:00:00\", \"2018-06-21T07:00:00\", \"2018-06-21T08:00:00\", \"2018-06-21T09:00:00\", \"2018-06-21T10:00:00\", \"2018-06-21T11:00:00\", \"2018-06-21T12:00:00\", \"2018-06-21T13:00:00\", \"2018-06-21T14:00:00\", \"2018-06-21T15:00:00\", \"2018-06-21T16:00:00\", \"2018-06-21T17:00:00\", \"2018-06-21T18:00:00\", \"2018-06-21T19:00:00\", \"2018-06-21T20:00:00\", \"2018-06-21T21:00:00\", \"2018-06-21T22:00:00\", \"2018-06-21T23:00:00\", \"2018-06-22T00:00:00\", \"2018-06-22T01:00:00\", \"2018-06-22T02:00:00\", \"2018-06-22T03:00:00\", \"2018-06-22T04:00:00\", \"2018-06-22T05:00:00\", \"2018-06-22T06:00:00\", \"2018-06-22T07:00:00\", \"2018-06-22T08:00:00\", \"2018-06-22T09:00:00\", \"2018-06-22T10:00:00\", \"2018-06-22T11:00:00\", \"2018-06-22T12:00:00\", \"2018-06-22T13:00:00\", \"2018-06-22T14:00:00\", \"2018-06-22T15:00:00\", \"2018-06-22T16:00:00\", \"2018-06-22T17:00:00\", \"2018-06-22T18:00:00\", \"2018-06-22T19:00:00\", \"2018-06-22T20:00:00\", \"2018-06-22T21:00:00\", \"2018-06-22T22:00:00\", \"2018-06-22T23:00:00\", \"2018-06-23T00:00:00\", \"2018-06-23T01:00:00\", \"2018-06-23T02:00:00\", \"2018-06-23T03:00:00\", \"2018-06-23T04:00:00\", \"2018-06-23T05:00:00\", \"2018-06-23T06:00:00\", \"2018-06-23T07:00:00\", \"2018-06-23T08:00:00\", \"2018-06-23T09:00:00\", \"2018-06-23T10:00:00\", \"2018-06-23T11:00:00\", \"2018-06-23T12:00:00\", \"2018-06-23T13:00:00\", \"2018-06-23T14:00:00\", \"2018-06-23T15:00:00\", \"2018-06-23T16:00:00\", \"2018-06-23T17:00:00\", \"2018-06-23T18:00:00\", \"2018-06-23T19:00:00\", \"2018-06-23T20:00:00\", \"2018-06-23T21:00:00\", \"2018-06-23T22:00:00\", \"2018-06-23T23:00:00\", \"2018-06-24T00:00:00\", \"2018-06-24T01:00:00\", \"2018-06-24T02:00:00\", \"2018-06-24T03:00:00\", \"2018-06-24T04:00:00\", \"2018-06-24T05:00:00\", \"2018-06-24T06:00:00\", \"2018-06-24T07:00:00\", \"2018-06-24T08:00:00\", \"2018-06-24T09:00:00\", \"2018-06-24T10:00:00\", \"2018-06-24T11:00:00\", \"2018-06-24T12:00:00\", \"2018-06-24T13:00:00\", \"2018-06-24T14:00:00\", \"2018-06-24T15:00:00\", \"2018-06-24T16:00:00\", \"2018-06-24T17:00:00\", \"2018-06-24T18:00:00\", \"2018-06-24T19:00:00\", \"2018-06-24T20:00:00\", \"2018-06-24T21:00:00\", \"2018-06-24T22:00:00\", \"2018-06-24T23:00:00\", \"2018-06-25T00:00:00\", \"2018-06-25T01:00:00\", \"2018-06-25T02:00:00\", \"2018-06-25T03:00:00\", \"2018-06-25T04:00:00\", \"2018-06-25T05:00:00\", \"2018-06-25T06:00:00\", \"2018-06-25T07:00:00\", \"2018-06-25T08:00:00\", \"2018-06-25T09:00:00\", \"2018-06-25T10:00:00\", \"2018-06-25T11:00:00\", \"2018-06-25T12:00:00\", \"2018-06-25T13:00:00\", \"2018-06-25T14:00:00\", \"2018-06-25T15:00:00\", \"2018-06-25T16:00:00\", \"2018-06-25T17:00:00\", \"2018-06-25T18:00:00\", \"2018-06-25T19:00:00\", \"2018-06-25T20:00:00\", \"2018-06-25T21:00:00\", \"2018-06-25T22:00:00\", \"2018-06-25T23:00:00\", \"2018-06-26T00:00:00\", \"2018-06-26T01:00:00\", \"2018-06-26T02:00:00\", \"2018-06-26T03:00:00\", \"2018-06-26T04:00:00\", \"2018-06-26T05:00:00\", \"2018-06-26T06:00:00\", \"2018-06-26T07:00:00\", \"2018-06-26T08:00:00\", \"2018-06-26T09:00:00\", \"2018-06-26T10:00:00\", \"2018-06-26T11:00:00\", \"2018-06-26T12:00:00\", \"2018-06-26T13:00:00\", \"2018-06-26T14:00:00\", \"2018-06-26T15:00:00\", \"2018-06-26T16:00:00\", \"2018-06-26T17:00:00\", \"2018-06-26T18:00:00\", \"2018-06-26T19:00:00\", \"2018-06-26T20:00:00\", \"2018-06-26T21:00:00\", \"2018-06-26T22:00:00\", \"2018-06-26T23:00:00\", \"2018-06-27T00:00:00\", \"2018-06-27T01:00:00\", \"2018-06-27T02:00:00\", \"2018-06-27T03:00:00\", \"2018-06-27T04:00:00\", \"2018-06-27T05:00:00\", \"2018-06-27T06:00:00\", \"2018-06-27T07:00:00\", \"2018-06-27T08:00:00\", \"2018-06-27T09:00:00\", \"2018-06-27T10:00:00\", \"2018-06-27T11:00:00\", \"2018-06-27T12:00:00\", \"2018-06-27T13:00:00\", \"2018-06-27T14:00:00\", \"2018-06-27T15:00:00\", \"2018-06-27T16:00:00\", \"2018-06-27T17:00:00\", \"2018-06-27T18:00:00\", \"2018-06-27T19:00:00\", \"2018-06-27T20:00:00\", \"2018-06-27T21:00:00\", \"2018-06-27T22:00:00\", \"2018-06-27T23:00:00\", \"2018-06-28T00:00:00\", \"2018-06-28T01:00:00\", \"2018-06-28T02:00:00\", \"2018-06-28T03:00:00\", \"2018-06-28T04:00:00\", \"2018-06-28T05:00:00\", \"2018-06-28T06:00:00\", \"2018-06-28T07:00:00\", \"2018-06-28T08:00:00\", \"2018-06-28T09:00:00\", \"2018-06-28T10:00:00\", \"2018-06-28T11:00:00\", \"2018-06-28T12:00:00\", \"2018-06-28T13:00:00\", \"2018-06-28T14:00:00\", \"2018-06-28T15:00:00\", \"2018-06-28T16:00:00\", \"2018-06-28T17:00:00\", \"2018-06-28T18:00:00\", \"2018-06-28T19:00:00\", \"2018-06-28T20:00:00\", \"2018-06-28T21:00:00\", \"2018-06-28T22:00:00\", \"2018-06-28T23:00:00\", \"2018-06-29T00:00:00\", \"2018-06-29T01:00:00\", \"2018-06-29T02:00:00\", \"2018-06-29T03:00:00\", \"2018-06-29T04:00:00\", \"2018-06-29T05:00:00\", \"2018-06-29T06:00:00\", \"2018-06-29T07:00:00\", \"2018-06-29T08:00:00\", \"2018-06-29T09:00:00\", \"2018-06-29T10:00:00\", \"2018-06-29T11:00:00\", \"2018-06-29T12:00:00\", \"2018-06-29T13:00:00\", \"2018-06-29T14:00:00\", \"2018-06-29T15:00:00\", \"2018-06-29T16:00:00\", \"2018-06-29T17:00:00\", \"2018-06-29T18:00:00\", \"2018-06-29T19:00:00\", \"2018-06-29T20:00:00\", \"2018-06-29T21:00:00\", \"2018-06-29T22:00:00\", \"2018-06-29T23:00:00\", \"2018-06-30T00:00:00\", \"2018-06-30T01:00:00\", \"2018-06-30T02:00:00\", \"2018-06-30T03:00:00\", \"2018-06-30T04:00:00\", \"2018-06-30T05:00:00\", \"2018-06-30T06:00:00\", \"2018-06-30T07:00:00\", \"2018-06-30T08:00:00\", \"2018-06-30T09:00:00\", \"2018-06-30T10:00:00\", \"2018-06-30T11:00:00\", \"2018-06-30T12:00:00\", \"2018-06-30T13:00:00\", \"2018-06-30T14:00:00\", \"2018-06-30T15:00:00\", \"2018-06-30T16:00:00\", \"2018-06-30T17:00:00\", \"2018-06-30T18:00:00\", \"2018-06-30T19:00:00\", \"2018-06-30T20:00:00\", \"2018-06-30T21:00:00\", \"2018-06-30T22:00:00\", \"2018-06-30T23:00:00\", \"2018-07-01T00:00:00\", \"2018-07-01T01:00:00\", \"2018-07-01T02:00:00\", \"2018-07-01T03:00:00\", \"2018-07-01T04:00:00\", \"2018-07-01T05:00:00\", \"2018-07-01T06:00:00\", \"2018-07-01T07:00:00\", \"2018-07-01T08:00:00\", \"2018-07-01T09:00:00\", \"2018-07-01T10:00:00\", \"2018-07-01T11:00:00\", \"2018-07-01T12:00:00\", \"2018-07-01T13:00:00\", \"2018-07-01T14:00:00\", \"2018-07-01T15:00:00\", \"2018-07-01T16:00:00\", \"2018-07-01T17:00:00\", \"2018-07-01T18:00:00\", \"2018-07-01T19:00:00\", \"2018-07-01T20:00:00\", \"2018-07-01T21:00:00\", \"2018-07-01T22:00:00\", \"2018-07-01T23:00:00\", \"2018-07-02T00:00:00\", \"2018-07-02T01:00:00\", \"2018-07-02T02:00:00\", \"2018-07-02T03:00:00\", \"2018-07-02T04:00:00\", \"2018-07-02T05:00:00\", \"2018-07-02T06:00:00\", \"2018-07-02T07:00:00\", \"2018-07-02T08:00:00\", \"2018-07-02T09:00:00\", \"2018-07-02T10:00:00\", \"2018-07-02T11:00:00\", \"2018-07-02T12:00:00\", \"2018-07-02T13:00:00\", \"2018-07-02T14:00:00\", \"2018-07-02T15:00:00\", \"2018-07-02T16:00:00\", \"2018-07-02T17:00:00\", \"2018-07-02T18:00:00\", \"2018-07-02T19:00:00\", \"2018-07-02T20:00:00\", \"2018-07-02T21:00:00\", \"2018-07-02T22:00:00\", \"2018-07-02T23:00:00\", \"2018-07-03T00:00:00\", \"2018-07-03T01:00:00\", \"2018-07-03T02:00:00\", \"2018-07-03T03:00:00\", \"2018-07-03T04:00:00\", \"2018-07-03T05:00:00\", \"2018-07-03T06:00:00\", \"2018-07-03T07:00:00\", \"2018-07-03T08:00:00\", \"2018-07-03T09:00:00\", \"2018-07-03T10:00:00\", \"2018-07-03T11:00:00\", \"2018-07-03T12:00:00\", \"2018-07-03T13:00:00\", \"2018-07-03T14:00:00\", \"2018-07-03T15:00:00\", \"2018-07-03T16:00:00\", \"2018-07-03T17:00:00\", \"2018-07-03T18:00:00\", \"2018-07-03T19:00:00\", \"2018-07-03T20:00:00\", \"2018-07-03T21:00:00\", \"2018-07-03T22:00:00\", \"2018-07-03T23:00:00\", \"2018-07-04T00:00:00\", \"2018-07-04T01:00:00\", \"2018-07-04T02:00:00\", \"2018-07-04T03:00:00\", \"2018-07-04T04:00:00\", \"2018-07-04T05:00:00\", \"2018-07-04T06:00:00\", \"2018-07-04T07:00:00\", \"2018-07-04T08:00:00\", \"2018-07-04T09:00:00\", \"2018-07-04T10:00:00\", \"2018-07-04T11:00:00\", \"2018-07-04T12:00:00\", \"2018-07-04T13:00:00\", \"2018-07-04T14:00:00\", \"2018-07-04T15:00:00\", \"2018-07-04T16:00:00\", \"2018-07-04T17:00:00\", \"2018-07-04T18:00:00\", \"2018-07-04T19:00:00\", \"2018-07-04T20:00:00\", \"2018-07-04T21:00:00\", \"2018-07-04T22:00:00\", \"2018-07-04T23:00:00\", \"2018-07-05T00:00:00\", \"2018-07-05T01:00:00\", \"2018-07-05T02:00:00\", \"2018-07-05T03:00:00\", \"2018-07-05T04:00:00\", \"2018-07-05T05:00:00\", \"2018-07-05T06:00:00\", \"2018-07-05T07:00:00\", \"2018-07-05T08:00:00\", \"2018-07-05T09:00:00\", \"2018-07-05T10:00:00\", \"2018-07-05T11:00:00\", \"2018-07-05T12:00:00\", \"2018-07-05T13:00:00\", \"2018-07-05T14:00:00\", \"2018-07-05T15:00:00\", \"2018-07-05T16:00:00\", \"2018-07-05T17:00:00\", \"2018-07-05T18:00:00\", \"2018-07-05T19:00:00\", \"2018-07-05T20:00:00\", \"2018-07-05T21:00:00\", \"2018-07-05T22:00:00\", \"2018-07-05T23:00:00\", \"2018-07-06T00:00:00\", \"2018-07-06T01:00:00\", \"2018-07-06T02:00:00\", \"2018-07-06T03:00:00\", \"2018-07-06T04:00:00\", \"2018-07-06T05:00:00\", \"2018-07-06T06:00:00\", \"2018-07-06T07:00:00\", \"2018-07-06T08:00:00\", \"2018-07-06T09:00:00\", \"2018-07-06T10:00:00\", \"2018-07-06T11:00:00\", \"2018-07-06T12:00:00\", \"2018-07-06T13:00:00\", \"2018-07-06T14:00:00\", \"2018-07-06T15:00:00\", \"2018-07-06T16:00:00\", \"2018-07-06T17:00:00\", \"2018-07-06T18:00:00\", \"2018-07-06T19:00:00\", \"2018-07-06T20:00:00\", \"2018-07-06T21:00:00\", \"2018-07-06T22:00:00\", \"2018-07-06T23:00:00\", \"2018-07-07T00:00:00\", \"2018-07-07T01:00:00\", \"2018-07-07T02:00:00\", \"2018-07-07T03:00:00\", \"2018-07-07T04:00:00\", \"2018-07-07T05:00:00\", \"2018-07-07T06:00:00\", \"2018-07-07T07:00:00\", \"2018-07-07T08:00:00\", \"2018-07-07T09:00:00\", \"2018-07-07T10:00:00\", \"2018-07-07T11:00:00\", \"2018-07-07T12:00:00\", \"2018-07-07T13:00:00\", \"2018-07-07T14:00:00\", \"2018-07-07T15:00:00\", \"2018-07-07T16:00:00\", \"2018-07-07T17:00:00\", \"2018-07-07T18:00:00\", \"2018-07-07T19:00:00\", \"2018-07-07T20:00:00\", \"2018-07-07T21:00:00\", \"2018-07-07T22:00:00\", \"2018-07-07T23:00:00\", \"2018-07-08T00:00:00\", \"2018-07-08T01:00:00\", \"2018-07-08T02:00:00\", \"2018-07-08T03:00:00\", \"2018-07-08T04:00:00\", \"2018-07-08T05:00:00\", \"2018-07-08T06:00:00\", \"2018-07-08T07:00:00\", \"2018-07-08T08:00:00\", \"2018-07-08T09:00:00\", \"2018-07-08T10:00:00\", \"2018-07-08T11:00:00\", \"2018-07-08T12:00:00\", \"2018-07-08T13:00:00\", \"2018-07-08T14:00:00\", \"2018-07-08T15:00:00\", \"2018-07-08T16:00:00\", \"2018-07-08T17:00:00\", \"2018-07-08T18:00:00\", \"2018-07-08T19:00:00\", \"2018-07-08T20:00:00\", \"2018-07-08T21:00:00\", \"2018-07-08T22:00:00\", \"2018-07-08T23:00:00\", \"2018-07-09T00:00:00\", \"2018-07-09T01:00:00\", \"2018-07-09T02:00:00\", \"2018-07-09T03:00:00\", \"2018-07-09T04:00:00\", \"2018-07-09T05:00:00\", \"2018-07-09T06:00:00\", \"2018-07-09T07:00:00\", \"2018-07-09T08:00:00\", \"2018-07-09T09:00:00\", \"2018-07-09T10:00:00\", \"2018-07-09T11:00:00\", \"2018-07-09T12:00:00\", \"2018-07-09T13:00:00\", \"2018-07-09T14:00:00\", \"2018-07-09T15:00:00\", \"2018-07-09T16:00:00\", \"2018-07-09T17:00:00\", \"2018-07-09T18:00:00\", \"2018-07-09T19:00:00\", \"2018-07-09T20:00:00\", \"2018-07-09T21:00:00\", \"2018-07-09T22:00:00\", \"2018-07-09T23:00:00\", \"2018-07-10T00:00:00\", \"2018-07-10T01:00:00\", \"2018-07-10T02:00:00\", \"2018-07-10T03:00:00\", \"2018-07-10T04:00:00\", \"2018-07-10T05:00:00\", \"2018-07-10T06:00:00\", \"2018-07-10T07:00:00\", \"2018-07-10T08:00:00\", \"2018-07-10T09:00:00\", \"2018-07-10T10:00:00\", \"2018-07-10T11:00:00\", \"2018-07-10T12:00:00\", \"2018-07-10T13:00:00\", \"2018-07-10T14:00:00\", \"2018-07-10T15:00:00\", \"2018-07-10T16:00:00\", \"2018-07-10T17:00:00\", \"2018-07-10T18:00:00\", \"2018-07-10T19:00:00\", \"2018-07-10T20:00:00\", \"2018-07-10T21:00:00\", \"2018-07-10T22:00:00\", \"2018-07-10T23:00:00\", \"2018-07-11T00:00:00\", \"2018-07-11T01:00:00\", \"2018-07-11T02:00:00\", \"2018-07-11T03:00:00\", \"2018-07-11T04:00:00\", \"2018-07-11T05:00:00\", \"2018-07-11T06:00:00\", \"2018-07-11T07:00:00\", \"2018-07-11T08:00:00\", \"2018-07-11T09:00:00\", \"2018-07-11T10:00:00\", \"2018-07-11T11:00:00\", \"2018-07-11T12:00:00\", \"2018-07-11T13:00:00\", \"2018-07-11T14:00:00\", \"2018-07-11T15:00:00\", \"2018-07-11T16:00:00\", \"2018-07-11T17:00:00\", \"2018-07-11T18:00:00\", \"2018-07-11T19:00:00\", \"2018-07-11T20:00:00\", \"2018-07-11T21:00:00\", \"2018-07-11T22:00:00\", \"2018-07-11T23:00:00\", \"2018-07-12T00:00:00\", \"2018-07-12T01:00:00\", \"2018-07-12T02:00:00\", \"2018-07-12T03:00:00\", \"2018-07-12T04:00:00\", \"2018-07-12T05:00:00\", \"2018-07-12T06:00:00\", \"2018-07-12T07:00:00\", \"2018-07-12T08:00:00\", \"2018-07-12T09:00:00\", \"2018-07-12T10:00:00\", \"2018-07-12T11:00:00\", \"2018-07-12T12:00:00\", \"2018-07-12T13:00:00\", \"2018-07-12T14:00:00\", \"2018-07-12T15:00:00\", \"2018-07-12T16:00:00\", \"2018-07-12T17:00:00\", \"2018-07-12T18:00:00\", \"2018-07-12T19:00:00\", \"2018-07-12T20:00:00\", \"2018-07-12T21:00:00\", \"2018-07-12T22:00:00\", \"2018-07-12T23:00:00\", \"2018-07-13T00:00:00\", \"2018-07-13T01:00:00\", \"2018-07-13T02:00:00\", \"2018-07-13T03:00:00\", \"2018-07-13T04:00:00\", \"2018-07-13T05:00:00\", \"2018-07-13T06:00:00\", \"2018-07-13T07:00:00\", \"2018-07-13T08:00:00\", \"2018-07-13T09:00:00\", \"2018-07-13T10:00:00\", \"2018-07-13T11:00:00\", \"2018-07-13T12:00:00\", \"2018-07-13T13:00:00\", \"2018-07-13T14:00:00\", \"2018-07-13T15:00:00\", \"2018-07-13T16:00:00\", \"2018-07-13T17:00:00\", \"2018-07-13T18:00:00\", \"2018-07-13T19:00:00\", \"2018-07-13T20:00:00\", \"2018-07-13T21:00:00\", \"2018-07-13T22:00:00\", \"2018-07-13T23:00:00\", \"2018-07-14T00:00:00\", \"2018-07-14T01:00:00\", \"2018-07-14T02:00:00\", \"2018-07-14T03:00:00\", \"2018-07-14T04:00:00\", \"2018-07-14T05:00:00\", \"2018-07-14T06:00:00\", \"2018-07-14T07:00:00\", \"2018-07-14T08:00:00\", \"2018-07-14T09:00:00\", \"2018-07-14T10:00:00\", \"2018-07-14T11:00:00\", \"2018-07-14T12:00:00\", \"2018-07-14T13:00:00\", \"2018-07-14T14:00:00\", \"2018-07-14T15:00:00\", \"2018-07-14T16:00:00\", \"2018-07-14T17:00:00\", \"2018-07-14T18:00:00\", \"2018-07-14T19:00:00\", \"2018-07-14T20:00:00\", \"2018-07-14T21:00:00\", \"2018-07-14T22:00:00\", \"2018-07-14T23:00:00\", \"2018-07-15T00:00:00\", \"2018-07-15T01:00:00\", \"2018-07-15T02:00:00\", \"2018-07-15T03:00:00\", \"2018-07-15T04:00:00\", \"2018-07-15T05:00:00\", \"2018-07-15T06:00:00\", \"2018-07-15T07:00:00\", \"2018-07-15T08:00:00\", \"2018-07-15T09:00:00\", \"2018-07-15T10:00:00\", \"2018-07-15T11:00:00\", \"2018-07-15T12:00:00\", \"2018-07-15T13:00:00\", \"2018-07-15T14:00:00\", \"2018-07-15T15:00:00\", \"2018-07-15T16:00:00\", \"2018-07-15T17:00:00\", \"2018-07-15T18:00:00\", \"2018-07-15T19:00:00\", \"2018-07-15T20:00:00\", \"2018-07-15T21:00:00\", \"2018-07-15T22:00:00\", \"2018-07-15T23:00:00\", \"2018-07-16T00:00:00\", \"2018-07-16T01:00:00\", \"2018-07-16T02:00:00\", \"2018-07-16T03:00:00\", \"2018-07-16T04:00:00\", \"2018-07-16T05:00:00\", \"2018-07-16T06:00:00\", \"2018-07-16T07:00:00\", \"2018-07-16T08:00:00\", \"2018-07-16T09:00:00\", \"2018-07-16T10:00:00\", \"2018-07-16T11:00:00\", \"2018-07-16T12:00:00\", \"2018-07-16T13:00:00\", \"2018-07-16T14:00:00\", \"2018-07-16T15:00:00\", \"2018-07-16T16:00:00\", \"2018-07-16T17:00:00\", \"2018-07-16T18:00:00\", \"2018-07-16T19:00:00\", \"2018-07-16T20:00:00\", \"2018-07-16T21:00:00\", \"2018-07-16T22:00:00\", \"2018-07-16T23:00:00\", \"2018-07-17T00:00:00\", \"2018-07-17T01:00:00\", \"2018-07-17T02:00:00\", \"2018-07-17T03:00:00\", \"2018-07-17T04:00:00\", \"2018-07-17T05:00:00\", \"2018-07-17T06:00:00\", \"2018-07-17T07:00:00\", \"2018-07-17T08:00:00\", \"2018-07-17T09:00:00\", \"2018-07-17T10:00:00\", \"2018-07-17T11:00:00\", \"2018-07-17T12:00:00\", \"2018-07-17T13:00:00\", \"2018-07-17T14:00:00\", \"2018-07-17T15:00:00\", \"2018-07-17T16:00:00\", \"2018-07-17T17:00:00\", \"2018-07-17T18:00:00\", \"2018-07-17T19:00:00\", \"2018-07-17T20:00:00\", \"2018-07-17T21:00:00\", \"2018-07-17T22:00:00\", \"2018-07-17T23:00:00\", \"2018-07-18T00:00:00\", \"2018-07-18T01:00:00\", \"2018-07-18T02:00:00\", \"2018-07-18T03:00:00\", \"2018-07-18T04:00:00\", \"2018-07-18T05:00:00\", \"2018-07-18T06:00:00\", \"2018-07-18T07:00:00\", \"2018-07-18T08:00:00\", \"2018-07-18T09:00:00\", \"2018-07-18T10:00:00\", \"2018-07-18T11:00:00\", \"2018-07-18T12:00:00\", \"2018-07-18T13:00:00\", \"2018-07-18T14:00:00\", \"2018-07-18T15:00:00\", \"2018-07-18T16:00:00\", \"2018-07-18T17:00:00\", \"2018-07-18T18:00:00\", \"2018-07-18T19:00:00\", \"2018-07-18T20:00:00\", \"2018-07-18T21:00:00\", \"2018-07-18T22:00:00\", \"2018-07-18T23:00:00\", \"2018-07-19T00:00:00\", \"2018-07-19T01:00:00\", \"2018-07-19T02:00:00\", \"2018-07-19T03:00:00\", \"2018-07-19T04:00:00\", \"2018-07-19T05:00:00\", \"2018-07-19T06:00:00\", \"2018-07-19T07:00:00\", \"2018-07-19T08:00:00\", \"2018-07-19T09:00:00\", \"2018-07-19T10:00:00\", \"2018-07-19T11:00:00\", \"2018-07-19T12:00:00\", \"2018-07-19T13:00:00\", \"2018-07-19T14:00:00\", \"2018-07-19T15:00:00\", \"2018-07-19T16:00:00\", \"2018-07-19T17:00:00\", \"2018-07-19T18:00:00\", \"2018-07-19T19:00:00\", \"2018-07-19T20:00:00\", \"2018-07-19T21:00:00\", \"2018-07-19T22:00:00\", \"2018-07-19T23:00:00\", \"2018-07-20T00:00:00\", \"2018-07-20T01:00:00\", \"2018-07-20T02:00:00\", \"2018-07-20T03:00:00\", \"2018-07-20T04:00:00\", \"2018-07-20T05:00:00\", \"2018-07-20T06:00:00\", \"2018-07-20T07:00:00\", \"2018-07-20T08:00:00\", \"2018-07-20T09:00:00\", \"2018-07-20T10:00:00\", \"2018-07-20T11:00:00\", \"2018-07-20T12:00:00\", \"2018-07-20T13:00:00\", \"2018-07-20T14:00:00\", \"2018-07-20T15:00:00\", \"2018-07-20T16:00:00\", \"2018-07-20T17:00:00\", \"2018-07-20T18:00:00\", \"2018-07-20T19:00:00\", \"2018-07-20T20:00:00\", \"2018-07-20T21:00:00\", \"2018-07-20T22:00:00\", \"2018-07-20T23:00:00\", \"2018-07-21T00:00:00\", \"2018-07-21T01:00:00\", \"2018-07-21T02:00:00\", \"2018-07-21T03:00:00\", \"2018-07-21T04:00:00\", \"2018-07-21T05:00:00\", \"2018-07-21T06:00:00\", \"2018-07-21T07:00:00\", \"2018-07-21T08:00:00\", \"2018-07-21T09:00:00\", \"2018-07-21T10:00:00\", \"2018-07-21T11:00:00\", \"2018-07-21T12:00:00\", \"2018-07-21T13:00:00\", \"2018-07-21T14:00:00\", \"2018-07-21T15:00:00\", \"2018-07-21T16:00:00\", \"2018-07-21T17:00:00\", \"2018-07-21T18:00:00\", \"2018-07-21T19:00:00\", \"2018-07-21T20:00:00\", \"2018-07-21T21:00:00\", \"2018-07-21T22:00:00\", \"2018-07-21T23:00:00\", \"2018-07-22T00:00:00\", \"2018-07-22T01:00:00\", \"2018-07-22T02:00:00\", \"2018-07-22T03:00:00\", \"2018-07-22T04:00:00\", \"2018-07-22T05:00:00\", \"2018-07-22T06:00:00\", \"2018-07-22T07:00:00\", \"2018-07-22T08:00:00\", \"2018-07-22T09:00:00\", \"2018-07-22T10:00:00\", \"2018-07-22T11:00:00\", \"2018-07-22T12:00:00\", \"2018-07-22T13:00:00\", \"2018-07-22T14:00:00\", \"2018-07-22T15:00:00\", \"2018-07-22T16:00:00\", \"2018-07-22T17:00:00\", \"2018-07-22T18:00:00\", \"2018-07-22T19:00:00\", \"2018-07-22T20:00:00\", \"2018-07-22T21:00:00\", \"2018-07-22T22:00:00\", \"2018-07-22T23:00:00\", \"2018-07-23T00:00:00\", \"2018-07-23T01:00:00\", \"2018-07-23T02:00:00\", \"2018-07-23T03:00:00\", \"2018-07-23T04:00:00\", \"2018-07-23T05:00:00\", \"2018-07-23T06:00:00\", \"2018-07-23T07:00:00\", \"2018-07-23T08:00:00\", \"2018-07-23T09:00:00\", \"2018-07-23T10:00:00\", \"2018-07-23T11:00:00\", \"2018-07-23T12:00:00\", \"2018-07-23T13:00:00\", \"2018-07-23T14:00:00\", \"2018-07-23T15:00:00\", \"2018-07-23T16:00:00\", \"2018-07-23T17:00:00\", \"2018-07-23T18:00:00\", \"2018-07-23T19:00:00\", \"2018-07-23T20:00:00\", \"2018-07-23T21:00:00\", \"2018-07-23T22:00:00\", \"2018-07-23T23:00:00\", \"2018-07-24T00:00:00\", \"2018-07-24T01:00:00\", \"2018-07-24T02:00:00\", \"2018-07-24T03:00:00\", \"2018-07-24T04:00:00\", \"2018-07-24T05:00:00\", \"2018-07-24T06:00:00\", \"2018-07-24T07:00:00\", \"2018-07-24T08:00:00\", \"2018-07-24T09:00:00\", \"2018-07-24T10:00:00\", \"2018-07-24T11:00:00\", \"2018-07-24T12:00:00\", \"2018-07-24T13:00:00\", \"2018-07-24T14:00:00\", \"2018-07-24T15:00:00\", \"2018-07-24T16:00:00\", \"2018-07-24T17:00:00\", \"2018-07-24T18:00:00\", \"2018-07-24T19:00:00\", \"2018-07-24T20:00:00\", \"2018-07-24T21:00:00\", \"2018-07-24T22:00:00\", \"2018-07-24T23:00:00\", \"2018-07-25T00:00:00\", \"2018-07-25T01:00:00\", \"2018-07-25T02:00:00\", \"2018-07-25T03:00:00\", \"2018-07-25T04:00:00\", \"2018-07-25T05:00:00\", \"2018-07-25T06:00:00\", \"2018-07-25T07:00:00\", \"2018-07-25T08:00:00\", \"2018-07-25T09:00:00\", \"2018-07-25T10:00:00\", \"2018-07-25T11:00:00\", \"2018-07-25T12:00:00\", \"2018-07-25T13:00:00\", \"2018-07-25T14:00:00\", \"2018-07-25T15:00:00\", \"2018-07-25T16:00:00\", \"2018-07-25T17:00:00\", \"2018-07-25T18:00:00\", \"2018-07-25T19:00:00\", \"2018-07-25T20:00:00\", \"2018-07-25T21:00:00\", \"2018-07-25T22:00:00\", \"2018-07-25T23:00:00\", \"2018-07-26T00:00:00\", \"2018-07-26T01:00:00\", \"2018-07-26T02:00:00\", \"2018-07-26T03:00:00\", \"2018-07-26T04:00:00\", \"2018-07-26T05:00:00\", \"2018-07-26T06:00:00\", \"2018-07-26T07:00:00\", \"2018-07-26T08:00:00\", \"2018-07-26T09:00:00\", \"2018-07-26T10:00:00\", \"2018-07-26T11:00:00\", \"2018-07-26T12:00:00\", \"2018-07-26T13:00:00\", \"2018-07-26T14:00:00\", \"2018-07-26T15:00:00\", \"2018-07-26T16:00:00\", \"2018-07-26T17:00:00\", \"2018-07-26T18:00:00\", \"2018-07-26T19:00:00\", \"2018-07-26T20:00:00\", \"2018-07-26T21:00:00\", \"2018-07-26T22:00:00\", \"2018-07-26T23:00:00\", \"2018-07-27T00:00:00\", \"2018-07-27T01:00:00\", \"2018-07-27T02:00:00\", \"2018-07-27T03:00:00\", \"2018-07-27T04:00:00\", \"2018-07-27T05:00:00\", \"2018-07-27T06:00:00\", \"2018-07-27T07:00:00\", \"2018-07-27T08:00:00\", \"2018-07-27T09:00:00\", \"2018-07-27T10:00:00\", \"2018-07-27T11:00:00\", \"2018-07-27T12:00:00\", \"2018-07-27T13:00:00\", \"2018-07-27T14:00:00\", \"2018-07-27T15:00:00\", \"2018-07-27T16:00:00\", \"2018-07-27T17:00:00\", \"2018-07-27T18:00:00\", \"2018-07-27T19:00:00\", \"2018-07-27T20:00:00\", \"2018-07-27T21:00:00\", \"2018-07-27T22:00:00\", \"2018-07-27T23:00:00\", \"2018-07-28T00:00:00\", \"2018-07-28T01:00:00\", \"2018-07-28T02:00:00\", \"2018-07-28T03:00:00\", \"2018-07-28T04:00:00\", \"2018-07-28T05:00:00\", \"2018-07-28T06:00:00\", \"2018-07-28T07:00:00\", \"2018-07-28T08:00:00\", \"2018-07-28T09:00:00\", \"2018-07-28T10:00:00\", \"2018-07-28T11:00:00\", \"2018-07-28T12:00:00\", \"2018-07-28T13:00:00\", \"2018-07-28T14:00:00\", \"2018-07-28T15:00:00\", \"2018-07-28T16:00:00\", \"2018-07-28T17:00:00\", \"2018-07-28T18:00:00\", \"2018-07-28T19:00:00\", \"2018-07-28T20:00:00\", \"2018-07-28T21:00:00\", \"2018-07-28T22:00:00\", \"2018-07-28T23:00:00\", \"2018-07-29T00:00:00\", \"2018-07-29T01:00:00\", \"2018-07-29T02:00:00\", \"2018-07-29T03:00:00\", \"2018-07-29T04:00:00\", \"2018-07-29T05:00:00\", \"2018-07-29T06:00:00\", \"2018-07-29T07:00:00\", \"2018-07-29T08:00:00\", \"2018-07-29T09:00:00\", \"2018-07-29T10:00:00\", \"2018-07-29T11:00:00\", \"2018-07-29T12:00:00\", \"2018-07-29T13:00:00\", \"2018-07-29T14:00:00\", \"2018-07-29T15:00:00\", \"2018-07-29T16:00:00\", \"2018-07-29T17:00:00\", \"2018-07-29T18:00:00\", \"2018-07-29T19:00:00\", \"2018-07-29T20:00:00\", \"2018-07-29T21:00:00\", \"2018-07-29T22:00:00\", \"2018-07-29T23:00:00\", \"2018-07-30T00:00:00\", \"2018-07-30T01:00:00\", \"2018-07-30T02:00:00\", \"2018-07-30T03:00:00\", \"2018-07-30T04:00:00\", \"2018-07-30T05:00:00\", \"2018-07-30T06:00:00\", \"2018-07-30T07:00:00\", \"2018-07-30T08:00:00\", \"2018-07-30T09:00:00\", \"2018-07-30T10:00:00\", \"2018-07-30T11:00:00\", \"2018-07-30T12:00:00\", \"2018-07-30T13:00:00\", \"2018-07-30T14:00:00\", \"2018-07-30T15:00:00\", \"2018-07-30T16:00:00\", \"2018-07-30T17:00:00\", \"2018-07-30T18:00:00\", \"2018-07-30T19:00:00\", \"2018-07-30T20:00:00\", \"2018-07-30T21:00:00\", \"2018-07-30T22:00:00\", \"2018-07-30T23:00:00\", \"2018-07-31T00:00:00\", \"2018-07-31T01:00:00\", \"2018-07-31T02:00:00\", \"2018-07-31T03:00:00\", \"2018-07-31T04:00:00\", \"2018-07-31T05:00:00\", \"2018-07-31T06:00:00\", \"2018-07-31T07:00:00\", \"2018-07-31T08:00:00\", \"2018-07-31T09:00:00\", \"2018-07-31T10:00:00\", \"2018-07-31T11:00:00\", \"2018-07-31T12:00:00\", \"2018-07-31T13:00:00\", \"2018-07-31T14:00:00\", \"2018-07-31T15:00:00\", \"2018-07-31T16:00:00\", \"2018-07-31T17:00:00\", \"2018-07-31T18:00:00\", \"2018-07-31T19:00:00\", \"2018-07-31T20:00:00\", \"2018-07-31T21:00:00\", \"2018-07-31T22:00:00\", \"2018-07-31T23:00:00\", \"2018-08-01T00:00:00\", \"2018-08-01T01:00:00\", \"2018-08-01T02:00:00\", \"2018-08-01T03:00:00\", \"2018-08-01T04:00:00\", \"2018-08-01T05:00:00\", \"2018-08-01T06:00:00\", \"2018-08-01T07:00:00\", \"2018-08-01T08:00:00\", \"2018-08-01T09:00:00\", \"2018-08-01T10:00:00\", \"2018-08-01T11:00:00\", \"2018-08-01T12:00:00\", \"2018-08-01T13:00:00\", \"2018-08-01T14:00:00\", \"2018-08-01T15:00:00\", \"2018-08-01T16:00:00\", \"2018-08-01T17:00:00\", \"2018-08-01T18:00:00\", \"2018-08-01T19:00:00\", \"2018-08-01T20:00:00\", \"2018-08-01T21:00:00\", \"2018-08-01T22:00:00\", \"2018-08-01T23:00:00\", \"2018-08-02T00:00:00\", \"2018-08-02T01:00:00\", \"2018-08-02T02:00:00\", \"2018-08-02T03:00:00\", \"2018-08-02T04:00:00\", \"2018-08-02T05:00:00\", \"2018-08-02T06:00:00\", \"2018-08-02T07:00:00\", \"2018-08-02T08:00:00\", \"2018-08-02T09:00:00\", \"2018-08-02T10:00:00\", \"2018-08-02T11:00:00\", \"2018-08-02T12:00:00\", \"2018-08-02T13:00:00\", \"2018-08-02T14:00:00\", \"2018-08-02T15:00:00\", \"2018-08-02T16:00:00\", \"2018-08-02T17:00:00\", \"2018-08-02T18:00:00\", \"2018-08-02T19:00:00\", \"2018-08-02T20:00:00\", \"2018-08-02T21:00:00\", \"2018-08-02T22:00:00\", \"2018-08-02T23:00:00\", \"2018-08-03T00:00:00\", \"2018-08-03T01:00:00\", \"2018-08-03T02:00:00\", \"2018-08-03T03:00:00\", \"2018-08-03T04:00:00\", \"2018-08-03T05:00:00\", \"2018-08-03T06:00:00\", \"2018-08-03T07:00:00\", \"2018-08-03T08:00:00\", \"2018-08-03T09:00:00\", \"2018-08-03T10:00:00\", \"2018-08-03T11:00:00\", \"2018-08-03T12:00:00\", \"2018-08-03T13:00:00\", \"2018-08-03T14:00:00\", \"2018-08-03T15:00:00\", \"2018-08-03T16:00:00\", \"2018-08-03T17:00:00\", \"2018-08-03T18:00:00\", \"2018-08-03T19:00:00\", \"2018-08-03T20:00:00\", \"2018-08-03T21:00:00\", \"2018-08-03T22:00:00\", \"2018-08-03T23:00:00\", \"2018-08-04T00:00:00\", \"2018-08-04T01:00:00\", \"2018-08-04T02:00:00\", \"2018-08-04T03:00:00\", \"2018-08-04T04:00:00\", \"2018-08-04T05:00:00\", \"2018-08-04T06:00:00\", \"2018-08-04T07:00:00\", \"2018-08-04T08:00:00\", \"2018-08-04T09:00:00\", \"2018-08-04T10:00:00\", \"2018-08-04T11:00:00\", \"2018-08-04T12:00:00\", \"2018-08-04T13:00:00\", \"2018-08-04T14:00:00\", \"2018-08-04T15:00:00\", \"2018-08-04T16:00:00\", \"2018-08-04T17:00:00\", \"2018-08-04T18:00:00\", \"2018-08-04T19:00:00\", \"2018-08-04T20:00:00\", \"2018-08-04T21:00:00\", \"2018-08-04T22:00:00\", \"2018-08-04T23:00:00\", \"2018-08-05T00:00:00\", \"2018-08-05T01:00:00\", \"2018-08-05T02:00:00\", \"2018-08-05T03:00:00\", \"2018-08-05T04:00:00\", \"2018-08-05T05:00:00\", \"2018-08-05T06:00:00\", \"2018-08-05T07:00:00\", \"2018-08-05T08:00:00\", \"2018-08-05T09:00:00\", \"2018-08-05T10:00:00\", \"2018-08-05T11:00:00\", \"2018-08-05T12:00:00\", \"2018-08-05T13:00:00\", \"2018-08-05T14:00:00\", \"2018-08-05T15:00:00\", \"2018-08-05T16:00:00\", \"2018-08-05T17:00:00\", \"2018-08-05T18:00:00\", \"2018-08-05T19:00:00\", \"2018-08-05T20:00:00\", \"2018-08-05T21:00:00\", \"2018-08-05T22:00:00\", \"2018-08-05T23:00:00\", \"2018-08-06T00:00:00\", \"2018-08-06T01:00:00\", \"2018-08-06T02:00:00\", \"2018-08-06T03:00:00\", \"2018-08-06T04:00:00\", \"2018-08-06T05:00:00\", \"2018-08-06T06:00:00\", \"2018-08-06T07:00:00\", \"2018-08-06T08:00:00\", \"2018-08-06T09:00:00\", \"2018-08-06T10:00:00\", \"2018-08-06T11:00:00\", \"2018-08-06T12:00:00\", \"2018-08-06T13:00:00\", \"2018-08-06T14:00:00\", \"2018-08-06T15:00:00\", \"2018-08-06T16:00:00\", \"2018-08-06T17:00:00\", \"2018-08-06T18:00:00\", \"2018-08-06T19:00:00\", \"2018-08-06T20:00:00\", \"2018-08-06T21:00:00\", \"2018-08-06T22:00:00\", \"2018-08-06T23:00:00\", \"2018-08-07T00:00:00\", \"2018-08-07T01:00:00\", \"2018-08-07T02:00:00\", \"2018-08-07T03:00:00\", \"2018-08-07T04:00:00\", \"2018-08-07T05:00:00\", \"2018-08-07T06:00:00\", \"2018-08-07T07:00:00\", \"2018-08-07T08:00:00\", \"2018-08-07T09:00:00\", \"2018-08-07T10:00:00\", \"2018-08-07T11:00:00\", \"2018-08-07T12:00:00\", \"2018-08-07T13:00:00\", \"2018-08-07T14:00:00\", \"2018-08-07T15:00:00\", \"2018-08-07T16:00:00\", \"2018-08-07T17:00:00\", \"2018-08-07T18:00:00\", \"2018-08-07T19:00:00\", \"2018-08-07T20:00:00\", \"2018-08-07T21:00:00\", \"2018-08-07T22:00:00\", \"2018-08-07T23:00:00\", \"2018-08-08T00:00:00\", \"2018-08-08T01:00:00\", \"2018-08-08T02:00:00\", \"2018-08-08T03:00:00\", \"2018-08-08T04:00:00\", \"2018-08-08T05:00:00\", \"2018-08-08T06:00:00\", \"2018-08-08T07:00:00\", \"2018-08-08T08:00:00\", \"2018-08-08T09:00:00\", \"2018-08-08T10:00:00\", \"2018-08-08T11:00:00\", \"2018-08-08T12:00:00\", \"2018-08-08T13:00:00\", \"2018-08-08T14:00:00\", \"2018-08-08T15:00:00\", \"2018-08-08T16:00:00\", \"2018-08-08T17:00:00\", \"2018-08-08T18:00:00\", \"2018-08-08T19:00:00\", \"2018-08-08T20:00:00\", \"2018-08-08T21:00:00\", \"2018-08-08T22:00:00\", \"2018-08-08T23:00:00\", \"2018-08-09T00:00:00\", \"2018-08-09T01:00:00\", \"2018-08-09T02:00:00\", \"2018-08-09T03:00:00\", \"2018-08-09T04:00:00\", \"2018-08-09T05:00:00\", \"2018-08-09T06:00:00\", \"2018-08-09T07:00:00\", \"2018-08-09T08:00:00\", \"2018-08-09T09:00:00\", \"2018-08-09T10:00:00\", \"2018-08-09T11:00:00\", \"2018-08-09T12:00:00\", \"2018-08-09T13:00:00\", \"2018-08-09T14:00:00\", \"2018-08-09T15:00:00\", \"2018-08-09T16:00:00\", \"2018-08-09T17:00:00\", \"2018-08-09T18:00:00\", \"2018-08-09T19:00:00\", \"2018-08-09T20:00:00\", \"2018-08-09T21:00:00\", \"2018-08-09T22:00:00\", \"2018-08-09T23:00:00\", \"2018-08-10T00:00:00\", \"2018-08-10T01:00:00\", \"2018-08-10T02:00:00\", \"2018-08-10T03:00:00\", \"2018-08-10T04:00:00\", \"2018-08-10T05:00:00\", \"2018-08-10T06:00:00\", \"2018-08-10T07:00:00\", \"2018-08-10T08:00:00\", \"2018-08-10T09:00:00\", \"2018-08-10T10:00:00\", \"2018-08-10T11:00:00\", \"2018-08-10T12:00:00\", \"2018-08-10T13:00:00\", \"2018-08-10T14:00:00\", \"2018-08-10T15:00:00\", \"2018-08-10T16:00:00\", \"2018-08-10T17:00:00\", \"2018-08-10T18:00:00\", \"2018-08-10T19:00:00\", \"2018-08-10T20:00:00\", \"2018-08-10T21:00:00\", \"2018-08-10T22:00:00\", \"2018-08-10T23:00:00\", \"2018-08-11T00:00:00\", \"2018-08-11T01:00:00\", \"2018-08-11T02:00:00\", \"2018-08-11T03:00:00\", \"2018-08-11T04:00:00\", \"2018-08-11T05:00:00\", \"2018-08-11T06:00:00\", \"2018-08-11T07:00:00\", \"2018-08-11T08:00:00\", \"2018-08-11T09:00:00\", \"2018-08-11T10:00:00\", \"2018-08-11T11:00:00\", \"2018-08-11T12:00:00\", \"2018-08-11T13:00:00\", \"2018-08-11T14:00:00\", \"2018-08-11T15:00:00\", \"2018-08-11T16:00:00\", \"2018-08-11T17:00:00\", \"2018-08-11T18:00:00\", \"2018-08-11T19:00:00\", \"2018-08-11T20:00:00\", \"2018-08-11T21:00:00\", \"2018-08-11T22:00:00\", \"2018-08-11T23:00:00\", \"2018-08-12T00:00:00\", \"2018-08-12T01:00:00\", \"2018-08-12T02:00:00\", \"2018-08-12T03:00:00\", \"2018-08-12T04:00:00\", \"2018-08-12T05:00:00\", \"2018-08-12T06:00:00\", \"2018-08-12T07:00:00\", \"2018-08-12T08:00:00\", \"2018-08-12T09:00:00\", \"2018-08-12T10:00:00\", \"2018-08-12T11:00:00\", \"2018-08-12T12:00:00\", \"2018-08-12T13:00:00\", \"2018-08-12T14:00:00\", \"2018-08-12T15:00:00\", \"2018-08-12T16:00:00\", \"2018-08-12T17:00:00\", \"2018-08-12T18:00:00\", \"2018-08-12T19:00:00\", \"2018-08-12T20:00:00\", \"2018-08-12T21:00:00\", \"2018-08-12T22:00:00\", \"2018-08-12T23:00:00\", \"2018-08-13T00:00:00\", \"2018-08-13T01:00:00\", \"2018-08-13T02:00:00\", \"2018-08-13T03:00:00\", \"2018-08-13T04:00:00\", \"2018-08-13T05:00:00\", \"2018-08-13T06:00:00\", \"2018-08-13T07:00:00\", \"2018-08-13T08:00:00\", \"2018-08-13T09:00:00\", \"2018-08-13T10:00:00\", \"2018-08-13T11:00:00\", \"2018-08-13T12:00:00\", \"2018-08-13T13:00:00\", \"2018-08-13T14:00:00\", \"2018-08-13T15:00:00\", \"2018-08-13T16:00:00\", \"2018-08-13T17:00:00\", \"2018-08-13T18:00:00\", \"2018-08-13T19:00:00\", \"2018-08-13T20:00:00\", \"2018-08-13T21:00:00\", \"2018-08-13T22:00:00\", \"2018-08-13T23:00:00\", \"2018-08-14T00:00:00\", \"2018-08-14T01:00:00\", \"2018-08-14T02:00:00\", \"2018-08-14T03:00:00\", \"2018-08-14T04:00:00\", \"2018-08-14T05:00:00\", \"2018-08-14T06:00:00\", \"2018-08-14T07:00:00\", \"2018-08-14T08:00:00\", \"2018-08-14T09:00:00\", \"2018-08-14T10:00:00\", \"2018-08-14T11:00:00\", \"2018-08-14T12:00:00\", \"2018-08-14T13:00:00\", \"2018-08-14T14:00:00\", \"2018-08-14T15:00:00\", \"2018-08-14T16:00:00\", \"2018-08-14T17:00:00\", \"2018-08-14T18:00:00\", \"2018-08-14T19:00:00\", \"2018-08-14T20:00:00\", \"2018-08-14T21:00:00\", \"2018-08-14T22:00:00\", \"2018-08-14T23:00:00\", \"2018-08-15T00:00:00\", \"2018-08-15T01:00:00\", \"2018-08-15T02:00:00\", \"2018-08-15T03:00:00\", \"2018-08-15T04:00:00\", \"2018-08-15T05:00:00\", \"2018-08-15T06:00:00\", \"2018-08-15T07:00:00\", \"2018-08-15T08:00:00\", \"2018-08-15T09:00:00\", \"2018-08-15T10:00:00\", \"2018-08-15T11:00:00\", \"2018-08-15T12:00:00\", \"2018-08-15T13:00:00\", \"2018-08-15T14:00:00\", \"2018-08-15T15:00:00\", \"2018-08-15T16:00:00\", \"2018-08-15T17:00:00\", \"2018-08-15T18:00:00\", \"2018-08-15T19:00:00\", \"2018-08-15T20:00:00\", \"2018-08-15T21:00:00\", \"2018-08-15T22:00:00\", \"2018-08-15T23:00:00\", \"2018-08-16T00:00:00\", \"2018-08-16T01:00:00\", \"2018-08-16T02:00:00\", \"2018-08-16T03:00:00\", \"2018-08-16T04:00:00\", \"2018-08-16T05:00:00\", \"2018-08-16T06:00:00\", \"2018-08-16T07:00:00\", \"2018-08-16T08:00:00\", \"2018-08-16T09:00:00\", \"2018-08-16T10:00:00\", \"2018-08-16T11:00:00\", \"2018-08-16T12:00:00\", \"2018-08-16T13:00:00\", \"2018-08-16T14:00:00\", \"2018-08-16T15:00:00\", \"2018-08-16T16:00:00\", \"2018-08-16T17:00:00\", \"2018-08-16T18:00:00\", \"2018-08-16T19:00:00\", \"2018-08-16T20:00:00\", \"2018-08-16T21:00:00\", \"2018-08-16T22:00:00\", \"2018-08-16T23:00:00\", \"2018-08-17T00:00:00\", \"2018-08-17T01:00:00\", \"2018-08-17T02:00:00\", \"2018-08-17T03:00:00\", \"2018-08-17T04:00:00\", \"2018-08-17T05:00:00\", \"2018-08-17T06:00:00\", \"2018-08-17T07:00:00\", \"2018-08-17T08:00:00\", \"2018-08-17T09:00:00\", \"2018-08-17T10:00:00\", \"2018-08-17T11:00:00\", \"2018-08-17T12:00:00\", \"2018-08-17T13:00:00\", \"2018-08-17T14:00:00\", \"2018-08-17T15:00:00\", \"2018-08-17T16:00:00\", \"2018-08-17T17:00:00\", \"2018-08-17T18:00:00\", \"2018-08-17T19:00:00\", \"2018-08-17T20:00:00\", \"2018-08-17T21:00:00\", \"2018-08-17T22:00:00\", \"2018-08-17T23:00:00\", \"2018-08-18T00:00:00\", \"2018-08-18T01:00:00\", \"2018-08-18T02:00:00\", \"2018-08-18T03:00:00\", \"2018-08-18T04:00:00\", \"2018-08-18T05:00:00\", \"2018-08-18T06:00:00\", \"2018-08-18T07:00:00\", \"2018-08-18T08:00:00\", \"2018-08-18T09:00:00\", \"2018-08-18T10:00:00\", \"2018-08-18T11:00:00\", \"2018-08-18T12:00:00\", \"2018-08-18T13:00:00\", \"2018-08-18T14:00:00\", \"2018-08-18T15:00:00\", \"2018-08-18T16:00:00\", \"2018-08-18T17:00:00\", \"2018-08-18T18:00:00\", \"2018-08-18T19:00:00\", \"2018-08-18T20:00:00\", \"2018-08-18T21:00:00\", \"2018-08-18T22:00:00\", \"2018-08-18T23:00:00\", \"2018-08-19T00:00:00\", \"2018-08-19T01:00:00\", \"2018-08-19T02:00:00\", \"2018-08-19T03:00:00\", \"2018-08-19T04:00:00\", \"2018-08-19T05:00:00\", \"2018-08-19T06:00:00\", \"2018-08-19T07:00:00\", \"2018-08-19T08:00:00\", \"2018-08-19T09:00:00\", \"2018-08-19T10:00:00\", \"2018-08-19T11:00:00\", \"2018-08-19T12:00:00\", \"2018-08-19T13:00:00\", \"2018-08-19T14:00:00\", \"2018-08-19T15:00:00\", \"2018-08-19T16:00:00\", \"2018-08-19T17:00:00\", \"2018-08-19T18:00:00\", \"2018-08-19T19:00:00\", \"2018-08-19T20:00:00\", \"2018-08-19T21:00:00\", \"2018-08-19T22:00:00\", \"2018-08-19T23:00:00\", \"2018-08-20T00:00:00\", \"2018-08-20T01:00:00\", \"2018-08-20T02:00:00\", \"2018-08-20T03:00:00\", \"2018-08-20T04:00:00\", \"2018-08-20T05:00:00\", \"2018-08-20T06:00:00\", \"2018-08-20T07:00:00\", \"2018-08-20T08:00:00\", \"2018-08-20T09:00:00\", \"2018-08-20T10:00:00\", \"2018-08-20T11:00:00\", \"2018-08-20T12:00:00\", \"2018-08-20T13:00:00\", \"2018-08-20T14:00:00\", \"2018-08-20T15:00:00\", \"2018-08-20T16:00:00\", \"2018-08-20T17:00:00\", \"2018-08-20T18:00:00\", \"2018-08-20T19:00:00\", \"2018-08-20T20:00:00\", \"2018-08-20T21:00:00\", \"2018-08-20T22:00:00\", \"2018-08-20T23:00:00\", \"2018-08-21T00:00:00\", \"2018-08-21T01:00:00\", \"2018-08-21T02:00:00\", \"2018-08-21T03:00:00\", \"2018-08-21T04:00:00\", \"2018-08-21T05:00:00\", \"2018-08-21T06:00:00\", \"2018-08-21T07:00:00\", \"2018-08-21T08:00:00\", \"2018-08-21T09:00:00\", \"2018-08-21T10:00:00\", \"2018-08-21T11:00:00\", \"2018-08-21T12:00:00\", \"2018-08-21T13:00:00\", \"2018-08-21T14:00:00\", \"2018-08-21T15:00:00\", \"2018-08-21T16:00:00\", \"2018-08-21T17:00:00\", \"2018-08-21T18:00:00\", \"2018-08-21T19:00:00\", \"2018-08-21T20:00:00\", \"2018-08-21T21:00:00\", \"2018-08-21T22:00:00\", \"2018-08-21T23:00:00\", \"2018-08-22T00:00:00\", \"2018-08-22T01:00:00\", \"2018-08-22T02:00:00\", \"2018-08-22T03:00:00\", \"2018-08-22T04:00:00\", \"2018-08-22T05:00:00\", \"2018-08-22T06:00:00\", \"2018-08-22T07:00:00\", \"2018-08-22T08:00:00\", \"2018-08-22T09:00:00\", \"2018-08-22T10:00:00\", \"2018-08-22T11:00:00\", \"2018-08-22T12:00:00\", \"2018-08-22T13:00:00\", \"2018-08-22T14:00:00\", \"2018-08-22T15:00:00\", \"2018-08-22T16:00:00\", \"2018-08-22T17:00:00\", \"2018-08-22T18:00:00\", \"2018-08-22T19:00:00\", \"2018-08-22T20:00:00\", \"2018-08-22T21:00:00\", \"2018-08-22T22:00:00\", \"2018-08-22T23:00:00\", \"2018-08-23T00:00:00\", \"2018-08-23T01:00:00\", \"2018-08-23T02:00:00\", \"2018-08-23T03:00:00\", \"2018-08-23T04:00:00\", \"2018-08-23T05:00:00\", \"2018-08-23T06:00:00\", \"2018-08-23T07:00:00\", \"2018-08-23T08:00:00\", \"2018-08-23T09:00:00\", \"2018-08-23T10:00:00\", \"2018-08-23T11:00:00\", \"2018-08-23T12:00:00\", \"2018-08-23T13:00:00\", \"2018-08-23T14:00:00\", \"2018-08-23T15:00:00\", \"2018-08-23T16:00:00\", \"2018-08-23T17:00:00\", \"2018-08-23T18:00:00\", \"2018-08-23T19:00:00\", \"2018-08-23T20:00:00\", \"2018-08-23T21:00:00\", \"2018-08-23T22:00:00\", \"2018-08-23T23:00:00\", \"2018-08-24T00:00:00\", \"2018-08-24T01:00:00\", \"2018-08-24T02:00:00\", \"2018-08-24T03:00:00\", \"2018-08-24T04:00:00\", \"2018-08-24T05:00:00\", \"2018-08-24T06:00:00\", \"2018-08-24T07:00:00\", \"2018-08-24T08:00:00\", \"2018-08-24T09:00:00\", \"2018-08-24T10:00:00\", \"2018-08-24T11:00:00\", \"2018-08-24T12:00:00\", \"2018-08-24T13:00:00\", \"2018-08-24T14:00:00\", \"2018-08-24T15:00:00\", \"2018-08-24T16:00:00\", \"2018-08-24T17:00:00\", \"2018-08-24T18:00:00\", \"2018-08-24T19:00:00\", \"2018-08-24T20:00:00\", \"2018-08-24T21:00:00\", \"2018-08-24T22:00:00\", \"2018-08-24T23:00:00\", \"2018-08-25T00:00:00\", \"2018-08-25T01:00:00\", \"2018-08-25T02:00:00\", \"2018-08-25T03:00:00\", \"2018-08-25T04:00:00\", \"2018-08-25T05:00:00\", \"2018-08-25T06:00:00\", \"2018-08-25T07:00:00\", \"2018-08-25T08:00:00\", \"2018-08-25T09:00:00\", \"2018-08-25T10:00:00\", \"2018-08-25T11:00:00\", \"2018-08-25T12:00:00\", \"2018-08-25T13:00:00\", \"2018-08-25T14:00:00\", \"2018-08-25T15:00:00\", \"2018-08-25T16:00:00\", \"2018-08-25T17:00:00\", \"2018-08-25T18:00:00\", \"2018-08-25T19:00:00\", \"2018-08-25T20:00:00\", \"2018-08-25T21:00:00\", \"2018-08-25T22:00:00\", \"2018-08-25T23:00:00\", \"2018-08-26T00:00:00\", \"2018-08-26T01:00:00\", \"2018-08-26T02:00:00\", \"2018-08-26T03:00:00\", \"2018-08-26T04:00:00\", \"2018-08-26T05:00:00\", \"2018-08-26T06:00:00\", \"2018-08-26T07:00:00\", \"2018-08-26T08:00:00\", \"2018-08-26T09:00:00\", \"2018-08-26T10:00:00\", \"2018-08-26T11:00:00\", \"2018-08-26T12:00:00\", \"2018-08-26T13:00:00\", \"2018-08-26T14:00:00\", \"2018-08-26T15:00:00\", \"2018-08-26T16:00:00\", \"2018-08-26T17:00:00\", \"2018-08-26T18:00:00\", \"2018-08-26T19:00:00\", \"2018-08-26T20:00:00\", \"2018-08-26T21:00:00\", \"2018-08-26T22:00:00\", \"2018-08-26T23:00:00\", \"2018-08-27T00:00:00\", \"2018-08-27T01:00:00\", \"2018-08-27T02:00:00\", \"2018-08-27T03:00:00\", \"2018-08-27T04:00:00\", \"2018-08-27T05:00:00\", \"2018-08-27T06:00:00\", \"2018-08-27T07:00:00\", \"2018-08-27T08:00:00\", \"2018-08-27T09:00:00\", \"2018-08-27T10:00:00\", \"2018-08-27T11:00:00\", \"2018-08-27T12:00:00\", \"2018-08-27T13:00:00\", \"2018-08-27T14:00:00\", \"2018-08-27T15:00:00\", \"2018-08-27T16:00:00\", \"2018-08-27T17:00:00\", \"2018-08-27T18:00:00\", \"2018-08-27T19:00:00\", \"2018-08-27T20:00:00\", \"2018-08-27T21:00:00\", \"2018-08-27T22:00:00\", \"2018-08-27T23:00:00\", \"2018-08-28T00:00:00\", \"2018-08-28T01:00:00\", \"2018-08-28T02:00:00\", \"2018-08-28T03:00:00\", \"2018-08-28T04:00:00\", \"2018-08-28T05:00:00\", \"2018-08-28T06:00:00\", \"2018-08-28T07:00:00\", \"2018-08-28T08:00:00\", \"2018-08-28T09:00:00\", \"2018-08-28T10:00:00\", \"2018-08-28T11:00:00\", \"2018-08-28T12:00:00\", \"2018-08-28T13:00:00\", \"2018-08-28T14:00:00\", \"2018-08-28T15:00:00\", \"2018-08-28T16:00:00\", \"2018-08-28T17:00:00\", \"2018-08-28T18:00:00\", \"2018-08-28T19:00:00\", \"2018-08-28T20:00:00\", \"2018-08-28T21:00:00\", \"2018-08-28T22:00:00\", \"2018-08-28T23:00:00\", \"2018-08-29T00:00:00\", \"2018-08-29T01:00:00\", \"2018-08-29T02:00:00\", \"2018-08-29T03:00:00\", \"2018-08-29T04:00:00\", \"2018-08-29T05:00:00\", \"2018-08-29T06:00:00\", \"2018-08-29T07:00:00\", \"2018-08-29T08:00:00\", \"2018-08-29T09:00:00\", \"2018-08-29T10:00:00\", \"2018-08-29T11:00:00\", \"2018-08-29T12:00:00\", \"2018-08-29T13:00:00\", \"2018-08-29T14:00:00\", \"2018-08-29T15:00:00\", \"2018-08-29T16:00:00\", \"2018-08-29T17:00:00\", \"2018-08-29T18:00:00\", \"2018-08-29T19:00:00\", \"2018-08-29T20:00:00\", \"2018-08-29T21:00:00\", \"2018-08-29T22:00:00\", \"2018-08-29T23:00:00\", \"2018-08-30T00:00:00\", \"2018-08-30T01:00:00\", \"2018-08-30T02:00:00\", \"2018-08-30T03:00:00\", \"2018-08-30T04:00:00\", \"2018-08-30T05:00:00\", \"2018-08-30T06:00:00\", \"2018-08-30T07:00:00\", \"2018-08-30T08:00:00\", \"2018-08-30T09:00:00\", \"2018-08-30T10:00:00\", \"2018-08-30T11:00:00\", \"2018-08-30T12:00:00\", \"2018-08-30T13:00:00\", \"2018-08-30T14:00:00\", \"2018-08-30T15:00:00\", \"2018-08-30T16:00:00\", \"2018-08-30T17:00:00\", \"2018-08-30T18:00:00\", \"2018-08-30T19:00:00\", \"2018-08-30T20:00:00\", \"2018-08-30T21:00:00\", \"2018-08-30T22:00:00\", \"2018-08-30T23:00:00\", \"2018-08-31T00:00:00\", \"2018-08-31T01:00:00\", \"2018-08-31T02:00:00\", \"2018-08-31T03:00:00\", \"2018-08-31T04:00:00\", \"2018-08-31T05:00:00\", \"2018-08-31T06:00:00\", \"2018-08-31T07:00:00\", \"2018-08-31T08:00:00\", \"2018-08-31T09:00:00\", \"2018-08-31T10:00:00\", \"2018-08-31T11:00:00\", \"2018-08-31T12:00:00\", \"2018-08-31T13:00:00\", \"2018-08-31T14:00:00\", \"2018-08-31T15:00:00\", \"2018-08-31T16:00:00\", \"2018-08-31T17:00:00\", \"2018-08-31T18:00:00\", \"2018-08-31T19:00:00\", \"2018-08-31T20:00:00\", \"2018-08-31T21:00:00\", \"2018-08-31T22:00:00\", \"2018-08-31T23:00:00\", \"2018-09-01T00:00:00\", \"2018-09-01T01:00:00\", \"2018-09-01T02:00:00\", \"2018-09-01T03:00:00\", \"2018-09-01T04:00:00\", \"2018-09-01T05:00:00\", \"2018-09-01T06:00:00\", \"2018-09-01T07:00:00\", \"2018-09-01T08:00:00\", \"2018-09-01T09:00:00\", \"2018-09-01T10:00:00\", \"2018-09-01T11:00:00\", \"2018-09-01T12:00:00\", \"2018-09-01T13:00:00\", \"2018-09-01T14:00:00\", \"2018-09-01T15:00:00\", \"2018-09-01T16:00:00\", \"2018-09-01T17:00:00\", \"2018-09-01T18:00:00\", \"2018-09-01T19:00:00\", \"2018-09-01T20:00:00\", \"2018-09-01T21:00:00\", \"2018-09-01T22:00:00\", \"2018-09-01T23:00:00\", \"2018-09-02T00:00:00\", \"2018-09-02T01:00:00\", \"2018-09-02T02:00:00\", \"2018-09-02T03:00:00\", \"2018-09-02T04:00:00\", \"2018-09-02T05:00:00\", \"2018-09-02T06:00:00\", \"2018-09-02T07:00:00\", \"2018-09-02T08:00:00\", \"2018-09-02T09:00:00\", \"2018-09-02T10:00:00\", \"2018-09-02T11:00:00\", \"2018-09-02T12:00:00\", \"2018-09-02T13:00:00\", \"2018-09-02T14:00:00\", \"2018-09-02T15:00:00\", \"2018-09-02T16:00:00\", \"2018-09-02T17:00:00\", \"2018-09-02T18:00:00\", \"2018-09-02T19:00:00\", \"2018-09-02T20:00:00\", \"2018-09-02T21:00:00\", \"2018-09-02T22:00:00\", \"2018-09-02T23:00:00\", \"2018-09-03T00:00:00\", \"2018-09-03T01:00:00\", \"2018-09-03T02:00:00\", \"2018-09-03T03:00:00\", \"2018-09-03T04:00:00\", \"2018-09-03T05:00:00\", \"2018-09-03T06:00:00\", \"2018-09-03T07:00:00\", \"2018-09-03T08:00:00\", \"2018-09-03T09:00:00\", \"2018-09-03T10:00:00\", \"2018-09-03T11:00:00\", \"2018-09-03T12:00:00\", \"2018-09-03T13:00:00\", \"2018-09-03T14:00:00\", \"2018-09-03T15:00:00\", \"2018-09-03T16:00:00\", \"2018-09-03T17:00:00\", \"2018-09-03T18:00:00\", \"2018-09-03T19:00:00\", \"2018-09-03T20:00:00\", \"2018-09-03T21:00:00\", \"2018-09-03T22:00:00\", \"2018-09-03T23:00:00\", \"2018-09-04T00:00:00\", \"2018-09-04T01:00:00\", \"2018-09-04T02:00:00\", \"2018-09-04T03:00:00\", \"2018-09-04T04:00:00\", \"2018-09-04T05:00:00\", \"2018-09-04T06:00:00\", \"2018-09-04T07:00:00\", \"2018-09-04T08:00:00\", \"2018-09-04T09:00:00\", \"2018-09-04T10:00:00\", \"2018-09-04T11:00:00\", \"2018-09-04T12:00:00\", \"2018-09-04T13:00:00\", \"2018-09-04T14:00:00\", \"2018-09-04T15:00:00\", \"2018-09-04T16:00:00\", \"2018-09-04T17:00:00\", \"2018-09-04T18:00:00\", \"2018-09-04T19:00:00\", \"2018-09-04T20:00:00\", \"2018-09-04T21:00:00\", \"2018-09-04T22:00:00\", \"2018-09-04T23:00:00\", \"2018-09-05T00:00:00\", \"2018-09-05T01:00:00\", \"2018-09-05T02:00:00\", \"2018-09-05T03:00:00\", \"2018-09-05T04:00:00\", \"2018-09-05T05:00:00\", \"2018-09-05T06:00:00\", \"2018-09-05T07:00:00\", \"2018-09-05T08:00:00\", \"2018-09-05T09:00:00\", \"2018-09-05T10:00:00\", \"2018-09-05T11:00:00\", \"2018-09-05T12:00:00\", \"2018-09-05T13:00:00\", \"2018-09-05T14:00:00\", \"2018-09-05T15:00:00\", \"2018-09-05T16:00:00\", \"2018-09-05T17:00:00\", \"2018-09-05T18:00:00\", \"2018-09-05T19:00:00\", \"2018-09-05T20:00:00\", \"2018-09-05T21:00:00\", \"2018-09-05T22:00:00\", \"2018-09-05T23:00:00\", \"2018-09-06T00:00:00\", \"2018-09-06T01:00:00\", \"2018-09-06T02:00:00\", \"2018-09-06T03:00:00\", \"2018-09-06T04:00:00\", \"2018-09-06T05:00:00\", \"2018-09-06T06:00:00\", \"2018-09-06T07:00:00\", \"2018-09-06T08:00:00\", \"2018-09-06T09:00:00\", \"2018-09-06T10:00:00\", \"2018-09-06T11:00:00\", \"2018-09-06T12:00:00\", \"2018-09-06T13:00:00\", \"2018-09-06T14:00:00\", \"2018-09-06T15:00:00\", \"2018-09-06T16:00:00\", \"2018-09-06T17:00:00\", \"2018-09-06T18:00:00\", \"2018-09-06T19:00:00\", \"2018-09-06T20:00:00\", \"2018-09-06T21:00:00\", \"2018-09-06T22:00:00\", \"2018-09-06T23:00:00\", \"2018-09-07T00:00:00\", \"2018-09-07T01:00:00\", \"2018-09-07T02:00:00\", \"2018-09-07T03:00:00\", \"2018-09-07T04:00:00\", \"2018-09-07T05:00:00\", \"2018-09-07T06:00:00\", \"2018-09-07T07:00:00\", \"2018-09-07T08:00:00\", \"2018-09-07T09:00:00\", \"2018-09-07T10:00:00\", \"2018-09-07T11:00:00\", \"2018-09-07T12:00:00\", \"2018-09-07T13:00:00\", \"2018-09-07T14:00:00\", \"2018-09-07T15:00:00\", \"2018-09-07T16:00:00\", \"2018-09-07T17:00:00\", \"2018-09-07T18:00:00\", \"2018-09-07T19:00:00\", \"2018-09-07T20:00:00\", \"2018-09-07T21:00:00\", \"2018-09-07T22:00:00\", \"2018-09-07T23:00:00\", \"2018-09-08T00:00:00\", \"2018-09-08T01:00:00\", \"2018-09-08T02:00:00\", \"2018-09-08T03:00:00\", \"2018-09-08T04:00:00\", \"2018-09-08T05:00:00\", \"2018-09-08T06:00:00\", \"2018-09-08T07:00:00\", \"2018-09-08T08:00:00\", \"2018-09-08T09:00:00\", \"2018-09-08T10:00:00\", \"2018-09-08T11:00:00\", \"2018-09-08T12:00:00\", \"2018-09-08T13:00:00\", \"2018-09-08T14:00:00\", \"2018-09-08T15:00:00\", \"2018-09-08T16:00:00\", \"2018-09-08T17:00:00\", \"2018-09-08T18:00:00\", \"2018-09-08T19:00:00\", \"2018-09-08T20:00:00\", \"2018-09-08T21:00:00\", \"2018-09-08T22:00:00\", \"2018-09-08T23:00:00\", \"2018-09-09T00:00:00\", \"2018-09-09T01:00:00\", \"2018-09-09T02:00:00\", \"2018-09-09T03:00:00\", \"2018-09-09T04:00:00\", \"2018-09-09T05:00:00\", \"2018-09-09T06:00:00\", \"2018-09-09T07:00:00\", \"2018-09-09T08:00:00\", \"2018-09-09T09:00:00\", \"2018-09-09T10:00:00\", \"2018-09-09T11:00:00\", \"2018-09-09T12:00:00\", \"2018-09-09T13:00:00\", \"2018-09-09T14:00:00\", \"2018-09-09T15:00:00\", \"2018-09-09T16:00:00\", \"2018-09-09T17:00:00\", \"2018-09-09T18:00:00\", \"2018-09-09T19:00:00\", \"2018-09-09T20:00:00\", \"2018-09-09T21:00:00\", \"2018-09-09T22:00:00\", \"2018-09-09T23:00:00\", \"2018-09-10T00:00:00\", \"2018-09-10T01:00:00\", \"2018-09-10T02:00:00\", \"2018-09-10T03:00:00\", \"2018-09-10T04:00:00\", \"2018-09-10T05:00:00\", \"2018-09-10T06:00:00\", \"2018-09-10T07:00:00\", \"2018-09-10T08:00:00\", \"2018-09-10T09:00:00\", \"2018-09-10T10:00:00\", \"2018-09-10T11:00:00\", \"2018-09-10T12:00:00\", \"2018-09-10T13:00:00\", \"2018-09-10T14:00:00\", \"2018-09-10T15:00:00\", \"2018-09-10T16:00:00\", \"2018-09-10T17:00:00\", \"2018-09-10T18:00:00\", \"2018-09-10T19:00:00\", \"2018-09-10T20:00:00\", \"2018-09-10T21:00:00\", \"2018-09-10T22:00:00\", \"2018-09-10T23:00:00\", \"2018-09-11T00:00:00\", \"2018-09-11T01:00:00\", \"2018-09-11T02:00:00\", \"2018-09-11T03:00:00\", \"2018-09-11T04:00:00\", \"2018-09-11T05:00:00\", \"2018-09-11T06:00:00\", \"2018-09-11T07:00:00\", \"2018-09-11T08:00:00\", \"2018-09-11T09:00:00\", \"2018-09-11T10:00:00\", \"2018-09-11T11:00:00\", \"2018-09-11T12:00:00\", \"2018-09-11T13:00:00\", \"2018-09-11T14:00:00\", \"2018-09-11T15:00:00\", \"2018-09-11T16:00:00\", \"2018-09-11T17:00:00\", \"2018-09-11T18:00:00\", \"2018-09-11T19:00:00\", \"2018-09-11T20:00:00\", \"2018-09-11T21:00:00\", \"2018-09-11T22:00:00\", \"2018-09-11T23:00:00\", \"2018-09-12T00:00:00\", \"2018-09-12T01:00:00\", \"2018-09-12T02:00:00\", \"2018-09-12T03:00:00\", \"2018-09-12T04:00:00\", \"2018-09-12T05:00:00\", \"2018-09-12T06:00:00\", \"2018-09-12T07:00:00\", \"2018-09-12T08:00:00\", \"2018-09-12T09:00:00\", \"2018-09-12T10:00:00\", \"2018-09-12T11:00:00\", \"2018-09-12T12:00:00\", \"2018-09-12T13:00:00\", \"2018-09-12T14:00:00\", \"2018-09-12T15:00:00\", \"2018-09-12T16:00:00\", \"2018-09-12T17:00:00\", \"2018-09-12T18:00:00\", \"2018-09-12T19:00:00\", \"2018-09-12T20:00:00\", \"2018-09-12T21:00:00\", \"2018-09-12T22:00:00\", \"2018-09-12T23:00:00\", \"2018-09-13T00:00:00\", \"2018-09-13T01:00:00\", \"2018-09-13T02:00:00\", \"2018-09-13T03:00:00\", \"2018-09-13T04:00:00\", \"2018-09-13T05:00:00\", \"2018-09-13T06:00:00\", \"2018-09-13T07:00:00\", \"2018-09-13T08:00:00\", \"2018-09-13T09:00:00\", \"2018-09-13T10:00:00\", \"2018-09-13T11:00:00\", \"2018-09-13T12:00:00\", \"2018-09-13T13:00:00\", \"2018-09-13T14:00:00\", \"2018-09-13T15:00:00\", \"2018-09-13T16:00:00\", \"2018-09-13T17:00:00\", \"2018-09-13T18:00:00\", \"2018-09-13T19:00:00\", \"2018-09-13T20:00:00\", \"2018-09-13T21:00:00\", \"2018-09-13T22:00:00\", \"2018-09-13T23:00:00\", \"2018-09-14T00:00:00\", \"2018-09-14T01:00:00\", \"2018-09-14T02:00:00\", \"2018-09-14T03:00:00\", \"2018-09-14T04:00:00\", \"2018-09-14T05:00:00\", \"2018-09-14T06:00:00\", \"2018-09-14T07:00:00\", \"2018-09-14T08:00:00\", \"2018-09-14T09:00:00\", \"2018-09-14T10:00:00\", \"2018-09-14T11:00:00\", \"2018-09-14T12:00:00\", \"2018-09-14T13:00:00\", \"2018-09-14T14:00:00\", \"2018-09-14T15:00:00\", \"2018-09-14T16:00:00\", \"2018-09-14T17:00:00\", \"2018-09-14T18:00:00\", \"2018-09-14T19:00:00\", \"2018-09-14T20:00:00\", \"2018-09-14T21:00:00\", \"2018-09-14T22:00:00\", \"2018-09-14T23:00:00\", \"2018-09-15T00:00:00\", \"2018-09-15T01:00:00\", \"2018-09-15T02:00:00\", \"2018-09-15T03:00:00\", \"2018-09-15T04:00:00\", \"2018-09-15T05:00:00\", \"2018-09-15T06:00:00\", \"2018-09-15T07:00:00\", \"2018-09-15T08:00:00\", \"2018-09-15T09:00:00\", \"2018-09-15T10:00:00\", \"2018-09-15T11:00:00\", \"2018-09-15T12:00:00\", \"2018-09-15T13:00:00\", \"2018-09-15T14:00:00\", \"2018-09-15T15:00:00\", \"2018-09-15T16:00:00\", \"2018-09-15T17:00:00\", \"2018-09-15T18:00:00\", \"2018-09-15T19:00:00\", \"2018-09-15T20:00:00\", \"2018-09-15T21:00:00\", \"2018-09-15T22:00:00\", \"2018-09-15T23:00:00\", \"2018-09-16T00:00:00\", \"2018-09-16T01:00:00\", \"2018-09-16T02:00:00\", \"2018-09-16T03:00:00\", \"2018-09-16T04:00:00\", \"2018-09-16T05:00:00\", \"2018-09-16T06:00:00\", \"2018-09-16T07:00:00\", \"2018-09-16T08:00:00\", \"2018-09-16T09:00:00\", \"2018-09-16T10:00:00\", \"2018-09-16T11:00:00\", \"2018-09-16T12:00:00\", \"2018-09-16T13:00:00\", \"2018-09-16T14:00:00\", \"2018-09-16T15:00:00\", \"2018-09-16T16:00:00\", \"2018-09-16T17:00:00\", \"2018-09-16T18:00:00\", \"2018-09-16T19:00:00\", \"2018-09-16T20:00:00\", \"2018-09-16T21:00:00\", \"2018-09-16T22:00:00\", \"2018-09-16T23:00:00\", \"2018-09-17T00:00:00\", \"2018-09-17T01:00:00\", \"2018-09-17T02:00:00\", \"2018-09-17T03:00:00\", \"2018-09-17T04:00:00\", \"2018-09-17T05:00:00\", \"2018-09-17T06:00:00\", \"2018-09-17T07:00:00\", \"2018-09-17T08:00:00\", \"2018-09-17T09:00:00\", \"2018-09-17T10:00:00\", \"2018-09-17T11:00:00\", \"2018-09-17T12:00:00\", \"2018-09-17T13:00:00\", \"2018-09-17T14:00:00\", \"2018-09-17T15:00:00\", \"2018-09-17T16:00:00\", \"2018-09-17T17:00:00\", \"2018-09-17T18:00:00\", \"2018-09-17T19:00:00\", \"2018-09-17T20:00:00\", \"2018-09-17T21:00:00\", \"2018-09-17T22:00:00\", \"2018-09-17T23:00:00\", \"2018-09-18T00:00:00\", \"2018-09-18T01:00:00\", \"2018-09-18T02:00:00\", \"2018-09-18T03:00:00\", \"2018-09-18T04:00:00\", \"2018-09-18T05:00:00\", \"2018-09-18T06:00:00\", \"2018-09-18T07:00:00\", \"2018-09-18T08:00:00\", \"2018-09-18T09:00:00\", \"2018-09-18T10:00:00\", \"2018-09-18T11:00:00\", \"2018-09-18T12:00:00\", \"2018-09-18T13:00:00\", \"2018-09-18T14:00:00\", \"2018-09-18T15:00:00\", \"2018-09-18T16:00:00\", \"2018-09-18T17:00:00\", \"2018-09-18T18:00:00\", \"2018-09-18T19:00:00\", \"2018-09-18T20:00:00\", \"2018-09-18T21:00:00\", \"2018-09-18T22:00:00\", \"2018-09-18T23:00:00\", \"2018-09-19T00:00:00\", \"2018-09-19T01:00:00\", \"2018-09-19T02:00:00\", \"2018-09-19T03:00:00\", \"2018-09-19T04:00:00\", \"2018-09-19T05:00:00\", \"2018-09-19T06:00:00\", \"2018-09-19T07:00:00\", \"2018-09-19T08:00:00\", \"2018-09-19T09:00:00\", \"2018-09-19T10:00:00\", \"2018-09-19T11:00:00\", \"2018-09-19T12:00:00\", \"2018-09-19T13:00:00\", \"2018-09-19T14:00:00\", \"2018-09-19T15:00:00\", \"2018-09-19T16:00:00\", \"2018-09-19T17:00:00\", \"2018-09-19T18:00:00\", \"2018-09-19T19:00:00\", \"2018-09-19T20:00:00\", \"2018-09-19T21:00:00\", \"2018-09-19T22:00:00\", \"2018-09-19T23:00:00\", \"2018-09-20T00:00:00\", \"2018-09-20T01:00:00\", \"2018-09-20T02:00:00\", \"2018-09-20T03:00:00\", \"2018-09-20T04:00:00\", \"2018-09-20T05:00:00\", \"2018-09-20T06:00:00\", \"2018-09-20T07:00:00\", \"2018-09-20T08:00:00\", \"2018-09-20T09:00:00\", \"2018-09-20T10:00:00\", \"2018-09-20T11:00:00\", \"2018-09-20T12:00:00\", \"2018-09-20T13:00:00\", \"2018-09-20T14:00:00\", \"2018-09-20T15:00:00\", \"2018-09-20T16:00:00\", \"2018-09-20T17:00:00\", \"2018-09-20T18:00:00\", \"2018-09-20T19:00:00\", \"2018-09-20T20:00:00\", \"2018-09-20T21:00:00\", \"2018-09-20T22:00:00\", \"2018-09-20T23:00:00\", \"2018-09-21T00:00:00\", \"2018-09-21T01:00:00\", \"2018-09-21T02:00:00\", \"2018-09-21T03:00:00\", \"2018-09-21T04:00:00\", \"2018-09-21T05:00:00\", \"2018-09-21T06:00:00\", \"2018-09-21T07:00:00\", \"2018-09-21T08:00:00\", \"2018-09-21T09:00:00\", \"2018-09-21T10:00:00\", \"2018-09-21T11:00:00\", \"2018-09-21T12:00:00\", \"2018-09-21T13:00:00\", \"2018-09-21T14:00:00\", \"2018-09-21T15:00:00\", \"2018-09-21T16:00:00\", \"2018-09-21T17:00:00\", \"2018-09-21T18:00:00\", \"2018-09-21T19:00:00\", \"2018-09-21T20:00:00\", \"2018-09-21T21:00:00\", \"2018-09-21T22:00:00\", \"2018-09-21T23:00:00\", \"2018-09-22T00:00:00\", \"2018-09-22T01:00:00\", \"2018-09-22T02:00:00\", \"2018-09-22T03:00:00\", \"2018-09-22T04:00:00\", \"2018-09-22T05:00:00\", \"2018-09-22T06:00:00\", \"2018-09-22T07:00:00\", \"2018-09-22T08:00:00\", \"2018-09-22T09:00:00\", \"2018-09-22T10:00:00\", \"2018-09-22T11:00:00\", \"2018-09-22T12:00:00\", \"2018-09-22T13:00:00\", \"2018-09-22T14:00:00\", \"2018-09-22T15:00:00\", \"2018-09-22T16:00:00\", \"2018-09-22T17:00:00\", \"2018-09-22T18:00:00\", \"2018-09-22T19:00:00\", \"2018-09-22T20:00:00\", \"2018-09-22T21:00:00\", \"2018-09-22T22:00:00\", \"2018-09-22T23:00:00\", \"2018-09-23T00:00:00\", \"2018-09-23T01:00:00\", \"2018-09-23T02:00:00\", \"2018-09-23T03:00:00\", \"2018-09-23T04:00:00\", \"2018-09-23T05:00:00\", \"2018-09-23T06:00:00\", \"2018-09-23T07:00:00\", \"2018-09-23T08:00:00\", \"2018-09-23T09:00:00\", \"2018-09-23T10:00:00\", \"2018-09-23T11:00:00\", \"2018-09-23T12:00:00\", \"2018-09-23T13:00:00\", \"2018-09-23T14:00:00\", \"2018-09-23T15:00:00\", \"2018-09-23T16:00:00\", \"2018-09-23T17:00:00\", \"2018-09-23T18:00:00\", \"2018-09-23T19:00:00\", \"2018-09-23T20:00:00\", \"2018-09-23T21:00:00\", \"2018-09-23T22:00:00\", \"2018-09-23T23:00:00\", \"2018-09-24T00:00:00\", \"2018-09-24T01:00:00\", \"2018-09-24T02:00:00\", \"2018-09-24T03:00:00\", \"2018-09-24T04:00:00\", \"2018-09-24T05:00:00\", \"2018-09-24T06:00:00\", \"2018-09-24T07:00:00\", \"2018-09-24T08:00:00\", \"2018-09-24T09:00:00\", \"2018-09-24T10:00:00\", \"2018-09-24T11:00:00\", \"2018-09-24T12:00:00\", \"2018-09-24T13:00:00\", \"2018-09-24T14:00:00\", \"2018-09-24T15:00:00\", \"2018-09-24T16:00:00\", \"2018-09-24T17:00:00\", \"2018-09-24T18:00:00\", \"2018-09-24T19:00:00\", \"2018-09-24T20:00:00\", \"2018-09-24T21:00:00\", \"2018-09-24T22:00:00\", \"2018-09-24T23:00:00\", \"2018-09-25T00:00:00\", \"2018-09-25T01:00:00\", \"2018-09-25T02:00:00\", \"2018-09-25T03:00:00\", \"2018-09-25T04:00:00\", \"2018-09-25T05:00:00\", \"2018-09-25T06:00:00\", \"2018-09-25T07:00:00\", \"2018-09-25T08:00:00\", \"2018-09-25T09:00:00\", \"2018-09-25T10:00:00\", \"2018-09-25T11:00:00\", \"2018-09-25T12:00:00\", \"2018-09-25T13:00:00\", \"2018-09-25T14:00:00\", \"2018-09-25T15:00:00\", \"2018-09-25T16:00:00\", \"2018-09-25T17:00:00\", \"2018-09-25T18:00:00\", \"2018-09-25T19:00:00\", \"2018-09-25T20:00:00\", \"2018-09-25T21:00:00\", \"2018-09-25T22:00:00\", \"2018-09-25T23:00:00\", \"2018-09-26T00:00:00\", \"2018-09-26T01:00:00\", \"2018-09-26T02:00:00\", \"2018-09-26T03:00:00\", \"2018-09-26T04:00:00\", \"2018-09-26T05:00:00\", \"2018-09-26T06:00:00\", \"2018-09-26T07:00:00\", \"2018-09-26T08:00:00\", \"2018-09-26T09:00:00\", \"2018-09-26T10:00:00\", \"2018-09-26T11:00:00\", \"2018-09-26T12:00:00\", \"2018-09-26T13:00:00\", \"2018-09-26T14:00:00\", \"2018-09-26T15:00:00\", \"2018-09-26T16:00:00\", \"2018-09-26T17:00:00\", \"2018-09-26T18:00:00\", \"2018-09-26T19:00:00\", \"2018-09-26T20:00:00\", \"2018-09-26T21:00:00\", \"2018-09-26T22:00:00\", \"2018-09-26T23:00:00\", \"2018-09-27T00:00:00\", \"2018-09-27T01:00:00\", \"2018-09-27T02:00:00\", \"2018-09-27T03:00:00\", \"2018-09-27T04:00:00\", \"2018-09-27T05:00:00\", \"2018-09-27T06:00:00\", \"2018-09-27T07:00:00\", \"2018-09-27T08:00:00\", \"2018-09-27T09:00:00\", \"2018-09-27T10:00:00\", \"2018-09-27T11:00:00\", \"2018-09-27T12:00:00\", \"2018-09-27T13:00:00\", \"2018-09-27T14:00:00\", \"2018-09-27T15:00:00\", \"2018-09-27T16:00:00\", \"2018-09-27T17:00:00\", \"2018-09-27T18:00:00\", \"2018-09-27T19:00:00\", \"2018-09-27T20:00:00\", \"2018-09-27T21:00:00\", \"2018-09-27T22:00:00\", \"2018-09-27T23:00:00\", \"2018-09-28T00:00:00\", \"2018-09-28T01:00:00\", \"2018-09-28T02:00:00\", \"2018-09-28T03:00:00\", \"2018-09-28T04:00:00\", \"2018-09-28T05:00:00\", \"2018-09-28T06:00:00\", \"2018-09-28T07:00:00\", \"2018-09-28T08:00:00\", \"2018-09-28T09:00:00\", \"2018-09-28T10:00:00\", \"2018-09-28T11:00:00\", \"2018-09-28T12:00:00\", \"2018-09-28T13:00:00\", \"2018-09-28T14:00:00\", \"2018-09-28T15:00:00\", \"2018-09-28T16:00:00\", \"2018-09-28T17:00:00\", \"2018-09-28T18:00:00\", \"2018-09-28T19:00:00\", \"2018-09-28T20:00:00\", \"2018-09-28T21:00:00\", \"2018-09-28T22:00:00\", \"2018-09-28T23:00:00\", \"2018-09-29T00:00:00\", \"2018-09-29T01:00:00\", \"2018-09-29T02:00:00\", \"2018-09-29T03:00:00\", \"2018-09-29T04:00:00\", \"2018-09-29T05:00:00\", \"2018-09-29T06:00:00\", \"2018-09-29T07:00:00\", \"2018-09-29T08:00:00\", \"2018-09-29T09:00:00\", \"2018-09-29T10:00:00\", \"2018-09-29T11:00:00\", \"2018-09-29T12:00:00\", \"2018-09-29T13:00:00\", \"2018-09-29T14:00:00\", \"2018-09-29T15:00:00\", \"2018-09-29T16:00:00\", \"2018-09-29T17:00:00\", \"2018-09-29T18:00:00\", \"2018-09-29T19:00:00\", \"2018-09-29T20:00:00\", \"2018-09-29T21:00:00\", \"2018-09-29T22:00:00\", \"2018-09-29T23:00:00\", \"2018-09-30T00:00:00\", \"2018-09-30T01:00:00\", \"2018-09-30T02:00:00\", \"2018-09-30T03:00:00\", \"2018-09-30T04:00:00\", \"2018-09-30T05:00:00\", \"2018-09-30T06:00:00\", \"2018-09-30T07:00:00\", \"2018-09-30T08:00:00\", \"2018-09-30T09:00:00\", \"2018-09-30T10:00:00\", \"2018-09-30T11:00:00\", \"2018-09-30T12:00:00\", \"2018-09-30T13:00:00\", \"2018-09-30T14:00:00\", \"2018-09-30T15:00:00\", \"2018-09-30T16:00:00\", \"2018-09-30T17:00:00\", \"2018-09-30T18:00:00\", \"2018-09-30T19:00:00\", \"2018-09-30T20:00:00\", \"2018-09-30T21:00:00\", \"2018-09-30T22:00:00\", \"2018-09-30T23:00:00\", \"2018-10-01T00:00:00\", \"2018-10-01T01:00:00\", \"2018-10-01T02:00:00\", \"2018-10-01T03:00:00\", \"2018-10-01T04:00:00\", \"2018-10-01T05:00:00\", \"2018-10-01T06:00:00\", \"2018-10-01T07:00:00\", \"2018-10-01T08:00:00\", \"2018-10-01T09:00:00\", \"2018-10-01T10:00:00\", \"2018-10-01T11:00:00\", \"2018-10-01T12:00:00\", \"2018-10-01T13:00:00\", \"2018-10-01T14:00:00\", \"2018-10-01T15:00:00\", \"2018-10-01T16:00:00\", \"2018-10-01T17:00:00\", \"2018-10-01T18:00:00\", \"2018-10-01T19:00:00\", \"2018-10-01T20:00:00\", \"2018-10-01T21:00:00\", \"2018-10-01T22:00:00\", \"2018-10-01T23:00:00\", \"2018-10-02T00:00:00\", \"2018-10-02T01:00:00\", \"2018-10-02T02:00:00\", \"2018-10-02T03:00:00\", \"2018-10-02T04:00:00\", \"2018-10-02T05:00:00\", \"2018-10-02T06:00:00\", \"2018-10-02T07:00:00\", \"2018-10-02T08:00:00\", \"2018-10-02T09:00:00\", \"2018-10-02T10:00:00\", \"2018-10-02T11:00:00\", \"2018-10-02T12:00:00\", \"2018-10-02T13:00:00\", \"2018-10-02T14:00:00\", \"2018-10-02T15:00:00\", \"2018-10-02T16:00:00\", \"2018-10-02T17:00:00\", \"2018-10-02T18:00:00\", \"2018-10-02T19:00:00\", \"2018-10-02T20:00:00\", \"2018-10-02T21:00:00\", \"2018-10-02T22:00:00\", \"2018-10-02T23:00:00\", \"2018-10-03T00:00:00\", \"2018-10-03T01:00:00\", \"2018-10-03T02:00:00\", \"2018-10-03T03:00:00\", \"2018-10-03T04:00:00\", \"2018-10-03T05:00:00\", \"2018-10-03T06:00:00\", \"2018-10-03T07:00:00\", \"2018-10-03T08:00:00\", \"2018-10-03T09:00:00\", \"2018-10-03T10:00:00\", \"2018-10-03T11:00:00\", \"2018-10-03T12:00:00\", \"2018-10-03T13:00:00\", \"2018-10-03T14:00:00\", \"2018-10-03T15:00:00\", \"2018-10-03T16:00:00\", \"2018-10-03T17:00:00\", \"2018-10-03T18:00:00\", \"2018-10-03T19:00:00\", \"2018-10-03T20:00:00\", \"2018-10-03T21:00:00\", \"2018-10-03T22:00:00\", \"2018-10-03T23:00:00\", \"2018-10-04T00:00:00\", \"2018-10-04T01:00:00\", \"2018-10-04T02:00:00\", \"2018-10-04T03:00:00\", \"2018-10-04T04:00:00\", \"2018-10-04T05:00:00\", \"2018-10-04T06:00:00\", \"2018-10-04T07:00:00\", \"2018-10-04T08:00:00\", \"2018-10-04T09:00:00\", \"2018-10-04T10:00:00\", \"2018-10-04T11:00:00\", \"2018-10-04T12:00:00\", \"2018-10-04T13:00:00\", \"2018-10-04T14:00:00\", \"2018-10-04T15:00:00\", \"2018-10-04T16:00:00\", \"2018-10-04T17:00:00\", \"2018-10-04T18:00:00\", \"2018-10-04T19:00:00\", \"2018-10-04T20:00:00\", \"2018-10-04T21:00:00\", \"2018-10-04T22:00:00\", \"2018-10-04T23:00:00\", \"2018-10-05T00:00:00\", \"2018-10-05T01:00:00\", \"2018-10-05T02:00:00\", \"2018-10-05T03:00:00\", \"2018-10-05T04:00:00\", \"2018-10-05T05:00:00\", \"2018-10-05T06:00:00\", \"2018-10-05T07:00:00\", \"2018-10-05T08:00:00\", \"2018-10-05T09:00:00\", \"2018-10-05T10:00:00\", \"2018-10-05T11:00:00\", \"2018-10-05T12:00:00\", \"2018-10-05T13:00:00\", \"2018-10-05T14:00:00\", \"2018-10-05T15:00:00\", \"2018-10-05T16:00:00\", \"2018-10-05T17:00:00\", \"2018-10-05T18:00:00\", \"2018-10-05T19:00:00\", \"2018-10-05T20:00:00\", \"2018-10-05T21:00:00\", \"2018-10-05T22:00:00\", \"2018-10-05T23:00:00\", \"2018-10-06T00:00:00\", \"2018-10-06T01:00:00\", \"2018-10-06T02:00:00\", \"2018-10-06T03:00:00\", \"2018-10-06T04:00:00\", \"2018-10-06T05:00:00\", \"2018-10-06T06:00:00\", \"2018-10-06T07:00:00\", \"2018-10-06T08:00:00\", \"2018-10-06T09:00:00\", \"2018-10-06T10:00:00\", \"2018-10-06T11:00:00\", \"2018-10-06T12:00:00\", \"2018-10-06T13:00:00\", \"2018-10-06T14:00:00\", \"2018-10-06T15:00:00\", \"2018-10-06T16:00:00\", \"2018-10-06T17:00:00\", \"2018-10-06T18:00:00\", \"2018-10-06T19:00:00\", \"2018-10-06T20:00:00\", \"2018-10-06T21:00:00\", \"2018-10-06T22:00:00\", \"2018-10-06T23:00:00\", \"2018-10-07T00:00:00\", \"2018-10-07T01:00:00\", \"2018-10-07T02:00:00\", \"2018-10-07T03:00:00\", \"2018-10-07T04:00:00\", \"2018-10-07T05:00:00\", \"2018-10-07T06:00:00\", \"2018-10-07T07:00:00\", \"2018-10-07T08:00:00\", \"2018-10-07T09:00:00\", \"2018-10-07T10:00:00\", \"2018-10-07T11:00:00\", \"2018-10-07T12:00:00\", \"2018-10-07T13:00:00\", \"2018-10-07T14:00:00\", \"2018-10-07T15:00:00\", \"2018-10-07T16:00:00\", \"2018-10-07T17:00:00\", \"2018-10-07T18:00:00\", \"2018-10-07T19:00:00\", \"2018-10-07T20:00:00\", \"2018-10-07T21:00:00\", \"2018-10-07T22:00:00\", \"2018-10-07T23:00:00\", \"2018-10-08T00:00:00\", \"2018-10-08T01:00:00\", \"2018-10-08T02:00:00\", \"2018-10-08T03:00:00\", \"2018-10-08T04:00:00\", \"2018-10-08T05:00:00\", \"2018-10-08T06:00:00\", \"2018-10-08T07:00:00\", \"2018-10-08T08:00:00\", \"2018-10-08T09:00:00\", \"2018-10-08T10:00:00\", \"2018-10-08T11:00:00\", \"2018-10-08T12:00:00\", \"2018-10-08T13:00:00\", \"2018-10-08T14:00:00\", \"2018-10-08T15:00:00\", \"2018-10-08T16:00:00\", \"2018-10-08T17:00:00\", \"2018-10-08T18:00:00\", \"2018-10-08T19:00:00\", \"2018-10-08T20:00:00\", \"2018-10-08T21:00:00\", \"2018-10-08T22:00:00\", \"2018-10-08T23:00:00\", \"2018-10-09T00:00:00\", \"2018-10-09T01:00:00\", \"2018-10-09T02:00:00\", \"2018-10-09T03:00:00\", \"2018-10-09T04:00:00\", \"2018-10-09T05:00:00\", \"2018-10-09T06:00:00\", \"2018-10-09T07:00:00\", \"2018-10-09T08:00:00\", \"2018-10-09T09:00:00\", \"2018-10-09T10:00:00\", \"2018-10-09T11:00:00\", \"2018-10-09T12:00:00\", \"2018-10-09T13:00:00\", \"2018-10-09T14:00:00\", \"2018-10-09T15:00:00\", \"2018-10-09T16:00:00\", \"2018-10-09T17:00:00\", \"2018-10-09T18:00:00\", \"2018-10-09T19:00:00\", \"2018-10-09T20:00:00\", \"2018-10-09T21:00:00\", \"2018-10-09T22:00:00\", \"2018-10-09T23:00:00\", \"2018-10-10T00:00:00\", \"2018-10-10T01:00:00\", \"2018-10-10T02:00:00\", \"2018-10-10T03:00:00\", \"2018-10-10T04:00:00\", \"2018-10-10T05:00:00\", \"2018-10-10T06:00:00\", \"2018-10-10T07:00:00\", \"2018-10-10T08:00:00\", \"2018-10-10T09:00:00\", \"2018-10-10T10:00:00\", \"2018-10-10T11:00:00\", \"2018-10-10T12:00:00\", \"2018-10-10T13:00:00\", \"2018-10-10T14:00:00\", \"2018-10-10T15:00:00\", \"2018-10-10T16:00:00\", \"2018-10-10T17:00:00\", \"2018-10-10T18:00:00\", \"2018-10-10T19:00:00\", \"2018-10-10T20:00:00\", \"2018-10-10T21:00:00\", \"2018-10-10T22:00:00\", \"2018-10-10T23:00:00\", \"2018-10-11T00:00:00\", \"2018-10-11T01:00:00\", \"2018-10-11T02:00:00\", \"2018-10-11T03:00:00\", \"2018-10-11T04:00:00\", \"2018-10-11T05:00:00\", \"2018-10-11T06:00:00\", \"2018-10-11T07:00:00\", \"2018-10-11T08:00:00\", \"2018-10-11T09:00:00\", \"2018-10-11T10:00:00\", \"2018-10-11T11:00:00\", \"2018-10-11T12:00:00\", \"2018-10-11T13:00:00\", \"2018-10-11T14:00:00\", \"2018-10-11T15:00:00\", \"2018-10-11T16:00:00\", \"2018-10-11T17:00:00\", \"2018-10-11T18:00:00\", \"2018-10-11T19:00:00\", \"2018-10-11T20:00:00\", \"2018-10-11T21:00:00\", \"2018-10-11T22:00:00\", \"2018-10-11T23:00:00\", \"2018-10-12T00:00:00\", \"2018-10-12T01:00:00\", \"2018-10-12T02:00:00\", \"2018-10-12T03:00:00\", \"2018-10-12T04:00:00\", \"2018-10-12T05:00:00\", \"2018-10-12T06:00:00\", \"2018-10-12T07:00:00\", \"2018-10-12T08:00:00\", \"2018-10-12T09:00:00\", \"2018-10-12T10:00:00\", \"2018-10-12T11:00:00\", \"2018-10-12T12:00:00\", \"2018-10-12T13:00:00\", \"2018-10-12T14:00:00\", \"2018-10-12T15:00:00\", \"2018-10-12T16:00:00\", \"2018-10-12T17:00:00\", \"2018-10-12T18:00:00\", \"2018-10-12T19:00:00\", \"2018-10-12T20:00:00\", \"2018-10-12T21:00:00\", \"2018-10-12T22:00:00\", \"2018-10-12T23:00:00\", \"2018-10-13T00:00:00\", \"2018-10-13T01:00:00\", \"2018-10-13T02:00:00\", \"2018-10-13T03:00:00\", \"2018-10-13T04:00:00\", \"2018-10-13T05:00:00\", \"2018-10-13T06:00:00\", \"2018-10-13T07:00:00\", \"2018-10-13T08:00:00\", \"2018-10-13T09:00:00\", \"2018-10-13T10:00:00\", \"2018-10-13T11:00:00\", \"2018-10-13T12:00:00\", \"2018-10-13T13:00:00\", \"2018-10-13T14:00:00\", \"2018-10-13T15:00:00\", \"2018-10-13T16:00:00\", \"2018-10-13T17:00:00\", \"2018-10-13T18:00:00\", \"2018-10-13T19:00:00\", \"2018-10-13T20:00:00\", \"2018-10-13T21:00:00\", \"2018-10-13T22:00:00\", \"2018-10-13T23:00:00\", \"2018-10-14T00:00:00\", \"2018-10-14T01:00:00\", \"2018-10-14T02:00:00\", \"2018-10-14T03:00:00\", \"2018-10-14T04:00:00\", \"2018-10-14T05:00:00\", \"2018-10-14T06:00:00\", \"2018-10-14T07:00:00\", \"2018-10-14T08:00:00\", \"2018-10-14T09:00:00\", \"2018-10-14T10:00:00\", \"2018-10-14T11:00:00\", \"2018-10-14T12:00:00\", \"2018-10-14T13:00:00\", \"2018-10-14T14:00:00\", \"2018-10-14T15:00:00\", \"2018-10-14T16:00:00\", \"2018-10-14T17:00:00\", \"2018-10-14T18:00:00\", \"2018-10-14T19:00:00\", \"2018-10-14T20:00:00\", \"2018-10-14T21:00:00\", \"2018-10-14T22:00:00\", \"2018-10-14T23:00:00\", \"2018-10-15T00:00:00\", \"2018-10-15T01:00:00\", \"2018-10-15T02:00:00\", \"2018-10-15T03:00:00\", \"2018-10-15T04:00:00\", \"2018-10-15T05:00:00\", \"2018-10-15T06:00:00\", \"2018-10-15T07:00:00\", \"2018-10-15T08:00:00\", \"2018-10-15T09:00:00\", \"2018-10-15T10:00:00\", \"2018-10-15T11:00:00\", \"2018-10-15T12:00:00\", \"2018-10-15T13:00:00\", \"2018-10-15T14:00:00\", \"2018-10-15T15:00:00\", \"2018-10-15T16:00:00\", \"2018-10-15T17:00:00\", \"2018-10-15T18:00:00\", \"2018-10-15T19:00:00\", \"2018-10-15T20:00:00\", \"2018-10-15T21:00:00\", \"2018-10-15T22:00:00\", \"2018-10-15T23:00:00\", \"2018-10-16T00:00:00\", \"2018-10-16T01:00:00\", \"2018-10-16T02:00:00\", \"2018-10-16T03:00:00\", \"2018-10-16T04:00:00\", \"2018-10-16T05:00:00\", \"2018-10-16T06:00:00\", \"2018-10-16T07:00:00\", \"2018-10-16T08:00:00\", \"2018-10-16T09:00:00\", \"2018-10-16T10:00:00\", \"2018-10-16T11:00:00\", \"2018-10-16T12:00:00\", \"2018-10-16T13:00:00\", \"2018-10-16T14:00:00\", \"2018-10-16T15:00:00\", \"2018-10-16T16:00:00\", \"2018-10-16T17:00:00\", \"2018-10-16T18:00:00\", \"2018-10-16T19:00:00\", \"2018-10-16T20:00:00\", \"2018-10-16T21:00:00\", \"2018-10-16T22:00:00\", \"2018-10-16T23:00:00\", \"2018-10-17T00:00:00\", \"2018-10-17T01:00:00\", \"2018-10-17T02:00:00\", \"2018-10-17T03:00:00\", \"2018-10-17T04:00:00\", \"2018-10-17T05:00:00\", \"2018-10-17T06:00:00\", \"2018-10-17T07:00:00\", \"2018-10-17T08:00:00\", \"2018-10-17T09:00:00\", \"2018-10-17T10:00:00\", \"2018-10-17T11:00:00\", \"2018-10-17T12:00:00\", \"2018-10-17T13:00:00\", \"2018-10-17T14:00:00\", \"2018-10-17T15:00:00\", \"2018-10-17T16:00:00\", \"2018-10-17T17:00:00\", \"2018-10-17T18:00:00\", \"2018-10-17T19:00:00\", \"2018-10-17T20:00:00\", \"2018-10-17T21:00:00\", \"2018-10-17T22:00:00\", \"2018-10-17T23:00:00\", \"2018-10-18T00:00:00\", \"2018-10-18T01:00:00\", \"2018-10-18T02:00:00\", \"2018-10-18T03:00:00\", \"2018-10-18T04:00:00\", \"2018-10-18T05:00:00\", \"2018-10-18T06:00:00\", \"2018-10-18T07:00:00\", \"2018-10-18T08:00:00\", \"2018-10-18T09:00:00\", \"2018-10-18T10:00:00\", \"2018-10-18T11:00:00\", \"2018-10-18T12:00:00\", \"2018-10-18T13:00:00\", \"2018-10-18T14:00:00\", \"2018-10-18T15:00:00\", \"2018-10-18T16:00:00\", \"2018-10-18T17:00:00\", \"2018-10-18T18:00:00\", \"2018-10-18T19:00:00\", \"2018-10-18T20:00:00\", \"2018-10-18T21:00:00\", \"2018-10-18T22:00:00\", \"2018-10-18T23:00:00\", \"2018-10-19T00:00:00\", \"2018-10-19T01:00:00\", \"2018-10-19T02:00:00\", \"2018-10-19T03:00:00\", \"2018-10-19T04:00:00\", \"2018-10-19T05:00:00\", \"2018-10-19T06:00:00\", \"2018-10-19T07:00:00\", \"2018-10-19T08:00:00\", \"2018-10-19T09:00:00\", \"2018-10-19T10:00:00\", \"2018-10-19T11:00:00\", \"2018-10-19T12:00:00\", \"2018-10-19T13:00:00\", \"2018-10-19T14:00:00\", \"2018-10-19T15:00:00\", \"2018-10-19T16:00:00\", \"2018-10-19T17:00:00\", \"2018-10-19T18:00:00\", \"2018-10-19T19:00:00\", \"2018-10-19T20:00:00\", \"2018-10-19T21:00:00\", \"2018-10-19T22:00:00\", \"2018-10-19T23:00:00\", \"2018-10-20T00:00:00\", \"2018-10-20T01:00:00\", \"2018-10-20T02:00:00\", \"2018-10-20T03:00:00\", \"2018-10-20T04:00:00\", \"2018-10-20T05:00:00\", \"2018-10-20T06:00:00\", \"2018-10-20T07:00:00\", \"2018-10-20T08:00:00\", \"2018-10-20T09:00:00\", \"2018-10-20T10:00:00\", \"2018-10-20T11:00:00\", \"2018-10-20T12:00:00\", \"2018-10-20T13:00:00\", \"2018-10-20T14:00:00\", \"2018-10-20T15:00:00\", \"2018-10-20T16:00:00\", \"2018-10-20T17:00:00\", \"2018-10-20T18:00:00\", \"2018-10-20T19:00:00\", \"2018-10-20T20:00:00\", \"2018-10-20T21:00:00\", \"2018-10-20T22:00:00\", \"2018-10-20T23:00:00\", \"2018-10-21T00:00:00\", \"2018-10-21T01:00:00\", \"2018-10-21T02:00:00\", \"2018-10-21T03:00:00\", \"2018-10-21T04:00:00\", \"2018-10-21T05:00:00\", \"2018-10-21T06:00:00\", \"2018-10-21T07:00:00\", \"2018-10-21T08:00:00\", \"2018-10-21T09:00:00\", \"2018-10-21T10:00:00\", \"2018-10-21T11:00:00\", \"2018-10-21T12:00:00\", \"2018-10-21T13:00:00\", \"2018-10-21T14:00:00\", \"2018-10-21T15:00:00\", \"2018-10-21T16:00:00\", \"2018-10-21T17:00:00\", \"2018-10-21T18:00:00\", \"2018-10-21T19:00:00\", \"2018-10-21T20:00:00\", \"2018-10-21T21:00:00\", \"2018-10-21T22:00:00\", \"2018-10-21T23:00:00\", \"2018-10-22T00:00:00\", \"2018-10-22T01:00:00\", \"2018-10-22T02:00:00\", \"2018-10-22T03:00:00\", \"2018-10-22T04:00:00\", \"2018-10-22T05:00:00\", \"2018-10-22T06:00:00\", \"2018-10-22T07:00:00\", \"2018-10-22T08:00:00\", \"2018-10-22T09:00:00\", \"2018-10-22T10:00:00\", \"2018-10-22T11:00:00\", \"2018-10-22T12:00:00\", \"2018-10-22T13:00:00\", \"2018-10-22T14:00:00\", \"2018-10-22T15:00:00\", \"2018-10-22T16:00:00\", \"2018-10-22T17:00:00\", \"2018-10-22T18:00:00\", \"2018-10-22T19:00:00\", \"2018-10-22T20:00:00\", \"2018-10-22T21:00:00\", \"2018-10-22T22:00:00\", \"2018-10-22T23:00:00\", \"2018-10-23T00:00:00\", \"2018-10-23T01:00:00\", \"2018-10-23T02:00:00\", \"2018-10-23T03:00:00\", \"2018-10-23T04:00:00\", \"2018-10-23T05:00:00\", \"2018-10-23T06:00:00\", \"2018-10-23T07:00:00\", \"2018-10-23T08:00:00\", \"2018-10-23T09:00:00\", \"2018-10-23T10:00:00\", \"2018-10-23T11:00:00\", \"2018-10-23T12:00:00\", \"2018-10-23T13:00:00\", \"2018-10-23T14:00:00\", \"2018-10-23T15:00:00\", \"2018-10-23T16:00:00\", \"2018-10-23T17:00:00\", \"2018-10-23T18:00:00\", \"2018-10-23T19:00:00\", \"2018-10-23T20:00:00\", \"2018-10-23T21:00:00\", \"2018-10-23T22:00:00\", \"2018-10-23T23:00:00\", \"2018-10-24T00:00:00\", \"2018-10-24T01:00:00\", \"2018-10-24T02:00:00\", \"2018-10-24T03:00:00\", \"2018-10-24T04:00:00\", \"2018-10-24T05:00:00\", \"2018-10-24T06:00:00\", \"2018-10-24T07:00:00\", \"2018-10-24T08:00:00\", \"2018-10-24T09:00:00\", \"2018-10-24T10:00:00\", \"2018-10-24T11:00:00\", \"2018-10-24T12:00:00\", \"2018-10-24T13:00:00\", \"2018-10-24T14:00:00\", \"2018-10-24T15:00:00\", \"2018-10-24T16:00:00\", \"2018-10-24T17:00:00\", \"2018-10-24T18:00:00\", \"2018-10-24T19:00:00\", \"2018-10-24T20:00:00\", \"2018-10-24T21:00:00\", \"2018-10-24T22:00:00\", \"2018-10-24T23:00:00\", \"2018-10-25T00:00:00\", \"2018-10-25T01:00:00\", \"2018-10-25T02:00:00\", \"2018-10-25T03:00:00\", \"2018-10-25T04:00:00\", \"2018-10-25T05:00:00\", \"2018-10-25T06:00:00\", \"2018-10-25T07:00:00\", \"2018-10-25T08:00:00\", \"2018-10-25T09:00:00\", \"2018-10-25T10:00:00\", \"2018-10-25T11:00:00\", \"2018-10-25T12:00:00\", \"2018-10-25T13:00:00\", \"2018-10-25T14:00:00\", \"2018-10-25T15:00:00\", \"2018-10-25T16:00:00\", \"2018-10-25T17:00:00\", \"2018-10-25T18:00:00\", \"2018-10-25T19:00:00\", \"2018-10-25T20:00:00\", \"2018-10-25T21:00:00\", \"2018-10-25T22:00:00\", \"2018-10-25T23:00:00\", \"2018-10-26T00:00:00\", \"2018-10-26T01:00:00\", \"2018-10-26T02:00:00\", \"2018-10-26T03:00:00\", \"2018-10-26T04:00:00\", \"2018-10-26T05:00:00\", \"2018-10-26T06:00:00\", \"2018-10-26T07:00:00\", \"2018-10-26T08:00:00\", \"2018-10-26T09:00:00\", \"2018-10-26T10:00:00\", \"2018-10-26T11:00:00\", \"2018-10-26T12:00:00\", \"2018-10-26T13:00:00\", \"2018-10-26T14:00:00\", \"2018-10-26T15:00:00\", \"2018-10-26T16:00:00\", \"2018-10-26T17:00:00\", \"2018-10-26T18:00:00\", \"2018-10-26T19:00:00\", \"2018-10-26T20:00:00\", \"2018-10-26T21:00:00\", \"2018-10-26T22:00:00\", \"2018-10-26T23:00:00\", \"2018-10-27T00:00:00\", \"2018-10-27T01:00:00\", \"2018-10-27T02:00:00\", \"2018-10-27T03:00:00\", \"2018-10-27T04:00:00\", \"2018-10-27T05:00:00\", \"2018-10-27T06:00:00\", \"2018-10-27T07:00:00\", \"2018-10-27T08:00:00\", \"2018-10-27T09:00:00\", \"2018-10-27T10:00:00\", \"2018-10-27T11:00:00\", \"2018-10-27T12:00:00\", \"2018-10-27T13:00:00\", \"2018-10-27T14:00:00\", \"2018-10-27T15:00:00\", \"2018-10-27T16:00:00\", \"2018-10-27T17:00:00\", \"2018-10-27T18:00:00\", \"2018-10-27T19:00:00\", \"2018-10-27T20:00:00\", \"2018-10-27T21:00:00\", \"2018-10-27T22:00:00\", \"2018-10-27T23:00:00\", \"2018-10-28T00:00:00\", \"2018-10-28T01:00:00\", \"2018-10-28T02:00:00\", \"2018-10-28T03:00:00\", \"2018-10-28T04:00:00\", \"2018-10-28T05:00:00\", \"2018-10-28T06:00:00\", \"2018-10-28T07:00:00\", \"2018-10-28T08:00:00\", \"2018-10-28T09:00:00\", \"2018-10-28T10:00:00\", \"2018-10-28T11:00:00\", \"2018-10-28T12:00:00\", \"2018-10-28T13:00:00\", \"2018-10-28T14:00:00\", \"2018-10-28T15:00:00\", \"2018-10-28T16:00:00\", \"2018-10-28T17:00:00\", \"2018-10-28T18:00:00\", \"2018-10-28T19:00:00\", \"2018-10-28T20:00:00\", \"2018-10-28T21:00:00\", \"2018-10-28T22:00:00\", \"2018-10-28T23:00:00\", \"2018-10-29T00:00:00\", \"2018-10-29T01:00:00\", \"2018-10-29T02:00:00\", \"2018-10-29T03:00:00\", \"2018-10-29T04:00:00\", \"2018-10-29T05:00:00\", \"2018-10-29T06:00:00\", \"2018-10-29T07:00:00\", \"2018-10-29T08:00:00\", \"2018-10-29T09:00:00\", \"2018-10-29T10:00:00\", \"2018-10-29T11:00:00\", \"2018-10-29T12:00:00\", \"2018-10-29T13:00:00\", \"2018-10-29T14:00:00\", \"2018-10-29T15:00:00\", \"2018-10-29T16:00:00\", \"2018-10-29T17:00:00\", \"2018-10-29T18:00:00\", \"2018-10-29T19:00:00\", \"2018-10-29T20:00:00\", \"2018-10-29T21:00:00\", \"2018-10-29T22:00:00\", \"2018-10-29T23:00:00\", \"2018-10-30T00:00:00\", \"2018-10-30T01:00:00\", \"2018-10-30T02:00:00\", \"2018-10-30T03:00:00\", \"2018-10-30T04:00:00\", \"2018-10-30T05:00:00\", \"2018-10-30T06:00:00\", \"2018-10-30T07:00:00\", \"2018-10-30T08:00:00\", \"2018-10-30T09:00:00\", \"2018-10-30T10:00:00\", \"2018-10-30T11:00:00\", \"2018-10-30T12:00:00\", \"2018-10-30T13:00:00\", \"2018-10-30T14:00:00\", \"2018-10-30T15:00:00\", \"2018-10-30T16:00:00\", \"2018-10-30T17:00:00\", \"2018-10-30T18:00:00\", \"2018-10-30T19:00:00\", \"2018-10-30T20:00:00\", \"2018-10-30T21:00:00\", \"2018-10-30T22:00:00\", \"2018-10-30T23:00:00\", \"2018-10-31T00:00:00\", \"2018-10-31T01:00:00\", \"2018-10-31T02:00:00\", \"2018-10-31T03:00:00\", \"2018-10-31T04:00:00\", \"2018-10-31T05:00:00\", \"2018-10-31T06:00:00\", \"2018-10-31T07:00:00\", \"2018-10-31T08:00:00\", \"2018-10-31T09:00:00\", \"2018-10-31T10:00:00\", \"2018-10-31T11:00:00\", \"2018-10-31T12:00:00\", \"2018-10-31T13:00:00\", \"2018-10-31T14:00:00\", \"2018-10-31T15:00:00\", \"2018-10-31T16:00:00\", \"2018-10-31T17:00:00\", \"2018-10-31T18:00:00\", \"2018-10-31T19:00:00\", \"2018-10-31T20:00:00\", \"2018-10-31T21:00:00\", \"2018-10-31T22:00:00\", \"2018-10-31T23:00:00\", \"2018-11-01T00:00:00\", \"2018-11-01T01:00:00\", \"2018-11-01T02:00:00\", \"2018-11-01T03:00:00\", \"2018-11-01T04:00:00\", \"2018-11-01T05:00:00\", \"2018-11-01T06:00:00\", \"2018-11-01T07:00:00\", \"2018-11-01T08:00:00\", \"2018-11-01T09:00:00\", \"2018-11-01T10:00:00\", \"2018-11-01T11:00:00\", \"2018-11-01T12:00:00\", \"2018-11-01T13:00:00\", \"2018-11-01T14:00:00\", \"2018-11-01T15:00:00\", \"2018-11-01T16:00:00\", \"2018-11-01T17:00:00\", \"2018-11-01T18:00:00\", \"2018-11-01T19:00:00\", \"2018-11-01T20:00:00\", \"2018-11-01T21:00:00\", \"2018-11-01T22:00:00\", \"2018-11-01T23:00:00\", \"2018-11-02T00:00:00\", \"2018-11-02T01:00:00\", \"2018-11-02T02:00:00\", \"2018-11-02T03:00:00\", \"2018-11-02T04:00:00\", \"2018-11-02T05:00:00\", \"2018-11-02T06:00:00\", \"2018-11-02T07:00:00\", \"2018-11-02T08:00:00\", \"2018-11-02T09:00:00\", \"2018-11-02T10:00:00\", \"2018-11-02T11:00:00\", \"2018-11-02T12:00:00\", \"2018-11-02T13:00:00\", \"2018-11-02T14:00:00\", \"2018-11-02T15:00:00\", \"2018-11-02T16:00:00\", \"2018-11-02T17:00:00\", \"2018-11-02T18:00:00\", \"2018-11-02T19:00:00\", \"2018-11-02T20:00:00\", \"2018-11-02T21:00:00\", \"2018-11-02T22:00:00\", \"2018-11-02T23:00:00\", \"2018-11-03T00:00:00\", \"2018-11-03T01:00:00\", \"2018-11-03T02:00:00\", \"2018-11-03T03:00:00\", \"2018-11-03T04:00:00\", \"2018-11-03T05:00:00\", \"2018-11-03T06:00:00\", \"2018-11-03T07:00:00\", \"2018-11-03T08:00:00\", \"2018-11-03T09:00:00\", \"2018-11-03T10:00:00\", \"2018-11-03T11:00:00\", \"2018-11-03T12:00:00\", \"2018-11-03T13:00:00\", \"2018-11-03T14:00:00\", \"2018-11-03T15:00:00\", \"2018-11-03T16:00:00\", \"2018-11-03T17:00:00\", \"2018-11-03T18:00:00\", \"2018-11-03T19:00:00\", \"2018-11-03T20:00:00\", \"2018-11-03T21:00:00\", \"2018-11-03T22:00:00\", \"2018-11-03T23:00:00\", \"2018-11-04T00:00:00\", \"2018-11-04T01:00:00\", \"2018-11-04T02:00:00\", \"2018-11-04T03:00:00\", \"2018-11-04T04:00:00\", \"2018-11-04T05:00:00\", \"2018-11-04T06:00:00\", \"2018-11-04T07:00:00\", \"2018-11-04T08:00:00\", \"2018-11-04T09:00:00\", \"2018-11-04T10:00:00\", \"2018-11-04T11:00:00\", \"2018-11-04T12:00:00\", \"2018-11-04T13:00:00\", \"2018-11-04T14:00:00\", \"2018-11-04T15:00:00\", \"2018-11-04T16:00:00\", \"2018-11-04T17:00:00\", \"2018-11-04T18:00:00\", \"2018-11-04T19:00:00\", \"2018-11-04T20:00:00\", \"2018-11-04T21:00:00\", \"2018-11-04T22:00:00\", \"2018-11-04T23:00:00\", \"2018-11-05T00:00:00\", \"2018-11-05T01:00:00\", \"2018-11-05T02:00:00\", \"2018-11-05T03:00:00\", \"2018-11-05T04:00:00\", \"2018-11-05T05:00:00\", \"2018-11-05T06:00:00\", \"2018-11-05T07:00:00\", \"2018-11-05T08:00:00\", \"2018-11-05T09:00:00\", \"2018-11-05T10:00:00\", \"2018-11-05T11:00:00\", \"2018-11-05T12:00:00\", \"2018-11-05T13:00:00\", \"2018-11-05T14:00:00\", \"2018-11-05T15:00:00\", \"2018-11-05T16:00:00\", \"2018-11-05T17:00:00\", \"2018-11-05T18:00:00\", \"2018-11-05T19:00:00\", \"2018-11-05T20:00:00\", \"2018-11-05T21:00:00\", \"2018-11-05T22:00:00\", \"2018-11-05T23:00:00\", \"2018-11-06T00:00:00\", \"2018-11-06T01:00:00\", \"2018-11-06T02:00:00\", \"2018-11-06T03:00:00\", \"2018-11-06T04:00:00\", \"2018-11-06T05:00:00\", \"2018-11-06T06:00:00\", \"2018-11-06T07:00:00\", \"2018-11-06T08:00:00\", \"2018-11-06T09:00:00\", \"2018-11-06T10:00:00\", \"2018-11-06T11:00:00\", \"2018-11-06T12:00:00\", \"2018-11-06T13:00:00\", \"2018-11-06T14:00:00\", \"2018-11-06T15:00:00\", \"2018-11-06T16:00:00\", \"2018-11-06T17:00:00\", \"2018-11-06T18:00:00\", \"2018-11-06T19:00:00\", \"2018-11-06T20:00:00\", \"2018-11-06T21:00:00\", \"2018-11-06T22:00:00\", \"2018-11-06T23:00:00\", \"2018-11-07T00:00:00\", \"2018-11-07T01:00:00\", \"2018-11-07T02:00:00\", \"2018-11-07T03:00:00\", \"2018-11-07T04:00:00\", \"2018-11-07T05:00:00\", \"2018-11-07T06:00:00\", \"2018-11-07T07:00:00\", \"2018-11-07T08:00:00\", \"2018-11-07T09:00:00\", \"2018-11-07T10:00:00\", \"2018-11-07T11:00:00\", \"2018-11-07T12:00:00\", \"2018-11-07T13:00:00\", \"2018-11-07T14:00:00\", \"2018-11-07T15:00:00\", \"2018-11-07T16:00:00\", \"2018-11-07T17:00:00\", \"2018-11-07T18:00:00\", \"2018-11-07T19:00:00\", \"2018-11-07T20:00:00\", \"2018-11-07T21:00:00\", \"2018-11-07T22:00:00\", \"2018-11-07T23:00:00\", \"2018-11-08T00:00:00\", \"2018-11-08T01:00:00\", \"2018-11-08T02:00:00\", \"2018-11-08T03:00:00\", \"2018-11-08T04:00:00\", \"2018-11-08T05:00:00\", \"2018-11-08T06:00:00\", \"2018-11-08T07:00:00\", \"2018-11-08T08:00:00\", \"2018-11-08T09:00:00\", \"2018-11-08T10:00:00\", \"2018-11-08T11:00:00\", \"2018-11-08T12:00:00\", \"2018-11-08T13:00:00\", \"2018-11-08T14:00:00\", \"2018-11-08T15:00:00\", \"2018-11-08T16:00:00\", \"2018-11-08T17:00:00\", \"2018-11-08T18:00:00\", \"2018-11-08T19:00:00\", \"2018-11-08T20:00:00\", \"2018-11-08T21:00:00\", \"2018-11-08T22:00:00\", \"2018-11-08T23:00:00\", \"2018-11-09T00:00:00\", \"2018-11-09T01:00:00\", \"2018-11-09T02:00:00\", \"2018-11-09T03:00:00\", \"2018-11-09T04:00:00\", \"2018-11-09T05:00:00\", \"2018-11-09T06:00:00\", \"2018-11-09T07:00:00\", \"2018-11-09T08:00:00\", \"2018-11-09T09:00:00\", \"2018-11-09T10:00:00\", \"2018-11-09T11:00:00\", \"2018-11-09T12:00:00\", \"2018-11-09T13:00:00\", \"2018-11-09T14:00:00\", \"2018-11-09T15:00:00\", \"2018-11-09T16:00:00\", \"2018-11-09T17:00:00\", \"2018-11-09T18:00:00\", \"2018-11-09T19:00:00\", \"2018-11-09T20:00:00\", \"2018-11-09T21:00:00\", \"2018-11-09T22:00:00\", \"2018-11-09T23:00:00\", \"2018-11-10T00:00:00\", \"2018-11-10T01:00:00\", \"2018-11-10T02:00:00\", \"2018-11-10T03:00:00\", \"2018-11-10T04:00:00\", \"2018-11-10T05:00:00\", \"2018-11-10T06:00:00\", \"2018-11-10T07:00:00\", \"2018-11-10T08:00:00\", \"2018-11-10T09:00:00\", \"2018-11-10T10:00:00\", \"2018-11-10T11:00:00\", \"2018-11-10T12:00:00\", \"2018-11-10T13:00:00\", \"2018-11-10T14:00:00\", \"2018-11-10T15:00:00\", \"2018-11-10T16:00:00\", \"2018-11-10T17:00:00\", \"2018-11-10T18:00:00\", \"2018-11-10T19:00:00\", \"2018-11-10T20:00:00\", \"2018-11-10T21:00:00\", \"2018-11-10T22:00:00\", \"2018-11-10T23:00:00\", \"2018-11-11T00:00:00\", \"2018-11-11T01:00:00\", \"2018-11-11T02:00:00\", \"2018-11-11T03:00:00\", \"2018-11-11T04:00:00\", \"2018-11-11T05:00:00\", \"2018-11-11T06:00:00\", \"2018-11-11T07:00:00\", \"2018-11-11T08:00:00\", \"2018-11-11T09:00:00\", \"2018-11-11T10:00:00\", \"2018-11-11T11:00:00\", \"2018-11-11T12:00:00\", \"2018-11-11T13:00:00\", \"2018-11-11T14:00:00\", \"2018-11-11T15:00:00\", \"2018-11-11T16:00:00\", \"2018-11-11T17:00:00\", \"2018-11-11T18:00:00\", \"2018-11-11T19:00:00\", \"2018-11-11T20:00:00\", \"2018-11-11T21:00:00\", \"2018-11-11T22:00:00\", \"2018-11-11T23:00:00\", \"2018-11-12T00:00:00\", \"2018-11-12T01:00:00\", \"2018-11-12T02:00:00\", \"2018-11-12T03:00:00\", \"2018-11-12T04:00:00\", \"2018-11-12T05:00:00\", \"2018-11-12T06:00:00\", \"2018-11-12T07:00:00\", \"2018-11-12T08:00:00\", \"2018-11-12T09:00:00\", \"2018-11-12T10:00:00\", \"2018-11-12T11:00:00\", \"2018-11-12T12:00:00\", \"2018-11-12T13:00:00\", \"2018-11-12T14:00:00\", \"2018-11-12T15:00:00\", \"2018-11-12T16:00:00\", \"2018-11-12T17:00:00\", \"2018-11-12T18:00:00\", \"2018-11-12T19:00:00\", \"2018-11-12T20:00:00\", \"2018-11-12T21:00:00\", \"2018-11-12T22:00:00\", \"2018-11-12T23:00:00\", \"2018-11-13T00:00:00\", \"2018-11-13T01:00:00\", \"2018-11-13T02:00:00\", \"2018-11-13T03:00:00\", \"2018-11-13T04:00:00\", \"2018-11-13T05:00:00\", \"2018-11-13T06:00:00\", \"2018-11-13T07:00:00\", \"2018-11-13T08:00:00\", \"2018-11-13T09:00:00\", \"2018-11-13T10:00:00\", \"2018-11-13T11:00:00\", \"2018-11-13T12:00:00\", \"2018-11-13T13:00:00\", \"2018-11-13T14:00:00\", \"2018-11-13T15:00:00\", \"2018-11-13T16:00:00\", \"2018-11-13T17:00:00\", \"2018-11-13T18:00:00\", \"2018-11-13T19:00:00\", \"2018-11-13T20:00:00\", \"2018-11-13T21:00:00\", \"2018-11-13T22:00:00\", \"2018-11-13T23:00:00\", \"2018-11-14T00:00:00\", \"2018-11-14T01:00:00\", \"2018-11-14T02:00:00\", \"2018-11-14T03:00:00\", \"2018-11-14T04:00:00\", \"2018-11-14T05:00:00\", \"2018-11-14T06:00:00\", \"2018-11-14T07:00:00\", \"2018-11-14T08:00:00\", \"2018-11-14T09:00:00\", \"2018-11-14T10:00:00\", \"2018-11-14T11:00:00\", \"2018-11-14T12:00:00\", \"2018-11-14T13:00:00\", \"2018-11-14T14:00:00\", \"2018-11-14T15:00:00\", \"2018-11-14T16:00:00\", \"2018-11-14T17:00:00\", \"2018-11-14T18:00:00\", \"2018-11-14T19:00:00\", \"2018-11-14T20:00:00\", \"2018-11-14T21:00:00\", \"2018-11-14T22:00:00\", \"2018-11-14T23:00:00\", \"2018-11-15T00:00:00\", \"2018-11-15T01:00:00\", \"2018-11-15T02:00:00\", \"2018-11-15T03:00:00\", \"2018-11-15T04:00:00\", \"2018-11-15T05:00:00\", \"2018-11-15T06:00:00\", \"2018-11-15T07:00:00\", \"2018-11-15T08:00:00\", \"2018-11-15T09:00:00\", \"2018-11-15T10:00:00\", \"2018-11-15T11:00:00\", \"2018-11-15T12:00:00\", \"2018-11-15T13:00:00\", \"2018-11-15T14:00:00\", \"2018-11-15T15:00:00\", \"2018-11-15T16:00:00\", \"2018-11-15T17:00:00\", \"2018-11-15T18:00:00\", \"2018-11-15T19:00:00\", \"2018-11-15T20:00:00\", \"2018-11-15T21:00:00\", \"2018-11-15T22:00:00\", \"2018-11-15T23:00:00\", \"2018-11-16T00:00:00\", \"2018-11-16T01:00:00\", \"2018-11-16T02:00:00\", \"2018-11-16T03:00:00\", \"2018-11-16T04:00:00\", \"2018-11-16T05:00:00\", \"2018-11-16T06:00:00\", \"2018-11-16T07:00:00\", \"2018-11-16T08:00:00\", \"2018-11-16T09:00:00\", \"2018-11-16T10:00:00\", \"2018-11-16T11:00:00\", \"2018-11-16T12:00:00\", \"2018-11-16T13:00:00\", \"2018-11-16T14:00:00\", \"2018-11-16T15:00:00\", \"2018-11-16T16:00:00\", \"2018-11-16T17:00:00\", \"2018-11-16T18:00:00\", \"2018-11-16T19:00:00\", \"2018-11-16T20:00:00\", \"2018-11-16T21:00:00\", \"2018-11-16T22:00:00\", \"2018-11-16T23:00:00\", \"2018-11-17T00:00:00\", \"2018-11-17T01:00:00\", \"2018-11-17T02:00:00\", \"2018-11-17T03:00:00\", \"2018-11-17T04:00:00\", \"2018-11-17T05:00:00\", \"2018-11-17T06:00:00\", \"2018-11-17T07:00:00\", \"2018-11-17T08:00:00\", \"2018-11-17T09:00:00\", \"2018-11-17T10:00:00\", \"2018-11-17T11:00:00\", \"2018-11-17T12:00:00\", \"2018-11-17T13:00:00\", \"2018-11-17T14:00:00\", \"2018-11-17T15:00:00\", \"2018-11-17T16:00:00\", \"2018-11-17T17:00:00\", \"2018-11-17T18:00:00\", \"2018-11-17T19:00:00\", \"2018-11-17T20:00:00\", \"2018-11-17T21:00:00\", \"2018-11-17T22:00:00\", \"2018-11-17T23:00:00\", \"2018-11-18T00:00:00\", \"2018-11-18T01:00:00\", \"2018-11-18T02:00:00\", \"2018-11-18T03:00:00\", \"2018-11-18T04:00:00\", \"2018-11-18T05:00:00\", \"2018-11-18T06:00:00\", \"2018-11-18T07:00:00\", \"2018-11-18T08:00:00\", \"2018-11-18T09:00:00\", \"2018-11-18T10:00:00\", \"2018-11-18T11:00:00\", \"2018-11-18T12:00:00\", \"2018-11-18T13:00:00\", \"2018-11-18T14:00:00\", \"2018-11-18T15:00:00\", \"2018-11-18T16:00:00\", \"2018-11-18T17:00:00\", \"2018-11-18T18:00:00\", \"2018-11-18T19:00:00\", \"2018-11-18T20:00:00\", \"2018-11-18T21:00:00\", \"2018-11-18T22:00:00\", \"2018-11-18T23:00:00\", \"2018-11-19T00:00:00\", \"2018-11-19T01:00:00\", \"2018-11-19T02:00:00\", \"2018-11-19T03:00:00\", \"2018-11-19T04:00:00\", \"2018-11-19T05:00:00\", \"2018-11-19T06:00:00\", \"2018-11-19T07:00:00\", \"2018-11-19T08:00:00\", \"2018-11-19T09:00:00\", \"2018-11-19T10:00:00\", \"2018-11-19T11:00:00\", \"2018-11-19T12:00:00\", \"2018-11-19T13:00:00\", \"2018-11-19T14:00:00\", \"2018-11-19T15:00:00\", \"2018-11-19T16:00:00\", \"2018-11-19T17:00:00\", \"2018-11-19T18:00:00\", \"2018-11-19T19:00:00\", \"2018-11-19T20:00:00\", \"2018-11-19T21:00:00\", \"2018-11-19T22:00:00\", \"2018-11-19T23:00:00\", \"2018-11-20T00:00:00\", \"2018-11-20T01:00:00\", \"2018-11-20T02:00:00\", \"2018-11-20T03:00:00\", \"2018-11-20T04:00:00\", \"2018-11-20T05:00:00\", \"2018-11-20T06:00:00\", \"2018-11-20T07:00:00\", \"2018-11-20T08:00:00\", \"2018-11-20T09:00:00\", \"2018-11-20T10:00:00\", \"2018-11-20T11:00:00\", \"2018-11-20T12:00:00\", \"2018-11-20T13:00:00\", \"2018-11-20T14:00:00\", \"2018-11-20T15:00:00\", \"2018-11-20T16:00:00\", \"2018-11-20T17:00:00\", \"2018-11-20T18:00:00\", \"2018-11-20T19:00:00\", \"2018-11-20T20:00:00\", \"2018-11-20T21:00:00\", \"2018-11-20T22:00:00\", \"2018-11-20T23:00:00\", \"2018-11-21T00:00:00\", \"2018-11-21T01:00:00\", \"2018-11-21T02:00:00\", \"2018-11-21T03:00:00\", \"2018-11-21T04:00:00\", \"2018-11-21T05:00:00\", \"2018-11-21T06:00:00\", \"2018-11-21T07:00:00\", \"2018-11-21T08:00:00\", \"2018-11-21T09:00:00\", \"2018-11-21T10:00:00\", \"2018-11-21T11:00:00\", \"2018-11-21T12:00:00\", \"2018-11-21T13:00:00\", \"2018-11-21T14:00:00\", \"2018-11-21T15:00:00\", \"2018-11-21T16:00:00\", \"2018-11-21T17:00:00\", \"2018-11-21T18:00:00\", \"2018-11-21T19:00:00\", \"2018-11-21T20:00:00\", \"2018-11-21T21:00:00\", \"2018-11-21T22:00:00\", \"2018-11-21T23:00:00\", \"2018-11-22T00:00:00\", \"2018-11-22T01:00:00\", \"2018-11-22T02:00:00\", \"2018-11-22T03:00:00\", \"2018-11-22T04:00:00\", \"2018-11-22T05:00:00\", \"2018-11-22T06:00:00\", \"2018-11-22T07:00:00\", \"2018-11-22T08:00:00\", \"2018-11-22T09:00:00\", \"2018-11-22T10:00:00\", \"2018-11-22T11:00:00\", \"2018-11-22T12:00:00\", \"2018-11-22T13:00:00\", \"2018-11-22T14:00:00\", \"2018-11-22T15:00:00\", \"2018-11-22T16:00:00\", \"2018-11-22T17:00:00\", \"2018-11-22T18:00:00\", \"2018-11-22T19:00:00\", \"2018-11-22T20:00:00\", \"2018-11-22T21:00:00\", \"2018-11-22T22:00:00\", \"2018-11-22T23:00:00\", \"2018-11-23T00:00:00\", \"2018-11-23T01:00:00\", \"2018-11-23T02:00:00\", \"2018-11-23T03:00:00\", \"2018-11-23T04:00:00\", \"2018-11-23T05:00:00\", \"2018-11-23T06:00:00\", \"2018-11-23T07:00:00\", \"2018-11-23T08:00:00\", \"2018-11-23T09:00:00\", \"2018-11-23T10:00:00\", \"2018-11-23T11:00:00\", \"2018-11-23T12:00:00\", \"2018-11-23T13:00:00\", \"2018-11-23T14:00:00\", \"2018-11-23T15:00:00\", \"2018-11-23T16:00:00\", \"2018-11-23T17:00:00\", \"2018-11-23T18:00:00\", \"2018-11-23T19:00:00\", \"2018-11-23T20:00:00\", \"2018-11-23T21:00:00\", \"2018-11-23T22:00:00\", \"2018-11-23T23:00:00\", \"2018-11-24T00:00:00\", \"2018-11-24T01:00:00\", \"2018-11-24T02:00:00\", \"2018-11-24T03:00:00\", \"2018-11-24T04:00:00\", \"2018-11-24T05:00:00\", \"2018-11-24T06:00:00\", \"2018-11-24T07:00:00\", \"2018-11-24T08:00:00\", \"2018-11-24T09:00:00\", \"2018-11-24T10:00:00\", \"2018-11-24T11:00:00\", \"2018-11-24T12:00:00\", \"2018-11-24T13:00:00\", \"2018-11-24T14:00:00\", \"2018-11-24T15:00:00\", \"2018-11-24T16:00:00\", \"2018-11-24T17:00:00\", \"2018-11-24T18:00:00\", \"2018-11-24T19:00:00\", \"2018-11-24T20:00:00\", \"2018-11-24T21:00:00\", \"2018-11-24T22:00:00\", \"2018-11-24T23:00:00\", \"2018-11-25T00:00:00\", \"2018-11-25T01:00:00\", \"2018-11-25T02:00:00\", \"2018-11-25T03:00:00\", \"2018-11-25T04:00:00\", \"2018-11-25T05:00:00\", \"2018-11-25T06:00:00\", \"2018-11-25T07:00:00\", \"2018-11-25T08:00:00\", \"2018-11-25T09:00:00\", \"2018-11-25T10:00:00\", \"2018-11-25T11:00:00\", \"2018-11-25T12:00:00\", \"2018-11-25T13:00:00\", \"2018-11-25T14:00:00\", \"2018-11-25T15:00:00\", \"2018-11-25T16:00:00\", \"2018-11-25T17:00:00\", \"2018-11-25T18:00:00\", \"2018-11-25T19:00:00\", \"2018-11-25T20:00:00\", \"2018-11-25T21:00:00\", \"2018-11-25T22:00:00\", \"2018-11-25T23:00:00\", \"2018-11-26T00:00:00\", \"2018-11-26T01:00:00\", \"2018-11-26T02:00:00\", \"2018-11-26T03:00:00\", \"2018-11-26T04:00:00\", \"2018-11-26T05:00:00\", \"2018-11-26T06:00:00\", \"2018-11-26T07:00:00\", \"2018-11-26T08:00:00\", \"2018-11-26T09:00:00\", \"2018-11-26T10:00:00\", \"2018-11-26T11:00:00\", \"2018-11-26T12:00:00\", \"2018-11-26T13:00:00\", \"2018-11-26T14:00:00\", \"2018-11-26T15:00:00\", \"2018-11-26T16:00:00\", \"2018-11-26T17:00:00\", \"2018-11-26T18:00:00\", \"2018-11-26T19:00:00\", \"2018-11-26T20:00:00\", \"2018-11-26T21:00:00\", \"2018-11-26T22:00:00\", \"2018-11-26T23:00:00\", \"2018-11-27T00:00:00\", \"2018-11-27T01:00:00\", \"2018-11-27T02:00:00\", \"2018-11-27T03:00:00\", \"2018-11-27T04:00:00\", \"2018-11-27T05:00:00\", \"2018-11-27T06:00:00\", \"2018-11-27T07:00:00\", \"2018-11-27T08:00:00\", \"2018-11-27T09:00:00\", \"2018-11-27T10:00:00\", \"2018-11-27T11:00:00\", \"2018-11-27T12:00:00\", \"2018-11-27T13:00:00\", \"2018-11-27T14:00:00\", \"2018-11-27T15:00:00\", \"2018-11-27T16:00:00\", \"2018-11-27T17:00:00\", \"2018-11-27T18:00:00\", \"2018-11-27T19:00:00\", \"2018-11-27T20:00:00\", \"2018-11-27T21:00:00\", \"2018-11-27T22:00:00\", \"2018-11-27T23:00:00\", \"2018-11-28T00:00:00\", \"2018-11-28T01:00:00\", \"2018-11-28T02:00:00\", \"2018-11-28T03:00:00\", \"2018-11-28T04:00:00\", \"2018-11-28T05:00:00\", \"2018-11-28T06:00:00\", \"2018-11-28T07:00:00\", \"2018-11-28T08:00:00\", \"2018-11-28T09:00:00\", \"2018-11-28T10:00:00\", \"2018-11-28T11:00:00\", \"2018-11-28T12:00:00\", \"2018-11-28T13:00:00\", \"2018-11-28T14:00:00\", \"2018-11-28T15:00:00\", \"2018-11-28T16:00:00\", \"2018-11-28T17:00:00\", \"2018-11-28T18:00:00\", \"2018-11-28T19:00:00\", \"2018-11-28T20:00:00\", \"2018-11-28T21:00:00\", \"2018-11-28T22:00:00\", \"2018-11-28T23:00:00\", \"2018-11-29T00:00:00\", \"2018-11-29T01:00:00\", \"2018-11-29T02:00:00\", \"2018-11-29T03:00:00\", \"2018-11-29T04:00:00\", \"2018-11-29T05:00:00\", \"2018-11-29T06:00:00\", \"2018-11-29T07:00:00\", \"2018-11-29T08:00:00\", \"2018-11-29T09:00:00\", \"2018-11-29T10:00:00\", \"2018-11-29T11:00:00\", \"2018-11-29T12:00:00\", \"2018-11-29T13:00:00\", \"2018-11-29T14:00:00\", \"2018-11-29T15:00:00\", \"2018-11-29T16:00:00\", \"2018-11-29T17:00:00\", \"2018-11-29T18:00:00\", \"2018-11-29T19:00:00\", \"2018-11-29T20:00:00\", \"2018-11-29T21:00:00\", \"2018-11-29T22:00:00\", \"2018-11-29T23:00:00\", \"2018-11-30T00:00:00\", \"2018-11-30T01:00:00\", \"2018-11-30T02:00:00\", \"2018-11-30T03:00:00\", \"2018-11-30T04:00:00\", \"2018-11-30T05:00:00\", \"2018-11-30T06:00:00\", \"2018-11-30T07:00:00\", \"2018-11-30T08:00:00\", \"2018-11-30T09:00:00\", \"2018-11-30T10:00:00\", \"2018-11-30T11:00:00\", \"2018-11-30T12:00:00\", \"2018-11-30T13:00:00\", \"2018-11-30T14:00:00\", \"2018-11-30T15:00:00\", \"2018-11-30T16:00:00\", \"2018-11-30T17:00:00\", \"2018-11-30T18:00:00\", \"2018-11-30T19:00:00\", \"2018-11-30T20:00:00\", \"2018-11-30T21:00:00\", \"2018-11-30T22:00:00\", \"2018-11-30T23:00:00\", \"2018-12-01T00:00:00\", \"2018-12-01T01:00:00\", \"2018-12-01T02:00:00\", \"2018-12-01T03:00:00\", \"2018-12-01T04:00:00\", \"2018-12-01T05:00:00\", \"2018-12-01T06:00:00\", \"2018-12-01T07:00:00\", \"2018-12-01T08:00:00\", \"2018-12-01T09:00:00\", \"2018-12-01T10:00:00\", \"2018-12-01T11:00:00\", \"2018-12-01T12:00:00\", \"2018-12-01T13:00:00\", \"2018-12-01T14:00:00\", \"2018-12-01T15:00:00\", \"2018-12-01T16:00:00\", \"2018-12-01T17:00:00\", \"2018-12-01T18:00:00\", \"2018-12-01T19:00:00\", \"2018-12-01T20:00:00\", \"2018-12-01T21:00:00\", \"2018-12-01T22:00:00\", \"2018-12-01T23:00:00\", \"2018-12-02T00:00:00\", \"2018-12-02T01:00:00\", \"2018-12-02T02:00:00\", \"2018-12-02T03:00:00\", \"2018-12-02T04:00:00\", \"2018-12-02T05:00:00\", \"2018-12-02T06:00:00\", \"2018-12-02T07:00:00\", \"2018-12-02T08:00:00\", \"2018-12-02T09:00:00\", \"2018-12-02T10:00:00\", \"2018-12-02T11:00:00\", \"2018-12-02T12:00:00\", \"2018-12-02T13:00:00\", \"2018-12-02T14:00:00\", \"2018-12-02T15:00:00\", \"2018-12-02T16:00:00\", \"2018-12-02T17:00:00\", \"2018-12-02T18:00:00\", \"2018-12-02T19:00:00\", \"2018-12-02T20:00:00\", \"2018-12-02T21:00:00\", \"2018-12-02T22:00:00\", \"2018-12-02T23:00:00\", \"2018-12-03T00:00:00\", \"2018-12-03T01:00:00\", \"2018-12-03T02:00:00\", \"2018-12-03T03:00:00\", \"2018-12-03T04:00:00\", \"2018-12-03T05:00:00\", \"2018-12-03T06:00:00\", \"2018-12-03T07:00:00\", \"2018-12-03T08:00:00\", \"2018-12-03T09:00:00\", \"2018-12-03T10:00:00\", \"2018-12-03T11:00:00\", \"2018-12-03T12:00:00\", \"2018-12-03T13:00:00\", \"2018-12-03T14:00:00\", \"2018-12-03T15:00:00\", \"2018-12-03T16:00:00\", \"2018-12-03T17:00:00\", \"2018-12-03T18:00:00\", \"2018-12-03T19:00:00\", \"2018-12-03T20:00:00\", \"2018-12-03T21:00:00\", \"2018-12-03T22:00:00\", \"2018-12-03T23:00:00\", \"2018-12-04T00:00:00\", \"2018-12-04T01:00:00\", \"2018-12-04T02:00:00\", \"2018-12-04T03:00:00\", \"2018-12-04T04:00:00\", \"2018-12-04T05:00:00\", \"2018-12-04T06:00:00\", \"2018-12-04T07:00:00\", \"2018-12-04T08:00:00\", \"2018-12-04T09:00:00\", \"2018-12-04T10:00:00\", \"2018-12-04T11:00:00\", \"2018-12-04T12:00:00\", \"2018-12-04T13:00:00\", \"2018-12-04T14:00:00\", \"2018-12-04T15:00:00\", \"2018-12-04T16:00:00\", \"2018-12-04T17:00:00\", \"2018-12-04T18:00:00\", \"2018-12-04T19:00:00\", \"2018-12-04T20:00:00\", \"2018-12-04T21:00:00\", \"2018-12-04T22:00:00\", \"2018-12-04T23:00:00\", \"2018-12-05T00:00:00\", \"2018-12-05T01:00:00\", \"2018-12-05T02:00:00\", \"2018-12-05T03:00:00\", \"2018-12-05T04:00:00\", \"2018-12-05T05:00:00\", \"2018-12-05T06:00:00\", \"2018-12-05T07:00:00\", \"2018-12-05T08:00:00\", \"2018-12-05T09:00:00\", \"2018-12-05T10:00:00\", \"2018-12-05T11:00:00\", \"2018-12-05T12:00:00\", \"2018-12-05T13:00:00\", \"2018-12-05T14:00:00\", \"2018-12-05T15:00:00\", \"2018-12-05T16:00:00\", \"2018-12-05T17:00:00\", \"2018-12-05T18:00:00\", \"2018-12-05T19:00:00\", \"2018-12-05T20:00:00\", \"2018-12-05T21:00:00\", \"2018-12-05T22:00:00\", \"2018-12-05T23:00:00\", \"2018-12-06T00:00:00\", \"2018-12-06T01:00:00\", \"2018-12-06T02:00:00\", \"2018-12-06T03:00:00\", \"2018-12-06T04:00:00\", \"2018-12-06T05:00:00\", \"2018-12-06T06:00:00\", \"2018-12-06T07:00:00\", \"2018-12-06T08:00:00\", \"2018-12-06T09:00:00\", \"2018-12-06T10:00:00\", \"2018-12-06T11:00:00\", \"2018-12-06T12:00:00\", \"2018-12-06T13:00:00\", \"2018-12-06T14:00:00\", \"2018-12-06T15:00:00\", \"2018-12-06T16:00:00\", \"2018-12-06T17:00:00\", \"2018-12-06T18:00:00\", \"2018-12-06T19:00:00\", \"2018-12-06T20:00:00\", \"2018-12-06T21:00:00\", \"2018-12-06T22:00:00\", \"2018-12-06T23:00:00\", \"2018-12-07T00:00:00\", \"2018-12-07T01:00:00\", \"2018-12-07T02:00:00\", \"2018-12-07T03:00:00\", \"2018-12-07T04:00:00\", \"2018-12-07T05:00:00\", \"2018-12-07T06:00:00\", \"2018-12-07T07:00:00\", \"2018-12-07T08:00:00\", \"2018-12-07T09:00:00\", \"2018-12-07T10:00:00\", \"2018-12-07T11:00:00\", \"2018-12-07T12:00:00\", \"2018-12-07T13:00:00\", \"2018-12-07T14:00:00\", \"2018-12-07T15:00:00\", \"2018-12-07T16:00:00\", \"2018-12-07T17:00:00\", \"2018-12-07T18:00:00\", \"2018-12-07T19:00:00\", \"2018-12-07T20:00:00\", \"2018-12-07T21:00:00\", \"2018-12-07T22:00:00\", \"2018-12-07T23:00:00\", \"2018-12-08T00:00:00\", \"2018-12-08T01:00:00\", \"2018-12-08T02:00:00\", \"2018-12-08T03:00:00\", \"2018-12-08T04:00:00\", \"2018-12-08T05:00:00\", \"2018-12-08T06:00:00\", \"2018-12-08T07:00:00\", \"2018-12-08T08:00:00\", \"2018-12-08T09:00:00\", \"2018-12-08T10:00:00\", \"2018-12-08T11:00:00\", \"2018-12-08T12:00:00\", \"2018-12-08T13:00:00\", \"2018-12-08T14:00:00\", \"2018-12-08T15:00:00\", \"2018-12-08T16:00:00\", \"2018-12-08T17:00:00\", \"2018-12-08T18:00:00\", \"2018-12-08T19:00:00\", \"2018-12-08T20:00:00\", \"2018-12-08T21:00:00\", \"2018-12-08T22:00:00\", \"2018-12-08T23:00:00\", \"2018-12-09T00:00:00\", \"2018-12-09T01:00:00\", \"2018-12-09T02:00:00\", \"2018-12-09T03:00:00\", \"2018-12-09T04:00:00\", \"2018-12-09T05:00:00\", \"2018-12-09T06:00:00\", \"2018-12-09T07:00:00\", \"2018-12-09T08:00:00\", \"2018-12-09T09:00:00\", \"2018-12-09T10:00:00\", \"2018-12-09T11:00:00\", \"2018-12-09T12:00:00\", \"2018-12-09T13:00:00\", \"2018-12-09T14:00:00\", \"2018-12-09T15:00:00\", \"2018-12-09T16:00:00\", \"2018-12-09T17:00:00\", \"2018-12-09T18:00:00\", \"2018-12-09T19:00:00\", \"2018-12-09T20:00:00\", \"2018-12-09T21:00:00\", \"2018-12-09T22:00:00\", \"2018-12-09T23:00:00\", \"2018-12-10T00:00:00\", \"2018-12-10T01:00:00\", \"2018-12-10T02:00:00\", \"2018-12-10T03:00:00\", \"2018-12-10T04:00:00\", \"2018-12-10T05:00:00\", \"2018-12-10T06:00:00\", \"2018-12-10T07:00:00\", \"2018-12-10T08:00:00\", \"2018-12-10T09:00:00\", \"2018-12-10T10:00:00\", \"2018-12-10T11:00:00\", \"2018-12-10T12:00:00\", \"2018-12-10T13:00:00\", \"2018-12-10T14:00:00\", \"2018-12-10T15:00:00\", \"2018-12-10T16:00:00\", \"2018-12-10T17:00:00\", \"2018-12-10T18:00:00\", \"2018-12-10T19:00:00\", \"2018-12-10T20:00:00\", \"2018-12-10T21:00:00\", \"2018-12-10T22:00:00\", \"2018-12-10T23:00:00\", \"2018-12-11T00:00:00\", \"2018-12-11T01:00:00\", \"2018-12-11T02:00:00\", \"2018-12-11T03:00:00\", \"2018-12-11T04:00:00\", \"2018-12-11T05:00:00\", \"2018-12-11T06:00:00\", \"2018-12-11T07:00:00\", \"2018-12-11T08:00:00\", \"2018-12-11T09:00:00\", \"2018-12-11T10:00:00\", \"2018-12-11T11:00:00\", \"2018-12-11T12:00:00\", \"2018-12-11T13:00:00\", \"2018-12-11T14:00:00\", \"2018-12-11T15:00:00\", \"2018-12-11T16:00:00\", \"2018-12-11T17:00:00\", \"2018-12-11T18:00:00\", \"2018-12-11T19:00:00\", \"2018-12-11T20:00:00\", \"2018-12-11T21:00:00\", \"2018-12-11T22:00:00\", \"2018-12-11T23:00:00\", \"2018-12-12T00:00:00\", \"2018-12-12T01:00:00\", \"2018-12-12T02:00:00\", \"2018-12-12T03:00:00\", \"2018-12-12T04:00:00\", \"2018-12-12T05:00:00\", \"2018-12-12T06:00:00\", \"2018-12-12T07:00:00\", \"2018-12-12T08:00:00\", \"2018-12-12T09:00:00\", \"2018-12-12T10:00:00\", \"2018-12-12T11:00:00\", \"2018-12-12T12:00:00\", \"2018-12-12T13:00:00\", \"2018-12-12T14:00:00\", \"2018-12-12T15:00:00\", \"2018-12-12T16:00:00\", \"2018-12-12T17:00:00\", \"2018-12-12T18:00:00\", \"2018-12-12T19:00:00\", \"2018-12-12T20:00:00\", \"2018-12-12T21:00:00\", \"2018-12-12T22:00:00\", \"2018-12-12T23:00:00\", \"2018-12-13T00:00:00\", \"2018-12-13T01:00:00\", \"2018-12-13T02:00:00\", \"2018-12-13T03:00:00\", \"2018-12-13T04:00:00\", \"2018-12-13T05:00:00\", \"2018-12-13T06:00:00\", \"2018-12-13T07:00:00\", \"2018-12-13T08:00:00\", \"2018-12-13T09:00:00\", \"2018-12-13T10:00:00\", \"2018-12-13T11:00:00\", \"2018-12-13T12:00:00\", \"2018-12-13T13:00:00\", \"2018-12-13T14:00:00\", \"2018-12-13T15:00:00\", \"2018-12-13T16:00:00\", \"2018-12-13T17:00:00\", \"2018-12-13T18:00:00\", \"2018-12-13T19:00:00\", \"2018-12-13T20:00:00\", \"2018-12-13T21:00:00\", \"2018-12-13T22:00:00\", \"2018-12-13T23:00:00\", \"2018-12-14T00:00:00\", \"2018-12-14T01:00:00\", \"2018-12-14T02:00:00\", \"2018-12-14T03:00:00\", \"2018-12-14T04:00:00\", \"2018-12-14T05:00:00\", \"2018-12-14T06:00:00\", \"2018-12-14T07:00:00\", \"2018-12-14T08:00:00\", \"2018-12-14T09:00:00\", \"2018-12-14T10:00:00\", \"2018-12-14T11:00:00\", \"2018-12-14T12:00:00\", \"2018-12-14T13:00:00\", \"2018-12-14T14:00:00\", \"2018-12-14T15:00:00\", \"2018-12-14T16:00:00\", \"2018-12-14T17:00:00\", \"2018-12-14T18:00:00\", \"2018-12-14T19:00:00\", \"2018-12-14T20:00:00\", \"2018-12-14T21:00:00\", \"2018-12-14T22:00:00\", \"2018-12-14T23:00:00\", \"2018-12-15T00:00:00\", \"2018-12-15T01:00:00\", \"2018-12-15T02:00:00\", \"2018-12-15T03:00:00\", \"2018-12-15T04:00:00\", \"2018-12-15T05:00:00\", \"2018-12-15T06:00:00\", \"2018-12-15T07:00:00\", \"2018-12-15T08:00:00\", \"2018-12-15T09:00:00\", \"2018-12-15T10:00:00\", \"2018-12-15T11:00:00\", \"2018-12-15T12:00:00\", \"2018-12-15T13:00:00\", \"2018-12-15T14:00:00\", \"2018-12-15T15:00:00\", \"2018-12-15T16:00:00\", \"2018-12-15T17:00:00\", \"2018-12-15T18:00:00\", \"2018-12-15T19:00:00\", \"2018-12-15T20:00:00\", \"2018-12-15T21:00:00\", \"2018-12-15T22:00:00\", \"2018-12-15T23:00:00\", \"2018-12-16T00:00:00\", \"2018-12-16T01:00:00\", \"2018-12-16T02:00:00\", \"2018-12-16T03:00:00\", \"2018-12-16T04:00:00\", \"2018-12-16T05:00:00\", \"2018-12-16T06:00:00\", \"2018-12-16T07:00:00\", \"2018-12-16T08:00:00\", \"2018-12-16T09:00:00\", \"2018-12-16T10:00:00\", \"2018-12-16T11:00:00\", \"2018-12-16T12:00:00\", \"2018-12-16T13:00:00\", \"2018-12-16T14:00:00\", \"2018-12-16T15:00:00\", \"2018-12-16T16:00:00\", \"2018-12-16T17:00:00\", \"2018-12-16T18:00:00\", \"2018-12-16T19:00:00\", \"2018-12-16T20:00:00\", \"2018-12-16T21:00:00\", \"2018-12-16T22:00:00\", \"2018-12-16T23:00:00\", \"2018-12-17T00:00:00\", \"2018-12-17T01:00:00\", \"2018-12-17T02:00:00\", \"2018-12-17T03:00:00\", \"2018-12-17T04:00:00\", \"2018-12-17T05:00:00\", \"2018-12-17T06:00:00\", \"2018-12-17T07:00:00\", \"2018-12-17T08:00:00\", \"2018-12-17T09:00:00\", \"2018-12-17T10:00:00\", \"2018-12-17T11:00:00\", \"2018-12-17T12:00:00\", \"2018-12-17T13:00:00\", \"2018-12-17T14:00:00\", \"2018-12-17T15:00:00\", \"2018-12-17T16:00:00\", \"2018-12-17T17:00:00\", \"2018-12-17T18:00:00\", \"2018-12-17T19:00:00\", \"2018-12-17T20:00:00\", \"2018-12-17T21:00:00\", \"2018-12-17T22:00:00\", \"2018-12-17T23:00:00\", \"2018-12-18T00:00:00\", \"2018-12-18T01:00:00\", \"2018-12-18T02:00:00\", \"2018-12-18T03:00:00\", \"2018-12-18T04:00:00\", \"2018-12-18T05:00:00\", \"2018-12-18T06:00:00\", \"2018-12-18T07:00:00\", \"2018-12-18T08:00:00\", \"2018-12-18T09:00:00\", \"2018-12-18T10:00:00\", \"2018-12-18T11:00:00\", \"2018-12-18T12:00:00\", \"2018-12-18T13:00:00\", \"2018-12-18T14:00:00\", \"2018-12-18T15:00:00\", \"2018-12-18T16:00:00\", \"2018-12-18T17:00:00\", \"2018-12-18T18:00:00\", \"2018-12-18T19:00:00\", \"2018-12-18T20:00:00\", \"2018-12-18T21:00:00\", \"2018-12-18T22:00:00\", \"2018-12-18T23:00:00\", \"2018-12-19T00:00:00\", \"2018-12-19T01:00:00\", \"2018-12-19T02:00:00\", \"2018-12-19T03:00:00\", \"2018-12-19T04:00:00\", \"2018-12-19T05:00:00\", \"2018-12-19T06:00:00\", \"2018-12-19T07:00:00\", \"2018-12-19T08:00:00\", \"2018-12-19T09:00:00\", \"2018-12-19T10:00:00\", \"2018-12-19T11:00:00\", \"2018-12-19T12:00:00\", \"2018-12-19T13:00:00\", \"2018-12-19T14:00:00\", \"2018-12-19T15:00:00\", \"2018-12-19T16:00:00\", \"2018-12-19T17:00:00\", \"2018-12-19T18:00:00\", \"2018-12-19T19:00:00\", \"2018-12-19T20:00:00\", \"2018-12-19T21:00:00\", \"2018-12-19T22:00:00\", \"2018-12-19T23:00:00\", \"2018-12-20T00:00:00\", \"2018-12-20T01:00:00\", \"2018-12-20T02:00:00\", \"2018-12-20T03:00:00\", \"2018-12-20T04:00:00\", \"2018-12-20T05:00:00\", \"2018-12-20T06:00:00\", \"2018-12-20T07:00:00\", \"2018-12-20T08:00:00\", \"2018-12-20T09:00:00\", \"2018-12-20T10:00:00\", \"2018-12-20T11:00:00\", \"2018-12-20T12:00:00\", \"2018-12-20T13:00:00\", \"2018-12-20T14:00:00\", \"2018-12-20T15:00:00\", \"2018-12-20T16:00:00\", \"2018-12-20T17:00:00\", \"2018-12-20T18:00:00\", \"2018-12-20T19:00:00\", \"2018-12-20T20:00:00\", \"2018-12-20T21:00:00\", \"2018-12-20T22:00:00\", \"2018-12-20T23:00:00\", \"2018-12-21T00:00:00\", \"2018-12-21T01:00:00\", \"2018-12-21T02:00:00\", \"2018-12-21T03:00:00\", \"2018-12-21T04:00:00\", \"2018-12-21T05:00:00\", \"2018-12-21T06:00:00\", \"2018-12-21T07:00:00\", \"2018-12-21T08:00:00\", \"2018-12-21T09:00:00\", \"2018-12-21T10:00:00\", \"2018-12-21T11:00:00\", \"2018-12-21T12:00:00\", \"2018-12-21T13:00:00\", \"2018-12-21T14:00:00\", \"2018-12-21T15:00:00\", \"2018-12-21T16:00:00\", \"2018-12-21T17:00:00\", \"2018-12-21T18:00:00\", \"2018-12-21T19:00:00\", \"2018-12-21T20:00:00\", \"2018-12-21T21:00:00\", \"2018-12-21T22:00:00\", \"2018-12-21T23:00:00\", \"2018-12-22T00:00:00\", \"2018-12-22T01:00:00\", \"2018-12-22T02:00:00\", \"2018-12-22T03:00:00\", \"2018-12-22T04:00:00\", \"2018-12-22T05:00:00\", \"2018-12-22T06:00:00\", \"2018-12-22T07:00:00\", \"2018-12-22T08:00:00\", \"2018-12-22T09:00:00\", \"2018-12-22T10:00:00\", \"2018-12-22T11:00:00\", \"2018-12-22T12:00:00\", \"2018-12-22T13:00:00\", \"2018-12-22T14:00:00\", \"2018-12-22T15:00:00\", \"2018-12-22T16:00:00\", \"2018-12-22T17:00:00\", \"2018-12-22T18:00:00\", \"2018-12-22T19:00:00\", \"2018-12-22T20:00:00\", \"2018-12-22T21:00:00\", \"2018-12-22T22:00:00\", \"2018-12-22T23:00:00\", \"2018-12-23T00:00:00\", \"2018-12-23T01:00:00\", \"2018-12-23T02:00:00\", \"2018-12-23T03:00:00\", \"2018-12-23T04:00:00\", \"2018-12-23T05:00:00\", \"2018-12-23T06:00:00\", \"2018-12-23T07:00:00\", \"2018-12-23T08:00:00\", \"2018-12-23T09:00:00\", \"2018-12-23T10:00:00\", \"2018-12-23T11:00:00\", \"2018-12-23T12:00:00\", \"2018-12-23T13:00:00\", \"2018-12-23T14:00:00\", \"2018-12-23T15:00:00\", \"2018-12-23T16:00:00\", \"2018-12-23T17:00:00\", \"2018-12-23T18:00:00\", \"2018-12-23T19:00:00\", \"2018-12-23T20:00:00\", \"2018-12-23T21:00:00\", \"2018-12-23T22:00:00\", \"2018-12-23T23:00:00\", \"2018-12-24T00:00:00\", \"2018-12-24T01:00:00\", \"2018-12-24T02:00:00\", \"2018-12-24T03:00:00\", \"2018-12-24T04:00:00\", \"2018-12-24T05:00:00\", \"2018-12-24T06:00:00\", \"2018-12-24T07:00:00\", \"2018-12-24T08:00:00\", \"2018-12-24T09:00:00\", \"2018-12-24T10:00:00\", \"2018-12-24T11:00:00\", \"2018-12-24T12:00:00\", \"2018-12-24T13:00:00\", \"2018-12-24T14:00:00\", \"2018-12-24T15:00:00\", \"2018-12-24T16:00:00\", \"2018-12-24T17:00:00\", \"2018-12-24T18:00:00\", \"2018-12-24T19:00:00\", \"2018-12-24T20:00:00\", \"2018-12-24T21:00:00\", \"2018-12-24T22:00:00\", \"2018-12-24T23:00:00\", \"2018-12-25T00:00:00\", \"2018-12-25T01:00:00\", \"2018-12-25T02:00:00\", \"2018-12-25T03:00:00\", \"2018-12-25T04:00:00\", \"2018-12-25T05:00:00\", \"2018-12-25T06:00:00\", \"2018-12-25T07:00:00\", \"2018-12-25T08:00:00\", \"2018-12-25T09:00:00\", \"2018-12-25T10:00:00\", \"2018-12-25T11:00:00\", \"2018-12-25T12:00:00\", \"2018-12-25T13:00:00\", \"2018-12-25T14:00:00\", \"2018-12-25T15:00:00\", \"2018-12-25T16:00:00\", \"2018-12-25T17:00:00\", \"2018-12-25T18:00:00\", \"2018-12-25T19:00:00\", \"2018-12-25T20:00:00\", \"2018-12-25T21:00:00\", \"2018-12-25T22:00:00\", \"2018-12-25T23:00:00\", \"2018-12-26T00:00:00\", \"2018-12-26T01:00:00\", \"2018-12-26T02:00:00\", \"2018-12-26T03:00:00\", \"2018-12-26T04:00:00\", \"2018-12-26T05:00:00\", \"2018-12-26T06:00:00\", \"2018-12-26T07:00:00\", \"2018-12-26T08:00:00\", \"2018-12-26T09:00:00\", \"2018-12-26T10:00:00\", \"2018-12-26T11:00:00\", \"2018-12-26T12:00:00\", \"2018-12-26T13:00:00\", \"2018-12-26T14:00:00\", \"2018-12-26T15:00:00\", \"2018-12-26T16:00:00\", \"2018-12-26T17:00:00\", \"2018-12-26T18:00:00\", \"2018-12-26T19:00:00\", \"2018-12-26T20:00:00\", \"2018-12-26T21:00:00\", \"2018-12-26T22:00:00\", \"2018-12-26T23:00:00\", \"2018-12-27T00:00:00\", \"2018-12-27T01:00:00\", \"2018-12-27T02:00:00\", \"2018-12-27T03:00:00\", \"2018-12-27T04:00:00\", \"2018-12-27T05:00:00\", \"2018-12-27T06:00:00\", \"2018-12-27T07:00:00\", \"2018-12-27T08:00:00\", \"2018-12-27T09:00:00\", \"2018-12-27T10:00:00\", \"2018-12-27T11:00:00\", \"2018-12-27T12:00:00\", \"2018-12-27T13:00:00\", \"2018-12-27T14:00:00\", \"2018-12-27T15:00:00\", \"2018-12-27T16:00:00\", \"2018-12-27T17:00:00\", \"2018-12-27T18:00:00\", \"2018-12-27T19:00:00\", \"2018-12-27T20:00:00\", \"2018-12-27T21:00:00\", \"2018-12-27T22:00:00\", \"2018-12-27T23:00:00\", \"2018-12-28T00:00:00\", \"2018-12-28T01:00:00\", \"2018-12-28T02:00:00\", \"2018-12-28T03:00:00\", \"2018-12-28T04:00:00\", \"2018-12-28T05:00:00\", \"2018-12-28T06:00:00\", \"2018-12-28T07:00:00\", \"2018-12-28T08:00:00\", \"2018-12-28T09:00:00\", \"2018-12-28T10:00:00\", \"2018-12-28T11:00:00\", \"2018-12-28T12:00:00\", \"2018-12-28T13:00:00\", \"2018-12-28T14:00:00\", \"2018-12-28T15:00:00\", \"2018-12-28T16:00:00\", \"2018-12-28T17:00:00\", \"2018-12-28T18:00:00\", \"2018-12-28T19:00:00\", \"2018-12-28T20:00:00\", \"2018-12-28T21:00:00\", \"2018-12-28T22:00:00\", \"2018-12-28T23:00:00\", \"2018-12-29T00:00:00\", \"2018-12-29T01:00:00\", \"2018-12-29T02:00:00\", \"2018-12-29T03:00:00\", \"2018-12-29T04:00:00\", \"2018-12-29T05:00:00\", \"2018-12-29T06:00:00\", \"2018-12-29T07:00:00\", \"2018-12-29T08:00:00\", \"2018-12-29T09:00:00\", \"2018-12-29T10:00:00\", \"2018-12-29T11:00:00\", \"2018-12-29T12:00:00\", \"2018-12-29T13:00:00\", \"2018-12-29T14:00:00\", \"2018-12-29T15:00:00\", \"2018-12-29T16:00:00\", \"2018-12-29T17:00:00\", \"2018-12-29T18:00:00\", \"2018-12-29T19:00:00\", \"2018-12-29T20:00:00\", \"2018-12-29T21:00:00\", \"2018-12-29T22:00:00\", \"2018-12-29T23:00:00\", \"2018-12-30T00:00:00\", \"2018-12-30T01:00:00\", \"2018-12-30T02:00:00\", \"2018-12-30T03:00:00\", \"2018-12-30T04:00:00\", \"2018-12-30T05:00:00\", \"2018-12-30T06:00:00\", \"2018-12-30T07:00:00\", \"2018-12-30T08:00:00\", \"2018-12-30T09:00:00\", \"2018-12-30T10:00:00\", \"2018-12-30T11:00:00\", \"2018-12-30T12:00:00\", \"2018-12-30T13:00:00\", \"2018-12-30T14:00:00\", \"2018-12-30T15:00:00\", \"2018-12-30T16:00:00\", \"2018-12-30T17:00:00\", \"2018-12-30T18:00:00\", \"2018-12-30T19:00:00\", \"2018-12-30T20:00:00\", \"2018-12-30T21:00:00\", \"2018-12-30T22:00:00\", \"2018-12-30T23:00:00\", \"2018-12-31T00:00:00\", \"2018-12-31T01:00:00\", \"2018-12-31T02:00:00\", \"2018-12-31T03:00:00\", \"2018-12-31T04:00:00\", \"2018-12-31T05:00:00\", \"2018-12-31T06:00:00\", \"2018-12-31T07:00:00\", \"2018-12-31T08:00:00\", \"2018-12-31T09:00:00\", \"2018-12-31T10:00:00\", \"2018-12-31T11:00:00\", \"2018-12-31T12:00:00\", \"2018-12-31T13:00:00\", \"2018-12-31T14:00:00\", \"2018-12-31T15:00:00\", \"2018-12-31T16:00:00\", \"2018-12-31T17:00:00\", \"2018-12-31T18:00:00\", \"2018-12-31T19:00:00\", \"2018-12-31T20:00:00\", \"2018-12-31T21:00:00\", \"2018-12-31T22:00:00\", \"2018-12-31T23:00:00\"], \"y\": [284.2, 284.2, 390.9, 390.9, 390.9, 491.5, 491.5, 491.5, 731.8, 731.8, 601.1, 601.1, 491.5, 284.2, 211.3, 211.3, 211.3, 145.2, 145.2, 145.2, 145.2, 145.2, 145.2, 145.2, 93.3, 42.2, 0.0, 0.0, 0.0, 0.0, 0.0, 0.0, 0.0, 0.0, 0.0, 0.0, 0.0, 0.0, 0.0, 0.0, 0.0, 0.0, 0.0, 0.0, 0.0, 0.0, 0.0, 0.0, 0.0, 0.0, 0.0, 0.0, 0.0, 0.0, 0.0, 0.0, 0.0, 0.0, 0.0, 0.0, 0.0, 0.0, 0.0, 0.0, 0.0, 0.0, 0.0, 0.0, 0.0, 0.0, 0.0, 0.0, 0.0, 0.0, 0.0, 0.0, 0.0, 0.0, 0.0, 0.0, 0.0, 0.0, 0.0, 0.0, 0.0, 0.0, 0.0, 0.0, 0.0, 42.2, 93.3, 145.2, 211.3, 284.2, 284.2, 390.9, 390.9, 491.5, 491.5, 491.5, 491.5, 491.5, 491.5, 491.5, 491.5, 491.5, 390.9, 390.9, 390.9, 284.2, 284.2, 284.2, 284.2, 284.2, 284.2, 211.3, 211.3, 211.3, 211.3, 145.2, 211.3, 211.3, 284.2, 284.2, 284.2, 284.2, 284.2, 284.2, 284.2, 284.2, 284.2, 284.2, 211.3, 145.2, 93.3, 93.3, 93.3, 93.3, 42.2, 42.2, 0.0, 0.0, 0.0, 0.0, 42.2, 42.2, 93.3, 93.3, 145.2, 145.2, 145.2, 145.2, 145.2, 145.2, 211.3, 211.3, 211.3, 211.3, 211.3, 211.3, 211.3, 211.3, 145.2, 145.2, 145.2, 93.3, 42.2, 42.2, 42.2, 0.0, 0.0, 0.0, 0.0, 0.0, 0.0, 0.0, 0.0, 0.0, 0.0, 0.0, 0.0, 0.0, 0.0, 0.0, 0.0, 0.0, 0.0, 0.0, 0.0, 0.0, 0.0, 0.0, 0.0, 0.0, 0.0, 0.0, 0.0, 0.0, 0.0, 0.0, 0.0, 0.0, 0.0, 0.0, 0.0, 0.0, 0.0, 0.0, 0.0, 0.0, 0.0, 0.0, 0.0, 0.0, 0.0, 0.0, 0.0, 0.0, 0.0, 0.0, 0.0, 0.0, 0.0, 0.0, 0.0, 0.0, 0.0, 0.0, 0.0, 0.0, 0.0, 0.0, 0.0, 0.0, 0.0, 0.0, 0.0, 0.0, 0.0, 0.0, 0.0, 0.0, 0.0, 0.0, 0.0, 0.0, 0.0, 0.0, 0.0, 0.0, 0.0, 0.0, 0.0, 0.0, 0.0, 0.0, 0.0, 0.0, 0.0, 42.2, 42.2, 93.3, 93.3, 93.3, 93.3, 42.2, 42.2, 42.2, 42.2, 42.2, 42.2, 42.2, 42.2, 0.0, 0.0, 0.0, 0.0, 0.0, 0.0, 0.0, 0.0, 42.2, 42.2, 42.2, 42.2, 0.0, 0.0, 0.0, 0.0, 0.0, 0.0, 0.0, 0.0, 0.0, 0.0, 0.0, 0.0, 0.0, 0.0, 0.0, 0.0, 0.0, 0.0, 0.0, 0.0, 0.0, 0.0, 0.0, 0.0, 0.0, 0.0, 0.0, 0.0, 0.0, 0.0, 0.0, 0.0, 0.0, 0.0, 0.0, 0.0, 0.0, 0.0, 0.0, 0.0, 0.0, 0.0, 0.0, 0.0, 0.0, 0.0, 0.0, 0.0, 0.0, 0.0, 0.0, 0.0, 0.0, 42.2, 42.2, 42.2, 42.2, 0.0, 0.0, 0.0, 0.0, 0.0, 0.0, 0.0, 0.0, 0.0, 0.0, 0.0, 0.0, 0.0, 0.0, 0.0, 0.0, 0.0, 0.0, 42.2, 42.2, 93.3, 42.2, 42.2, 42.2, 42.2, 0.0, 0.0, 0.0, 0.0, 0.0, 0.0, 0.0, 0.0, 0.0, 0.0, 0.0, 0.0, 42.2, 42.2, 42.2, 93.3, 93.3, 93.3, 93.3, 93.3, 93.3, 93.3, 93.3, 93.3, 93.3, 93.3, 145.2, 145.2, 145.2, 145.2, 211.3, 211.3, 211.3, 211.3, 284.2, 284.2, 284.2, 390.9, 390.9, 390.9, 491.5, 491.5, 601.1, 601.1, 601.1, 601.1, 491.5, 390.9, 390.9, 284.2, 145.2, 93.3, 42.2, 42.2, 42.2, 93.3, 42.2, 0.0, 0.0, 0.0, 0.0, 42.2, 93.3, 145.2, 284.2, 491.5, 731.8, 1087.6, 1247.1, 1247.1, 1247.1, 1429.6, 1429.6, 1594.3, 1429.6, 1429.6, 1429.6, 1247.1, 884.5, 731.8, 731.8, 601.1, 601.1, 601.1, 491.5, 390.9, 284.2, 211.3, 211.3, 145.2, 42.2, 0.0, 0.0, 0.0, 0.0, 0.0, 0.0, 0.0, 0.0, 0.0, 0.0, 0.0, 0.0, 0.0, 42.2, 93.3, 93.3, 145.2, 145.2, 145.2, 211.3, 211.3, 211.3, 211.3, 284.2, 284.2, 284.2, 390.9, 491.5, 491.5, 491.5, 491.5, 731.8, 884.5, 1087.6, 884.5, 601.1, 491.5, 390.9, 211.3, 145.2, 93.3, 42.2, 0.0, 42.2, 145.2, 211.3, 211.3, 284.2, 284.2, 284.2, 284.2, 390.9, 284.2, 284.2, 284.2, 390.9, 390.9, 491.5, 491.5, 491.5, 601.1, 491.5, 390.9, 390.9, 284.2, 211.3, 145.2, 93.3, 93.3, 93.3, 93.3, 93.3, 93.3, 93.3, 93.3, 42.2, 93.3, 93.3, 145.2, 145.2, 211.3, 211.3, 145.2, 93.3, 0.0, 0.0, 0.0, 0.0, 0.0, 42.2, 93.3, 93.3, 93.3, 93.3, 93.3, 145.2, 145.2, 93.3, 93.3, 93.3, 42.2, 0.0, 0.0, 0.0, 0.0, 0.0, 0.0, 0.0, 0.0, 0.0, 0.0, 0.0, 0.0, 0.0, 0.0, 0.0, 0.0, 0.0, 0.0, 0.0, 0.0, 0.0, 0.0, 42.2, 93.3, 145.2, 211.3, 211.3, 211.3, 211.3, 211.3, 211.3, 211.3, 145.2, 145.2, 93.3, 93.3, 93.3, 93.3, 42.2, 42.2, 42.2, 42.2, 42.2, 42.2, 42.2, 0.0, 0.0, 0.0, 0.0, 42.2, 0.0, 0.0, 0.0, 0.0, 0.0, 0.0, 0.0, 0.0, 0.0, 0.0, 0.0, 0.0, 0.0, 0.0, 0.0, 0.0, 0.0, 0.0, 0.0, 0.0, 0.0, 0.0, 42.2, 93.3, 42.2, 42.2, 42.2, 0.0, 0.0, 0.0, 0.0, 0.0, 0.0, 0.0, 0.0, 0.0, 0.0, 0.0, 0.0, 0.0, 0.0, 0.0, 0.0, 0.0, 0.0, 42.2, 93.3, 145.2, 145.2, 93.3, 93.3, 0.0, 0.0, 0.0, 0.0, 0.0, 0.0, 0.0, 0.0, 0.0, 0.0, 0.0, 0.0, 0.0, 0.0, 42.2, 42.2, 42.2, 42.2, 93.3, 145.2, 145.2, 93.3, 93.3, 42.2, 0.0, 0.0, 0.0, 0.0, 0.0, 0.0, 0.0, 0.0, 0.0, 0.0, 0.0, 0.0, 42.2, 42.2, 93.3, 93.3, 93.3, 145.2, 145.2, 145.2, 145.2, 145.2, 145.2, 211.3, 211.3, 211.3, 211.3, 211.3, 211.3, 211.3, 211.3, 211.3, 211.3, 284.2, 284.2, 284.2, 284.2, 390.9, 390.9, 390.9, 390.9, 390.9, 390.9, 491.5, 491.5, 491.5, 601.1, 601.1, 491.5, 390.9, 284.2, 284.2, 284.2, 284.2, 284.2, 284.2, 284.2, 284.2, 211.3, 211.3, 211.3, 211.3, 211.3, 211.3, 211.3, 211.3, 211.3, 211.3, 145.2, 211.3, 390.9, 491.5, 390.9, 284.2, 211.3, 284.2, 491.5, 601.1, 731.8, 731.8, 731.8, 601.1, 390.9, 284.2, 284.2, 390.9, 491.5, 491.5, 491.5, 601.1, 390.9, 284.2, 145.2, 211.3, 284.2, 390.9, 390.9, 491.5, 491.5, 491.5, 601.1, 601.1, 601.1, 601.1, 601.1, 390.9, 284.2, 211.3, 284.2, 491.5, 601.1, 731.8, 731.8, 731.8, 884.5, 1087.6, 1247.1, 1247.1, 1247.1, 1087.6, 601.1, 211.3, 0.0, 93.3, 284.2, 491.5, 601.1, 601.1, 731.8, 491.5, 390.9, 211.3, 390.9, 491.5, 601.1, 601.1, 491.5, 491.5, 284.2, 211.3, 93.3, 42.2, 0.0, 0.0, 0.0, 42.2, 93.3, 145.2, 211.3, 284.2, 284.2, 284.2, 284.2, 211.3, 145.2, 145.2, 145.2, 145.2, 145.2, 211.3, 211.3, 284.2, 284.2, 211.3, 211.3, 211.3, 211.3, 284.2, 284.2, 284.2, 284.2, 284.2, 284.2, 284.2, 284.2, 211.3, 211.3, 145.2, 93.3, 93.3, 145.2, 211.3, 390.9, 284.2, 211.3, 145.2, 93.3, 42.2, 0.0, 0.0, 42.2, 93.3, 93.3, 93.3, 42.2, 0.0, 0.0, 0.0, 0.0, 0.0, 0.0, 0.0, 0.0, 0.0, 0.0, 0.0, 0.0, 0.0, 0.0, 0.0, 0.0, 0.0, 0.0, 0.0, 0.0, 0.0, 0.0, 0.0, 0.0, 0.0, 0.0, 0.0, 0.0, 0.0, 0.0, 0.0, 0.0, 0.0, 0.0, 0.0, 0.0, 0.0, 0.0, 0.0, 0.0, 0.0, 0.0, 0.0, 0.0, 0.0, 0.0, 0.0, 0.0, 0.0, 0.0, 0.0, 0.0, 0.0, 0.0, 0.0, 0.0, 0.0, 0.0, 0.0, 0.0, 0.0, 0.0, 0.0, 0.0, 0.0, 0.0, 0.0, 0.0, 0.0, 0.0, 0.0, 0.0, 0.0, 42.2, 42.2, 93.3, 93.3, 93.3, 145.2, 211.3, 284.2, 284.2, 284.2, 284.2, 284.2, 211.3, 211.3, 93.3, 42.2, 0.0, 0.0, 0.0, 42.2, 93.3, 211.3, 284.2, 211.3, 211.3, 145.2, 145.2, 93.3, 93.3, 42.2, 0.0, 0.0, 0.0, 0.0, 0.0, 0.0, 0.0, 0.0, 0.0, 0.0, 0.0, 0.0, 0.0, 0.0, 0.0, 0.0, 0.0, 0.0, 0.0, 0.0, 0.0, 0.0, 0.0, 0.0, 0.0, 0.0, 0.0, 0.0, 0.0, 0.0, 0.0, 0.0, 0.0, 0.0, 0.0, 0.0, 0.0, 0.0, 0.0, 0.0, 0.0, 0.0, 0.0, 0.0, 0.0, 0.0, 0.0, 0.0, 0.0, 0.0, 0.0, 0.0, 0.0, 0.0, 42.2, 42.2, 93.3, 211.3, 284.2, 390.9, 601.1, 731.8, 731.8, 731.8, 731.8, 884.5, 884.5, 1087.6, 1087.6, 884.5, 884.5, 884.5, 884.5, 884.5, 731.8, 731.8, 601.1, 601.1, 491.5, 491.5, 491.5, 601.1, 731.8, 731.8, 731.8, 731.8, 491.5, 211.3, 93.3, 42.2, 42.2, 0.0, 0.0, 0.0, 0.0, 42.2, 42.2, 42.2, 42.2, 42.2, 42.2, 42.2, 42.2, 42.2, 211.3, 390.9, 601.1, 601.1, 601.1, 731.8, 491.5, 284.2, 145.2, 42.2, 0.0, 0.0, 0.0, 0.0, 0.0, 0.0, 0.0, 0.0, 0.0, 0.0, 0.0, 0.0, 0.0, 0.0, 0.0, 0.0, 0.0, 0.0, 0.0, 0.0, 0.0, 0.0, 0.0, 0.0, 0.0, 0.0, 0.0, 0.0, 0.0, 0.0, 0.0, 0.0, 42.2, 93.3, 145.2, 145.2, 145.2, 145.2, 93.3, 42.2, 0.0, 145.2, 390.9, 601.1, 491.5, 390.9, 211.3, 284.2, 284.2, 390.9, 390.9, 390.9, 390.9, 284.2, 284.2, 211.3, 284.2, 390.9, 491.5, 284.2, 211.3, 145.2, 93.3, 93.3, 93.3, 93.3, 145.2, 145.2, 145.2, 145.2, 93.3, 42.2, 42.2, 0.0, 0.0, 0.0, 0.0, 0.0, 0.0, 0.0, 0.0, 0.0, 0.0, 0.0, 0.0, 0.0, 0.0, 42.2, 93.3, 284.2, 601.1, 1087.6, 731.8, 491.5, 284.2, 284.2, 284.2, 211.3, 284.2, 390.9, 491.5, 284.2, 145.2, 0.0, 0.0, 0.0, 0.0, 0.0, 0.0, 0.0, 42.2, 284.2, 731.8, 731.8, 731.8, 731.8, 731.8, 731.8, 731.8, 731.8, 731.8, 731.8, 601.1, 491.5, 390.9, 390.9, 390.9, 491.5, 390.9, 284.2, 284.2, 211.3, 145.2, 93.3, 211.3, 390.9, 601.1, 601.1, 601.1, 601.1, 491.5, 390.9, 284.2, 390.9, 491.5, 601.1, 601.1, 601.1, 601.1, 491.5, 284.2, 211.3, 145.2, 93.3, 0.0, 42.2, 42.2, 42.2, 145.2, 284.2, 601.1, 884.5, 1247.1, 1594.3, 1247.1, 884.5, 731.8, 491.5, 284.2, 211.3, 211.3, 145.2, 145.2, 211.3, 211.3, 211.3, 211.3, 211.3, 211.3, 211.3, 211.3, 145.2, 390.9, 731.8, 1087.6, 1087.6, 1087.6, 884.5, 601.1, 390.9, 211.3, 145.2, 93.3, 93.3, 42.2, 0.0, 0.0, 0.0, 0.0, 0.0, 0.0, 0.0, 0.0, 0.0, 0.0, 0.0, 0.0, 0.0, 0.0, 0.0, 0.0, 0.0, 0.0, 0.0, 0.0, 0.0, 0.0, 0.0, 0.0, 0.0, 0.0, 0.0, 0.0, 0.0, 0.0, 0.0, 0.0, 0.0, 0.0, 0.0, 0.0, 0.0, 0.0, 0.0, 0.0, 0.0, 0.0, 0.0, 0.0, 0.0, 0.0, 0.0, 0.0, 0.0, 0.0, 0.0, 0.0, 0.0, 0.0, 42.2, 42.2, 93.3, 93.3, 145.2, 491.5, 1247.1, 1861.2, 1861.2, 1861.2, 1861.2, 1594.3, 1429.6, 1247.1, 884.5, 601.1, 390.9, 211.3, 93.3, 0.0, 0.0, 0.0, 0.0, 0.0, 0.0, 0.0, 42.2, 211.3, 491.5, 601.1, 884.5, 1087.6, 1087.6, 884.5, 884.5, 601.1, 284.2, 145.2, 93.3, 42.2, 0.0, 0.0, 0.0, 0.0, 0.0, 0.0, 0.0, 0.0, 0.0, 42.2, 42.2, 93.3, 145.2, 390.9, 884.5, 1594.3, 1861.2, 1948.1, 2003.5, 1948.1, 1742.9, 1429.6, 1087.6, 390.9, 284.2, 211.3, 211.3, 145.2, 145.2, 93.3, 93.3, 42.2, 42.2, 0.0, 0.0, 0.0, 0.0, 0.0, 0.0, 93.3, 284.2, 601.1, 1087.6, 884.5, 884.5, 731.8, 601.1, 491.5, 390.9, 390.9, 390.9, 390.9, 390.9, 284.2, 284.2, 284.2, 211.3, 211.3, 145.2, 93.3, 42.2, 145.2, 211.3, 284.2, 390.9, 491.5, 601.1, 491.5, 284.2, 211.3, 93.3, 0.0, 0.0, 0.0, 0.0, 0.0, 0.0, 0.0, 0.0, 0.0, 0.0, 42.2, 42.2, 0.0, 0.0, 42.2, 93.3, 145.2, 390.9, 601.1, 1087.6, 731.8, 601.1, 390.9, 390.9, 284.2, 284.2, 284.2, 390.9, 491.5, 601.1, 731.8, 884.5, 1087.6, 1247.1, 1429.6, 1429.6, 1247.1, 1087.6, 1087.6, 1087.6, 1087.6, 884.5, 884.5, 884.5, 731.8, 491.5, 390.9, 211.3, 42.2, 0.0, 0.0, 0.0, 0.0, 0.0, 0.0, 0.0, 0.0, 0.0, 0.0, 0.0, 0.0, 0.0, 0.0, 0.0, 42.2, 42.2, 42.2, 42.2, 42.2, 42.2, 42.2, 42.2, 42.2, 0.0, 0.0, 0.0, 0.0, 0.0, 0.0, 0.0, 0.0, 0.0, 0.0, 0.0, 0.0, 0.0, 42.2, 93.3, 145.2, 211.3, 390.9, 601.1, 491.5, 390.9, 390.9, 284.2, 145.2, 93.3, 42.2, 42.2, 0.0, 0.0, 0.0, 0.0, 0.0, 0.0, 0.0, 0.0, 0.0, 0.0, 0.0, 0.0, 0.0, 0.0, 0.0, 0.0, 0.0, 0.0, 0.0, 0.0, 0.0, 0.0, 0.0, 0.0, 0.0, 0.0, 0.0, 0.0, 0.0, 0.0, 0.0, 0.0, 0.0, 0.0, 0.0, 0.0, 0.0, 0.0, 0.0, 0.0, 0.0, 0.0, 0.0, 0.0, 0.0, 0.0, 0.0, 0.0, 42.2, 42.2, 42.2, 42.2, 93.3, 93.3, 145.2, 211.3, 284.2, 390.9, 601.1, 1087.6, 1429.6, 1594.3, 1861.2, 1948.1, 1861.2, 1594.3, 1247.1, 1087.6, 1087.6, 884.5, 884.5, 884.5, 884.5, 731.8, 731.8, 731.8, 731.8, 731.8, 731.8, 731.8, 601.1, 601.1, 491.5, 491.5, 491.5, 390.9, 390.9, 390.9, 211.3, 42.2, 0.0, 0.0, 0.0, 0.0, 0.0, 0.0, 0.0, 0.0, 0.0, 0.0, 0.0, 0.0, 42.2, 93.3, 211.3, 390.9, 491.5, 601.1, 731.8, 731.8, 731.8, 731.8, 601.1, 491.5, 390.9, 284.2, 211.3, 145.2, 145.2, 93.3, 42.2, 0.0, 0.0, 0.0, 0.0, 0.0, 0.0, 0.0, 0.0, 0.0, 0.0, 42.2, 93.3, 211.3, 390.9, 491.5, 731.8, 884.5, 1087.6, 1087.6, 884.5, 884.5, 731.8, 731.8, 731.8, 731.8, 731.8, 884.5, 884.5, 884.5, 884.5, 884.5, 884.5, 884.5, 1087.6, 1247.1, 1247.1, 1247.1, 1429.6, 1429.6, 1247.1, 1247.1, 1087.6, 1087.6, 1087.6, 884.5, 884.5, 884.5, 731.8, 731.8, 601.1, 491.5, 601.1, 601.1, 731.8, 601.1, 491.5, 390.9, 491.5, 731.8, 884.5, 884.5, 884.5, 1087.6, 884.5, 731.8, 601.1, 491.5, 390.9, 211.3, 284.2, 284.2, 284.2, 211.3, 211.3, 145.2, 42.2, 0.0, 0.0, 0.0, 0.0, 0.0, 0.0, 0.0, 0.0, 0.0, 0.0, 0.0, 0.0, 0.0, 0.0, 0.0, 0.0, 0.0, 0.0, 0.0, 0.0, 0.0, 0.0, 0.0, 0.0, 0.0, 0.0, 0.0, 0.0, 0.0, 0.0, 42.2, 93.3, 93.3, 93.3, 93.3, 93.3, 93.3, 42.2, 42.2, 0.0, 0.0, 0.0, 0.0, 0.0, 0.0, 0.0, 0.0, 0.0, 0.0, 0.0, 0.0, 0.0, 0.0, 0.0, 0.0, 42.2, 42.2, 0.0, 0.0, 0.0, 0.0, 0.0, 0.0, 0.0, 0.0, 0.0, 0.0, 0.0, 0.0, 0.0, 0.0, 0.0, 0.0, 0.0, 0.0, 0.0, 0.0, 0.0, 0.0, 0.0, 0.0, 0.0, 0.0, 0.0, 0.0, 0.0, 0.0, 0.0, 0.0, 0.0, 0.0, 0.0, 0.0, 0.0, 0.0, 0.0, 0.0, 0.0, 0.0, 42.2, 93.3, 145.2, 284.2, 390.9, 491.5, 491.5, 491.5, 491.5, 390.9, 390.9, 211.3, 145.2, 93.3, 93.3, 93.3, 145.2, 93.3, 93.3, 93.3, 93.3, 93.3, 93.3, 42.2, 42.2, 42.2, 93.3, 145.2, 211.3, 145.2, 93.3, 0.0, 0.0, 0.0, 0.0, 0.0, 0.0, 0.0, 0.0, 42.2, 93.3, 42.2, 42.2, 42.2, 42.2, 42.2, 42.2, 0.0, 0.0, 0.0, 93.3, 211.3, 390.9, 284.2, 284.2, 211.3, 145.2, 93.3, 0.0, 42.2, 42.2, 93.3, 93.3, 42.2, 42.2, 42.2, 42.2, 42.2, 42.2, 42.2, 0.0, 42.2, 42.2, 42.2, 0.0, 0.0, 0.0, 0.0, 0.0, 0.0, 0.0, 0.0, 0.0, 0.0, 0.0, 0.0, 0.0, 0.0, 0.0, 42.2, 93.3, 93.3, 145.2, 145.2, 211.3, 211.3, 284.2, 390.9, 601.1, 884.5, 1429.6, 1429.6, 1429.6, 1429.6, 1247.1, 1247.1, 1247.1, 884.5, 601.1, 491.5, 390.9, 284.2, 211.3, 145.2, 93.3, 42.2, 42.2, 93.3, 93.3, 93.3, 145.2, 145.2, 211.3, 211.3, 284.2, 284.2, 284.2, 284.2, 390.9, 390.9, 390.9, 284.2, 211.3, 145.2, 145.2, 211.3, 211.3, 211.3, 284.2, 284.2, 211.3, 145.2, 145.2, 145.2, 211.3, 211.3, 390.9, 601.1, 731.8, 884.5, 884.5, 884.5, 731.8, 491.5, 390.9, 284.2, 145.2, 93.3, 93.3, 93.3, 93.3, 93.3, 93.3, 93.3, 93.3, 42.2, 42.2, 42.2, 42.2, 42.2, 145.2, 211.3, 284.2, 390.9, 491.5, 601.1, 390.9, 145.2, 42.2, 93.3, 145.2, 211.3, 211.3, 211.3, 211.3, 284.2, 284.2, 390.9, 284.2, 211.3, 145.2, 145.2, 93.3, 42.2, 93.3, 145.2, 211.3, 211.3, 284.2, 284.2, 145.2, 93.3, 0.0, 0.0, 0.0, 0.0, 0.0, 0.0, 0.0, 42.2, 42.2, 42.2, 42.2, 93.3, 93.3, 42.2, 42.2, 0.0, 0.0, 0.0, 0.0, 0.0, 0.0, 42.2, 42.2, 0.0, 0.0, 0.0, 0.0, 0.0, 0.0, 0.0, 0.0, 0.0, 0.0, 0.0, 0.0, 0.0, 0.0, 0.0, 0.0, 0.0, 0.0, 0.0, 0.0, 0.0, 42.2, 145.2, 211.3, 390.9, 601.1, 884.5, 1247.1, 1594.3, 1594.3, 1594.3, 1594.3, 1429.6, 1247.1, 1087.6, 1087.6, 1087.6, 884.5, 884.5, 731.8, 601.1, 731.8, 884.5, 1087.6, 884.5, 731.8, 601.1, 390.9, 284.2, 145.2, 145.2, 145.2, 145.2, 93.3, 93.3, 93.3, 145.2, 145.2, 211.3, 211.3, 145.2, 93.3, 145.2, 145.2, 145.2, 284.2, 491.5, 601.1, 731.8, 884.5, 884.5, 884.5, 884.5, 731.8, 601.1, 390.9, 390.9, 491.5, 491.5, 601.1, 601.1, 731.8, 731.8, 731.8, 884.5, 884.5, 1087.6, 1087.6, 1247.1, 1247.1, 1247.1, 1861.2, 1861.2, 1948.1, 1948.1, 1861.2, 1594.3, 1247.1, 1429.6, 1429.6, 1594.3, 1594.3, 1429.6, 1429.6, 1247.1, 1087.6, 884.5, 884.5, 884.5, 884.5, 1247.1, 1429.6, 1594.3, 1594.3, 1594.3, 1742.9, 1594.3, 1247.1, 1087.6, 1087.6, 1087.6, 1087.6, 491.5, 211.3, 0.0, 0.0, 42.2, 42.2, 93.3, 145.2, 145.2, 284.2, 390.9, 491.5, 601.1, 731.8, 731.8, 884.5, 884.5, 884.5, 1087.6, 1247.1, 1429.6, 1247.1, 884.5, 601.1, 284.2, 93.3, 0.0, 0.0, 0.0, 0.0, 0.0, 0.0, 0.0, 0.0, 0.0, 0.0, 0.0, 0.0, 0.0, 0.0, 0.0, 0.0, 0.0, 0.0, 0.0, 0.0, 0.0, 0.0, 0.0, 0.0, 42.2, 0.0, 0.0, 0.0, 0.0, 0.0, 0.0, 0.0, 42.2, 42.2, 93.3, 93.3, 145.2, 390.9, 731.8, 1247.1, 1087.6, 884.5, 884.5, 601.1, 390.9, 211.3, 93.3, 42.2, 0.0, 0.0, 0.0, 0.0, 0.0, 0.0, 0.0, 0.0, 0.0, 0.0, 0.0, 0.0, 0.0, 0.0, 0.0, 0.0, 0.0, 0.0, 42.2, 93.3, 93.3, 93.3, 93.3, 42.2, 42.2, 42.2, 42.2, 42.2, 42.2, 0.0, 0.0, 0.0, 0.0, 0.0, 0.0, 0.0, 0.0, 0.0, 0.0, 0.0, 0.0, 0.0, 0.0, 0.0, 0.0, 0.0, 0.0, 0.0, 0.0, 0.0, 0.0, 0.0, 0.0, 0.0, 0.0, 0.0, 0.0, 0.0, 0.0, 0.0, 93.3, 93.3, 145.2, 211.3, 284.2, 491.5, 601.1, 390.9, 284.2, 145.2, 93.3, 42.2, 0.0, 93.3, 284.2, 491.5, 390.9, 284.2, 284.2, 284.2, 284.2, 390.9, 491.5, 601.1, 731.8, 731.8, 884.5, 884.5, 884.5, 731.8, 731.8, 884.5, 884.5, 1087.6, 731.8, 491.5, 211.3, 211.3, 145.2, 93.3, 93.3, 93.3, 145.2, 93.3, 42.2, 42.2, 93.3, 145.2, 211.3, 211.3, 145.2, 145.2, 93.3, 93.3, 42.2, 0.0, 0.0, 0.0, 0.0, 0.0, 42.2, 42.2, 42.2, 42.2, 0.0, 0.0, 0.0, 0.0, 0.0, 0.0, 0.0, 0.0, 0.0, 0.0, 0.0, 42.2, 42.2, 42.2, 42.2, 93.3, 145.2, 211.3, 211.3, 145.2, 93.3, 93.3, 93.3, 145.2, 93.3, 93.3, 93.3, 93.3, 93.3, 93.3, 211.3, 284.2, 491.5, 601.1, 731.8, 884.5, 884.5, 884.5, 884.5, 731.8, 491.5, 390.9, 211.3, 145.2, 42.2, 42.2, 0.0, 0.0, 0.0, 0.0, 0.0, 0.0, 0.0, 0.0, 0.0, 0.0, 0.0, 93.3, 145.2, 284.2, 491.5, 601.1, 884.5, 731.8, 601.1, 491.5, 145.2, 0.0, 0.0, 0.0, 0.0, 0.0, 0.0, 0.0, 0.0, 0.0, 42.2, 42.2, 93.3, 145.2, 211.3, 93.3, 42.2, 0.0, 0.0, 0.0, 0.0, 0.0, 0.0, 0.0, 0.0, 0.0, 0.0, 0.0, 0.0, 0.0, 0.0, 0.0, 0.0, 0.0, 0.0, 0.0, 0.0, 0.0, 0.0, 0.0, 42.2, 93.3, 284.2, 601.1, 1087.6, 731.8, 491.5, 390.9, 284.2, 284.2, 284.2, 284.2, 211.3, 145.2, 93.3, 0.0, 0.0, 0.0, 0.0, 0.0, 0.0, 93.3, 211.3, 211.3, 284.2, 284.2, 284.2, 284.2, 211.3, 145.2, 93.3, 93.3, 0.0, 0.0, 0.0, 0.0, 0.0, 0.0, 0.0, 0.0, 0.0, 0.0, 0.0, 0.0, 42.2, 93.3, 145.2, 211.3, 284.2, 390.9, 390.9, 390.9, 390.9, 390.9, 390.9, 390.9, 284.2, 284.2, 211.3, 211.3, 211.3, 211.3, 211.3, 211.3, 211.3, 211.3, 145.2, 145.2, 93.3, 93.3, 93.3, 93.3, 93.3, 93.3, 93.3, 93.3, 145.2, 145.2, 145.2, 93.3, 42.2, 0.0, 0.0, 0.0, 0.0, 0.0, 0.0, 0.0, 0.0, 0.0, 0.0, 0.0, 0.0, 0.0, 0.0, 0.0, 0.0, 0.0, 0.0, 0.0, 0.0, 42.2, 93.3, 211.3, 93.3, 42.2, 0.0, 0.0, 0.0, 0.0, 0.0, 0.0, 0.0, 0.0, 0.0, 0.0, 0.0, 0.0, 0.0, 0.0, 0.0, 0.0, 0.0, 0.0, 0.0, 0.0, 0.0, 0.0, 0.0, 0.0, 0.0, 0.0, 0.0, 0.0, 0.0, 0.0, 0.0, 0.0, 0.0, 0.0, 0.0, 0.0, 0.0, 0.0, 0.0, 0.0, 0.0, 0.0, 0.0, 0.0, 0.0, 0.0, 0.0, 0.0, 0.0, 0.0, 0.0, 0.0, 0.0, 0.0, 0.0, 0.0, 0.0, 0.0, 0.0, 0.0, 0.0, 0.0, 0.0, 0.0, 0.0, 0.0, 0.0, 0.0, 0.0, 0.0, 0.0, 0.0, 0.0, 0.0, 0.0, 0.0, 0.0, 0.0, 0.0, 0.0, 0.0, 0.0, 0.0, 0.0, 0.0, 0.0, 0.0, 0.0, 0.0, 0.0, 0.0, 0.0, 0.0, 0.0, 0.0, 0.0, 0.0, 0.0, 0.0, 0.0, 0.0, 0.0, 93.3, 93.3, 93.3, 145.2, 145.2, 145.2, 211.3, 145.2, 145.2, 145.2, 93.3, 0.0, 0.0, 0.0, 0.0, 0.0, 0.0, 0.0, 0.0, 0.0, 0.0, 0.0, 0.0, 0.0, 0.0, 0.0, 0.0, 42.2, 93.3, 145.2, 211.3, 284.2, 491.5, 601.1, 731.8, 884.5, 1087.6, 884.5, 601.1, 491.5, 390.9, 284.2, 145.2, 145.2, 211.3, 211.3, 145.2, 145.2, 145.2, 42.2, 0.0, 0.0, 0.0, 42.2, 93.3, 93.3, 93.3, 93.3, 93.3, 42.2, 42.2, 42.2, 42.2, 42.2, 0.0, 0.0, 0.0, 0.0, 0.0, 0.0, 0.0, 0.0, 0.0, 0.0, 0.0, 0.0, 0.0, 0.0, 0.0, 93.3, 211.3, 390.9, 491.5, 731.8, 884.5, 731.8, 731.8, 731.8, 390.9, 211.3, 93.3, 93.3, 42.2, 42.2, 42.2, 0.0, 0.0, 0.0, 0.0, 0.0, 0.0, 0.0, 0.0, 0.0, 0.0, 0.0, 0.0, 0.0, 0.0, 0.0, 0.0, 0.0, 0.0, 0.0, 0.0, 0.0, 0.0, 0.0, 0.0, 0.0, 0.0, 0.0, 0.0, 0.0, 0.0, 0.0, 0.0, 0.0, 0.0, 0.0, 0.0, 0.0, 0.0, 0.0, 0.0, 0.0, 42.2, 93.3, 93.3, 93.3, 93.3, 93.3, 93.3, 93.3, 93.3, 93.3, 93.3, 145.2, 145.2, 93.3, 93.3, 284.2, 601.1, 884.5, 884.5, 731.8, 731.8, 601.1, 491.5, 390.9, 284.2, 211.3, 211.3, 145.2, 145.2, 145.2, 93.3, 93.3, 93.3, 42.2, 42.2, 42.2, 0.0, 0.0, 0.0, 0.0, 0.0, 42.2, 42.2, 42.2, 93.3, 42.2, 42.2, 0.0, 0.0, 0.0, 0.0, 0.0, 0.0, 0.0, 0.0, 0.0, 0.0, 0.0, 0.0, 0.0, 0.0, 0.0, 0.0, 0.0, 0.0, 0.0, 0.0, 0.0, 0.0, 0.0, 0.0, 0.0, 0.0, 0.0, 93.3, 0.0, 0.0, 0.0, 0.0, 0.0, 0.0, 0.0, 0.0, 0.0, 0.0, 0.0, 0.0, 0.0, 0.0, 0.0, 0.0, 0.0, 0.0, 0.0, 0.0, 93.3, 42.2, 42.2, 0.0, 0.0, 0.0, 0.0, 0.0, 0.0, 0.0, 0.0, 0.0, 0.0, 0.0, 0.0, 0.0, 0.0, 0.0, 0.0, 0.0, 0.0, 0.0, 0.0, 0.0, 0.0, 0.0, 0.0, 0.0, 0.0, 0.0, 0.0, 0.0, 0.0, 0.0, 0.0, 0.0, 0.0, 0.0, 0.0, 0.0, 0.0, 0.0, 0.0, 0.0, 0.0, 0.0, 0.0, 0.0, 0.0, 0.0, 0.0, 0.0, 0.0, 0.0, 0.0, 0.0, 0.0, 0.0, 0.0, 0.0, 0.0, 0.0, 0.0, 0.0, 0.0, 0.0, 0.0, 0.0, 0.0, 0.0, 0.0, 0.0, 0.0, 0.0, 0.0, 42.2, 42.2, 0.0, 0.0, 0.0, 0.0, 0.0, 0.0, 0.0, 0.0, 0.0, 0.0, 0.0, 42.2, 93.3, 211.3, 145.2, 42.2, 0.0, 0.0, 0.0, 0.0, 0.0, 0.0, 0.0, 0.0, 0.0, 0.0, 0.0, 0.0, 0.0, 0.0, 0.0, 0.0, 0.0, 0.0, 42.2, 42.2, 93.3, 145.2, 93.3, 93.3, 93.3, 93.3, 93.3, 93.3, 93.3, 93.3, 93.3, 42.2, 42.2, 42.2, 42.2, 42.2, 42.2, 0.0, 0.0, 0.0, 0.0, 0.0, 0.0, 0.0, 0.0, 0.0, 0.0, 0.0, 0.0, 0.0, 0.0, 0.0, 0.0, 0.0, 0.0, 0.0, 0.0, 0.0, 0.0, 0.0, 0.0, 0.0, 0.0, 0.0, 0.0, 0.0, 0.0, 0.0, 0.0, 0.0, 0.0, 0.0, 0.0, 0.0, 0.0, 0.0, 0.0, 0.0, 42.2, 0.0, 0.0, 0.0, 0.0, 0.0, 0.0, 0.0, 0.0, 0.0, 0.0, 0.0, 0.0, 0.0, 0.0, 0.0, 0.0, 0.0, 0.0, 0.0, 0.0, 0.0, 0.0, 0.0, 42.2, 42.2, 0.0, 0.0, 0.0, 0.0, 0.0, 0.0, 0.0, 0.0, 0.0, 0.0, 42.2, 0.0, 0.0, 0.0, 0.0, 0.0, 0.0, 0.0, 0.0, 0.0, 0.0, 0.0, 0.0, 0.0, 0.0, 0.0, 0.0, 0.0, 0.0, 0.0, 0.0, 0.0, 0.0, 0.0, 0.0, 42.2, 145.2, 284.2, 390.9, 601.1, 884.5, 601.1, 390.9, 145.2, 211.3, 284.2, 390.9, 390.9, 284.2, 284.2, 211.3, 145.2, 145.2, 145.2, 145.2, 145.2, 211.3, 211.3, 211.3, 284.2, 390.9, 491.5, 491.5, 390.9, 390.9, 491.5, 491.5, 601.1, 390.9, 284.2, 145.2, 93.3, 93.3, 42.2, 42.2, 0.0, 0.0, 0.0, 0.0, 0.0, 145.2, 491.5, 884.5, 884.5, 884.5, 884.5, 884.5, 884.5, 884.5, 601.1, 491.5, 284.2, 211.3, 93.3, 42.2, 0.0, 0.0, 0.0, 0.0, 0.0, 0.0, 0.0, 0.0, 0.0, 0.0, 42.2, 93.3, 42.2, 42.2, 0.0, 0.0, 0.0, 0.0, 0.0, 0.0, 0.0, 0.0, 0.0, 0.0, 0.0, 0.0, 0.0, 0.0, 0.0, 0.0, 0.0, 0.0, 0.0, 0.0, 42.2, 145.2, 211.3, 284.2, 491.5, 491.5, 491.5, 601.1, 601.1, 731.8, 884.5, 731.8, 601.1, 491.5, 491.5, 491.5, 491.5, 491.5, 601.1, 601.1, 731.8, 731.8, 731.8, 884.5, 884.5, 884.5, 1247.1, 1429.6, 1742.9, 1594.3, 1594.3, 1429.6, 1429.6, 1247.1, 1247.1, 731.8, 390.9, 145.2, 93.3, 0.0, 0.0, 0.0, 0.0, 0.0, 0.0, 0.0, 0.0, 0.0, 0.0, 0.0, 0.0, 0.0, 0.0, 42.2, 42.2, 93.3, 93.3, 145.2, 145.2, 93.3, 93.3, 42.2, 42.2, 42.2, 0.0, 0.0, 0.0, 0.0, 0.0, 0.0, 0.0, 0.0, 0.0, 0.0, 0.0, 0.0, 0.0, 0.0, 42.2, 93.3, 93.3, 42.2, 42.2, 42.2, 0.0, 0.0, 0.0, 42.2, 42.2, 0.0, 0.0, 0.0, 0.0, 0.0, 0.0, 0.0, 0.0, 0.0, 0.0, 0.0, 0.0, 42.2, 145.2, 284.2, 284.2, 211.3, 211.3, 145.2, 93.3, 0.0, 42.2, 42.2, 42.2, 42.2, 42.2, 42.2, 42.2, 42.2, 42.2, 93.3, 145.2, 145.2, 284.2, 491.5, 601.1, 731.8, 731.8, 884.5, 731.8, 601.1, 601.1, 284.2, 145.2, 0.0, 0.0, 42.2, 42.2, 42.2, 42.2, 42.2, 0.0, 0.0, 0.0, 0.0, 0.0, 0.0, 42.2, 93.3, 145.2, 284.2, 491.5, 601.1, 731.8, 884.5, 1087.6, 601.1, 284.2, 93.3, 42.2, 42.2, 0.0, 0.0, 42.2, 42.2, 42.2, 0.0, 0.0, 0.0, 0.0, 0.0, 93.3, 211.3, 284.2, 390.9, 491.5, 601.1, 601.1, 491.5, 491.5, 211.3, 93.3, 0.0, 0.0, 42.2, 42.2, 0.0, 0.0, 0.0, 0.0, 0.0, 0.0, 42.2, 145.2, 211.3, 211.3, 211.3, 284.2, 211.3, 145.2, 93.3, 211.3, 390.9, 601.1, 390.9, 211.3, 145.2, 93.3, 42.2, 0.0, 0.0, 0.0, 0.0, 0.0, 0.0, 0.0, 42.2, 145.2, 284.2, 390.9, 491.5, 601.1, 601.1, 601.1, 601.1, 601.1, 601.1, 601.1, 284.2, 93.3, 0.0, 0.0, 0.0, 0.0, 0.0, 0.0, 0.0, 0.0, 0.0, 0.0, 0.0, 0.0, 0.0, 0.0, 145.2, 284.2, 284.2, 211.3, 211.3, 211.3, 211.3, 211.3, 93.3, 0.0, 0.0, 0.0, 0.0, 0.0, 0.0, 0.0, 0.0, 0.0, 0.0, 0.0, 0.0, 0.0, 0.0, 0.0, 0.0, 0.0, 42.2, 42.2, 93.3, 93.3, 93.3, 93.3, 42.2, 0.0, 0.0, 0.0, 0.0, 0.0, 0.0, 0.0, 0.0, 0.0, 0.0, 0.0, 0.0, 0.0, 0.0, 0.0, 0.0, 0.0, 0.0, 0.0, 0.0, 0.0, 0.0, 0.0, 0.0, 0.0, 0.0, 0.0, 0.0, 0.0, 0.0, 0.0, 0.0, 0.0, 0.0, 0.0, 0.0, 0.0, 0.0, 0.0, 0.0, 0.0, 0.0, 0.0, 0.0, 0.0, 0.0, 0.0, 0.0, 0.0, 0.0, 0.0, 0.0, 0.0, 0.0, 0.0, 0.0, 0.0, 0.0, 0.0, 42.2, 93.3, 145.2, 211.3, 284.2, 491.5, 491.5, 491.5, 601.1, 390.9, 284.2, 211.3, 93.3, 0.0, 0.0, 0.0, 0.0, 0.0, 0.0, 0.0, 0.0, 0.0, 0.0, 0.0, 0.0, 0.0, 0.0, 0.0, 0.0, 0.0, 0.0, 0.0, 0.0, 0.0, 42.2, 93.3, 42.2, 0.0, 0.0, 0.0, 0.0, 0.0, 0.0, 0.0, 0.0, 0.0, 0.0, 0.0, 0.0, 93.3, 211.3, 211.3, 211.3, 284.2, 284.2, 211.3, 211.3, 284.2, 284.2, 284.2, 145.2, 0.0, 0.0, 0.0, 0.0, 0.0, 0.0, 0.0, 0.0, 0.0, 0.0, 0.0, 0.0, 0.0, 0.0, 93.3, 145.2, 211.3, 211.3, 211.3, 211.3, 211.3, 284.2, 284.2, 145.2, 42.2, 0.0, 0.0, 0.0, 0.0, 0.0, 0.0, 0.0, 0.0, 0.0, 0.0, 0.0, 0.0, 0.0, 0.0, 42.2, 93.3, 93.3, 42.2, 42.2, 42.2, 93.3, 93.3, 93.3, 42.2, 42.2, 42.2, 93.3, 145.2, 93.3, 42.2, 42.2, 0.0, 0.0, 0.0, 0.0, 0.0, 0.0, 0.0, 0.0, 0.0, 0.0, 42.2, 93.3, 93.3, 93.3, 93.3, 42.2, 42.2, 0.0, 0.0, 42.2, 42.2, 42.2, 93.3, 93.3, 42.2, 42.2, 0.0, 93.3, 211.3, 390.9, 601.1, 1087.6, 1429.6, 1247.1, 884.5, 731.8, 731.8, 601.1, 601.1, 390.9, 145.2, 42.2, 42.2, 42.2, 42.2, 93.3, 93.3, 145.2, 93.3, 93.3, 93.3, 145.2, 211.3, 284.2, 284.2, 284.2, 284.2, 284.2, 211.3, 211.3, 284.2, 390.9, 491.5, 284.2, 145.2, 42.2, 42.2, 42.2, 42.2, 42.2, 42.2, 93.3, 93.3, 93.3, 93.3, 145.2, 284.2, 390.9, 491.5, 731.8, 884.5, 884.5, 884.5, 1087.6, 884.5, 884.5, 884.5, 390.9, 145.2, 0.0, 0.0, 0.0, 0.0, 0.0, 0.0, 0.0, 0.0, 0.0, 0.0, 0.0, 0.0, 42.2, 211.3, 491.5, 884.5, 731.8, 601.1, 601.1, 731.8, 1087.6, 1247.1, 1087.6, 731.8, 601.1, 601.1, 601.1, 731.8, 731.8, 731.8, 731.8, 731.8, 731.8, 601.1, 731.8, 884.5, 1087.6, 1247.1, 1247.1, 1429.6, 1247.1, 1087.6, 1087.6, 884.5, 601.1, 491.5, 491.5, 390.9, 284.2, 145.2, 93.3, 42.2, 0.0, 0.0, 0.0, 0.0, 0.0, 0.0, 93.3, 211.3, 390.9, 491.5, 601.1, 884.5, 601.1, 491.5, 390.9, 390.9, 284.2, 284.2, 145.2, 42.2, 0.0, 0.0, 42.2, 93.3, 42.2, 42.2, 0.0, 0.0, 0.0, 0.0, 42.2, 145.2, 211.3, 491.5, 884.5, 1429.6, 1247.1, 884.5, 731.8, 884.5, 884.5, 884.5, 491.5, 211.3, 42.2, 93.3, 145.2, 211.3, 145.2, 93.3, 42.2, 0.0, 0.0, 0.0, 0.0, 42.2, 42.2, 145.2, 211.3, 390.9, 284.2, 211.3, 145.2, 145.2, 145.2, 145.2, 42.2, 0.0, 0.0, 0.0, 0.0, 0.0, 0.0, 0.0, 0.0, 0.0, 0.0, 0.0, 0.0, 0.0, 0.0, 0.0, 0.0, 0.0, 0.0, 42.2, 93.3, 42.2, 42.2, 0.0, 0.0, 0.0, 0.0, 0.0, 0.0, 0.0, 0.0, 0.0, 0.0, 0.0, 0.0, 0.0, 0.0, 0.0, 0.0, 0.0, 0.0, 0.0, 0.0, 0.0, 0.0, 0.0, 0.0, 0.0, 0.0, 0.0, 0.0, 0.0, 0.0, 0.0, 0.0, 0.0, 0.0, 0.0, 0.0, 0.0, 0.0, 0.0, 42.2, 42.2, 93.3, 145.2, 42.2, 0.0, 0.0, 0.0, 0.0, 0.0, 0.0, 0.0, 0.0, 0.0, 0.0, 0.0, 0.0, 0.0, 0.0, 0.0, 0.0, 0.0, 0.0, 0.0, 42.2, 0.0, 0.0, 0.0, 0.0, 42.2, 42.2, 42.2, 0.0, 0.0, 0.0, 0.0, 0.0, 0.0, 0.0, 0.0, 0.0, 0.0, 0.0, 0.0, 0.0, 0.0, 145.2, 284.2, 601.1, 601.1, 731.8, 731.8, 601.1, 491.5, 390.9, 284.2, 211.3, 145.2, 93.3, 0.0, 0.0, 0.0, 0.0, 0.0, 0.0, 42.2, 145.2, 145.2, 145.2, 211.3, 145.2, 145.2, 93.3, 42.2, 42.2, 0.0, 93.3, 211.3, 390.9, 390.9, 284.2, 284.2, 211.3, 145.2, 145.2, 93.3, 93.3, 93.3, 145.2, 211.3, 284.2, 284.2, 211.3, 145.2, 491.5, 884.5, 1594.3, 1594.3, 1594.3, 1594.3, 1594.3, 1429.6, 1429.6, 1247.1, 1087.6, 884.5, 491.5, 145.2, 0.0, 0.0, 42.2, 93.3, 42.2, 0.0, 0.0, 0.0, 0.0, 0.0, 0.0, 42.2, 93.3, 211.3, 390.9, 601.1, 731.8, 884.5, 1087.6, 884.5, 731.8, 601.1, 284.2, 93.3, 0.0, 0.0, 0.0, 42.2, 42.2, 0.0, 0.0, 0.0, 0.0, 0.0, 0.0, 42.2, 42.2, 93.3, 145.2, 211.3, 284.2, 284.2, 284.2, 145.2, 42.2, 0.0, 0.0, 0.0, 42.2, 93.3, 93.3, 145.2, 145.2, 93.3, 93.3, 93.3, 93.3, 93.3, 145.2, 284.2, 390.9, 390.9, 284.2, 284.2, 145.2, 0.0, 0.0, 0.0, 0.0, 0.0, 0.0, 0.0, 0.0, 0.0, 0.0, 0.0, 0.0, 42.2, 93.3, 145.2, 211.3, 390.9, 211.3, 145.2, 42.2, 145.2, 284.2, 491.5, 390.9, 284.2, 284.2, 284.2, 284.2, 284.2, 211.3, 145.2, 145.2, 145.2, 145.2, 145.2, 145.2, 211.3, 211.3, 284.2, 284.2, 390.9, 491.5, 731.8, 1087.6, 1087.6, 884.5, 884.5, 884.5, 884.5, 884.5, 884.5, 1087.6, 1087.6, 601.1, 390.9, 145.2, 93.3, 42.2, 42.2, 42.2, 42.2, 42.2, 0.0, 0.0, 0.0, 42.2, 145.2, 211.3, 390.9, 491.5, 601.1, 601.1, 601.1, 601.1, 731.8, 731.8, 731.8, 491.5, 284.2, 145.2, 93.3, 42.2, 42.2, 42.2, 42.2, 42.2, 0.0, 0.0, 0.0, 93.3, 211.3, 390.9, 390.9, 491.5, 491.5, 601.1, 601.1, 731.8, 731.8, 731.8, 731.8, 390.9, 145.2, 0.0, 0.0, 0.0, 0.0, 0.0, 0.0, 0.0, 42.2, 93.3, 145.2, 390.9, 731.8, 1247.1, 1087.6, 884.5, 731.8, 601.1, 601.1, 491.5, 491.5, 390.9, 390.9, 390.9, 491.5, 491.5, 390.9, 390.9, 390.9, 390.9, 390.9, 284.2, 390.9, 491.5, 601.1, 601.1, 601.1, 601.1, 390.9, 211.3, 93.3, 145.2, 284.2, 390.9, 284.2, 211.3, 93.3, 42.2, 0.0, 0.0, 0.0, 0.0, 0.0, 0.0, 0.0, 0.0, 0.0, 0.0, 42.2, 42.2, 93.3, 93.3, 42.2, 0.0, 0.0, 0.0, 42.2, 145.2, 211.3, 284.2, 284.2, 145.2, 0.0, 0.0, 0.0, 0.0, 0.0, 42.2, 93.3, 211.3, 284.2, 390.9, 491.5, 601.1, 731.8, 884.5, 1247.1, 1429.6, 1429.6, 1429.6, 1247.1, 1247.1, 1247.1, 1429.6, 1429.6, 1247.1, 1087.6, 884.5, 601.1, 491.5, 284.2, 284.2, 211.3, 145.2, 211.3, 211.3, 284.2, 601.1, 1087.6, 1594.3, 1429.6, 1247.1, 1087.6, 1087.6, 884.5, 884.5, 884.5, 731.8, 731.8, 390.9, 145.2, 0.0, 0.0, 0.0, 42.2, 42.2, 42.2, 42.2, 42.2, 93.3, 93.3, 284.2, 731.8, 1247.1, 1429.6, 1429.6, 1594.3, 1429.6, 1429.6, 1247.1, 1087.6, 884.5, 601.1, 731.8, 884.5, 1087.6, 1087.6, 884.5, 884.5, 731.8, 491.5, 390.9, 390.9, 390.9, 390.9, 491.5, 601.1, 601.1, 601.1, 601.1, 601.1, 601.1, 601.1, 601.1, 491.5, 390.9, 390.9, 284.2, 211.3, 145.2, 93.3, 93.3, 42.2, 93.3, 145.2, 211.3, 211.3, 211.3, 211.3, 390.9, 601.1, 731.8, 884.5, 884.5, 884.5, 884.5, 731.8, 731.8, 601.1, 491.5, 491.5, 211.3, 93.3, 0.0, 0.0, 0.0, 42.2, 93.3, 145.2, 211.3, 284.2, 491.5, 601.1, 884.5, 1247.1, 1594.3, 1742.9, 1861.2, 1861.2, 1594.3, 1429.6, 1087.6, 1087.6, 1247.1, 1247.1, 884.5, 491.5, 211.3, 211.3, 211.3, 284.2, 211.3, 93.3, 42.2, 42.2, 42.2, 42.2, 145.2, 211.3, 284.2, 491.5, 601.1, 884.5, 731.8, 731.8, 601.1, 601.1, 491.5, 390.9, 211.3, 93.3, 0.0, 0.0, 0.0, 0.0, 0.0, 0.0, 0.0, 0.0, 0.0, 0.0, 0.0, 93.3, 211.3, 390.9, 491.5, 731.8, 601.1, 390.9, 211.3, 284.2, 390.9, 491.5, 390.9, 211.3, 93.3, 42.2, 42.2, 0.0, 0.0, 0.0, 0.0, 0.0, 0.0, 0.0, 0.0, 0.0, 0.0, 0.0, 0.0, 0.0, 0.0, 0.0, 0.0, 0.0, 0.0, 0.0, 0.0, 0.0, 0.0, 0.0, 0.0, 0.0, 0.0, 0.0, 0.0, 0.0, 0.0, 0.0, 0.0, 0.0, 0.0, 0.0, 0.0, 42.2, 93.3, 145.2, 211.3, 93.3, 42.2, 0.0, 0.0, 0.0, 0.0, 0.0, 0.0, 0.0, 0.0, 0.0, 0.0, 0.0, 0.0, 0.0, 0.0, 0.0, 42.2, 42.2, 42.2, 93.3, 93.3, 145.2, 145.2, 145.2, 211.3, 211.3, 145.2, 145.2, 93.3, 145.2, 211.3, 284.2, 211.3, 145.2, 93.3, 93.3, 93.3, 42.2, 145.2, 211.3, 390.9, 284.2, 284.2, 211.3, 93.3, 0.0, 0.0, 0.0, 0.0, 0.0, 0.0, 0.0, 0.0, 0.0, 42.2, 93.3, 93.3, 42.2, 0.0, 0.0, 0.0, 0.0, 0.0, 0.0, 0.0, 0.0, 0.0, 0.0, 0.0, 0.0, 0.0, 42.2, 145.2, 211.3, 145.2, 93.3, 42.2, 93.3, 93.3, 93.3, 93.3, 93.3, 93.3, 93.3, 93.3, 93.3, 145.2, 145.2, 211.3, 211.3, 211.3, 211.3, 93.3, 0.0, 0.0, 0.0, 0.0, 0.0, 0.0, 0.0, 0.0, 0.0, 0.0, 0.0, 0.0, 0.0, 0.0, 0.0, 0.0, 0.0, 0.0, 0.0, 93.3, 93.3, 93.3, 93.3, 93.3, 42.2, 0.0, 42.2, 145.2, 211.3, 145.2, 93.3, 42.2, 42.2, 0.0, 0.0, 0.0, 0.0, 0.0, 0.0, 0.0, 0.0, 0.0, 0.0, 0.0, 0.0, 0.0, 0.0, 0.0, 0.0, 0.0, 0.0, 0.0, 0.0, 0.0, 0.0, 0.0, 0.0, 42.2, 93.3, 42.2, 42.2, 42.2, 0.0, 0.0, 0.0, 0.0, 0.0, 0.0, 42.2, 145.2, 211.3, 145.2, 145.2, 93.3, 93.3, 145.2, 211.3, 145.2, 93.3, 42.2, 93.3, 93.3, 145.2, 145.2, 93.3, 93.3, 93.3, 145.2, 145.2, 145.2, 145.2, 211.3, 93.3, 0.0, 0.0, 0.0, 42.2, 145.2, 93.3, 42.2, 42.2, 0.0, 0.0, 0.0, 0.0, 0.0, 0.0, 0.0, 0.0, 0.0, 0.0, 0.0, 0.0, 0.0, 0.0, 0.0, 0.0, 0.0, 42.2, 42.2, 42.2, 0.0, 0.0, 0.0, 0.0, 0.0, 0.0, 42.2, 42.2, 42.2, 42.2, 0.0, 0.0, 0.0, 0.0, 0.0, 42.2, 93.3, 211.3, 284.2, 390.9, 491.5, 601.1, 390.9, 211.3, 145.2, 211.3, 211.3, 284.2, 145.2, 42.2, 0.0, 0.0, 0.0, 0.0, 0.0, 0.0, 0.0, 0.0, 0.0, 0.0, 0.0, 0.0, 0.0, 0.0, 0.0, 0.0, 0.0, 0.0, 0.0, 0.0, 0.0, 42.2, 42.2, 0.0, 0.0, 0.0, 0.0, 42.2, 42.2, 93.3, 93.3, 211.3, 390.9, 601.1, 601.1, 731.8, 884.5, 884.5, 731.8, 731.8, 1247.1, 1742.9, 1948.1, 1861.2, 1594.3, 1429.6, 1087.6, 731.8, 491.5, 284.2, 145.2, 42.2, 42.2, 0.0, 0.0, 0.0, 0.0, 42.2, 145.2, 211.3, 390.9, 491.5, 601.1, 884.5, 491.5, 284.2, 93.3, 93.3, 93.3, 93.3, 42.2, 0.0, 0.0, 0.0, 0.0, 0.0, 0.0, 0.0, 0.0, 0.0, 0.0, 0.0, 0.0, 0.0, 0.0, 0.0, 0.0, 0.0, 42.2, 93.3, 93.3, 42.2, 0.0, 0.0, 0.0, 0.0, 0.0, 0.0, 0.0, 0.0, 0.0, 0.0, 0.0, 0.0, 0.0, 0.0, 0.0, 0.0, 42.2, 0.0, 0.0, 0.0, 0.0, 0.0, 0.0, 0.0, 0.0, 93.3, 0.0, 0.0, 0.0, 0.0, 0.0, 0.0, 0.0, 0.0, 0.0, 0.0, 0.0, 0.0, 0.0, 0.0, 0.0, 0.0, 0.0, 0.0, 0.0, 0.0, 0.0, 0.0, 0.0, 0.0, 0.0, 0.0, 0.0, 0.0, 0.0, 0.0, 0.0, 0.0, 0.0, 0.0, 0.0, 0.0, 0.0, 42.2, 93.3, 93.3, 93.3, 42.2, 93.3, 93.3, 93.3, 93.3, 42.2, 42.2, 0.0, 0.0, 0.0, 0.0, 0.0, 0.0, 0.0, 0.0, 0.0, 0.0, 0.0, 0.0, 0.0, 0.0, 0.0, 0.0, 0.0, 0.0, 0.0, 0.0, 0.0, 0.0, 0.0, 0.0, 0.0, 0.0, 0.0, 0.0, 0.0, 0.0, 0.0, 0.0, 0.0, 0.0, 0.0, 0.0, 0.0, 0.0, 0.0, 0.0, 0.0, 0.0, 0.0, 0.0, 0.0, 0.0, 42.2, 93.3, 42.2, 0.0, 0.0, 0.0, 0.0, 0.0, 42.2, 93.3, 145.2, 145.2, 145.2, 145.2, 211.3, 211.3, 284.2, 284.2, 284.2, 284.2, 211.3, 145.2, 93.3, 211.3, 491.5, 731.8, 390.9, 93.3, 0.0, 0.0, 0.0, 0.0, 0.0, 0.0, 0.0, 0.0, 0.0, 0.0, 0.0, 42.2, 93.3, 145.2, 145.2, 211.3, 211.3, 284.2, 284.2, 390.9, 390.9, 491.5, 390.9, 491.5, 390.9, 390.9, 284.2, 211.3, 211.3, 145.2, 93.3, 42.2, 42.2, 0.0, 0.0, 0.0, 0.0, 0.0, 0.0, 0.0, 0.0, 0.0, 0.0, 42.2, 42.2, 93.3, 0.0, 0.0, 0.0, 0.0, 0.0, 0.0, 0.0, 0.0, 0.0, 0.0, 0.0, 0.0, 0.0, 0.0, 0.0, 0.0, 0.0, 0.0, 0.0, 0.0, 0.0, 0.0, 42.2, 42.2, 42.2, 42.2, 0.0, 0.0, 0.0, 0.0, 0.0, 0.0, 0.0, 0.0, 0.0, 0.0, 0.0, 0.0, 0.0, 0.0, 0.0, 0.0, 0.0, 0.0, 0.0, 0.0, 0.0, 0.0, 0.0, 0.0, 0.0, 0.0, 0.0, 0.0, 0.0, 0.0, 0.0, 0.0, 0.0, 0.0, 0.0, 0.0, 0.0, 0.0, 0.0, 0.0, 0.0, 0.0, 0.0, 0.0, 0.0, 0.0, 0.0, 0.0, 0.0, 0.0, 0.0, 0.0, 0.0, 0.0, 0.0, 0.0, 0.0, 0.0, 0.0, 0.0, 0.0, 0.0, 0.0, 0.0, 0.0, 0.0, 0.0, 0.0, 0.0, 0.0, 0.0, 0.0, 42.2, 0.0, 0.0, 0.0, 0.0, 0.0, 0.0, 0.0, 0.0, 0.0, 0.0, 0.0, 0.0, 0.0, 0.0, 0.0, 0.0, 0.0, 0.0, 0.0, 0.0, 0.0, 0.0, 0.0, 0.0, 0.0, 0.0, 0.0, 0.0, 0.0, 0.0, 0.0, 0.0, 0.0, 0.0, 42.2, 42.2, 93.3, 145.2, 211.3, 145.2, 42.2, 0.0, 42.2, 42.2, 42.2, 42.2, 42.2, 42.2, 42.2, 0.0, 0.0, 0.0, 0.0, 0.0, 0.0, 0.0, 0.0, 0.0, 0.0, 0.0, 0.0, 0.0, 0.0, 0.0, 0.0, 0.0, 0.0, 0.0, 93.3, 42.2, 0.0, 0.0, 0.0, 0.0, 0.0, 0.0, 0.0, 42.2, 42.2, 42.2, 42.2, 93.3, 93.3, 145.2, 211.3, 284.2, 284.2, 390.9, 390.9, 491.5, 491.5, 491.5, 491.5, 284.2, 145.2, 42.2, 0.0, 0.0, 0.0, 0.0, 0.0, 0.0, 0.0, 0.0, 0.0, 0.0, 0.0, 0.0, 0.0, 0.0, 0.0, 0.0, 0.0, 0.0, 0.0, 0.0, 0.0, 0.0, 0.0, 0.0, 0.0, 0.0, 0.0, 0.0, 0.0, 0.0, 0.0, 0.0, 0.0, 0.0, 0.0, 0.0, 0.0, 0.0, 0.0, 0.0, 0.0, 0.0, 0.0, 0.0, 0.0, 0.0, 0.0, 0.0, 0.0, 0.0, 0.0, 0.0, 0.0, 0.0, 0.0, 0.0, 0.0, 0.0, 0.0, 42.2, 145.2, 390.9, 601.1, 491.5, 390.9, 284.2, 284.2, 390.9, 390.9, 145.2, 0.0, 0.0, 0.0, 0.0, 0.0, 0.0, 0.0, 0.0, 0.0, 0.0, 0.0, 0.0, 0.0, 0.0, 0.0, 0.0, 0.0, 0.0, 0.0, 0.0, 0.0, 42.2, 93.3, 42.2, 0.0, 0.0, 0.0, 0.0, 0.0, 0.0, 0.0, 0.0, 0.0, 0.0, 0.0, 0.0, 0.0, 0.0, 0.0, 0.0, 0.0, 0.0, 0.0, 0.0, 0.0, 0.0, 0.0, 0.0, 0.0, 0.0, 0.0, 0.0, 0.0, 0.0, 0.0, 0.0, 0.0, 0.0, 0.0, 0.0, 0.0, 0.0, 0.0, 0.0, 0.0, 0.0, 0.0, 0.0, 0.0, 0.0, 0.0, 0.0, 0.0, 0.0, 0.0, 0.0, 0.0, 0.0, 0.0, 0.0, 0.0, 0.0, 0.0, 0.0, 0.0, 0.0, 0.0, 0.0, 0.0, 0.0, 0.0, 0.0, 0.0, 0.0, 0.0, 0.0, 0.0, 0.0, 0.0, 0.0, 0.0, 0.0, 0.0, 0.0, 0.0, 0.0, 0.0, 0.0, 0.0, 0.0, 0.0, 0.0, 0.0, 0.0, 0.0, 0.0, 0.0, 0.0, 0.0, 0.0, 0.0, 0.0, 0.0, 0.0, 0.0, 0.0, 0.0, 0.0, 0.0, 0.0, 0.0, 0.0, 0.0, 0.0, 0.0, 0.0, 0.0, 0.0, 0.0, 0.0, 0.0, 0.0, 0.0, 0.0, 42.2, 42.2, 42.2, 42.2, 0.0, 42.2, 42.2, 93.3, 93.3, 42.2, 42.2, 42.2, 42.2, 42.2, 42.2, 42.2, 42.2, 42.2, 93.3, 93.3, 145.2, 211.3, 284.2, 211.3, 211.3, 145.2, 145.2, 93.3, 93.3, 93.3, 93.3, 93.3, 93.3, 42.2, 0.0, 42.2, 93.3, 145.2, 145.2, 145.2, 145.2, 93.3, 93.3, 93.3, 42.2, 0.0, 0.0, 0.0, 0.0, 0.0, 0.0, 0.0, 0.0, 0.0, 0.0, 0.0, 0.0, 0.0, 0.0, 0.0, 0.0, 0.0, 93.3, 145.2, 284.2, 211.3, 145.2, 93.3, 93.3, 42.2, 42.2, 0.0, 0.0, 0.0, 0.0, 0.0, 0.0, 0.0, 0.0, 0.0, 0.0, 0.0, 0.0, 0.0, 0.0, 0.0, 0.0, 0.0, 0.0, 0.0, 0.0, 0.0, 0.0, 0.0, 0.0, 0.0, 0.0, 0.0, 0.0, 0.0, 0.0, 0.0, 0.0, 0.0, 0.0, 0.0, 0.0, 0.0, 0.0, 0.0, 0.0, 42.2, 93.3, 93.3, 145.2, 145.2, 145.2, 93.3, 93.3, 42.2, 0.0, 0.0, 0.0, 0.0, 0.0, 0.0, 0.0, 0.0, 0.0, 0.0, 0.0, 0.0, 0.0, 0.0, 42.2, 145.2, 284.2, 284.2, 284.2, 284.2, 284.2, 390.9, 491.5, 211.3, 93.3, 0.0, 0.0, 0.0, 0.0, 0.0, 0.0, 0.0, 0.0, 42.2, 42.2, 42.2, 93.3, 145.2, 145.2, 145.2, 145.2, 211.3, 284.2, 390.9, 284.2, 211.3, 145.2, 93.3, 0.0, 0.0, 0.0, 0.0, 0.0, 0.0, 0.0, 0.0, 0.0, 0.0, 0.0, 0.0, 0.0, 93.3, 93.3, 145.2, 211.3, 145.2, 145.2, 145.2, 93.3, 42.2, 0.0, 0.0, 0.0, 0.0, 0.0, 0.0, 0.0, 0.0, 0.0, 0.0, 0.0, 0.0, 0.0, 0.0, 0.0, 0.0, 0.0, 0.0, 42.2, 42.2, 93.3, 145.2, 93.3, 93.3, 42.2, 0.0, 0.0, 0.0, 0.0, 0.0, 0.0, 0.0, 0.0, 0.0, 0.0, 0.0, 0.0, 0.0, 0.0, 0.0, 0.0, 42.2, 93.3, 42.2, 42.2, 0.0, 42.2, 42.2, 42.2, 0.0, 0.0, 0.0, 0.0, 0.0, 0.0, 0.0, 0.0, 0.0, 0.0, 0.0, 0.0, 0.0, 0.0, 0.0, 0.0, 0.0, 42.2, 42.2, 42.2, 0.0, 42.2, 42.2, 93.3, 42.2, 42.2, 0.0, 0.0, 0.0, 0.0, 0.0, 0.0, 0.0, 0.0, 0.0, 0.0, 0.0, 0.0, 0.0, 42.2, 93.3, 93.3, 93.3, 93.3, 42.2, 42.2, 42.2, 42.2, 42.2, 0.0, 0.0, 0.0, 0.0, 0.0, 0.0, 0.0, 0.0, 0.0, 0.0, 0.0, 0.0, 0.0, 0.0, 42.2, 145.2, 211.3, 211.3, 284.2, 284.2, 211.3, 211.3, 211.3, 93.3, 0.0, 0.0, 0.0, 0.0, 0.0, 0.0, 0.0, 0.0, 42.2, 42.2, 42.2, 42.2, 42.2, 42.2, 93.3, 93.3, 284.2, 284.2, 284.2, 211.3, 93.3, 0.0, 0.0, 0.0, 0.0, 0.0, 0.0, 0.0, 0.0, 0.0, 0.0, 0.0, 0.0, 0.0, 0.0, 0.0, 0.0, 0.0, 0.0, 0.0, 0.0, 0.0, 0.0, 0.0, 0.0, 42.2, 211.3, 93.3, 0.0, 0.0, 0.0, 0.0, 0.0, 0.0, 0.0, 0.0, 0.0, 0.0, 0.0, 0.0, 0.0, 0.0, 0.0, 0.0, 0.0, 0.0, 0.0, 0.0, 0.0, 0.0, 0.0, 0.0, 0.0, 0.0, 0.0, 0.0, 0.0, 0.0, 0.0, 0.0, 0.0, 0.0, 0.0, 0.0, 0.0, 0.0, 0.0, 0.0, 0.0, 0.0, 0.0, 0.0, 42.2, 93.3, 93.3, 42.2, 0.0, 0.0, 0.0, 0.0, 0.0, 0.0, 0.0, 0.0, 0.0, 0.0, 0.0, 0.0, 0.0, 0.0, 0.0, 0.0, 42.2, 42.2, 42.2, 0.0, 0.0, 0.0, 0.0, 0.0, 0.0, 0.0, 0.0, 0.0, 0.0, 0.0, 0.0, 0.0, 0.0, 0.0, 0.0, 0.0, 0.0, 0.0, 0.0, 0.0, 0.0, 0.0, 0.0, 0.0, 0.0, 0.0, 0.0, 0.0, 0.0, 0.0, 0.0, 0.0, 0.0, 0.0, 0.0, 0.0, 0.0, 0.0, 0.0, 42.2, 145.2, 284.2, 284.2, 284.2, 284.2, 284.2, 284.2, 284.2, 390.9, 390.9, 491.5, 284.2, 145.2, 42.2, 0.0, 0.0, 0.0, 0.0, 0.0, 0.0, 0.0, 0.0, 0.0, 0.0, 0.0, 42.2, 93.3, 93.3, 145.2, 145.2, 145.2, 211.3, 211.3, 211.3, 211.3, 145.2, 93.3, 42.2, 42.2, 0.0, 0.0, 0.0, 0.0, 0.0, 0.0, 0.0, 0.0, 0.0, 42.2, 93.3, 145.2, 211.3, 284.2, 284.2, 390.9, 390.9, 284.2, 145.2, 93.3, 42.2, 0.0, 0.0, 0.0, 0.0, 42.2, 42.2, 42.2, 93.3, 42.2, 42.2, 0.0, 93.3, 145.2, 211.3, 284.2, 284.2, 284.2, 211.3, 211.3, 145.2, 93.3, 42.2, 0.0, 0.0, 0.0, 0.0, 0.0, 0.0, 0.0, 0.0, 0.0, 0.0, 0.0, 0.0, 0.0, 0.0, 0.0, 0.0, 0.0, 0.0, 0.0, 0.0, 0.0, 0.0, 0.0, 0.0, 0.0, 0.0, 0.0, 0.0, 0.0, 0.0, 0.0, 0.0, 0.0, 0.0, 0.0, 0.0, 0.0, 0.0, 0.0, 0.0, 0.0, 0.0, 0.0, 0.0, 0.0, 0.0, 0.0, 0.0, 0.0, 0.0, 0.0, 42.2, 42.2, 0.0, 0.0, 0.0, 0.0, 0.0, 0.0, 0.0, 0.0, 0.0, 0.0, 0.0, 0.0, 0.0, 0.0, 0.0, 0.0, 0.0, 0.0, 0.0, 0.0, 0.0, 0.0, 0.0, 0.0, 0.0, 0.0, 0.0, 0.0, 0.0, 0.0, 0.0, 0.0, 0.0, 0.0, 0.0, 0.0, 42.2, 42.2, 145.2, 211.3, 284.2, 284.2, 284.2, 284.2, 211.3, 211.3, 145.2, 145.2, 93.3, 93.3, 93.3, 93.3, 93.3, 42.2, 0.0, 0.0, 0.0, 0.0, 0.0, 0.0, 0.0, 0.0, 0.0, 0.0, 0.0, 0.0, 0.0, 0.0, 0.0, 0.0, 0.0, 0.0, 0.0, 0.0, 0.0, 0.0, 0.0, 0.0, 0.0, 0.0, 0.0, 0.0, 42.2, 145.2, 284.2, 491.5, 491.5, 601.1, 601.1, 601.1, 491.5, 491.5, 211.3, 93.3, 0.0, 0.0, 0.0, 0.0, 0.0, 0.0, 0.0, 0.0, 0.0, 0.0, 0.0, 0.0, 0.0, 0.0, 0.0, 0.0, 0.0, 0.0, 0.0, 0.0, 0.0, 0.0, 0.0, 0.0, 0.0, 0.0, 0.0, 0.0, 0.0, 0.0, 0.0, 0.0, 0.0, 0.0, 0.0, 0.0, 0.0, 0.0, 0.0, 0.0, 0.0, 0.0, 0.0, 0.0, 0.0, 0.0, 0.0, 0.0, 0.0, 0.0, 0.0, 0.0, 0.0, 0.0, 0.0, 0.0, 0.0, 0.0, 0.0, 0.0, 0.0, 0.0, 0.0, 0.0, 0.0, 0.0, 0.0, 0.0, 0.0, 0.0, 0.0, 0.0, 0.0, 0.0, 0.0, 0.0, 0.0, 0.0, 0.0, 0.0, 0.0, 0.0, 0.0, 0.0, 0.0, 42.2, 42.2, 93.3, 211.3, 390.9, 601.1, 491.5, 390.9, 390.9, 284.2, 284.2, 211.3, 145.2, 93.3, 42.2, 93.3, 93.3, 93.3, 145.2, 145.2, 211.3, 145.2, 145.2, 93.3, 145.2, 145.2, 145.2, 145.2, 145.2, 145.2, 145.2, 145.2, 145.2, 42.2, 0.0, 0.0, 0.0, 0.0, 0.0, 0.0, 0.0, 0.0, 0.0, 0.0, 0.0, 0.0, 0.0, 0.0, 0.0, 0.0, 0.0, 0.0, 0.0, 0.0, 0.0, 0.0, 0.0, 0.0, 0.0, 42.2, 42.2, 0.0, 0.0, 0.0, 0.0, 0.0, 0.0, 0.0, 0.0, 0.0, 0.0, 42.2, 0.0, 0.0, 0.0, 0.0, 42.2, 42.2, 42.2, 0.0, 0.0, 0.0, 0.0, 0.0, 42.2, 93.3, 145.2, 145.2, 93.3, 42.2, 0.0, 0.0, 0.0, 0.0, 0.0, 0.0, 42.2, 42.2, 93.3, 42.2, 42.2, 0.0, 0.0, 0.0, 0.0, 0.0, 0.0, 0.0, 0.0, 0.0, 0.0, 0.0, 0.0, 0.0, 0.0, 0.0, 0.0, 0.0, 0.0, 0.0, 42.2, 93.3, 145.2, 145.2, 145.2, 211.3, 284.2, 390.9, 491.5, 284.2, 145.2, 42.2, 42.2, 0.0, 0.0, 0.0, 0.0, 0.0, 0.0, 0.0, 0.0, 0.0, 93.3, 211.3, 211.3, 211.3, 211.3, 211.3, 211.3, 211.3, 42.2, 0.0, 0.0, 0.0, 0.0, 0.0, 0.0, 0.0, 0.0, 0.0, 0.0, 0.0, 0.0, 42.2, 93.3, 93.3, 145.2, 145.2, 284.2, 601.1, 884.5, 1087.6, 1247.1, 1247.1, 884.5, 601.1, 284.2, 211.3, 211.3, 145.2, 145.2, 145.2, 145.2, 145.2, 145.2, 145.2, 211.3, 211.3, 284.2, 390.9, 491.5, 601.1, 884.5, 1247.1, 1594.3, 1247.1, 884.5, 601.1, 284.2, 93.3, 0.0, 0.0, 0.0, 0.0, 0.0, 0.0, 0.0, 0.0, 0.0, 0.0, 0.0, 0.0, 0.0, 0.0, 42.2, 93.3, 145.2, 284.2, 390.9, 284.2, 211.3, 145.2, 93.3, 0.0, 0.0, 0.0, 0.0, 0.0, 0.0, 0.0, 0.0, 0.0, 0.0, 0.0, 0.0, 0.0, 0.0, 0.0, 0.0, 0.0, 0.0, 42.2, 145.2, 93.3, 93.3, 42.2, 42.2, 42.2, 42.2, 42.2, 42.2, 42.2, 42.2, 42.2, 42.2, 42.2, 42.2, 42.2, 42.2, 42.2, 42.2, 42.2, 42.2, 93.3, 93.3, 93.3, 93.3, 42.2, 0.0, 0.0, 0.0, 0.0, 0.0, 0.0, 0.0, 0.0, 0.0, 0.0, 0.0, 0.0, 0.0, 0.0, 0.0, 0.0, 0.0, 0.0, 0.0, 0.0, 0.0, 0.0, 0.0, 0.0, 42.2, 93.3, 42.2, 0.0, 0.0, 0.0, 0.0, 0.0, 0.0, 0.0, 0.0, 0.0, 0.0, 0.0, 0.0, 0.0, 0.0, 0.0, 0.0, 0.0, 0.0, 0.0, 0.0, 0.0, 0.0, 0.0, 0.0, 0.0, 0.0, 0.0, 0.0, 0.0, 0.0, 0.0, 0.0, 0.0, 0.0, 0.0, 0.0, 0.0, 0.0, 42.2, 93.3, 145.2, 93.3, 93.3, 93.3, 42.2, 0.0, 0.0, 0.0, 0.0, 0.0, 0.0, 0.0, 0.0, 0.0, 0.0, 0.0, 0.0, 0.0, 0.0, 0.0, 0.0, 0.0, 0.0, 0.0, 0.0, 0.0, 0.0, 0.0, 0.0, 0.0, 42.2, 0.0, 0.0, 0.0, 0.0, 42.2, 93.3, 145.2, 211.3, 284.2, 390.9, 491.5, 601.1, 491.5, 284.2, 211.3, 145.2, 93.3, 42.2, 42.2, 0.0, 0.0, 0.0, 0.0, 42.2, 42.2, 42.2, 42.2, 42.2, 93.3, 145.2, 145.2, 211.3, 211.3, 284.2, 390.9, 390.9, 390.9, 284.2, 211.3, 145.2, 145.2, 93.3, 145.2, 211.3, 211.3, 390.9, 491.5, 601.1, 491.5, 284.2, 211.3, 211.3, 145.2, 145.2, 145.2, 145.2, 93.3, 93.3, 93.3, 93.3, 42.2, 0.0, 0.0, 0.0, 0.0, 0.0, 0.0, 0.0, 0.0, 0.0, 42.2, 145.2, 284.2, 601.1, 884.5, 601.1, 491.5, 284.2, 390.9, 390.9, 390.9, 390.9, 491.5, 491.5, 491.5, 601.1, 601.1, 601.1, 601.1, 601.1, 731.8, 1087.6, 1247.1, 1087.6, 884.5, 731.8, 601.1, 491.5, 491.5, 211.3, 42.2, 0.0, 0.0, 0.0, 0.0, 0.0, 0.0, 0.0, 0.0, 0.0, 0.0, 0.0, 0.0, 0.0, 42.2, 93.3, 145.2, 211.3, 390.9, 491.5, 390.9, 211.3, 145.2, 145.2, 145.2, 145.2, 145.2, 145.2, 211.3, 145.2, 145.2, 93.3, 93.3, 42.2, 42.2, 42.2, 93.3, 93.3, 145.2, 211.3, 390.9, 211.3, 145.2, 93.3, 42.2, 0.0, 0.0, 0.0, 0.0, 0.0, 0.0, 0.0, 0.0, 0.0, 0.0, 0.0, 0.0, 0.0, 0.0, 0.0, 0.0, 0.0, 42.2, 145.2, 284.2, 284.2, 284.2, 284.2, 145.2, 93.3, 0.0, 0.0, 0.0, 0.0, 0.0, 0.0, 0.0, 0.0, 0.0, 0.0, 0.0, 0.0, 0.0, 0.0, 0.0, 0.0, 0.0, 0.0, 0.0, 0.0, 0.0, 42.2, 0.0, 0.0, 0.0, 0.0, 0.0, 42.2, 42.2, 0.0, 0.0, 0.0, 0.0, 0.0, 0.0, 0.0, 0.0, 0.0, 0.0, 0.0, 0.0, 42.2, 93.3, 42.2, 0.0, 0.0, 0.0, 0.0, 0.0, 0.0, 0.0, 0.0, 0.0, 0.0, 0.0, 0.0, 0.0, 0.0, 0.0, 0.0, 0.0, 0.0, 0.0, 0.0, 0.0, 0.0, 0.0, 0.0, 0.0, 42.2, 42.2, 42.2, 42.2, 42.2, 42.2, 93.3, 93.3, 93.3, 93.3, 145.2, 211.3, 284.2, 284.2, 211.3, 211.3, 390.9, 601.1, 884.5, 1087.6, 1247.1, 1594.3, 1429.6, 1247.1, 1087.6, 884.5, 601.1, 491.5, 284.2, 145.2, 93.3, 42.2, 0.0, 0.0, 0.0, 0.0, 0.0, 0.0, 0.0, 0.0, 0.0, 0.0, 0.0, 93.3, 284.2, 491.5, 491.5, 390.9, 284.2, 211.3, 145.2, 93.3, 42.2, 0.0, 0.0, 0.0, 42.2, 145.2, 211.3, 211.3, 284.2, 284.2, 284.2, 284.2, 211.3, 145.2, 145.2, 93.3, 42.2, 42.2, 0.0, 0.0, 0.0, 0.0, 0.0, 0.0, 0.0, 0.0, 0.0, 0.0, 0.0, 0.0, 0.0, 0.0, 0.0, 0.0, 0.0, 0.0, 0.0, 0.0, 0.0, 0.0, 42.2, 42.2, 93.3, 93.3, 93.3, 93.3, 42.2, 0.0, 0.0, 0.0, 0.0, 0.0, 0.0, 0.0, 0.0, 0.0, 0.0, 0.0, 0.0, 0.0, 0.0, 0.0, 0.0, 0.0, 0.0, 0.0, 0.0, 0.0, 0.0, 0.0, 0.0, 0.0, 0.0, 0.0, 0.0, 0.0, 0.0, 0.0, 0.0, 0.0, 0.0, 0.0, 0.0, 0.0, 0.0, 0.0, 0.0, 0.0, 0.0, 0.0, 0.0, 0.0, 0.0, 0.0, 0.0, 0.0, 0.0, 0.0, 0.0, 0.0, 0.0, 0.0, 0.0, 0.0, 0.0, 0.0, 0.0, 0.0, 0.0, 0.0, 0.0, 0.0, 0.0, 0.0, 0.0, 0.0, 0.0, 0.0, 0.0, 0.0, 0.0, 0.0, 0.0, 0.0, 0.0, 0.0, 0.0, 0.0, 0.0, 0.0, 0.0, 0.0, 0.0, 0.0, 0.0, 0.0, 0.0, 0.0, 0.0, 0.0, 0.0, 0.0, 0.0, 0.0, 0.0, 0.0, 0.0, 0.0, 0.0, 0.0, 0.0, 0.0, 0.0, 0.0, 0.0, 0.0, 0.0, 0.0, 0.0, 0.0, 0.0, 0.0, 0.0, 0.0, 0.0, 0.0, 0.0, 0.0, 0.0, 0.0, 0.0, 0.0, 0.0, 0.0, 0.0, 0.0, 0.0, 0.0, 0.0, 0.0, 0.0, 0.0, 0.0, 0.0, 0.0, 0.0, 0.0, 0.0, 0.0, 0.0, 0.0, 0.0, 0.0, 0.0, 0.0, 0.0, 0.0, 0.0, 0.0, 0.0, 0.0, 0.0, 0.0, 0.0, 0.0, 0.0, 0.0, 0.0, 0.0, 42.2, 93.3, 145.2, 211.3, 145.2, 93.3, 42.2, 93.3, 145.2, 211.3, 211.3, 211.3, 211.3, 145.2, 145.2, 145.2, 211.3, 284.2, 390.9, 491.5, 491.5, 491.5, 491.5, 390.9, 390.9, 211.3, 145.2, 93.3, 42.2, 0.0, 0.0, 0.0, 0.0, 42.2, 42.2, 42.2, 93.3, 93.3, 93.3, 93.3, 145.2, 211.3, 284.2, 284.2, 284.2, 284.2, 284.2, 390.9, 491.5, 491.5, 491.5, 491.5, 211.3, 93.3, 0.0, 42.2, 145.2, 284.2, 284.2, 284.2, 390.9, 390.9, 390.9, 284.2, 284.2, 284.2, 284.2, 284.2, 284.2, 284.2, 284.2, 284.2, 284.2, 284.2, 284.2, 390.9, 284.2, 284.2, 211.3, 211.3, 211.3, 211.3, 145.2, 145.2, 145.2, 145.2, 93.3, 93.3, 145.2, 145.2, 211.3, 211.3, 211.3, 211.3, 211.3, 284.2, 284.2, 211.3, 145.2, 93.3, 0.0, 0.0, 0.0, 0.0, 0.0, 0.0, 0.0, 0.0, 0.0, 0.0, 0.0, 0.0, 42.2, 93.3, 145.2, 93.3, 93.3, 42.2, 0.0, 0.0, 0.0, 0.0, 42.2, 93.3, 93.3, 145.2, 145.2, 145.2, 145.2, 145.2, 145.2, 145.2, 145.2, 145.2, 145.2, 145.2, 145.2, 93.3, 93.3, 93.3, 93.3, 93.3, 93.3, 93.3, 390.9, 491.5, 601.1, 731.8, 601.1, 390.9, 211.3, 211.3, 211.3, 211.3, 211.3, 145.2, 145.2, 145.2, 145.2, 145.2, 145.2, 145.2, 145.2, 211.3, 211.3, 211.3, 211.3, 284.2, 284.2, 284.2, 284.2, 284.2, 211.3, 145.2, 93.3, 93.3, 42.2, 42.2, 42.2, 0.0, 0.0, 0.0, 0.0, 0.0, 0.0, 42.2, 42.2, 93.3, 145.2, 145.2, 284.2, 491.5, 731.8, 731.8, 884.5, 1087.6, 884.5, 884.5, 731.8, 731.8, 731.8, 731.8, 601.1, 601.1, 491.5, 390.9, 284.2, 145.2, 145.2, 93.3, 42.2, 42.2, 42.2, 42.2, 42.2, 0.0, 0.0, 0.0, 0.0, 0.0, 0.0, 0.0, 0.0, 0.0, 0.0, 0.0, 0.0, 0.0, 0.0, 0.0, 0.0, 0.0, 0.0, 0.0, 0.0, 0.0, 0.0, 0.0, 0.0, 42.2, 93.3, 93.3, 93.3, 42.2, 0.0, 0.0, 0.0, 0.0, 0.0, 0.0, 0.0, 0.0, 0.0, 0.0, 0.0, 0.0, 0.0, 0.0, 0.0, 0.0, 0.0, 0.0, 0.0, 0.0, 0.0, 0.0, 0.0, 42.2, 42.2, 42.2, 93.3, 93.3, 42.2, 42.2, 42.2, 0.0, 0.0, 0.0, 0.0, 0.0, 0.0, 0.0, 0.0, 0.0, 0.0, 0.0, 0.0, 0.0, 0.0, 0.0, 0.0, 42.2, 42.2, 42.2, 42.2, 93.3, 93.3, 93.3, 145.2, 145.2, 145.2, 211.3, 284.2, 390.9, 211.3, 145.2, 42.2, 42.2, 42.2, 93.3, 93.3, 93.3, 93.3, 93.3, 42.2, 42.2, 0.0, 0.0, 0.0, 0.0, 0.0, 0.0, 0.0, 0.0, 0.0, 0.0, 0.0, 0.0, 0.0, 0.0, 0.0, 0.0, 0.0, 42.2, 42.2, 93.3, 93.3, 145.2, 145.2, 145.2, 145.2, 93.3, 93.3, 93.3, 93.3, 42.2, 42.2, 93.3, 93.3, 93.3, 145.2, 145.2, 211.3, 284.2, 284.2, 390.9, 491.5, 491.5, 491.5, 491.5, 601.1, 601.1, 601.1, 601.1, 491.5, 390.9, 211.3, 211.3, 211.3, 211.3, 211.3, 211.3, 145.2, 211.3, 211.3, 284.2, 284.2, 284.2, 390.9, 390.9, 390.9, 390.9, 390.9, 390.9, 390.9, 491.5, 601.1, 731.8, 491.5, 284.2, 211.3, 211.3, 211.3, 145.2, 145.2, 145.2, 145.2, 93.3, 42.2, 0.0, 0.0, 0.0, 0.0, 0.0, 0.0, 0.0, 0.0, 42.2, 42.2, 93.3, 211.3, 284.2, 211.3, 93.3, 42.2, 0.0, 0.0, 0.0, 0.0, 0.0, 0.0, 0.0, 0.0, 0.0, 0.0, 0.0, 0.0, 0.0, 0.0, 0.0, 0.0, 42.2, 42.2, 42.2, 42.2, 93.3, 42.2, 42.2, 0.0, 0.0, 42.2, 42.2, 42.2, 42.2, 42.2, 42.2, 42.2, 42.2, 0.0, 0.0, 0.0, 0.0, 0.0, 0.0, 0.0, 0.0, 0.0, 0.0, 0.0, 42.2, 42.2, 93.3, 93.3, 93.3, 42.2, 42.2, 42.2, 93.3, 93.3, 93.3, 145.2, 145.2, 42.2, 0.0, 0.0, 0.0, 0.0, 0.0, 0.0, 0.0, 0.0, 0.0, 0.0, 0.0, 0.0, 0.0, 0.0, 0.0, 0.0, 0.0, 0.0, 0.0, 0.0, 0.0, 0.0, 0.0, 0.0, 0.0, 42.2, 42.2, 42.2, 42.2, 42.2, 93.3, 93.3, 93.3, 42.2, 42.2, 42.2, 42.2, 93.3, 93.3, 93.3, 93.3, 145.2, 211.3, 284.2, 284.2, 390.9, 491.5, 601.1, 731.8, 1087.6, 884.5, 731.8, 731.8, 491.5, 390.9, 284.2, 211.3, 93.3, 42.2, 0.0, 0.0, 0.0, 0.0, 93.3, 145.2, 211.3, 284.2, 491.5, 601.1, 731.8, 1087.6, 1247.1, 1247.1, 1429.6, 1247.1, 1087.6, 1087.6, 1087.6, 1087.6, 884.5, 884.5, 884.5, 731.8, 601.1, 390.9, 284.2, 211.3, 145.2, 93.3, 93.3, 93.3, 42.2, 93.3, 93.3, 93.3, 93.3, 93.3, 93.3, 93.3, 93.3, 42.2, 93.3, 145.2, 211.3, 211.3, 145.2, 93.3, 42.2, 0.0, 0.0, 0.0, 0.0, 0.0, 0.0, 0.0, 0.0, 0.0, 0.0, 0.0, 42.2, 42.2, 42.2, 0.0, 0.0, 0.0, 0.0, 42.2, 42.2, 42.2, 0.0, 0.0, 0.0, 0.0, 0.0, 0.0, 0.0, 0.0, 0.0, 0.0, 0.0, 0.0, 0.0, 0.0, 0.0, 0.0, 0.0, 0.0, 0.0, 0.0, 42.2, 93.3, 211.3, 211.3, 211.3, 211.3, 145.2, 93.3, 0.0, 0.0, 0.0, 0.0, 0.0, 0.0, 0.0, 0.0, 0.0, 0.0, 0.0, 42.2, 42.2, 42.2, 42.2, 93.3, 93.3, 93.3, 145.2, 145.2, 145.2, 145.2, 145.2, 211.3, 211.3, 211.3, 211.3, 284.2, 284.2, 390.9, 390.9, 491.5, 601.1, 731.8, 884.5, 884.5, 1087.6, 1087.6, 1247.1, 1429.6, 1429.6, 1247.1, 1247.1, 1429.6, 1594.3, 1594.3, 1247.1, 731.8, 491.5, 390.9, 390.9, 390.9, 390.9, 390.9, 390.9, 390.9, 284.2, 284.2, 284.2, 284.2, 284.2, 390.9, 491.5, 491.5, 491.5, 491.5, 390.9, 390.9, 390.9, 284.2, 211.3, 93.3, 42.2, 42.2, 42.2, 93.3, 42.2, 42.2, 42.2, 42.2, 42.2, 93.3, 93.3, 93.3, 93.3, 93.3, 93.3, 42.2, 93.3, 145.2, 145.2, 145.2, 145.2, 93.3, 42.2, 0.0, 0.0, 0.0, 0.0, 0.0, 0.0, 0.0, 0.0, 0.0, 0.0, 0.0, 0.0, 0.0, 0.0, 0.0, 0.0, 0.0, 42.2, 93.3, 93.3, 145.2, 211.3, 211.3, 211.3, 145.2, 93.3, 145.2, 145.2, 145.2, 93.3, 93.3, 42.2, 0.0, 0.0, 0.0, 0.0, 0.0, 0.0, 0.0, 0.0, 0.0, 0.0, 0.0, 0.0, 0.0, 0.0, 0.0, 0.0, 0.0, 0.0, 0.0, 0.0, 0.0, 0.0, 0.0, 0.0, 0.0, 0.0, 0.0, 42.2, 42.2, 93.3, 93.3, 145.2, 145.2, 284.2, 390.9, 491.5, 601.1, 884.5, 1087.6, 884.5, 731.8, 491.5, 491.5, 390.9, 284.2, 390.9, 390.9, 390.9, 390.9, 491.5, 491.5, 601.1, 601.1, 731.8, 731.8, 601.1, 601.1, 731.8, 884.5, 1087.6, 1247.1, 1429.6, 1742.9, 1594.3, 1594.3, 1429.6, 1247.1, 1247.1, 1247.1, 1087.6, 1087.6, 1087.6, 884.5, 884.5, 884.5, 731.8, 601.1, 601.1, 601.1, 601.1, 601.1, 731.8, 884.5, 1087.6, 1087.6, 1247.1, 1429.6, 884.5, 491.5, 211.3, 211.3, 491.5, 390.9, 390.9, 390.9, 284.2, 284.2, 211.3, 211.3, 211.3, 145.2, 145.2, 93.3, 93.3, 93.3, 42.2, 42.2, 93.3, 145.2, 211.3, 390.9, 390.9, 390.9, 284.2, 390.9, 491.5, 601.1, 491.5, 284.2, 211.3, 145.2, 93.3, 93.3, 93.3, 93.3, 145.2, 93.3, 93.3, 93.3, 0.0, 0.0, 0.0, 0.0, 0.0, 0.0, 0.0, 0.0, 0.0, 0.0, 0.0, 0.0, 0.0, 0.0, 0.0, 0.0, 0.0, 42.2, 0.0, 0.0, 0.0, 0.0, 0.0, 0.0, 0.0, 0.0, 0.0, 0.0, 0.0, 0.0, 0.0, 42.2, 145.2, 93.3, 93.3, 42.2, 42.2, 0.0, 0.0, 0.0, 0.0, 0.0, 42.2, 42.2, 93.3, 93.3, 93.3, 93.3, 0.0, 0.0, 0.0, 0.0, 0.0, 0.0, 0.0, 0.0, 0.0, 0.0, 0.0, 0.0, 0.0, 0.0, 0.0, 0.0, 0.0, 0.0, 0.0, 0.0, 0.0, 42.2, 42.2, 93.3, 145.2, 284.2, 390.9, 211.3, 93.3, 0.0, 145.2, 390.9, 884.5, 601.1, 491.5, 390.9, 491.5, 491.5, 601.1, 1087.6, 1429.6, 1861.2, 1429.6, 731.8, 390.9, 390.9, 284.2, 211.3, 145.2, 93.3, 42.2, 42.2, 93.3, 93.3, 93.3, 93.3, 93.3, 42.2, 42.2, 42.2, 0.0, 0.0, 0.0, 0.0, 0.0, 0.0, 0.0, 0.0, 0.0, 0.0, 42.2, 42.2, 42.2, 42.2, 93.3, 42.2, 0.0, 0.0, 0.0, 0.0, 0.0, 0.0, 0.0, 0.0, 0.0, 0.0, 0.0, 0.0, 0.0, 0.0, 0.0, 0.0, 0.0, 0.0, 0.0, 0.0, 0.0, 0.0, 0.0, 0.0, 0.0, 0.0, 0.0, 0.0, 0.0, 0.0, 42.2, 42.2, 42.2, 42.2, 42.2, 93.3, 145.2, 145.2, 145.2, 145.2, 93.3, 284.2, 601.1, 884.5, 1247.1, 1429.6, 1594.3, 1429.6, 1247.1, 1087.6, 1087.6, 1087.6, 1087.6, 884.5, 731.8, 731.8, 601.1, 491.5, 491.5, 491.5, 491.5, 491.5, 884.5, 1429.6, 1861.2, 1742.9, 1742.9, 1742.9, 1594.3, 1429.6, 1429.6, 1594.3, 1742.9, 1861.2, 1429.6, 1087.6, 601.1, 884.5, 1087.6, 1429.6, 1247.1, 884.5, 731.8, 601.1, 390.9, 284.2, 211.3, 211.3, 211.3, 284.2, 491.5, 731.8, 390.9, 211.3, 42.2, 211.3, 390.9, 731.8, 491.5, 284.2, 145.2, 145.2, 145.2, 93.3, 93.3, 145.2, 145.2, 145.2, 145.2, 145.2, 93.3, 93.3, 42.2, 42.2, 93.3, 93.3, 93.3, 93.3, 93.3, 145.2, 211.3, 284.2, 211.3, 211.3, 145.2, 145.2, 145.2, 211.3, 284.2, 390.9, 491.5, 601.1, 884.5, 1087.6, 884.5, 884.5, 731.8, 601.1, 491.5, 390.9, 491.5, 601.1, 601.1, 884.5, 1087.6, 1429.6, 1247.1, 1087.6, 1087.6, 731.8, 491.5, 284.2, 211.3, 145.2, 42.2, 42.2, 42.2, 42.2, 42.2, 0.0, 0.0, 42.2, 42.2, 42.2, 42.2, 42.2, 42.2, 145.2, 211.3, 390.9, 390.9, 390.9, 390.9, 390.9, 390.9, 491.5, 491.5, 491.5, 491.5, 284.2, 145.2, 42.2, 42.2, 42.2, 42.2, 42.2, 42.2, 42.2, 0.0, 0.0, 0.0, 0.0, 0.0, 0.0, 0.0, 0.0, 42.2, 42.2, 0.0, 0.0, 0.0, 0.0, 0.0, 0.0, 0.0, 0.0, 42.2, 42.2, 42.2, 0.0, 0.0, 0.0, 0.0, 0.0, 0.0, 0.0, 0.0, 0.0, 0.0, 0.0, 0.0, 0.0, 0.0, 93.3, 145.2, 211.3, 211.3, 211.3, 145.2, 93.3, 145.2, 211.3, 284.2, 390.9, 390.9, 390.9, 390.9, 284.2, 284.2, 284.2, 211.3, 211.3, 284.2, 390.9, 491.5, 390.9, 284.2, 284.2, 145.2, 93.3, 42.2, 0.0, 0.0, 0.0, 0.0, 0.0, 0.0, 0.0, 0.0, 0.0, 0.0, 0.0, 0.0, 0.0, 0.0, 0.0, 0.0, 0.0, 0.0, 0.0, 0.0, 42.2, 42.2, 42.2, 42.2, 42.2, 42.2, 93.3, 145.2, 284.2, 390.9, 491.5, 601.1, 731.8, 601.1, 601.1, 491.5, 491.5, 390.9, 390.9, 390.9, 390.9, 491.5, 491.5, 491.5, 491.5, 491.5, 491.5, 491.5, 491.5, 390.9, 284.2, 390.9, 491.5, 491.5, 491.5, 390.9, 284.2, 284.2, 211.3, 211.3, 211.3, 211.3, 211.3, 211.3, 211.3, 211.3, 145.2, 93.3, 0.0, 0.0, 0.0, 0.0, 0.0, 0.0, 0.0, 0.0, 0.0, 0.0, 0.0, 0.0, 0.0, 0.0, 0.0, 0.0, 0.0, 0.0, 0.0, 93.3, 211.3, 491.5, 284.2, 211.3, 93.3, 42.2, 42.2, 0.0, 0.0, 0.0, 0.0, 0.0, 0.0, 0.0, 0.0, 42.2, 93.3, 93.3, 145.2, 211.3, 145.2, 93.3, 42.2, 93.3, 145.2, 211.3, 211.3, 145.2, 145.2, 93.3, 93.3, 93.3, 93.3, 145.2, 145.2, 145.2, 93.3, 93.3, 145.2, 211.3, 284.2, 284.2, 390.9, 491.5, 491.5, 491.5, 491.5, 491.5, 491.5, 491.5, 390.9, 284.2, 284.2, 284.2, 284.2, 390.9, 390.9, 390.9, 491.5, 601.1, 731.8, 884.5, 884.5, 884.5, 884.5, 731.8, 731.8, 601.1, 390.9, 284.2, 145.2, 145.2, 145.2, 145.2, 93.3, 93.3, 42.2, 42.2, 0.0, 0.0, 0.0, 0.0, 0.0, 0.0, 0.0, 0.0, 0.0, 0.0, 42.2, 145.2, 284.2, 491.5, 601.1, 731.8, 884.5, 884.5, 884.5, 884.5, 884.5, 884.5, 884.5, 1087.6, 1087.6, 1087.6, 1087.6, 1087.6, 1087.6, 1087.6, 884.5, 884.5, 731.8, 601.1, 491.5, 491.5, 491.5, 491.5, 491.5, 491.5, 601.1, 390.9, 211.3, 145.2, 93.3, 93.3, 93.3, 93.3, 42.2, 42.2, 42.2, 42.2, 42.2, 0.0, 0.0, 0.0, 0.0, 0.0, 0.0, 0.0, 0.0, 0.0, 0.0, 0.0, 0.0, 0.0, 0.0, 0.0, 0.0, 0.0, 0.0, 0.0, 0.0, 0.0, 0.0, 0.0, 0.0, 0.0, 0.0, 0.0, 0.0, 0.0, 42.2, 0.0, 0.0, 0.0, 0.0, 0.0, 0.0, 0.0, 0.0, 0.0, 0.0, 0.0, 0.0, 0.0, 0.0, 0.0, 0.0, 0.0, 0.0, 42.2, 93.3, 145.2, 145.2, 211.3, 211.3, 145.2, 93.3, 42.2, 42.2, 42.2, 42.2, 93.3, 145.2, 284.2, 284.2, 390.9, 390.9, 491.5, 601.1, 601.1, 491.5, 390.9, 284.2, 284.2, 284.2, 284.2, 284.2, 284.2, 284.2, 211.3, 145.2, 145.2, 211.3, 284.2, 284.2, 390.9, 390.9, 390.9, 390.9, 390.9, 390.9, 390.9, 390.9, 284.2, 211.3, 211.3, 145.2, 211.3, 284.2, 390.9, 284.2, 284.2, 211.3, 211.3, 145.2, 145.2, 211.3, 211.3, 284.2, 284.2, 284.2, 284.2, 284.2, 93.3, 93.3, 145.2, 145.2, 145.2, 211.3, 211.3, 284.2]}],                        {\"plot_bgcolor\": \"skyblue\", \"template\": {\"data\": {\"bar\": [{\"error_x\": {\"color\": \"#2a3f5f\"}, \"error_y\": {\"color\": \"#2a3f5f\"}, \"marker\": {\"line\": {\"color\": \"#E5ECF6\", \"width\": 0.5}}, \"type\": \"bar\"}], \"barpolar\": [{\"marker\": {\"line\": {\"color\": \"#E5ECF6\", \"width\": 0.5}}, \"type\": \"barpolar\"}], \"carpet\": [{\"aaxis\": {\"endlinecolor\": \"#2a3f5f\", \"gridcolor\": \"white\", \"linecolor\": \"white\", \"minorgridcolor\": \"white\", \"startlinecolor\": \"#2a3f5f\"}, \"baxis\": {\"endlinecolor\": \"#2a3f5f\", \"gridcolor\": \"white\", \"linecolor\": \"white\", \"minorgridcolor\": \"white\", \"startlinecolor\": \"#2a3f5f\"}, \"type\": \"carpet\"}], \"choropleth\": [{\"colorbar\": {\"outlinewidth\": 0, \"ticks\": \"\"}, \"type\": \"choropleth\"}], \"contour\": [{\"colorbar\": {\"outlinewidth\": 0, \"ticks\": \"\"}, \"colorscale\": [[0.0, \"#0d0887\"], [0.1111111111111111, \"#46039f\"], [0.2222222222222222, \"#7201a8\"], [0.3333333333333333, \"#9c179e\"], [0.4444444444444444, \"#bd3786\"], [0.5555555555555556, \"#d8576b\"], [0.6666666666666666, \"#ed7953\"], [0.7777777777777778, \"#fb9f3a\"], [0.8888888888888888, \"#fdca26\"], [1.0, \"#f0f921\"]], \"type\": \"contour\"}], \"contourcarpet\": [{\"colorbar\": {\"outlinewidth\": 0, \"ticks\": \"\"}, \"type\": \"contourcarpet\"}], \"heatmap\": [{\"colorbar\": {\"outlinewidth\": 0, \"ticks\": \"\"}, \"colorscale\": [[0.0, \"#0d0887\"], [0.1111111111111111, \"#46039f\"], [0.2222222222222222, \"#7201a8\"], [0.3333333333333333, \"#9c179e\"], [0.4444444444444444, \"#bd3786\"], [0.5555555555555556, \"#d8576b\"], [0.6666666666666666, \"#ed7953\"], [0.7777777777777778, \"#fb9f3a\"], [0.8888888888888888, \"#fdca26\"], [1.0, \"#f0f921\"]], \"type\": \"heatmap\"}], \"heatmapgl\": [{\"colorbar\": {\"outlinewidth\": 0, \"ticks\": \"\"}, \"colorscale\": [[0.0, \"#0d0887\"], [0.1111111111111111, \"#46039f\"], [0.2222222222222222, \"#7201a8\"], [0.3333333333333333, \"#9c179e\"], [0.4444444444444444, \"#bd3786\"], [0.5555555555555556, \"#d8576b\"], [0.6666666666666666, \"#ed7953\"], [0.7777777777777778, \"#fb9f3a\"], [0.8888888888888888, \"#fdca26\"], [1.0, \"#f0f921\"]], \"type\": \"heatmapgl\"}], \"histogram\": [{\"marker\": {\"colorbar\": {\"outlinewidth\": 0, \"ticks\": \"\"}}, \"type\": \"histogram\"}], \"histogram2d\": [{\"colorbar\": {\"outlinewidth\": 0, \"ticks\": \"\"}, \"colorscale\": [[0.0, \"#0d0887\"], [0.1111111111111111, \"#46039f\"], [0.2222222222222222, \"#7201a8\"], [0.3333333333333333, \"#9c179e\"], [0.4444444444444444, \"#bd3786\"], [0.5555555555555556, \"#d8576b\"], [0.6666666666666666, \"#ed7953\"], [0.7777777777777778, \"#fb9f3a\"], [0.8888888888888888, \"#fdca26\"], [1.0, \"#f0f921\"]], \"type\": \"histogram2d\"}], \"histogram2dcontour\": [{\"colorbar\": {\"outlinewidth\": 0, \"ticks\": \"\"}, \"colorscale\": [[0.0, \"#0d0887\"], [0.1111111111111111, \"#46039f\"], [0.2222222222222222, \"#7201a8\"], [0.3333333333333333, \"#9c179e\"], [0.4444444444444444, \"#bd3786\"], [0.5555555555555556, \"#d8576b\"], [0.6666666666666666, \"#ed7953\"], [0.7777777777777778, \"#fb9f3a\"], [0.8888888888888888, \"#fdca26\"], [1.0, \"#f0f921\"]], \"type\": \"histogram2dcontour\"}], \"mesh3d\": [{\"colorbar\": {\"outlinewidth\": 0, \"ticks\": \"\"}, \"type\": \"mesh3d\"}], \"parcoords\": [{\"line\": {\"colorbar\": {\"outlinewidth\": 0, \"ticks\": \"\"}}, \"type\": \"parcoords\"}], \"pie\": [{\"automargin\": true, \"type\": \"pie\"}], \"scatter\": [{\"marker\": {\"colorbar\": {\"outlinewidth\": 0, \"ticks\": \"\"}}, \"type\": \"scatter\"}], \"scatter3d\": [{\"line\": {\"colorbar\": {\"outlinewidth\": 0, \"ticks\": \"\"}}, \"marker\": {\"colorbar\": {\"outlinewidth\": 0, \"ticks\": \"\"}}, \"type\": \"scatter3d\"}], \"scattercarpet\": [{\"marker\": {\"colorbar\": {\"outlinewidth\": 0, \"ticks\": \"\"}}, \"type\": \"scattercarpet\"}], \"scattergeo\": [{\"marker\": {\"colorbar\": {\"outlinewidth\": 0, \"ticks\": \"\"}}, \"type\": \"scattergeo\"}], \"scattergl\": [{\"marker\": {\"colorbar\": {\"outlinewidth\": 0, \"ticks\": \"\"}}, \"type\": \"scattergl\"}], \"scattermapbox\": [{\"marker\": {\"colorbar\": {\"outlinewidth\": 0, \"ticks\": \"\"}}, \"type\": \"scattermapbox\"}], \"scatterpolar\": [{\"marker\": {\"colorbar\": {\"outlinewidth\": 0, \"ticks\": \"\"}}, \"type\": \"scatterpolar\"}], \"scatterpolargl\": [{\"marker\": {\"colorbar\": {\"outlinewidth\": 0, \"ticks\": \"\"}}, \"type\": \"scatterpolargl\"}], \"scatterternary\": [{\"marker\": {\"colorbar\": {\"outlinewidth\": 0, \"ticks\": \"\"}}, \"type\": \"scatterternary\"}], \"surface\": [{\"colorbar\": {\"outlinewidth\": 0, \"ticks\": \"\"}, \"colorscale\": [[0.0, \"#0d0887\"], [0.1111111111111111, \"#46039f\"], [0.2222222222222222, \"#7201a8\"], [0.3333333333333333, \"#9c179e\"], [0.4444444444444444, \"#bd3786\"], [0.5555555555555556, \"#d8576b\"], [0.6666666666666666, \"#ed7953\"], [0.7777777777777778, \"#fb9f3a\"], [0.8888888888888888, \"#fdca26\"], [1.0, \"#f0f921\"]], \"type\": \"surface\"}], \"table\": [{\"cells\": {\"fill\": {\"color\": \"#EBF0F8\"}, \"line\": {\"color\": \"white\"}}, \"header\": {\"fill\": {\"color\": \"#C8D4E3\"}, \"line\": {\"color\": \"white\"}}, \"type\": \"table\"}]}, \"layout\": {\"annotationdefaults\": {\"arrowcolor\": \"#2a3f5f\", \"arrowhead\": 0, \"arrowwidth\": 1}, \"autotypenumbers\": \"strict\", \"coloraxis\": {\"colorbar\": {\"outlinewidth\": 0, \"ticks\": \"\"}}, \"colorscale\": {\"diverging\": [[0, \"#8e0152\"], [0.1, \"#c51b7d\"], [0.2, \"#de77ae\"], [0.3, \"#f1b6da\"], [0.4, \"#fde0ef\"], [0.5, \"#f7f7f7\"], [0.6, \"#e6f5d0\"], [0.7, \"#b8e186\"], [0.8, \"#7fbc41\"], [0.9, \"#4d9221\"], [1, \"#276419\"]], \"sequential\": [[0.0, \"#0d0887\"], [0.1111111111111111, \"#46039f\"], [0.2222222222222222, \"#7201a8\"], [0.3333333333333333, \"#9c179e\"], [0.4444444444444444, \"#bd3786\"], [0.5555555555555556, \"#d8576b\"], [0.6666666666666666, \"#ed7953\"], [0.7777777777777778, \"#fb9f3a\"], [0.8888888888888888, \"#fdca26\"], [1.0, \"#f0f921\"]], \"sequentialminus\": [[0.0, \"#0d0887\"], [0.1111111111111111, \"#46039f\"], [0.2222222222222222, \"#7201a8\"], [0.3333333333333333, \"#9c179e\"], [0.4444444444444444, \"#bd3786\"], [0.5555555555555556, \"#d8576b\"], [0.6666666666666666, \"#ed7953\"], [0.7777777777777778, \"#fb9f3a\"], [0.8888888888888888, \"#fdca26\"], [1.0, \"#f0f921\"]]}, \"colorway\": [\"#636efa\", \"#EF553B\", \"#00cc96\", \"#ab63fa\", \"#FFA15A\", \"#19d3f3\", \"#FF6692\", \"#B6E880\", \"#FF97FF\", \"#FECB52\"], \"font\": {\"color\": \"#2a3f5f\"}, \"geo\": {\"bgcolor\": \"white\", \"lakecolor\": \"white\", \"landcolor\": \"#E5ECF6\", \"showlakes\": true, \"showland\": true, \"subunitcolor\": \"white\"}, \"hoverlabel\": {\"align\": \"left\"}, \"hovermode\": \"closest\", \"mapbox\": {\"style\": \"light\"}, \"paper_bgcolor\": \"white\", \"plot_bgcolor\": \"#E5ECF6\", \"polar\": {\"angularaxis\": {\"gridcolor\": \"white\", \"linecolor\": \"white\", \"ticks\": \"\"}, \"bgcolor\": \"#E5ECF6\", \"radialaxis\": {\"gridcolor\": \"white\", \"linecolor\": \"white\", \"ticks\": \"\"}}, \"scene\": {\"xaxis\": {\"backgroundcolor\": \"#E5ECF6\", \"gridcolor\": \"white\", \"gridwidth\": 2, \"linecolor\": \"white\", \"showbackground\": true, \"ticks\": \"\", \"zerolinecolor\": \"white\"}, \"yaxis\": {\"backgroundcolor\": \"#E5ECF6\", \"gridcolor\": \"white\", \"gridwidth\": 2, \"linecolor\": \"white\", \"showbackground\": true, \"ticks\": \"\", \"zerolinecolor\": \"white\"}, \"zaxis\": {\"backgroundcolor\": \"#E5ECF6\", \"gridcolor\": \"white\", \"gridwidth\": 2, \"linecolor\": \"white\", \"showbackground\": true, \"ticks\": \"\", \"zerolinecolor\": \"white\"}}, \"shapedefaults\": {\"line\": {\"color\": \"#2a3f5f\"}}, \"ternary\": {\"aaxis\": {\"gridcolor\": \"white\", \"linecolor\": \"white\", \"ticks\": \"\"}, \"baxis\": {\"gridcolor\": \"white\", \"linecolor\": \"white\", \"ticks\": \"\"}, \"bgcolor\": \"#E5ECF6\", \"caxis\": {\"gridcolor\": \"white\", \"linecolor\": \"white\", \"ticks\": \"\"}}, \"title\": {\"x\": 0.05}, \"xaxis\": {\"automargin\": true, \"gridcolor\": \"white\", \"linecolor\": \"white\", \"ticks\": \"\", \"title\": {\"standoff\": 15}, \"zerolinecolor\": \"white\", \"zerolinewidth\": 2}, \"yaxis\": {\"automargin\": true, \"gridcolor\": \"white\", \"linecolor\": \"white\", \"ticks\": \"\", \"title\": {\"standoff\": 15}, \"zerolinecolor\": \"white\", \"zerolinewidth\": 2}}}, \"title\": {\"font\": {\"family\": \"Arial\", \"size\": 15}, \"text\": \"Hourly energy production for a 2 MW turbine\", \"xanchor\": \"auto\"}, \"xaxis\": {\"rangeselector\": {\"buttons\": [{\"count\": 2190, \"label\": \"Q1\", \"step\": \"hour\", \"stepmode\": \"todate\"}, {\"count\": 6570, \"label\": \"Q2\", \"step\": \"hour\", \"stepmode\": \"backward\"}, {\"count\": 4380, \"label\": \"Q3\", \"step\": \"hour\", \"stepmode\": \"backward\"}, {\"count\": 2190, \"label\": \"Q4\", \"step\": \"hour\", \"stepmode\": \"backward\"}, {\"step\": \"all\"}]}, \"rangeslider\": {\"visible\": true}, \"title\": {\"text\": \"Hours of the year\"}, \"type\": \"date\"}, \"yaxis\": {\"title\": {\"text\": \"Produced energy [MW]\"}}},                        {\"responsive\": true}                    ).then(function(){\n",
              "                            \n",
              "var gd = document.getElementById('22a653a8-4edf-422f-9d4d-a0269c4e3850');\n",
              "var x = new MutationObserver(function (mutations, observer) {{\n",
              "        var display = window.getComputedStyle(gd).display;\n",
              "        if (!display || display === 'none') {{\n",
              "            console.log([gd, 'removed!']);\n",
              "            Plotly.purge(gd);\n",
              "            observer.disconnect();\n",
              "        }}\n",
              "}});\n",
              "\n",
              "// Listen for the removal of the full notebook cells\n",
              "var notebookContainer = gd.closest('#notebook-container');\n",
              "if (notebookContainer) {{\n",
              "    x.observe(notebookContainer, {childList: true});\n",
              "}}\n",
              "\n",
              "// Listen for the clearing of the current output cell\n",
              "var outputEl = gd.closest('.output');\n",
              "if (outputEl) {{\n",
              "    x.observe(outputEl, {childList: true});\n",
              "}}\n",
              "\n",
              "                        })                };                            </script>        </div>\n",
              "</body>\n",
              "</html>"
            ]
          },
          "metadata": {
            "tags": []
          }
        }
      ]
    },
    {
      "cell_type": "markdown",
      "metadata": {
        "id": "Yzh6ESCP6Beo"
      },
      "source": [
        "### Saving to files\n"
      ]
    },
    {
      "cell_type": "code",
      "metadata": {
        "id": "H5XlonD3-ib-"
      },
      "source": [
        "from google.colab import files"
      ],
      "execution_count": null,
      "outputs": []
    },
    {
      "cell_type": "code",
      "metadata": {
        "colab": {
          "base_uri": "https://localhost:8080/",
          "height": 17
        },
        "id": "YIRHMNp36HNo",
        "outputId": "e2f09218-086b-45ee-a620-04502210d129"
      },
      "source": [
        "for key in final_results:\n",
        "    final_results[key].to_excel(f'{key}_w_results.xlsx')\n",
        "    files.download(f'{key}_w_results.xlsx')"
      ],
      "execution_count": null,
      "outputs": [
        {
          "output_type": "display_data",
          "data": {
            "application/javascript": [
              "\n",
              "    async function download(id, filename, size) {\n",
              "      if (!google.colab.kernel.accessAllowed) {\n",
              "        return;\n",
              "      }\n",
              "      const div = document.createElement('div');\n",
              "      const label = document.createElement('label');\n",
              "      label.textContent = `Downloading \"${filename}\": `;\n",
              "      div.appendChild(label);\n",
              "      const progress = document.createElement('progress');\n",
              "      progress.max = size;\n",
              "      div.appendChild(progress);\n",
              "      document.body.appendChild(div);\n",
              "\n",
              "      const buffers = [];\n",
              "      let downloaded = 0;\n",
              "\n",
              "      const channel = await google.colab.kernel.comms.open(id);\n",
              "      // Send a message to notify the kernel that we're ready.\n",
              "      channel.send({})\n",
              "\n",
              "      for await (const message of channel.messages) {\n",
              "        // Send a message to notify the kernel that we're ready.\n",
              "        channel.send({})\n",
              "        if (message.buffers) {\n",
              "          for (const buffer of message.buffers) {\n",
              "            buffers.push(buffer);\n",
              "            downloaded += buffer.byteLength;\n",
              "            progress.value = downloaded;\n",
              "          }\n",
              "        }\n",
              "      }\n",
              "      const blob = new Blob(buffers, {type: 'application/binary'});\n",
              "      const a = document.createElement('a');\n",
              "      a.href = window.URL.createObjectURL(blob);\n",
              "      a.download = filename;\n",
              "      div.appendChild(a);\n",
              "      a.click();\n",
              "      div.remove();\n",
              "    }\n",
              "  "
            ],
            "text/plain": [
              "<IPython.core.display.Javascript object>"
            ]
          },
          "metadata": {
            "tags": []
          }
        },
        {
          "output_type": "display_data",
          "data": {
            "application/javascript": [
              "download(\"download_049a6c7d-4442-4d4d-9446-c1b6a4f2733c\", \"Limanowski_w_results.xlsx\", 462713)"
            ],
            "text/plain": [
              "<IPython.core.display.Javascript object>"
            ]
          },
          "metadata": {
            "tags": []
          }
        },
        {
          "output_type": "display_data",
          "data": {
            "application/javascript": [
              "\n",
              "    async function download(id, filename, size) {\n",
              "      if (!google.colab.kernel.accessAllowed) {\n",
              "        return;\n",
              "      }\n",
              "      const div = document.createElement('div');\n",
              "      const label = document.createElement('label');\n",
              "      label.textContent = `Downloading \"${filename}\": `;\n",
              "      div.appendChild(label);\n",
              "      const progress = document.createElement('progress');\n",
              "      progress.max = size;\n",
              "      div.appendChild(progress);\n",
              "      document.body.appendChild(div);\n",
              "\n",
              "      const buffers = [];\n",
              "      let downloaded = 0;\n",
              "\n",
              "      const channel = await google.colab.kernel.comms.open(id);\n",
              "      // Send a message to notify the kernel that we're ready.\n",
              "      channel.send({})\n",
              "\n",
              "      for await (const message of channel.messages) {\n",
              "        // Send a message to notify the kernel that we're ready.\n",
              "        channel.send({})\n",
              "        if (message.buffers) {\n",
              "          for (const buffer of message.buffers) {\n",
              "            buffers.push(buffer);\n",
              "            downloaded += buffer.byteLength;\n",
              "            progress.value = downloaded;\n",
              "          }\n",
              "        }\n",
              "      }\n",
              "      const blob = new Blob(buffers, {type: 'application/binary'});\n",
              "      const a = document.createElement('a');\n",
              "      a.href = window.URL.createObjectURL(blob);\n",
              "      a.download = filename;\n",
              "      div.appendChild(a);\n",
              "      a.click();\n",
              "      div.remove();\n",
              "    }\n",
              "  "
            ],
            "text/plain": [
              "<IPython.core.display.Javascript object>"
            ]
          },
          "metadata": {
            "tags": []
          }
        },
        {
          "output_type": "display_data",
          "data": {
            "application/javascript": [
              "download(\"download_a053e227-5324-4d19-af71-c76dafd1ca32\", \"Nowos\\u0105decki_w_results.xlsx\", 462640)"
            ],
            "text/plain": [
              "<IPython.core.display.Javascript object>"
            ]
          },
          "metadata": {
            "tags": []
          }
        },
        {
          "output_type": "display_data",
          "data": {
            "application/javascript": [
              "\n",
              "    async function download(id, filename, size) {\n",
              "      if (!google.colab.kernel.accessAllowed) {\n",
              "        return;\n",
              "      }\n",
              "      const div = document.createElement('div');\n",
              "      const label = document.createElement('label');\n",
              "      label.textContent = `Downloading \"${filename}\": `;\n",
              "      div.appendChild(label);\n",
              "      const progress = document.createElement('progress');\n",
              "      progress.max = size;\n",
              "      div.appendChild(progress);\n",
              "      document.body.appendChild(div);\n",
              "\n",
              "      const buffers = [];\n",
              "      let downloaded = 0;\n",
              "\n",
              "      const channel = await google.colab.kernel.comms.open(id);\n",
              "      // Send a message to notify the kernel that we're ready.\n",
              "      channel.send({})\n",
              "\n",
              "      for await (const message of channel.messages) {\n",
              "        // Send a message to notify the kernel that we're ready.\n",
              "        channel.send({})\n",
              "        if (message.buffers) {\n",
              "          for (const buffer of message.buffers) {\n",
              "            buffers.push(buffer);\n",
              "            downloaded += buffer.byteLength;\n",
              "            progress.value = downloaded;\n",
              "          }\n",
              "        }\n",
              "      }\n",
              "      const blob = new Blob(buffers, {type: 'application/binary'});\n",
              "      const a = document.createElement('a');\n",
              "      a.href = window.URL.createObjectURL(blob);\n",
              "      a.download = filename;\n",
              "      div.appendChild(a);\n",
              "      a.click();\n",
              "      div.remove();\n",
              "    }\n",
              "  "
            ],
            "text/plain": [
              "<IPython.core.display.Javascript object>"
            ]
          },
          "metadata": {
            "tags": []
          }
        },
        {
          "output_type": "display_data",
          "data": {
            "application/javascript": [
              "download(\"download_6ae1e2d4-b5d2-4e74-83fb-20560bcb56e9\", \"Nowotarski_w_results.xlsx\", 457723)"
            ],
            "text/plain": [
              "<IPython.core.display.Javascript object>"
            ]
          },
          "metadata": {
            "tags": []
          }
        },
        {
          "output_type": "display_data",
          "data": {
            "application/javascript": [
              "\n",
              "    async function download(id, filename, size) {\n",
              "      if (!google.colab.kernel.accessAllowed) {\n",
              "        return;\n",
              "      }\n",
              "      const div = document.createElement('div');\n",
              "      const label = document.createElement('label');\n",
              "      label.textContent = `Downloading \"${filename}\": `;\n",
              "      div.appendChild(label);\n",
              "      const progress = document.createElement('progress');\n",
              "      progress.max = size;\n",
              "      div.appendChild(progress);\n",
              "      document.body.appendChild(div);\n",
              "\n",
              "      const buffers = [];\n",
              "      let downloaded = 0;\n",
              "\n",
              "      const channel = await google.colab.kernel.comms.open(id);\n",
              "      // Send a message to notify the kernel that we're ready.\n",
              "      channel.send({})\n",
              "\n",
              "      for await (const message of channel.messages) {\n",
              "        // Send a message to notify the kernel that we're ready.\n",
              "        channel.send({})\n",
              "        if (message.buffers) {\n",
              "          for (const buffer of message.buffers) {\n",
              "            buffers.push(buffer);\n",
              "            downloaded += buffer.byteLength;\n",
              "            progress.value = downloaded;\n",
              "          }\n",
              "        }\n",
              "      }\n",
              "      const blob = new Blob(buffers, {type: 'application/binary'});\n",
              "      const a = document.createElement('a');\n",
              "      a.href = window.URL.createObjectURL(blob);\n",
              "      a.download = filename;\n",
              "      div.appendChild(a);\n",
              "      a.click();\n",
              "      div.remove();\n",
              "    }\n",
              "  "
            ],
            "text/plain": [
              "<IPython.core.display.Javascript object>"
            ]
          },
          "metadata": {
            "tags": []
          }
        },
        {
          "output_type": "display_data",
          "data": {
            "application/javascript": [
              "download(\"download_62b6e9ab-089c-4482-bd78-903ab360fa17\", \"NowyS\\u0105cz_w_results.xlsx\", 460997)"
            ],
            "text/plain": [
              "<IPython.core.display.Javascript object>"
            ]
          },
          "metadata": {
            "tags": []
          }
        },
        {
          "output_type": "display_data",
          "data": {
            "application/javascript": [
              "\n",
              "    async function download(id, filename, size) {\n",
              "      if (!google.colab.kernel.accessAllowed) {\n",
              "        return;\n",
              "      }\n",
              "      const div = document.createElement('div');\n",
              "      const label = document.createElement('label');\n",
              "      label.textContent = `Downloading \"${filename}\": `;\n",
              "      div.appendChild(label);\n",
              "      const progress = document.createElement('progress');\n",
              "      progress.max = size;\n",
              "      div.appendChild(progress);\n",
              "      document.body.appendChild(div);\n",
              "\n",
              "      const buffers = [];\n",
              "      let downloaded = 0;\n",
              "\n",
              "      const channel = await google.colab.kernel.comms.open(id);\n",
              "      // Send a message to notify the kernel that we're ready.\n",
              "      channel.send({})\n",
              "\n",
              "      for await (const message of channel.messages) {\n",
              "        // Send a message to notify the kernel that we're ready.\n",
              "        channel.send({})\n",
              "        if (message.buffers) {\n",
              "          for (const buffer of message.buffers) {\n",
              "            buffers.push(buffer);\n",
              "            downloaded += buffer.byteLength;\n",
              "            progress.value = downloaded;\n",
              "          }\n",
              "        }\n",
              "      }\n",
              "      const blob = new Blob(buffers, {type: 'application/binary'});\n",
              "      const a = document.createElement('a');\n",
              "      a.href = window.URL.createObjectURL(blob);\n",
              "      a.download = filename;\n",
              "      div.appendChild(a);\n",
              "      a.click();\n",
              "      div.remove();\n",
              "    }\n",
              "  "
            ],
            "text/plain": [
              "<IPython.core.display.Javascript object>"
            ]
          },
          "metadata": {
            "tags": []
          }
        },
        {
          "output_type": "display_data",
          "data": {
            "application/javascript": [
              "download(\"download_9c446418-d3f9-4c58-8c99-bd7abdcba718\", \"Tatrza\\u0144ski_w_results.xlsx\", 450891)"
            ],
            "text/plain": [
              "<IPython.core.display.Javascript object>"
            ]
          },
          "metadata": {
            "tags": []
          }
        }
      ]
    },
    {
      "cell_type": "markdown",
      "metadata": {
        "id": "d7aI_6CSopn4"
      },
      "source": [
        "### Saving to database"
      ]
    },
    {
      "cell_type": "code",
      "metadata": {
        "colab": {
          "base_uri": "https://localhost:8080/"
        },
        "id": "ihaAp_uAhwbv",
        "outputId": "e5223259-8ae1-4f47-cbb9-dc3c773ed06d"
      },
      "source": [
        "!sudo apt-get install python3-dev default-libmysqlclient-dev\n",
        "!pip install pymysql\n",
        "!pip install SQLAlchemy"
      ],
      "execution_count": null,
      "outputs": [
        {
          "output_type": "stream",
          "text": [
            "Reading package lists... Done\n",
            "Building dependency tree       \n",
            "Reading state information... Done\n",
            "default-libmysqlclient-dev is already the newest version (1.0.4).\n",
            "python3-dev is already the newest version (3.6.7-1~18.04).\n",
            "0 upgraded, 0 newly installed, 0 to remove and 29 not upgraded.\n",
            "Requirement already satisfied: pymysql in /usr/local/lib/python3.7/dist-packages (1.0.2)\n",
            "Requirement already satisfied: SQLAlchemy in /usr/local/lib/python3.7/dist-packages (1.3.23)\n"
          ],
          "name": "stdout"
        }
      ]
    },
    {
      "cell_type": "code",
      "metadata": {
        "id": "aq0GNRvEhHMw"
      },
      "source": [
        "import os\n",
        "from sqlalchemy import create_engine\n",
        "\n",
        "MYSQL_HOSTNAME = 'localhost'\n",
        "MYSQL_USER = os.environ.get('DB_USER')\n",
        "MYSQL_PASSWORD = os.environ.get('DB_PASS')\n",
        "MYSQL_DATABASE = 'engineering_data'\n",
        "\n",
        "connection_string = f'mysql+pymysql://{MYSQL_USER}:{MYSQL_PASSWORD}@{MYSQL_HOSTNAME}/{MYSQL_DATABASE}'\n",
        "engine = create_engine(connection_string)\n"
      ],
      "execution_count": null,
      "outputs": []
    },
    {
      "cell_type": "code",
      "metadata": {
        "id": "KQCnjUWBrAcF"
      },
      "source": [
        "for key in final_results:\n",
        "    final_results[key].to_sql(f'{key}', engine)"
      ],
      "execution_count": null,
      "outputs": []
    }
  ]
}